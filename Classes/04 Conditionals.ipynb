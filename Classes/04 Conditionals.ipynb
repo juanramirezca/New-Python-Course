{
 "cells": [
  {
   "cell_type": "markdown",
   "id": "15652e3e",
   "metadata": {},
   "source": [
    "# <center>Conditionals</center>"
   ]
  },
  {
   "cell_type": "markdown",
   "id": "c4eb630a",
   "metadata": {},
   "source": [
    "In this file we will see:\n",
    "1. Boolean expressions\n",
    "2. Logical operators\n",
    "3. Conditional execution\n",
    "4. Alternative execution\n",
    "5. Chained conditionals\n",
    "6. Nested Conditionals\n",
    "7. Exercises"
   ]
  },
  {
   "cell_type": "markdown",
   "id": "c07eb8ac",
   "metadata": {},
   "source": [
    "## 1. Boolean expressions"
   ]
  },
  {
   "cell_type": "markdown",
   "id": "c6bca041",
   "metadata": {},
   "source": [
    "* A **boolean expression** is an expression that is either <font color=red>true</font> or <font color=red>false</font>.\n",
    "* In the following examples, we use the operator **==** to compare two operands and produce either *True* or *False*"
   ]
  },
  {
   "cell_type": "code",
   "execution_count": 1,
   "id": "222abda8",
   "metadata": {},
   "outputs": [
    {
     "data": {
      "text/plain": [
       "True"
      ]
     },
     "execution_count": 1,
     "metadata": {},
     "output_type": "execute_result"
    }
   ],
   "source": [
    "5 == 5"
   ]
  },
  {
   "cell_type": "code",
   "execution_count": 2,
   "id": "42e40168",
   "metadata": {},
   "outputs": [
    {
     "data": {
      "text/plain": [
       "False"
      ]
     },
     "execution_count": 2,
     "metadata": {},
     "output_type": "execute_result"
    }
   ],
   "source": [
    "5 == 6"
   ]
  },
  {
   "cell_type": "markdown",
   "id": "8bbbf9a6",
   "metadata": {},
   "source": [
    "### 1.1 Relational operators"
   ]
  },
  {
   "cell_type": "markdown",
   "id": "20cde8ee",
   "metadata": {},
   "source": [
    "There are some relational operators that we can use to compare two values:"
   ]
  },
  {
   "cell_type": "code",
   "execution_count": 3,
   "id": "a5e21e9b",
   "metadata": {},
   "outputs": [],
   "source": [
    "x = 8\n",
    "y = 7"
   ]
  },
  {
   "cell_type": "code",
   "execution_count": 4,
   "id": "8c6eb4b7",
   "metadata": {},
   "outputs": [
    {
     "data": {
      "text/plain": [
       "True"
      ]
     },
     "execution_count": 4,
     "metadata": {},
     "output_type": "execute_result"
    }
   ],
   "source": [
    "# x is not equal to y\n",
    "x!=y"
   ]
  },
  {
   "cell_type": "code",
   "execution_count": 5,
   "id": "42b5d1ea",
   "metadata": {},
   "outputs": [
    {
     "data": {
      "text/plain": [
       "True"
      ]
     },
     "execution_count": 5,
     "metadata": {},
     "output_type": "execute_result"
    }
   ],
   "source": [
    "# x is greater than y\n",
    "x > y"
   ]
  },
  {
   "cell_type": "code",
   "execution_count": 6,
   "id": "f64a4864",
   "metadata": {},
   "outputs": [
    {
     "data": {
      "text/plain": [
       "False"
      ]
     },
     "execution_count": 6,
     "metadata": {},
     "output_type": "execute_result"
    }
   ],
   "source": [
    "# x is less than y\n",
    "x < y"
   ]
  },
  {
   "cell_type": "code",
   "execution_count": 7,
   "id": "5500b70d",
   "metadata": {},
   "outputs": [
    {
     "data": {
      "text/plain": [
       "True"
      ]
     },
     "execution_count": 7,
     "metadata": {},
     "output_type": "execute_result"
    }
   ],
   "source": [
    "# x is greater than or equal to y\n",
    "x >= y"
   ]
  },
  {
   "cell_type": "code",
   "execution_count": 8,
   "id": "47a5bd14",
   "metadata": {},
   "outputs": [
    {
     "data": {
      "text/plain": [
       "False"
      ]
     },
     "execution_count": 8,
     "metadata": {},
     "output_type": "execute_result"
    }
   ],
   "source": [
    "# x is less than or equal to y\n",
    "# 8 <= 7\n",
    "x <= y\n"
   ]
  },
  {
   "cell_type": "markdown",
   "id": "95f002b6",
   "metadata": {},
   "source": [
    "<font color=red>Remember that we use:\n",
    "<br> A single equal sign **=** for assignment\n",
    "<br> And double equal sign **==** as a relational operator</font>"
   ]
  },
  {
   "cell_type": "markdown",
   "id": "10319eb0",
   "metadata": {},
   "source": [
    "## 2. Logical operators"
   ]
  },
  {
   "cell_type": "markdown",
   "id": "d6cffbaf",
   "metadata": {},
   "source": [
    "There are three **logical operators**:\n",
    "* and\n",
    "* or\n",
    "* not\n",
    "<br>\n",
    "And the meaning of these operators is similiar to their meaning in English"
   ]
  },
  {
   "cell_type": "code",
   "execution_count": 10,
   "id": "5c9a9f07",
   "metadata": {},
   "outputs": [
    {
     "data": {
      "text/plain": [
       "False"
      ]
     },
     "execution_count": 10,
     "metadata": {},
     "output_type": "execute_result"
    }
   ],
   "source": [
    "# and logical operator\n",
    "x = 10\n",
    "x > 0 and x < 10"
   ]
  },
  {
   "cell_type": "code",
   "execution_count": 11,
   "id": "353f0ab9",
   "metadata": {},
   "outputs": [
    {
     "data": {
      "text/plain": [
       "True"
      ]
     },
     "execution_count": 11,
     "metadata": {},
     "output_type": "execute_result"
    }
   ],
   "source": [
    "# or logical operator\n",
    "num = 2\n",
    "num % 2 == 0 or num % 3 == 0"
   ]
  },
  {
   "cell_type": "code",
   "execution_count": 12,
   "id": "9c450bf0",
   "metadata": {},
   "outputs": [
    {
     "data": {
      "text/plain": [
       "True"
      ]
     },
     "execution_count": 12,
     "metadata": {},
     "output_type": "execute_result"
    }
   ],
   "source": [
    "# not logical operator\n",
    "value1 = 12\n",
    "value2 = 17\n",
    "\n",
    "not(value1 > value2)"
   ]
  },
  {
   "cell_type": "markdown",
   "id": "cae808a0",
   "metadata": {},
   "source": [
    "## 3. Conditional execution"
   ]
  },
  {
   "cell_type": "markdown",
   "id": "474d6cf1",
   "metadata": {},
   "source": [
    "* We can use **conditional statements** when we want to check some conditions and change the behavior of our programm depending on the condition.\n",
    "* The simplest form is using the **if statement**"
   ]
  },
  {
   "cell_type": "markdown",
   "id": "93277059",
   "metadata": {},
   "source": [
    "**Example 1. Determine if a person in Mexico can vote**"
   ]
  },
  {
   "cell_type": "code",
   "execution_count": 13,
   "id": "38b30cd7",
   "metadata": {},
   "outputs": [],
   "source": [
    "age = 13\n",
    "if age >= 18:\n",
    "    print(\"Can vote\")"
   ]
  },
  {
   "cell_type": "markdown",
   "id": "879a960f",
   "metadata": {},
   "source": [
    "**Example 2. Determine if a person in Mexico can vote**"
   ]
  },
  {
   "cell_type": "code",
   "execution_count": 14,
   "id": "017c98f5",
   "metadata": {},
   "outputs": [],
   "source": [
    "x = 0\n",
    "if(x > 0):\n",
    "    print(\"Positive\")"
   ]
  },
  {
   "cell_type": "markdown",
   "id": "31c84183",
   "metadata": {},
   "source": [
    "## 4. Alternative execution"
   ]
  },
  {
   "cell_type": "markdown",
   "id": "6e824f3d",
   "metadata": {},
   "source": [
    "A second form of the if statement is **alternative execution**, in which there are two possibilities and the condition determines which one gets executed."
   ]
  },
  {
   "cell_type": "markdown",
   "id": "19a7d41f",
   "metadata": {},
   "source": [
    "**Example 1. Determine if a number is even or odd**"
   ]
  },
  {
   "cell_type": "code",
   "execution_count": 15,
   "id": "d0d42e28",
   "metadata": {},
   "outputs": [
    {
     "name": "stdout",
     "output_type": "stream",
     "text": [
      "12 is even\n"
     ]
    }
   ],
   "source": [
    "num = 12\n",
    "if (num % 2 == 0):\n",
    "    print(num, \"is even\")\n",
    "else:\n",
    "    print(num, \"is odd\")"
   ]
  },
  {
   "cell_type": "markdown",
   "id": "7828b57c",
   "metadata": {},
   "source": [
    "**Example 2. Determine if a number is positive or negative**"
   ]
  },
  {
   "cell_type": "code",
   "execution_count": 16,
   "id": "35ab5718",
   "metadata": {},
   "outputs": [
    {
     "name": "stdout",
     "output_type": "stream",
     "text": [
      "-14 is equal to zero or negative\n"
     ]
    }
   ],
   "source": [
    "num = -14\n",
    "if (num > 0):\n",
    "    print(num, \"is positive\")\n",
    "else:\n",
    "    print(num, \"is equal to zero or negative\")"
   ]
  },
  {
   "cell_type": "markdown",
   "id": "7c5a9483",
   "metadata": {},
   "source": [
    "## 5. Chained conditionals"
   ]
  },
  {
   "cell_type": "markdown",
   "id": "98d11e94",
   "metadata": {},
   "source": [
    "Sometimes there are more than two possibilities and we need more than two branches. We can express that computation with a **chained conditional**"
   ]
  },
  {
   "cell_type": "markdown",
   "id": "8827d4c1",
   "metadata": {},
   "source": [
    "**Example 1. Determine if a number is positive, negative or equal to zero**"
   ]
  },
  {
   "cell_type": "code",
   "execution_count": 17,
   "id": "4e50503d",
   "metadata": {},
   "outputs": [
    {
     "name": "stdout",
     "output_type": "stream",
     "text": [
      "18 is positive\n"
     ]
    }
   ],
   "source": [
    "num = 18\n",
    "if (num > 0):\n",
    "    print(num, \"is positive\")\n",
    "elif(num == 0):\n",
    "    print(num, \"is zero\")\n",
    "else:\n",
    "    print(num, \"is negative\")"
   ]
  },
  {
   "cell_type": "markdown",
   "id": "119fc20b",
   "metadata": {},
   "source": [
    "**Example 2. Determine if x is greater, equal or less than y**"
   ]
  },
  {
   "cell_type": "code",
   "execution_count": 19,
   "id": "1c908219",
   "metadata": {},
   "outputs": [
    {
     "name": "stdout",
     "output_type": "stream",
     "text": [
      "18 is greater than 17\n"
     ]
    }
   ],
   "source": [
    "x = 18\n",
    "y = 17\n",
    "if (x > y):\n",
    "    print(x, \"is greater than\", y)\n",
    "elif(x == y):\n",
    "    print(x, \"is equal to\", y)\n",
    "else:\n",
    "    print(x, \"is less than\", y)"
   ]
  },
  {
   "cell_type": "markdown",
   "id": "59717288",
   "metadata": {},
   "source": [
    "<font color=red>Note that **elif** is an abbreviation of \"else if\"</font>"
   ]
  },
  {
   "cell_type": "markdown",
   "id": "7dbc5686",
   "metadata": {},
   "source": [
    "## 6. Nested conditionals"
   ]
  },
  {
   "cell_type": "markdown",
   "id": "c3ff5d70",
   "metadata": {},
   "source": [
    "* One conditional can also be **nested** within another. \n",
    "* We could have written the previous example like this:"
   ]
  },
  {
   "cell_type": "markdown",
   "id": "0d5d3bbb",
   "metadata": {},
   "source": [
    "**Example 1. Determine if x is greater, equal or less than y using a nested conditional**"
   ]
  },
  {
   "cell_type": "code",
   "execution_count": 20,
   "id": "3496ae60",
   "metadata": {},
   "outputs": [
    {
     "name": "stdout",
     "output_type": "stream",
     "text": [
      "18 is greater than 17\n"
     ]
    }
   ],
   "source": [
    "x = 18\n",
    "y = 17\n",
    "if (x > y):\n",
    "    print(x, \"is greater than\", y)\n",
    "else:\n",
    "    if(x == y):\n",
    "        print(x, \"is equal to\", y)\n",
    "    else:\n",
    "        print(x, \"is less than\", y)"
   ]
  },
  {
   "cell_type": "markdown",
   "id": "9dd8a54a",
   "metadata": {},
   "source": [
    "----"
   ]
  },
  {
   "cell_type": "markdown",
   "id": "eb631dd0",
   "metadata": {},
   "source": [
    "## 7. Exercies"
   ]
  },
  {
   "cell_type": "markdown",
   "id": "1641d681",
   "metadata": {},
   "source": [
    "**1. Determine if a number is divided by 3, 5 or both** \n",
    "\n"
   ]
  },
  {
   "cell_type": "code",
   "execution_count": null,
   "id": "be12649a",
   "metadata": {},
   "outputs": [],
   "source": []
  },
  {
   "cell_type": "markdown",
   "id": "e2d605af",
   "metadata": {},
   "source": [
    "**2. Determine if an employee is eligible for retirement. Retirement at 65.** "
   ]
  },
  {
   "cell_type": "code",
   "execution_count": null,
   "id": "69489a17",
   "metadata": {},
   "outputs": [],
   "source": []
  },
  {
   "cell_type": "markdown",
   "id": "d0185012",
   "metadata": {},
   "source": [
    "**3. Determine if Pedro is younger or older than Mary. Consider that Pedro is 13 and Mary 17.** "
   ]
  },
  {
   "cell_type": "code",
   "execution_count": null,
   "id": "86254106",
   "metadata": {},
   "outputs": [],
   "source": []
  },
  {
   "cell_type": "markdown",
   "id": "fdef80f8",
   "metadata": {},
   "source": [
    "**4. Given three numbers, determine which one is bigger.**\n",
    "<br><code>x = 12, y = 7, z = 8 </code>"
   ]
  },
  {
   "cell_type": "code",
   "execution_count": null,
   "id": "9b87594e",
   "metadata": {},
   "outputs": [],
   "source": []
  },
  {
   "cell_type": "markdown",
   "id": "d19f519c",
   "metadata": {},
   "source": [
    "**5. Given the weather of the city, propose a recommendation to the user.**\n",
    "<br> *For instance, if weather is sunny, recommend to use sunscreen*"
   ]
  },
  {
   "cell_type": "code",
   "execution_count": null,
   "id": "7d486737",
   "metadata": {},
   "outputs": [],
   "source": []
  },
  {
   "cell_type": "markdown",
   "id": "a626a1d9",
   "metadata": {},
   "source": [
    "**EXTRA EXERCISE**\n",
    "<br>*Make a program that converts from dollars to mexican pesos or viceversa. Consider asking the user for the amount to be converted.*"
   ]
  },
  {
   "cell_type": "code",
   "execution_count": null,
   "id": "8c32f8da",
   "metadata": {},
   "outputs": [],
   "source": []
  }
 ],
 "metadata": {
  "kernelspec": {
   "display_name": "Python 3",
   "language": "python",
   "name": "python3"
  },
  "language_info": {
   "codemirror_mode": {
    "name": "ipython",
    "version": 3
   },
   "file_extension": ".py",
   "mimetype": "text/x-python",
   "name": "python",
   "nbconvert_exporter": "python",
   "pygments_lexer": "ipython3",
   "version": "3.8.8"
  }
 },
 "nbformat": 4,
 "nbformat_minor": 5
}
