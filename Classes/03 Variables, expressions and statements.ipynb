{
 "cells": [
  {
   "cell_type": "markdown",
   "id": "e935686d",
   "metadata": {},
   "source": [
    "# <center> Variables, expressions, and statements <center>"
   ]
  },
  {
   "cell_type": "markdown",
   "id": "bb69e9ce",
   "metadata": {},
   "source": [
    "In this file we will see:\n",
    "1. Values \n",
    "2. Variables and types\n",
    "3. Variable names and keywords\n",
    "4. Operators and operands\n",
    "5. Expressions and statements\n",
    "6. Order of operations\n",
    "7. Exercises"
   ]
  },
  {
   "cell_type": "markdown",
   "id": "60d68fdd",
   "metadata": {},
   "source": [
    "## 1. Values\n",
    "A **value** is one of the basic things a program works with, like a letter or a number.\n",
    "For instance:"
   ]
  },
  {
   "cell_type": "code",
   "execution_count": 1,
   "id": "73b028ce",
   "metadata": {},
   "outputs": [
    {
     "data": {
      "text/plain": [
       "'Hola Mundo'"
      ]
     },
     "execution_count": 1,
     "metadata": {},
     "output_type": "execute_result"
    }
   ],
   "source": [
    "\"Hola Mundo\""
   ]
  },
  {
   "cell_type": "code",
   "execution_count": 2,
   "id": "f853a7b2",
   "metadata": {},
   "outputs": [
    {
     "data": {
      "text/plain": [
       "2.0"
      ]
     },
     "execution_count": 2,
     "metadata": {},
     "output_type": "execute_result"
    }
   ],
   "source": [
    "2.0"
   ]
  },
  {
   "cell_type": "markdown",
   "id": "246e4333",
   "metadata": {},
   "source": [
    "## 2. Variables and types\n",
    "A **variable** is a name that refers to a value. In Python, there are four types of variables: \n",
    "* <font color=red>Int</font>: A type value that represents integer numbers.\n",
    "* <font color=red>Floating - point</font>: A type of value that represents numbers with a decimal part.\n",
    "* <font color=red>String</font>: Represents a sequence of characters.\n",
    "* <font color=red>Bool</font>: Represents two types of values: <code>true</code> and <code>false</code>.\n"
   ]
  },
  {
   "cell_type": "code",
   "execution_count": 3,
   "id": "ce3194a0",
   "metadata": {},
   "outputs": [
    {
     "data": {
      "text/plain": [
       "1"
      ]
     },
     "execution_count": 3,
     "metadata": {},
     "output_type": "execute_result"
    }
   ],
   "source": [
    "#Integer number\n",
    "1"
   ]
  },
  {
   "cell_type": "code",
   "execution_count": 4,
   "id": "24d0266b",
   "metadata": {},
   "outputs": [
    {
     "data": {
      "text/plain": [
       "1.13"
      ]
     },
     "execution_count": 4,
     "metadata": {},
     "output_type": "execute_result"
    }
   ],
   "source": [
    "# Float number\n",
    "1.13"
   ]
  },
  {
   "cell_type": "code",
   "execution_count": 5,
   "id": "66864abe",
   "metadata": {},
   "outputs": [
    {
     "data": {
      "text/plain": [
       "'Hola Mundo'"
      ]
     },
     "execution_count": 5,
     "metadata": {},
     "output_type": "execute_result"
    }
   ],
   "source": [
    "#String\n",
    "\"Hola Mundo\""
   ]
  },
  {
   "cell_type": "code",
   "execution_count": 6,
   "id": "ff11dfda",
   "metadata": {},
   "outputs": [
    {
     "data": {
      "text/plain": [
       "False"
      ]
     },
     "execution_count": 6,
     "metadata": {},
     "output_type": "execute_result"
    }
   ],
   "source": [
    "#Bool\n",
    "False"
   ]
  },
  {
   "cell_type": "markdown",
   "id": "c939bae4",
   "metadata": {},
   "source": [
    "## 2.1 The <code>type</code> fucntion"
   ]
  },
  {
   "cell_type": "markdown",
   "id": "8b4bc695",
   "metadata": {},
   "source": [
    "In Python, there is a pre-build function that can identify the type of a variable and it is called <code>type</code>."
   ]
  },
  {
   "cell_type": "code",
   "execution_count": 3,
   "id": "5754f06d",
   "metadata": {},
   "outputs": [
    {
     "data": {
      "text/plain": [
       "int"
      ]
     },
     "execution_count": 3,
     "metadata": {},
     "output_type": "execute_result"
    }
   ],
   "source": [
    "#Type of an integer\n",
    "type(1)"
   ]
  },
  {
   "cell_type": "code",
   "execution_count": 4,
   "id": "4c458f54",
   "metadata": {},
   "outputs": [
    {
     "data": {
      "text/plain": [
       "float"
      ]
     },
     "execution_count": 4,
     "metadata": {},
     "output_type": "execute_result"
    }
   ],
   "source": [
    "#Type of a float\n",
    "type(3.14)"
   ]
  },
  {
   "cell_type": "code",
   "execution_count": 5,
   "id": "2b1bb7fa",
   "metadata": {},
   "outputs": [
    {
     "data": {
      "text/plain": [
       "str"
      ]
     },
     "execution_count": 5,
     "metadata": {},
     "output_type": "execute_result"
    }
   ],
   "source": [
    "#Type of a String\n",
    "type(\"Hola,Mundo!\")"
   ]
  },
  {
   "cell_type": "code",
   "execution_count": 6,
   "id": "848c0d9e",
   "metadata": {},
   "outputs": [
    {
     "data": {
      "text/plain": [
       "bool"
      ]
     },
     "execution_count": 6,
     "metadata": {},
     "output_type": "execute_result"
    }
   ],
   "source": [
    "#Type of a boolean\n",
    "type(False)"
   ]
  },
  {
   "cell_type": "markdown",
   "id": "17808389",
   "metadata": {},
   "source": [
    "## 2.2 Variable assignment\n",
    "A **variable assignment** creates a new variable and gives value to it."
   ]
  },
  {
   "cell_type": "code",
   "execution_count": 11,
   "id": "86fbffc9",
   "metadata": {},
   "outputs": [
    {
     "name": "stdout",
     "output_type": "stream",
     "text": [
      "Welcome to class!\n"
     ]
    }
   ],
   "source": [
    "message = \"Welcome to class!\"\n",
    "print(message)"
   ]
  },
  {
   "cell_type": "code",
   "execution_count": 12,
   "id": "875cea55",
   "metadata": {},
   "outputs": [
    {
     "data": {
      "text/plain": [
       "9"
      ]
     },
     "execution_count": 12,
     "metadata": {},
     "output_type": "execute_result"
    }
   ],
   "source": [
    "score = 9\n",
    "score"
   ]
  },
  {
   "cell_type": "code",
   "execution_count": 13,
   "id": "df388b6e",
   "metadata": {},
   "outputs": [
    {
     "data": {
      "text/plain": [
       "14.7"
      ]
     },
     "execution_count": 13,
     "metadata": {},
     "output_type": "execute_result"
    }
   ],
   "source": [
    "division = 14.7\n",
    "division\n"
   ]
  },
  {
   "cell_type": "markdown",
   "id": "521af837",
   "metadata": {},
   "source": [
    "## 2.3 Type conversion"
   ]
  },
  {
   "cell_type": "markdown",
   "id": "74fa560c",
   "metadata": {},
   "source": [
    "Sometimes we want to convert some type of variable to another. To do that, we can use the pre-built functions that Python provides:\n",
    "* <code>int(var)</code>\n",
    "* <code>float(var)</code>\n",
    "* <code>str(var)</code>\n",
    "* <code>bool(var)</code>"
   ]
  },
  {
   "cell_type": "code",
   "execution_count": 11,
   "id": "ac6615c6",
   "metadata": {},
   "outputs": [],
   "source": [
    "#Convert from string to integer\n",
    "num = \"3\""
   ]
  },
  {
   "cell_type": "code",
   "execution_count": 15,
   "id": "39a79476",
   "metadata": {},
   "outputs": [
    {
     "data": {
      "text/plain": [
       "3"
      ]
     },
     "execution_count": 15,
     "metadata": {},
     "output_type": "execute_result"
    }
   ],
   "source": [
    "int(num)"
   ]
  },
  {
   "cell_type": "code",
   "execution_count": 16,
   "id": "1b23522d",
   "metadata": {},
   "outputs": [],
   "source": [
    "#Convert from float to str\n",
    "score = 8.7"
   ]
  },
  {
   "cell_type": "code",
   "execution_count": 17,
   "id": "398d216c",
   "metadata": {},
   "outputs": [
    {
     "data": {
      "text/plain": [
       "'8.7'"
      ]
     },
     "execution_count": 17,
     "metadata": {},
     "output_type": "execute_result"
    }
   ],
   "source": [
    "str(score)"
   ]
  },
  {
   "cell_type": "markdown",
   "id": "da3f96d1",
   "metadata": {},
   "source": [
    "## 3. Variable names and keywords\n",
    "* It is recommended to use variables that are **meaningful**.\n",
    "* Variable names can be arbitrarily long and can contain letters and numbers but **must begin with a letter**. \n",
    "* There are certain reserved keywords that cannot be used as a variable name."
   ]
  },
  {
   "cell_type": "markdown",
   "id": "625bf3ca",
   "metadata": {},
   "source": [
    "**Here are some examples of an incorrect name for a variable:**"
   ]
  },
  {
   "cell_type": "code",
   "execution_count": 14,
   "id": "06cb3b04",
   "metadata": {},
   "outputs": [
    {
     "ename": "SyntaxError",
     "evalue": "invalid syntax (<ipython-input-14-31baa723534d>, line 4)",
     "output_type": "error",
     "traceback": [
      "\u001b[0;36m  File \u001b[0;32m\"<ipython-input-14-31baa723534d>\"\u001b[0;36m, line \u001b[0;32m4\u001b[0m\n\u001b[0;31m    xy@ = 23\u001b[0m\n\u001b[0m        ^\u001b[0m\n\u001b[0;31mSyntaxError\u001b[0m\u001b[0;31m:\u001b[0m invalid syntax\n"
     ]
    }
   ],
   "source": [
    "a = 1\n",
    "b = 3.14\n",
    "xy = \"Student\"\n",
    "xy@ = 23"
   ]
  },
  {
   "cell_type": "markdown",
   "id": "0afa17b4",
   "metadata": {},
   "source": [
    "**Now we will see some examples of a correct variable name:**"
   ]
  },
  {
   "cell_type": "code",
   "execution_count": 15,
   "id": "cff8da5a",
   "metadata": {},
   "outputs": [],
   "source": [
    "finalScore = 10\n",
    "final_score = 8\n",
    "car_type = \"Honda\"\n",
    "average = 8.8"
   ]
  },
  {
   "cell_type": "markdown",
   "id": "cacc195c",
   "metadata": {},
   "source": [
    "<table>\n",
    "    <tr >\n",
    "        <th style=background-color:grey; colspan=\"5\"><center>Reserved Keywords</center></th>\n",
    "    </tr>\n",
    "    <tr style=background-color:#33e4ff;>\n",
    "        <td style=text-align:left;>and</td>\n",
    "        <td style=text-align:left;>del</td>\n",
    "        <td style=text-align:left;>from</td>\n",
    "        <td style=text-align:left;>not</td>\n",
    "        <td style=text-align:left;>while</td>\n",
    "    </tr>\n",
    "    <tr style=background-color:#33abff;>\n",
    "        <td style=text-align:left;>as</td>\n",
    "        <td style=text-align:left;>elif</td>\n",
    "        <td style=text-align:left;>global</td>\n",
    "        <td style=text-align:left;>or</td>\n",
    "        <td style=text-align:left;>with</td>\n",
    "    </tr>\n",
    "    <tr style=background-color:#33e4ff;>\n",
    "        <td style=text-align:left;>assert</td>\n",
    "        <td style=text-align:left;>else</td>\n",
    "        <td style=text-align:left;>if</td>\n",
    "        <td style=text-align:left;>pass</td>\n",
    "        <td style=text-align:left;>yield</td>\n",
    "    </tr>\n",
    "    <tr style=background-color:#33abff;>\n",
    "        <td style=text-align:left;>break</td>\n",
    "        <td style=text-align:left;>except</td>\n",
    "        <td style=text-align:left;>import</td>\n",
    "        <td style=text-align:left;>print</td>\n",
    "        <td style=text-align:left;></td>\n",
    "    </tr>\n",
    "    <tr style=background-color:#33e4ff;>\n",
    "        <td style=text-align:left;>class</td>\n",
    "        <td style=text-align:left;>exec</td>\n",
    "        <td style=text-align:left;>in</td>\n",
    "        <td style=text-align:left;>raise</td>\n",
    "        <td></td>\n",
    "    </tr>\n",
    "    <tr style=background-color:#33abff;>\n",
    "        <td style=text-align:left;>continue</td>\n",
    "        <td style=text-align:left;>finally</td>\n",
    "        <td style=text-align:left;>is</td>\n",
    "        <td style=text-align:left;>return</td>\n",
    "        <td></td>\n",
    "    </tr>\n",
    "    <tr style=background-color:#33e4ff;>\n",
    "        <td style=text-align:left;>def</td>\n",
    "        <td style=text-align:left;>for</td>\n",
    "        <td style=text-align:left;>lambda</td>\n",
    "        <td style=text-align:left;>try</td>\n",
    "        <td></td>\n",
    "    </tr>\n",
    "</table>"
   ]
  },
  {
   "cell_type": "markdown",
   "id": "58c6dcc3",
   "metadata": {},
   "source": [
    "## 4. Operators and operands\n",
    "\n",
    "* **Operators** are special symbols that represent computations like addition and multiplication. \n",
    "* The values the operator is applied to are called **operands**.\n",
    "* The operators $+$, $-$, $*$, $/$, and $**$ perform addition, subtraction, multiplication, division, and exponentiation."
   ]
  },
  {
   "cell_type": "markdown",
   "id": "a89dd1a2",
   "metadata": {},
   "source": [
    "**Example 1. Adding two grades.**"
   ]
  },
  {
   "cell_type": "code",
   "execution_count": 16,
   "id": "bbd9ce44",
   "metadata": {},
   "outputs": [],
   "source": [
    "grade1 = 8 \n",
    "grade2 = 5"
   ]
  },
  {
   "cell_type": "code",
   "execution_count": 17,
   "id": "dcd619da",
   "metadata": {},
   "outputs": [
    {
     "data": {
      "text/plain": [
       "13"
      ]
     },
     "execution_count": 17,
     "metadata": {},
     "output_type": "execute_result"
    }
   ],
   "source": [
    "grade1 + grade2"
   ]
  },
  {
   "cell_type": "markdown",
   "id": "b417410f",
   "metadata": {},
   "source": [
    "**Example 2. Given hour and minutes, convert them to minutes.**"
   ]
  },
  {
   "cell_type": "code",
   "execution_count": 18,
   "id": "2a0e0ecb",
   "metadata": {},
   "outputs": [],
   "source": [
    "hour = 10\n",
    "minutes = 43"
   ]
  },
  {
   "cell_type": "code",
   "execution_count": 19,
   "id": "88a18449",
   "metadata": {},
   "outputs": [
    {
     "data": {
      "text/plain": [
       "643"
      ]
     },
     "execution_count": 19,
     "metadata": {},
     "output_type": "execute_result"
    }
   ],
   "source": [
    "hour * 60 + minutes"
   ]
  },
  {
   "cell_type": "markdown",
   "id": "b12dd99b",
   "metadata": {},
   "source": [
    "**Example 3. Given the minutes, convert to hours.**"
   ]
  },
  {
   "cell_type": "code",
   "execution_count": 20,
   "id": "8ac0071a",
   "metadata": {},
   "outputs": [],
   "source": [
    "minutes = 77"
   ]
  },
  {
   "cell_type": "code",
   "execution_count": 21,
   "id": "30585e14",
   "metadata": {},
   "outputs": [
    {
     "data": {
      "text/plain": [
       "1.2833333333333334"
      ]
     },
     "execution_count": 21,
     "metadata": {},
     "output_type": "execute_result"
    }
   ],
   "source": [
    "minutes / 60"
   ]
  },
  {
   "cell_type": "markdown",
   "id": "bc2ff1be",
   "metadata": {},
   "source": [
    "**Example 4. Assigning students to care for cats.**"
   ]
  },
  {
   "cell_type": "code",
   "execution_count": 22,
   "id": "7408f435",
   "metadata": {},
   "outputs": [],
   "source": [
    "students = 8\n",
    "cats = 3"
   ]
  },
  {
   "cell_type": "code",
   "execution_count": 23,
   "id": "8400c642",
   "metadata": {},
   "outputs": [
    {
     "data": {
      "text/plain": [
       "2"
      ]
     },
     "execution_count": 23,
     "metadata": {},
     "output_type": "execute_result"
    }
   ],
   "source": [
    "students // cats"
   ]
  },
  {
   "cell_type": "markdown",
   "id": "eb9459fc",
   "metadata": {},
   "source": [
    "**Example 5. Determine if a number is even.**"
   ]
  },
  {
   "cell_type": "code",
   "execution_count": 24,
   "id": "3be365e4",
   "metadata": {},
   "outputs": [],
   "source": [
    "number = 8"
   ]
  },
  {
   "cell_type": "code",
   "execution_count": 25,
   "id": "22a57e11",
   "metadata": {},
   "outputs": [
    {
     "data": {
      "text/plain": [
       "0"
      ]
     },
     "execution_count": 25,
     "metadata": {},
     "output_type": "execute_result"
    }
   ],
   "source": [
    "number % 2"
   ]
  },
  {
   "cell_type": "markdown",
   "id": "18d19ffd",
   "metadata": {},
   "source": [
    "**Example 6. Raise $a$ to the power of $b$.**"
   ]
  },
  {
   "cell_type": "code",
   "execution_count": 26,
   "id": "c68ae56f",
   "metadata": {},
   "outputs": [],
   "source": [
    "a = 2\n",
    "b = 5"
   ]
  },
  {
   "cell_type": "code",
   "execution_count": 27,
   "id": "cacd66a5",
   "metadata": {},
   "outputs": [
    {
     "data": {
      "text/plain": [
       "32"
      ]
     },
     "execution_count": 27,
     "metadata": {},
     "output_type": "execute_result"
    }
   ],
   "source": [
    "a ** b"
   ]
  },
  {
   "cell_type": "markdown",
   "id": "d5aa71a0",
   "metadata": {},
   "source": [
    "----"
   ]
  },
  {
   "cell_type": "markdown",
   "id": "abe1ac21",
   "metadata": {},
   "source": [
    "## 5. Expressions and statements"
   ]
  },
  {
   "cell_type": "markdown",
   "id": "d074c567",
   "metadata": {},
   "source": [
    "* An **expression** is a combination of values, variables, and operators.\n",
    "    * Examples: \n",
    "    1. $x$,\n",
    "    2. $17$,\n",
    "    3. $x + 17$\n",
    "    \n",
    "    \n",
    "* A **statement** is a unite of code that Python can execute.\n",
    "    * Examples: \n",
    "    1. $x = 23$,\n",
    "    2. <code>print(x)</code>"
   ]
  },
  {
   "cell_type": "markdown",
   "id": "b613b4dd",
   "metadata": {},
   "source": [
    "----"
   ]
  },
  {
   "cell_type": "markdown",
   "id": "267af7bb",
   "metadata": {},
   "source": [
    "## 6. Order of operations"
   ]
  },
  {
   "cell_type": "markdown",
   "id": "e36db1bf",
   "metadata": {},
   "source": [
    "* When more than one operator appears in an expression, the order of evaluation depends on the **rules of precedence**. \n",
    "* Python follows mathematical convention:\n",
    "    1. Parentheses.\n",
    "    2. Exponentiation.\n",
    "    3. Multiplication and Division.\n",
    "    4. Addition and subtraction."
   ]
  },
  {
   "cell_type": "markdown",
   "id": "e0d0aee9",
   "metadata": {},
   "source": [
    "**Example 1. Use of parentheses**"
   ]
  },
  {
   "cell_type": "code",
   "execution_count": 28,
   "id": "dccd0e2d",
   "metadata": {},
   "outputs": [
    {
     "data": {
      "text/plain": [
       "4"
      ]
     },
     "execution_count": 28,
     "metadata": {},
     "output_type": "execute_result"
    }
   ],
   "source": [
    "2 * (3 - 1) "
   ]
  },
  {
   "cell_type": "code",
   "execution_count": 29,
   "id": "594fdd66",
   "metadata": {},
   "outputs": [
    {
     "data": {
      "text/plain": [
       "5"
      ]
     },
     "execution_count": 29,
     "metadata": {},
     "output_type": "execute_result"
    }
   ],
   "source": [
    "2 * 3 - 1 "
   ]
  },
  {
   "cell_type": "markdown",
   "id": "2b22af55",
   "metadata": {},
   "source": [
    "**Notice that** $$2 * (3-1) \\neq 2 * 3 - 1$$\n",
    "This is because the way to solve the left side is as follows: \n",
    "$$ 2 * (3 - 1)$$\n",
    "$$ = 2 * (2)$$\n",
    "$$= 4$$\n",
    "\n",
    "And the way to solve the right side is as follows:\n",
    "\n",
    "$$2 * 3 - 1$$\n",
    "$$= 6 - 1$$\n",
    "$$= 5$$.\n"
   ]
  },
  {
   "cell_type": "markdown",
   "id": "fa8802f3",
   "metadata": {},
   "source": [
    "**Example 2. Exponentiation before multiplication and division**"
   ]
  },
  {
   "cell_type": "code",
   "execution_count": 30,
   "id": "4aa5adcc",
   "metadata": {},
   "outputs": [
    {
     "data": {
      "text/plain": [
       "32"
      ]
     },
     "execution_count": 30,
     "metadata": {},
     "output_type": "execute_result"
    }
   ],
   "source": [
    "2 * 4 ** 2"
   ]
  },
  {
   "cell_type": "code",
   "execution_count": 31,
   "id": "6648e24d",
   "metadata": {},
   "outputs": [
    {
     "data": {
      "text/plain": [
       "64"
      ]
     },
     "execution_count": 31,
     "metadata": {},
     "output_type": "execute_result"
    }
   ],
   "source": [
    "(2 * 4) ** 2"
   ]
  },
  {
   "cell_type": "markdown",
   "id": "eb4221bf",
   "metadata": {},
   "source": [
    "**Notice that** $$2 * 4 ^{2} \\neq (2 * 4)^{2} $$\n",
    "This is because the way to solve the left side is as follows: \n",
    "$$ 2 * 4 ^{2}$$\n",
    "$$ = 2 * 16$$\n",
    "$$= 32$$\n",
    "\n",
    "And the way to solve the right side is as follows:\n",
    "\n",
    "$$(2 * 4)^{2}$$\n",
    "$$=(8)^{2}$$\n",
    "$$= 64$$"
   ]
  },
  {
   "cell_type": "markdown",
   "id": "6fc1bd85",
   "metadata": {},
   "source": [
    "**Example 3. Same hierarchy of operations**"
   ]
  },
  {
   "cell_type": "markdown",
   "id": "2913a1f8",
   "metadata": {},
   "source": [
    "If we have operators with the same hierarchy in an expression, then we perform the operation from left to right."
   ]
  },
  {
   "cell_type": "code",
   "execution_count": 32,
   "id": "71cb0d8f",
   "metadata": {},
   "outputs": [
    {
     "data": {
      "text/plain": [
       "12.833333333333334"
      ]
     },
     "execution_count": 32,
     "metadata": {},
     "output_type": "execute_result"
    }
   ],
   "source": [
    "minutes * hour / 60"
   ]
  },
  {
   "cell_type": "markdown",
   "id": "3813014e",
   "metadata": {},
   "source": [
    "**Example 4. Other uses of parentheses**"
   ]
  },
  {
   "cell_type": "markdown",
   "id": "b3f7286a",
   "metadata": {},
   "source": [
    "Sometimes we can use parentheses to make a statement clearer:"
   ]
  },
  {
   "cell_type": "code",
   "execution_count": 33,
   "id": "4f99618d",
   "metadata": {},
   "outputs": [
    {
     "data": {
      "text/plain": [
       "82.4"
      ]
     },
     "execution_count": 33,
     "metadata": {},
     "output_type": "execute_result"
    }
   ],
   "source": [
    "celsius = 28\n",
    "(celsius * 9/5) + 32"
   ]
  },
  {
   "cell_type": "markdown",
   "id": "655f6de7",
   "metadata": {},
   "source": [
    "----"
   ]
  },
  {
   "cell_type": "markdown",
   "id": "0bd74bcc",
   "metadata": {},
   "source": [
    "## 7. Exercises"
   ]
  },
  {
   "cell_type": "markdown",
   "id": "6ee7fd84",
   "metadata": {},
   "source": [
    "**1. Compute the area of a triangle of base 10 cm and height 15 cm.** \n",
    "\n",
    "$$TriangleArea =\\frac{base * height}{2}$$"
   ]
  },
  {
   "cell_type": "code",
   "execution_count": null,
   "id": "5b85c244",
   "metadata": {},
   "outputs": [],
   "source": []
  },
  {
   "cell_type": "markdown",
   "id": "1015bb2b",
   "metadata": {},
   "source": [
    "**2. Compute the area of a circle of radius 5.**\n",
    "\n",
    "$$CircleArea = \\pi * r^{2}$$"
   ]
  },
  {
   "cell_type": "code",
   "execution_count": null,
   "id": "08019b63",
   "metadata": {},
   "outputs": [],
   "source": []
  },
  {
   "cell_type": "markdown",
   "id": "b1909666",
   "metadata": {},
   "source": [
    "**3. Compute the average of three scores: $8.5$, $7.2$, and $9.3$**"
   ]
  },
  {
   "cell_type": "code",
   "execution_count": null,
   "id": "35087a7a",
   "metadata": {},
   "outputs": [],
   "source": []
  },
  {
   "cell_type": "markdown",
   "id": "7c34a525",
   "metadata": {},
   "source": [
    "**4. Given a Celsius degree, convert it to Fahrenheit.**\n",
    "\n",
    "$$ F = \\frac{9}{5} * C + 32$$"
   ]
  },
  {
   "cell_type": "code",
   "execution_count": null,
   "id": "2f15f9e1",
   "metadata": {},
   "outputs": [],
   "source": []
  },
  {
   "cell_type": "markdown",
   "id": "9a7c67fc",
   "metadata": {},
   "source": [
    "**5. A group of friends go out for a dinner and the total bill to pay is of 87.50 USD, if they would like to give a tip of 15%. How much the tip should be?**\n"
   ]
  },
  {
   "cell_type": "code",
   "execution_count": null,
   "id": "19df193f",
   "metadata": {},
   "outputs": [],
   "source": []
  },
  {
   "cell_type": "markdown",
   "id": "9c895e4d",
   "metadata": {},
   "source": [
    "**EXTRA EXERCISE**\n",
    "<br>*Ask the user for an amount of mexican pesos so it can be converted to dollars. Consider that $19.92 MXN is equivalent to 1 USD*"
   ]
  },
  {
   "cell_type": "code",
   "execution_count": null,
   "id": "61f8a449",
   "metadata": {},
   "outputs": [],
   "source": []
  }
 ],
 "metadata": {
  "kernelspec": {
   "display_name": "Python 3",
   "language": "python",
   "name": "python3"
  },
  "language_info": {
   "codemirror_mode": {
    "name": "ipython",
    "version": 3
   },
   "file_extension": ".py",
   "mimetype": "text/x-python",
   "name": "python",
   "nbconvert_exporter": "python",
   "pygments_lexer": "ipython3",
   "version": "3.8.8"
  }
 },
 "nbformat": 4,
 "nbformat_minor": 5
}
