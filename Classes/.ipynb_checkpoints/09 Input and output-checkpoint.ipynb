{
 "cells": [
  {
   "cell_type": "markdown",
   "id": "08a13b13",
   "metadata": {},
   "source": [
    "# <center> Input and Output</center>"
   ]
  },
  {
   "cell_type": "markdown",
   "id": "e0e7e1a0",
   "metadata": {},
   "source": [
    "In this file, we will see the following topics:\n",
    "1. Formatted string literals\n",
    "2. String format\n",
    "3. Manual string formatting\n",
    "    * <code>rjust()</code>, <code>ljust()</code> and <code>center()</code>\n",
    "4. Reading from file\n",
    "5. Writing to file\n",
    "6. Exercises"
   ]
  },
  {
   "cell_type": "markdown",
   "id": "dd19edc8",
   "metadata": {},
   "source": [
    "* Often we want more control over the formatting of our output than simply printing space-separated values. \n",
    "* There are several ways to format output:\n",
    "1. Using formatted string literals\n",
    "2. Using string format\n",
    "3. Manual string formatting"
   ]
  },
  {
   "cell_type": "markdown",
   "id": "9c392135",
   "metadata": {},
   "source": [
    "## 1. Formatted string literals"
   ]
  },
  {
   "cell_type": "markdown",
   "id": "6ccf83ef",
   "metadata": {},
   "source": [
    "* To use **formatted string literals**, we must begin a string with <code>f</code> or <code>F</code> before the opening quotation mark or double quotation mark. \n",
    "* Inside this string, we can write a Python expression betwen <code>{</code> and <code>}</code> characters that can refer to variables or literal values"
   ]
  },
  {
   "cell_type": "code",
   "execution_count": 53,
   "id": "613b3e9a",
   "metadata": {},
   "outputs": [],
   "source": [
    "from math import pi"
   ]
  },
  {
   "cell_type": "code",
   "execution_count": 54,
   "id": "68804a03",
   "metadata": {},
   "outputs": [],
   "source": [
    "#Example 1. Greetings to all\n",
    "var = 'friends'\n",
    "var1 = 'enemies'\n",
    "var2 = 'family'\n"
   ]
  },
  {
   "cell_type": "code",
   "execution_count": 55,
   "id": "a3fa0233",
   "metadata": {},
   "outputs": [
    {
     "name": "stdout",
     "output_type": "stream",
     "text": [
      "Hello, World, friends , enemies , and family\n"
     ]
    }
   ],
   "source": [
    "#Not using formatted string literals\n",
    "print(\"Hello, World,\",var,\",\",var1,\", and\",var2 )"
   ]
  },
  {
   "cell_type": "code",
   "execution_count": 56,
   "id": "85e66237",
   "metadata": {},
   "outputs": [
    {
     "name": "stdout",
     "output_type": "stream",
     "text": [
      "Hello, World, friends, enemies, and family\n"
     ]
    }
   ],
   "source": [
    "#Using formatted string literals\n",
    "print(f'Hello, World, {var}, {var1}, and {var2}')"
   ]
  },
  {
   "cell_type": "code",
   "execution_count": 57,
   "id": "4a147f13",
   "metadata": {},
   "outputs": [
    {
     "name": "stdout",
     "output_type": "stream",
     "text": [
      "The value of pi is approximately 3.14\n"
     ]
    }
   ],
   "source": [
    "# Example 2. Representing pi with a precision of 2 decimal values\n",
    "print(f\"The value of pi is approximately {pi:.2f}\")"
   ]
  },
  {
   "cell_type": "markdown",
   "id": "51e50b64",
   "metadata": {},
   "source": [
    "<p style=\"color:red;\">Notice that the <code>f</code> that is followed by the .2 represents a <b>fixed-point notation</b>. Which means that it formats the value of PI as a decimal number with exactly two digits following the decimal point.</p>\n"
   ]
  },
  {
   "cell_type": "markdown",
   "id": "f38b0938",
   "metadata": {},
   "source": [
    "## 2. String Format"
   ]
  },
  {
   "cell_type": "markdown",
   "id": "30b2b5fd",
   "metadata": {},
   "source": [
    "* The <code>str.format()</code> method of strings requires more manual effort.\n",
    "* We will still use <code>{</code> and <code>}</code> to mark where a variable will be substituted and can provide detailed formatting directives, but we also need to provide the information to be formatted"
   ]
  },
  {
   "cell_type": "code",
   "execution_count": 36,
   "id": "e2e06a28",
   "metadata": {},
   "outputs": [],
   "source": [
    "#Example 1. Student taking a class.\n",
    "student = \"Jhon\"\n",
    "subject = \"History\"\n",
    "year = \"2022\""
   ]
  },
  {
   "cell_type": "code",
   "execution_count": 37,
   "id": "0d8232c5",
   "metadata": {},
   "outputs": [
    {
     "name": "stdout",
     "output_type": "stream",
     "text": [
      "The student Jhon is taking the course History in 2022\n"
     ]
    }
   ],
   "source": [
    "# a)Printing without any formatting \n",
    "print(\"The student\", student, \"is taking the course\", subject, \"in\", year)"
   ]
  },
  {
   "cell_type": "code",
   "execution_count": 38,
   "id": "c5823025",
   "metadata": {},
   "outputs": [
    {
     "name": "stdout",
     "output_type": "stream",
     "text": [
      "The student Jhon is taking the course History in 2022\n"
     ]
    }
   ],
   "source": [
    "#b)Printing with a formatted string literal\n",
    "print(f\"The student {student} is taking the course {subject} in {year}\")\n"
   ]
  },
  {
   "cell_type": "code",
   "execution_count": 39,
   "id": "3d013574",
   "metadata": {},
   "outputs": [
    {
     "name": "stdout",
     "output_type": "stream",
     "text": [
      "The student Jhon is taking the course History in 2022\n"
     ]
    }
   ],
   "source": [
    "#c) Using string fomat\n",
    "print(\"The student {} is taking the course {} in {}\".format(student, subject, year))"
   ]
  },
  {
   "cell_type": "code",
   "execution_count": 43,
   "id": "98fe1cbc",
   "metadata": {},
   "outputs": [
    {
     "name": "stdout",
     "output_type": "stream",
     "text": [
      "apple, banana and watermelon\n"
     ]
    }
   ],
   "source": [
    "#Example 2. \n",
    "print(\"{0}, {1} and {2}\".format('apple', 'banana', 'watermelon'))\n"
   ]
  },
  {
   "cell_type": "code",
   "execution_count": 44,
   "id": "88ab2bfe",
   "metadata": {},
   "outputs": [
    {
     "name": "stdout",
     "output_type": "stream",
     "text": [
      "watermelon and apple\n"
     ]
    }
   ],
   "source": [
    "#b) Changing the result\n",
    "print(\"{2} and {0}\".format('apple', 'banana', 'watermelon'))"
   ]
  },
  {
   "cell_type": "code",
   "execution_count": 2,
   "id": "52c9d1f0",
   "metadata": {},
   "outputs": [],
   "source": [
    "average = 9.104104"
   ]
  },
  {
   "cell_type": "code",
   "execution_count": 4,
   "id": "6a2b5536",
   "metadata": {},
   "outputs": [
    {
     "name": "stdout",
     "output_type": "stream",
     "text": [
      "9.104\n"
     ]
    }
   ],
   "source": [
    "print(f'{average:.4}')"
   ]
  },
  {
   "cell_type": "code",
   "execution_count": 45,
   "id": "80ee1ff1",
   "metadata": {},
   "outputs": [
    {
     "name": "stdout",
     "output_type": "stream",
     "text": [
      "From a total of 2342710 votes, the 52.68% of the votes were null votes\n"
     ]
    }
   ],
   "source": [
    "#Example 1. Null\n",
    "votes = 2_342_710\n",
    "null_votes = 1_234_120\n",
    "percentage_of_votes = null_votes/votes\n",
    "print('From a total of {:-7} votes, the {:.2%} of the votes were null votes'.format(votes, percentage_of_votes))"
   ]
  },
  {
   "cell_type": "markdown",
   "id": "5682903d",
   "metadata": {},
   "source": [
    "## 3. Manual string formatting"
   ]
  },
  {
   "cell_type": "markdown",
   "id": "22609e0c",
   "metadata": {},
   "source": [
    "We can use some methods to do a manual string formatting:\n",
    "* <code>str.rjust()</code>\n",
    "* <code>str.ljust()</code>\n",
    "* <code>str.center()</code>"
   ]
  },
  {
   "cell_type": "markdown",
   "id": "405a18cf",
   "metadata": {},
   "source": [
    "The <code>str.rjust()</code> method right-justifies a string in a field of a given width by padding it with spaces on the left. The methods <code>str.ljust()</code>, and  <code>str.center()</code> are similar."
   ]
  },
  {
   "cell_type": "code",
   "execution_count": 60,
   "id": "d58b5a8d",
   "metadata": {},
   "outputs": [],
   "source": [
    "#Example\n",
    "name = \"Charlie\"\n",
    "last_name = \"Martinez\"\n",
    "university = \"Instituto Tecnológico Autónomo de México\"\n"
   ]
  },
  {
   "cell_type": "code",
   "execution_count": 61,
   "id": "9e0e9b61",
   "metadata": {},
   "outputs": [
    {
     "name": "stdout",
     "output_type": "stream",
     "text": [
      "                              Instituto Tecnológico Autónomo de México                              \n"
     ]
    }
   ],
   "source": [
    "# ***************Carlos\n",
    "#print(name.rjust(10))\n",
    "#print(last_name.ljust(100))\n",
    "print(university.center(100))"
   ]
  },
  {
   "cell_type": "markdown",
   "id": "fab54717",
   "metadata": {},
   "source": [
    "## 4. Reading from file"
   ]
  },
  {
   "cell_type": "code",
   "execution_count": null,
   "id": "d87df669",
   "metadata": {},
   "outputs": [],
   "source": [
    "# Example 1. Reading all the scores from the following file: \"scores.txt\"\n",
    "with open ('calificaciones.txt', 'r') as f:\n",
    "    cal = int(f.readline()) #10\n",
    "    califs = []\n",
    "    while(cal != -1):\n",
    "        califs.append(cal)\n",
    "        cal = int(f.readline()) #8"
   ]
  },
  {
   "cell_type": "code",
   "execution_count": null,
   "id": "0c38609f",
   "metadata": {},
   "outputs": [],
   "source": [
    "#Example 2. Reading all the sales of the day\n",
    "with open('ventas.txt', 'r') as f:\n",
    "    venta = f.readline()\n",
    "    "
   ]
  },
  {
   "cell_type": "markdown",
   "id": "1b4ffd15",
   "metadata": {},
   "source": [
    "## 5. Writing to file"
   ]
  },
  {
   "cell_type": "code",
   "execution_count": 3,
   "id": "5c3c88fe",
   "metadata": {},
   "outputs": [],
   "source": [
    "#Example 1. Writing in a file\n",
    "with open('ventasFinales.txt', 'w') as f:\n",
    "    f.write('\\n651')"
   ]
  },
  {
   "cell_type": "code",
   "execution_count": null,
   "id": "d5ff4e72",
   "metadata": {},
   "outputs": [],
   "source": [
    "#Example 2. Appending in a file\n",
    "with open('ventasFinales.txt', 'w') as f:\n",
    "    f.write('\\n651')"
   ]
  },
  {
   "cell_type": "markdown",
   "id": "e1fbe684",
   "metadata": {},
   "source": [
    "## 6. Exercises"
   ]
  },
  {
   "cell_type": "code",
   "execution_count": 41,
   "id": "30c878f8",
   "metadata": {},
   "outputs": [
    {
     "name": "stdout",
     "output_type": "stream",
     "text": [
      "Los primeros 10 decimales de pi son: 3.141592654\n"
     ]
    }
   ],
   "source": [
    "#1. Print the first 10 decimal numbers of PI\n",
    "\n",
    "#print(f'The first decimal numbers of PI are: {pi:.10}')\n",
    "#print(\"The first decimal numbers of PI are: {:.10}\".format(pi))"
   ]
  },
  {
   "cell_type": "code",
   "execution_count": 43,
   "id": "075ef60d",
   "metadata": {},
   "outputs": [
    {
     "name": "stdout",
     "output_type": "stream",
     "text": [
      "El porcentaje de goles que ha metido en el RM es:  66.77%\n"
     ]
    }
   ],
   "source": [
    "#2. Cristiano Ronaldo has scored 123 goals in Manchester United, 450 in Real Madrid, and 101 in Juventus. \n",
    "# Print the percentage of goals that he has scored in Real Madrid, with a 2 decimal number precision.\n",
    "#  Team | Total Amount of goals\n",
    "# Manchester United | 123\n",
    "# Real Madrid | 450\n",
    "# Juventus | 101\n",
    "\n",
    "manchester = 123\n",
    "real_madrid = 450\n",
    "juventus = 101\n",
    "\n",
    "print(f'El porcentaje de goles que ha metido en el RM es: {real_madrid / (manchester + real_madrid + juventus): .2%}')\n"
   ]
  },
  {
   "cell_type": "code",
   "execution_count": 4,
   "id": "2bcea4ca",
   "metadata": {},
   "outputs": [
    {
     "ename": "SyntaxError",
     "evalue": "invalid syntax (934335810.py, line 4)",
     "output_type": "error",
     "traceback": [
      "\u001b[0;36m  File \u001b[0;32m\"/var/folders/wn/xp27gy7s6l3fskz716sq7d840000gn/T/ipykernel_27845/934335810.py\"\u001b[0;36m, line \u001b[0;32m4\u001b[0m\n\u001b[0;31m    Imprime el valor y su cuadrado de los numeros 1, 2, 3, 4 y 5 en forma de tabla\u001b[0m\n\u001b[0m            ^\u001b[0m\n\u001b[0;31mSyntaxError\u001b[0m\u001b[0;31m:\u001b[0m invalid syntax\n"
     ]
    }
   ],
   "source": [
    "#3. Print the values between 1 and 10 and their corresponding squared numbers in a table form\n",
    "# 1 | 1\n",
    "# 2 | 4\n",
    "\n",
    "\n",
    "for i in range(1, 11):\n",
    "    print(i, i**2)"
   ]
  },
  {
   "cell_type": "code",
   "execution_count": 52,
   "id": "0080684c",
   "metadata": {},
   "outputs": [
    {
     "name": "stdout",
     "output_type": "stream",
     "text": [
      "  1       1\n",
      "  2       4\n",
      "  3       9\n",
      "  4      16\n",
      "  5      25\n",
      "  6      36\n",
      "  7      49\n",
      "  8      64\n",
      "  9      81\n",
      "  10    100\n"
     ]
    }
   ],
   "source": [
    "#3.1 # Use the rjust() function to show the previous table in a more legible form\n",
    "\n",
    "for i in range(1, 11):\n",
    "    print(str(i).center(5), str(i**2).rjust(5))"
   ]
  },
  {
   "cell_type": "markdown",
   "id": "6f2d171e",
   "metadata": {},
   "source": [
    "#### 4. Consider a list (<code>list = []</code>). You can perform the following commands:\n",
    "\n",
    "1. <code>insert i e</code>: Insert integer <code>e</code> at position <code>i</code>\n",
    "2. <code>print</code>: Print the list.\n",
    "3. <code>remove e</code>:Delete the first occurrence of integer <code>e</code>\n",
    "4. <code>append e</code>: Insert integer <code>e</code> at the end of the list\n",
    "5. <code>sort</code>: Sort the list.\n",
    "6. <code>pop</code>: Pop the last element from the list.\n",
    "7. <code>reverse</code>: Reverse the list.\n",
    "\n",
    "Initialize your list and read in the value of followed by lines of commands where each command will be of the types **7** listed above. **Iterate through each command in order and perform the corresponding operation on your list.** \n",
    "\n",
    "*Example*\n",
    "* N = 4\n",
    "* append 1\n",
    "* append 2\n",
    "* insert 3 1\n",
    "* print\n",
    "\n",
    "Output:\n",
    "[1, 3, 2]"
   ]
  },
  {
   "cell_type": "markdown",
   "id": "7d1981ac",
   "metadata": {},
   "source": [
    "Open and read the file named \"commands.txt\" and perform the given instructions."
   ]
  },
  {
   "cell_type": "code",
   "execution_count": 20,
   "id": "aaafa8e8",
   "metadata": {
    "scrolled": true
   },
   "outputs": [
    {
     "name": "stdout",
     "output_type": "stream",
     "text": [
      "['insert', '0', '5\\ninsert', '1', '10\\ninsert', '0', '6\\nprint\\nremove', '6\\nappend', '9\\nappend', '1\\nsort\\nprint\\npop\\nreverse\\nprint\\n\\n']\n"
     ]
    },
    {
     "ename": "ValueError",
     "evalue": "invalid literal for int() with base 10: '5\\ninsert'",
     "output_type": "error",
     "traceback": [
      "\u001b[0;31m---------------------------------------------------------------------------\u001b[0m",
      "\u001b[0;31mValueError\u001b[0m                                Traceback (most recent call last)",
      "\u001b[0;32m<ipython-input-20-8116ed292d01>\u001b[0m in \u001b[0;36m<module>\u001b[0;34m\u001b[0m\n\u001b[1;32m     14\u001b[0m         \u001b[0mprint\u001b[0m\u001b[0;34m(\u001b[0m\u001b[0mcomm\u001b[0m\u001b[0;34m)\u001b[0m\u001b[0;34m\u001b[0m\u001b[0;34m\u001b[0m\u001b[0m\n\u001b[1;32m     15\u001b[0m         \u001b[0;32mif\u001b[0m\u001b[0;34m(\u001b[0m\u001b[0mcomm\u001b[0m\u001b[0;34m[\u001b[0m\u001b[0;36m0\u001b[0m\u001b[0;34m]\u001b[0m \u001b[0;34m==\u001b[0m \u001b[0;34m'insert'\u001b[0m\u001b[0;34m)\u001b[0m\u001b[0;34m:\u001b[0m\u001b[0;34m\u001b[0m\u001b[0;34m\u001b[0m\u001b[0m\n\u001b[0;32m---> 16\u001b[0;31m             \u001b[0mlist1\u001b[0m\u001b[0;34m.\u001b[0m\u001b[0minsert\u001b[0m\u001b[0;34m(\u001b[0m\u001b[0mint\u001b[0m\u001b[0;34m(\u001b[0m\u001b[0mcomm\u001b[0m\u001b[0;34m[\u001b[0m\u001b[0;36m1\u001b[0m\u001b[0;34m]\u001b[0m\u001b[0;34m)\u001b[0m\u001b[0;34m,\u001b[0m\u001b[0mint\u001b[0m\u001b[0;34m(\u001b[0m\u001b[0mcomm\u001b[0m\u001b[0;34m[\u001b[0m\u001b[0;36m2\u001b[0m\u001b[0;34m]\u001b[0m\u001b[0;34m)\u001b[0m\u001b[0;34m)\u001b[0m\u001b[0;34m\u001b[0m\u001b[0;34m\u001b[0m\u001b[0m\n\u001b[0m\u001b[1;32m     17\u001b[0m \u001b[0;34m\u001b[0m\u001b[0m\n\u001b[1;32m     18\u001b[0m         \u001b[0;32mif\u001b[0m\u001b[0;34m(\u001b[0m\u001b[0mcomm\u001b[0m\u001b[0;34m[\u001b[0m\u001b[0;36m0\u001b[0m\u001b[0;34m]\u001b[0m \u001b[0;34m==\u001b[0m \u001b[0;34m'print\\n'\u001b[0m\u001b[0;34m)\u001b[0m\u001b[0;34m:\u001b[0m\u001b[0;34m\u001b[0m\u001b[0;34m\u001b[0m\u001b[0m\n",
      "\u001b[0;31mValueError\u001b[0m: invalid literal for int() with base 10: '5\\ninsert'"
     ]
    }
   ],
   "source": [
    "#[6, 5, 10]\n",
    "#[1, 5, 9, 10]\n",
    "#[10, 9, 5, 1]\n",
    "\n",
    "\n",
    "with open('Files/commands.txt', 'r') as f:\n",
    "    list1 = []\n",
    "    tot = int(f.readline())\n",
    "    \n",
    "    for i in range(tot + 1):\n",
    "        comm = f.readline()\n",
    "        \n",
    "        comm = comm.split(' ')\n",
    "        print(comm)\n",
    "        if(comm[0] == 'insert'):\n",
    "            list1.insert(int(comm[1]),int(comm[2]))\n",
    "\n",
    "        if(comm[0] == 'print\\n'):\n",
    "            print(list1)\n",
    "        if(comm[0] == 'remove\\n'):\n",
    "            list1.remove(int(comm[1]))\n",
    "        if(comm[0] == 'append'):\n",
    "            list1.append(int(comm[1]))\n",
    "        if(comm[0] == 'sort\\n'):\n",
    "            list1.sort()\n",
    "        if(comm[0] == 'pop\\n'):\n",
    "            list1.pop()\n",
    "        if(comm[0] == 'reverse\\n'):\n",
    "            list1.reverse()\n",
    "        \n",
    "        \n",
    "    "
   ]
  },
  {
   "cell_type": "code",
   "execution_count": null,
   "id": "95f19391",
   "metadata": {},
   "outputs": [],
   "source": []
  }
 ],
 "metadata": {
  "kernelspec": {
   "display_name": "Python 3",
   "language": "python",
   "name": "python3"
  },
  "language_info": {
   "codemirror_mode": {
    "name": "ipython",
    "version": 3
   },
   "file_extension": ".py",
   "mimetype": "text/x-python",
   "name": "python",
   "nbconvert_exporter": "python",
   "pygments_lexer": "ipython3",
   "version": "3.8.8"
  }
 },
 "nbformat": 4,
 "nbformat_minor": 5
}
