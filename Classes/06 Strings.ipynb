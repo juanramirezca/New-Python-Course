{
 "cells": [
  {
   "cell_type": "markdown",
   "id": "e525ff03",
   "metadata": {},
   "source": [
    "# <center>Strings</center>\n",
    "\n"
   ]
  },
  {
   "cell_type": "markdown",
   "id": "efce3aaf",
   "metadata": {},
   "source": [
    "In this file, we will focus on Strings and the main methods.\n",
    "1. Strings\n"
   ]
  },
  {
   "cell_type": "markdown",
   "id": "a87453ea",
   "metadata": {},
   "source": [
    "## 1. Strings"
   ]
  },
  {
   "cell_type": "markdown",
   "id": "8dda2de4",
   "metadata": {},
   "source": [
    "Besides the numbers, in Python we can manipulate strings. To refer a string, we can use either single quote ('...') or double quote(\"...\")"
   ]
  },
  {
   "cell_type": "code",
   "execution_count": 43,
   "id": "7f7fc85b",
   "metadata": {},
   "outputs": [
    {
     "data": {
      "text/plain": [
       "'Hello, World!'"
      ]
     },
     "execution_count": 43,
     "metadata": {},
     "output_type": "execute_result"
    }
   ],
   "source": [
    "greetings = \"Hello, World!\"\n",
    "greetings"
   ]
  },
  {
   "cell_type": "code",
   "execution_count": 44,
   "id": "f360a9df",
   "metadata": {},
   "outputs": [
    {
     "data": {
      "text/plain": [
       "'Goodbye, World'"
      ]
     },
     "execution_count": 44,
     "metadata": {},
     "output_type": "execute_result"
    }
   ],
   "source": [
    "goodbye = 'Goodbye, World'\n",
    "goodbye"
   ]
  },
  {
   "cell_type": "markdown",
   "id": "75ca294a",
   "metadata": {},
   "source": [
    "<font color = red> Remember we can use the **(+)** to concatenate strings and the **(*)** operator to repeat many times a string"
   ]
  },
  {
   "cell_type": "code",
   "execution_count": 45,
   "id": "4c18211d",
   "metadata": {},
   "outputs": [
    {
     "name": "stdout",
     "output_type": "stream",
     "text": [
      "Hello World!\n"
     ]
    }
   ],
   "source": [
    "string1 = \"Hello\"\n",
    "string2 = \" World!\"\n",
    "print(string1 + string2)"
   ]
  },
  {
   "cell_type": "code",
   "execution_count": 46,
   "id": "05a6aab2",
   "metadata": {},
   "outputs": [
    {
     "name": "stdout",
     "output_type": "stream",
     "text": [
      "Hello, World!Hello, World!Hello, World!\n"
     ]
    }
   ],
   "source": [
    "# Do you remember what does the following expression returns?\n",
    "print(greetings * 3)"
   ]
  },
  {
   "cell_type": "markdown",
   "id": "7f588f2b",
   "metadata": {},
   "source": [
    "### 1.1 Printing longs strings"
   ]
  },
  {
   "cell_type": "code",
   "execution_count": 47,
   "id": "fa625794",
   "metadata": {},
   "outputs": [
    {
     "name": "stdout",
     "output_type": "stream",
     "text": [
      "Sometimes we have a really long string that does not fit in only one line. So in that case we can use the parentheses to surround the text and single or double quote in each line of the string\n"
     ]
    }
   ],
   "source": [
    "text = ('Sometimes we have a really long string that does not fit in '\n",
    "        'only one line. So in that case we can use the parentheses to '\n",
    "        'surround the text and single or double quote in each line '\n",
    "        'of the string'\n",
    "       )\n",
    "print(text)"
   ]
  },
  {
   "cell_type": "code",
   "execution_count": 48,
   "id": "154f3200",
   "metadata": {},
   "outputs": [
    {
     "data": {
      "text/plain": [
       "'Sometimes we have a really long string that does not fit in only one line. So in that case we can use the parentheses to surround the text and single or double quote in each line of the string'"
      ]
     },
     "execution_count": 48,
     "metadata": {},
     "output_type": "execute_result"
    }
   ],
   "source": [
    "longText = 'Sometimes we have a really long string that does not fit in only one line. So in that case we can use the parentheses to surround the text and single or double quote in each line of the string'\n",
    "longText"
   ]
  },
  {
   "cell_type": "markdown",
   "id": "74337134",
   "metadata": {},
   "source": [
    "### 1.2 Indices"
   ]
  },
  {
   "cell_type": "markdown",
   "id": "f2409ede",
   "metadata": {},
   "source": [
    "Strings can be indexed, but remember that the first element of the string corresponds to the index **0**."
   ]
  },
  {
   "cell_type": "code",
   "execution_count": 49,
   "id": "f549c1c8",
   "metadata": {},
   "outputs": [
    {
     "data": {
      "text/plain": [
       "'p'"
      ]
     },
     "execution_count": 49,
     "metadata": {},
     "output_type": "execute_result"
    }
   ],
   "source": [
    "word = 'python is a great programming language'\n",
    "word[0]"
   ]
  },
  {
   "cell_type": "code",
   "execution_count": 50,
   "id": "933a5009",
   "metadata": {},
   "outputs": [],
   "source": [
    "shortWord = \"Ape\"\n",
    "#shortWord[4]"
   ]
  },
  {
   "cell_type": "markdown",
   "id": "f997d847",
   "metadata": {},
   "source": [
    "<font color = red> Indices can also be negative, starting from the right of the string as the starting point."
   ]
  },
  {
   "cell_type": "code",
   "execution_count": 51,
   "id": "2f09145e",
   "metadata": {},
   "outputs": [],
   "source": [
    "#print(shortWord[-1])\n",
    "#print(shortWord[-2])\n",
    "#print(shortWord[-6])"
   ]
  },
  {
   "cell_type": "markdown",
   "id": "a1a7e265",
   "metadata": {},
   "source": [
    "### 1.3 Slices"
   ]
  },
  {
   "cell_type": "markdown",
   "id": "415ad557",
   "metadata": {},
   "source": [
    "Besides indices, we can use slices or *chunks* of a string. Slices allows us to obtain sub-strings."
   ]
  },
  {
   "cell_type": "code",
   "execution_count": 52,
   "id": "9800d72f",
   "metadata": {},
   "outputs": [
    {
     "data": {
      "text/plain": [
       "'thon '"
      ]
     },
     "execution_count": 52,
     "metadata": {},
     "output_type": "execute_result"
    }
   ],
   "source": [
    "word[2:7]"
   ]
  },
  {
   "cell_type": "code",
   "execution_count": 53,
   "id": "5c47bb6f",
   "metadata": {},
   "outputs": [
    {
     "data": {
      "text/plain": [
       "'python'"
      ]
     },
     "execution_count": 53,
     "metadata": {},
     "output_type": "execute_result"
    }
   ],
   "source": [
    "word[:6]"
   ]
  },
  {
   "cell_type": "code",
   "execution_count": 54,
   "id": "f977e1a7",
   "metadata": {},
   "outputs": [
    {
     "data": {
      "text/plain": [
       "' is a great programming language'"
      ]
     },
     "execution_count": 54,
     "metadata": {},
     "output_type": "execute_result"
    }
   ],
   "source": [
    "word[6:]"
   ]
  },
  {
   "cell_type": "markdown",
   "id": "5f9674bf",
   "metadata": {},
   "source": [
    "**Exercise 1. Print only the sub-string \"language\" from the variable named word**"
   ]
  },
  {
   "cell_type": "code",
   "execution_count": null,
   "id": "2d7d61bf",
   "metadata": {},
   "outputs": [],
   "source": []
  },
  {
   "cell_type": "markdown",
   "id": "de0bc124",
   "metadata": {},
   "source": [
    "### 1.3.1 Slices visualization"
   ]
  },
  {
   "cell_type": "markdown",
   "id": "5cea29e3",
   "metadata": {},
   "source": [
    "This is a visual way to remember how slices work in Python "
   ]
  },
  {
   "cell_type": "code",
   "execution_count": 55,
   "id": "fa1027e5",
   "metadata": {},
   "outputs": [
    {
     "name": "stdout",
     "output_type": "stream",
     "text": [
      "+---+---+---+---+---+---+\n",
      "| P | y | t | h | o | n |\n",
      "+---+---+---+---+---+---+\n",
      "0   1   2   3   4   5   6\n",
      "-6  -5  -4  -3  -2  -1  \n",
      "\n"
     ]
    }
   ],
   "source": [
    "print('+---+---+---+---+---+---+\\n' \n",
    "      '| P | y | t | h | o | n |\\n'\n",
    "      '+---+---+---+---+---+---+\\n'\n",
    "      '0   1   2   3   4   5   6\\n'\n",
    "      '-6  -5  -4  -3  -2  -1  \\n'\n",
    "     )"
   ]
  },
  {
   "cell_type": "markdown",
   "id": "f599afc7",
   "metadata": {},
   "source": [
    "### 1.4 The <code>len()</code> function"
   ]
  },
  {
   "cell_type": "markdown",
   "id": "fb28ba3a",
   "metadata": {},
   "source": [
    "We can use the <code>len()</code> function to obtain the amount of characters that a word has."
   ]
  },
  {
   "cell_type": "markdown",
   "id": "99bb5d05",
   "metadata": {},
   "source": [
    "**Example 1. Amount of characters of the word string**"
   ]
  },
  {
   "cell_type": "code",
   "execution_count": 56,
   "id": "d374ce36",
   "metadata": {},
   "outputs": [
    {
     "data": {
      "text/plain": [
       "34"
      ]
     },
     "execution_count": 56,
     "metadata": {},
     "output_type": "execute_result"
    }
   ],
   "source": [
    "string = \"supercalifragilisticexpialidocious\"\n",
    "len(string)"
   ]
  },
  {
   "cell_type": "markdown",
   "id": "4e92f072",
   "metadata": {},
   "source": [
    "**Example 2. Amount of characters of the variable text**"
   ]
  },
  {
   "cell_type": "code",
   "execution_count": 57,
   "id": "39f96673",
   "metadata": {},
   "outputs": [
    {
     "data": {
      "text/plain": [
       "192"
      ]
     },
     "execution_count": 57,
     "metadata": {},
     "output_type": "execute_result"
    }
   ],
   "source": [
    "len(text)"
   ]
  },
  {
   "cell_type": "markdown",
   "id": "92fda9df",
   "metadata": {},
   "source": [
    "## 2. Useful string functions"
   ]
  },
  {
   "cell_type": "markdown",
   "id": "655a7688",
   "metadata": {},
   "source": [
    "There are some pre-built functions in Python that can be used in Strings. Some of them will help us to manipulate text and show the string as we want."
   ]
  },
  {
   "cell_type": "markdown",
   "id": "f5944749",
   "metadata": {},
   "source": [
    "### 2.1 <code>isalnum()</code> function"
   ]
  },
  {
   "cell_type": "markdown",
   "id": "a0c03e19",
   "metadata": {},
   "source": [
    "The <code>isalnum()</code>method returns *True* if all the characters are alphanumeric, meaning alphabet letter (a-z) and numbers (0-9).\n",
    "\n"
   ]
  },
  {
   "cell_type": "markdown",
   "id": "d006016a",
   "metadata": {},
   "source": [
    "**Example 1. All characters are alphanumeric**"
   ]
  },
  {
   "cell_type": "code",
   "execution_count": 58,
   "id": "91973e77",
   "metadata": {},
   "outputs": [
    {
     "data": {
      "text/plain": [
       "True"
      ]
     },
     "execution_count": 58,
     "metadata": {},
     "output_type": "execute_result"
    }
   ],
   "source": [
    "team = \"FSVMainz05\"\n",
    "team.isalnum()"
   ]
  },
  {
   "cell_type": "markdown",
   "id": "192370f2",
   "metadata": {},
   "source": [
    "**Example 2. Not all characters are alphanumeric**"
   ]
  },
  {
   "cell_type": "code",
   "execution_count": 59,
   "id": "1155f459",
   "metadata": {},
   "outputs": [
    {
     "data": {
      "text/plain": [
       "False"
      ]
     },
     "execution_count": 59,
     "metadata": {},
     "output_type": "execute_result"
    }
   ],
   "source": [
    "str1 = \"FSV Mainz 05\"\n",
    "str1.isalnum()"
   ]
  },
  {
   "cell_type": "markdown",
   "id": "3bf9123d",
   "metadata": {},
   "source": [
    "### 2.2 <code>isdigit()</code> function"
   ]
  },
  {
   "cell_type": "markdown",
   "id": "578977cf",
   "metadata": {},
   "source": [
    "The <code>isdigit()</code>method returns *True* if all the characters are digits.\n"
   ]
  },
  {
   "cell_type": "markdown",
   "id": "46f0c93d",
   "metadata": {},
   "source": [
    "**Example 1. Not all characters are digits**"
   ]
  },
  {
   "cell_type": "code",
   "execution_count": 60,
   "id": "8a73b3c3",
   "metadata": {},
   "outputs": [
    {
     "data": {
      "text/plain": [
       "False"
      ]
     },
     "execution_count": 60,
     "metadata": {},
     "output_type": "execute_result"
    }
   ],
   "source": [
    "digit_or_not = \"JUCV981201BV7\"\n",
    "digit_or_not.isdigit()"
   ]
  },
  {
   "cell_type": "markdown",
   "id": "99cc4a1f",
   "metadata": {},
   "source": [
    "### 2.3 <code>isalpha()</code> function"
   ]
  },
  {
   "cell_type": "markdown",
   "id": "d2d6eb2d",
   "metadata": {},
   "source": [
    "The <code>isalpha()</code>method returns *True* if all the characters are alphabet letters(a-z).\n"
   ]
  },
  {
   "cell_type": "markdown",
   "id": "2e8ac309",
   "metadata": {},
   "source": [
    "**Example 1. All digits in a name are alphabet**"
   ]
  },
  {
   "cell_type": "code",
   "execution_count": 61,
   "id": "04df8aa5",
   "metadata": {},
   "outputs": [
    {
     "data": {
      "text/plain": [
       "True"
      ]
     },
     "execution_count": 61,
     "metadata": {},
     "output_type": "execute_result"
    }
   ],
   "source": [
    "name = \"Robert\"\n",
    "name.isalpha()"
   ]
  },
  {
   "cell_type": "markdown",
   "id": "59812a69",
   "metadata": {},
   "source": [
    "### 2.4 <code>islower()</code>  and  <code>isupper()</code>functions"
   ]
  },
  {
   "cell_type": "markdown",
   "id": "34951b0d",
   "metadata": {},
   "source": [
    "The <code>islower()</code> method returns *True* if all the characters are in lower case, otherwise *False*.\n",
    "\n",
    "Numbers, symbols and spaces are not checked, only alphabet characters.\n",
    "\n",
    "Similarly, the <code>isupper()</code> method returns *True* if all the characters are in upper case, otherwise *False*.\n"
   ]
  },
  {
   "cell_type": "markdown",
   "id": "1d2d9cf2",
   "metadata": {},
   "source": [
    "**Example 1. A last name**"
   ]
  },
  {
   "cell_type": "code",
   "execution_count": 62,
   "id": "92bb791c",
   "metadata": {},
   "outputs": [
    {
     "data": {
      "text/plain": [
       "False"
      ]
     },
     "execution_count": 62,
     "metadata": {},
     "output_type": "execute_result"
    }
   ],
   "source": [
    "last_name = \"Robins\"\n",
    "last_name.islower()"
   ]
  },
  {
   "cell_type": "markdown",
   "id": "5a813def",
   "metadata": {},
   "source": [
    "**Example 2. An unique ID**"
   ]
  },
  {
   "cell_type": "code",
   "execution_count": 63,
   "id": "a5cd2dff",
   "metadata": {},
   "outputs": [
    {
     "data": {
      "text/plain": [
       "True"
      ]
     },
     "execution_count": 63,
     "metadata": {},
     "output_type": "execute_result"
    }
   ],
   "source": [
    "unique_id = \"RFCJ\"\n",
    "unique_id.isupper()"
   ]
  },
  {
   "cell_type": "markdown",
   "id": "b73346d4",
   "metadata": {},
   "source": [
    "### 2.5 <code>lower()</code>  and  <code>upper()</code>functions"
   ]
  },
  {
   "cell_type": "markdown",
   "id": "8666f743",
   "metadata": {},
   "source": [
    "The <code>lower()</code> method returns a string where all characters are lower case.\n",
    "\n",
    "Also, the <code>upper()</code> ethod returns a string where all characters are upper case.\n",
    "\n",
    "Symbols and Numbers are ignored."
   ]
  },
  {
   "cell_type": "markdown",
   "id": "ec7de978",
   "metadata": {},
   "source": [
    "**Example 1. Converting to lower case**"
   ]
  },
  {
   "cell_type": "code",
   "execution_count": 64,
   "id": "3b8b4baa",
   "metadata": {},
   "outputs": [
    {
     "data": {
      "text/plain": [
       "'hello all'"
      ]
     },
     "execution_count": 64,
     "metadata": {},
     "output_type": "execute_result"
    }
   ],
   "source": [
    "txt = \"Hello ALL\"\n",
    "txt.lower()"
   ]
  },
  {
   "cell_type": "markdown",
   "id": "8fb5f308",
   "metadata": {},
   "source": [
    "**Example 2. Converting to upper case**"
   ]
  },
  {
   "cell_type": "code",
   "execution_count": 65,
   "id": "603e9f44",
   "metadata": {},
   "outputs": [
    {
     "data": {
      "text/plain": [
       "'JAVASCRIPT'"
      ]
     },
     "execution_count": 65,
     "metadata": {},
     "output_type": "execute_result"
    }
   ],
   "source": [
    "programming_lang = \"JavaScript\"\n",
    "programming_lang.upper()"
   ]
  },
  {
   "cell_type": "markdown",
   "id": "33c11dce",
   "metadata": {},
   "source": [
    "### 2.6 <code>find()</code> function"
   ]
  },
  {
   "cell_type": "markdown",
   "id": "aed61462",
   "metadata": {},
   "source": [
    "The <code>find()</code>  method finds the first occurrence of the specified value.\n",
    "\n",
    "The <code>find()</code>  method returns -1 if the value is not found."
   ]
  },
  {
   "cell_type": "markdown",
   "id": "7255a50f",
   "metadata": {},
   "source": [
    "**Example 1. Searching in a long text**"
   ]
  },
  {
   "cell_type": "code",
   "execution_count": 74,
   "id": "1b64d7ed",
   "metadata": {},
   "outputs": [
    {
     "data": {
      "text/plain": [
       "'Sometimes we have a really long string that does not fit in only one line. So in that case we can use the parentheses to surround the text and single or double quote in each line of the string'"
      ]
     },
     "execution_count": 74,
     "metadata": {},
     "output_type": "execute_result"
    }
   ],
   "source": [
    "text"
   ]
  },
  {
   "cell_type": "code",
   "execution_count": 75,
   "id": "60f886a0",
   "metadata": {},
   "outputs": [
    {
     "data": {
      "text/plain": [
       "160"
      ]
     },
     "execution_count": 75,
     "metadata": {},
     "output_type": "execute_result"
    }
   ],
   "source": [
    "text.find(\"quote\")"
   ]
  },
  {
   "cell_type": "markdown",
   "id": "0a5be069",
   "metadata": {},
   "source": [
    "**Example 2. Element not found**"
   ]
  },
  {
   "cell_type": "code",
   "execution_count": 76,
   "id": "deb9ce94",
   "metadata": {},
   "outputs": [
    {
     "data": {
      "text/plain": [
       "-1"
      ]
     },
     "execution_count": 76,
     "metadata": {},
     "output_type": "execute_result"
    }
   ],
   "source": [
    "text.find(\"queue\")"
   ]
  },
  {
   "cell_type": "markdown",
   "id": "b7a7649f",
   "metadata": {},
   "source": [
    "**Example 3. Searching in a substring**"
   ]
  },
  {
   "cell_type": "code",
   "execution_count": 73,
   "id": "bcd01790",
   "metadata": {},
   "outputs": [
    {
     "data": {
      "text/plain": [
       "-1"
      ]
     },
     "execution_count": 73,
     "metadata": {},
     "output_type": "execute_result"
    }
   ],
   "source": [
    "text.find(\"in\", 0, 10)"
   ]
  },
  {
   "cell_type": "markdown",
   "id": "8ab338ad",
   "metadata": {},
   "source": [
    "### 2.7 <code>replace()</code> function"
   ]
  },
  {
   "cell_type": "markdown",
   "id": "61e8f1b5",
   "metadata": {},
   "source": [
    "The <code>replace()</code>  method replaces a specified phrase with another specified phrase."
   ]
  },
  {
   "cell_type": "markdown",
   "id": "3f470967",
   "metadata": {},
   "source": [
    "**Example 1. Change of mind**"
   ]
  },
  {
   "cell_type": "code",
   "execution_count": 81,
   "id": "f3a0106b",
   "metadata": {},
   "outputs": [
    {
     "data": {
      "text/plain": [
       "'I love pizza'"
      ]
     },
     "execution_count": 81,
     "metadata": {},
     "output_type": "execute_result"
    }
   ],
   "source": [
    "str2 = \"I love sushi\"\n",
    "str2 = str2.replace(\"sushi\", \"pizza\")\n",
    "str2"
   ]
  },
  {
   "cell_type": "markdown",
   "id": "b1fc770f",
   "metadata": {},
   "source": [
    "### 2.8 <code>split()</code> function"
   ]
  },
  {
   "cell_type": "markdown",
   "id": "1020c841",
   "metadata": {},
   "source": [
    "The <code>split()</code> method splits a string into a list.\n",
    "\n",
    "You can specify the separator, default separator is any whitespace."
   ]
  },
  {
   "cell_type": "markdown",
   "id": "8b91d453",
   "metadata": {},
   "source": [
    "**Example 1. Converting my long text into a list**"
   ]
  },
  {
   "cell_type": "code",
   "execution_count": 83,
   "id": "9473c766",
   "metadata": {},
   "outputs": [
    {
     "data": {
      "text/plain": [
       "'Sometimes we have a really long string that does not fit in only one line. So in that case we can use the parentheses to surround the text and single or double quote in each line of the string'"
      ]
     },
     "execution_count": 83,
     "metadata": {},
     "output_type": "execute_result"
    }
   ],
   "source": [
    "text"
   ]
  },
  {
   "cell_type": "code",
   "execution_count": 84,
   "id": "a0a54e77",
   "metadata": {},
   "outputs": [
    {
     "data": {
      "text/plain": [
       "['Sometimes',\n",
       " 'we',\n",
       " 'have',\n",
       " 'a',\n",
       " 'really',\n",
       " 'long',\n",
       " 'string',\n",
       " 'that',\n",
       " 'does',\n",
       " 'not',\n",
       " 'fit',\n",
       " 'in',\n",
       " 'only',\n",
       " 'one',\n",
       " 'line.',\n",
       " 'So',\n",
       " 'in',\n",
       " 'that',\n",
       " 'case',\n",
       " 'we',\n",
       " 'can',\n",
       " 'use',\n",
       " 'the',\n",
       " 'parentheses',\n",
       " 'to',\n",
       " 'surround',\n",
       " 'the',\n",
       " 'text',\n",
       " 'and',\n",
       " 'single',\n",
       " 'or',\n",
       " 'double',\n",
       " 'quote',\n",
       " 'in',\n",
       " 'each',\n",
       " 'line',\n",
       " 'of',\n",
       " 'the',\n",
       " 'string']"
      ]
     },
     "execution_count": 84,
     "metadata": {},
     "output_type": "execute_result"
    }
   ],
   "source": [
    "text.split(' ')"
   ]
  },
  {
   "cell_type": "markdown",
   "id": "31911f13",
   "metadata": {},
   "source": [
    "**Example 2. Spliting an e-mail**"
   ]
  },
  {
   "cell_type": "code",
   "execution_count": 86,
   "id": "fee22491",
   "metadata": {},
   "outputs": [
    {
     "data": {
      "text/plain": [
       "['juan.ramirezca', 'gmail.com']"
      ]
     },
     "execution_count": 86,
     "metadata": {},
     "output_type": "execute_result"
    }
   ],
   "source": [
    "mail = \"juan.ramirezca@gmail.com\"\n",
    "mail.split(\"@\")"
   ]
  },
  {
   "cell_type": "markdown",
   "id": "a7011b90",
   "metadata": {},
   "source": [
    "<table>\n",
    "    <tr>\n",
    "        <th><center> </center></th>\n",
    "        <th style=background-color:#3396ff;><center> When to use it? </center></th>\n",
    "        <th style=background-color:#3396ff;><center> Example </center></th>\n",
    "    </tr>\n",
    "    <tr>\n",
    "        <td style= \"background-color:#33c7ff;\"> <p style=\"text-align:left;background-color:#33c7ff;\"> Indices </p></td>\n",
    "        <td> <p style=\"text-align:left;\">When we want to access a specific character of a string</p> </td>\n",
    "        <td> <p style=\"text-align:left;\"> word[4]</p> </td>\n",
    "    </tr>\n",
    "        <tr>\n",
    "        <td style= \"background-color:#33c7ff;\"> <p style=\"text-align:left;\"> Slices </p></td>\n",
    "        <td> <p style=\"text-align:left;\"> When we want a sub-string</p> </td>\n",
    "        <td> <p style=\"text-align:left;\"> word[2:6]</p> </td>\n",
    "    </tr>\n",
    "        <tr>\n",
    "        <td style= \"background-color:#33c7ff;\"> <p style=\"text-align:left;\"> Len( ) function</p></td>\n",
    "        <td> <p style=\"text-align:left;\">To know the length of a string</p> </td>\n",
    "        <td> <p style=\"text-align:left;\">len(word)</p> </td>\n",
    "    </tr>\n",
    "</table>"
   ]
  },
  {
   "cell_type": "markdown",
   "id": "19308634",
   "metadata": {},
   "source": [
    "## 3. Exercises"
   ]
  },
  {
   "cell_type": "markdown",
   "id": "b7836d5c",
   "metadata": {},
   "source": [
    "**1. Given any string by the user, determine if the word is a palindrome or not.**\n",
    "\n",
    "*Note: A palindrome is a word that is read the same forward than backwards. For instance, Ana.*"
   ]
  },
  {
   "cell_type": "code",
   "execution_count": 89,
   "id": "b81b72ad",
   "metadata": {},
   "outputs": [],
   "source": [
    "tup = (1,2,3)"
   ]
  },
  {
   "cell_type": "code",
   "execution_count": 90,
   "id": "f197e298",
   "metadata": {},
   "outputs": [
    {
     "data": {
      "text/plain": [
       "1"
      ]
     },
     "execution_count": 90,
     "metadata": {},
     "output_type": "execute_result"
    }
   ],
   "source": [
    "tup.count(1)"
   ]
  },
  {
   "cell_type": "code",
   "execution_count": 91,
   "id": "03ccc91e",
   "metadata": {},
   "outputs": [
    {
     "data": {
      "text/plain": [
       "2"
      ]
     },
     "execution_count": 91,
     "metadata": {},
     "output_type": "execute_result"
    }
   ],
   "source": [
    "tup.index(3)"
   ]
  },
  {
   "cell_type": "code",
   "execution_count": 92,
   "id": "df1cd3e8",
   "metadata": {},
   "outputs": [
    {
     "ename": "AttributeError",
     "evalue": "'tuple' object has no attribute 'replace'",
     "output_type": "error",
     "traceback": [
      "\u001b[0;31m---------------------------------------------------------------------------\u001b[0m",
      "\u001b[0;31mAttributeError\u001b[0m                            Traceback (most recent call last)",
      "\u001b[0;32m<ipython-input-92-f1cf01f96504>\u001b[0m in \u001b[0;36m<module>\u001b[0;34m\u001b[0m\n\u001b[0;32m----> 1\u001b[0;31m \u001b[0mtup\u001b[0m\u001b[0;34m.\u001b[0m\u001b[0mreplace\u001b[0m\u001b[0;34m(\u001b[0m\u001b[0;34m)\u001b[0m\u001b[0;34m\u001b[0m\u001b[0;34m\u001b[0m\u001b[0m\n\u001b[0m",
      "\u001b[0;31mAttributeError\u001b[0m: 'tuple' object has no attribute 'replace'"
     ]
    }
   ],
   "source": [
    "tup.replace()"
   ]
  },
  {
   "cell_type": "code",
   "execution_count": null,
   "id": "9ddecda1",
   "metadata": {},
   "outputs": [],
   "source": []
  }
 ],
 "metadata": {
  "kernelspec": {
   "display_name": "Python 3",
   "language": "python",
   "name": "python3"
  },
  "language_info": {
   "codemirror_mode": {
    "name": "ipython",
    "version": 3
   },
   "file_extension": ".py",
   "mimetype": "text/x-python",
   "name": "python",
   "nbconvert_exporter": "python",
   "pygments_lexer": "ipython3",
   "version": "3.8.8"
  }
 },
 "nbformat": 4,
 "nbformat_minor": 5
}
