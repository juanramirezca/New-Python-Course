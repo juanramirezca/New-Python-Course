{
 "cells": [
  {
   "cell_type": "markdown",
   "id": "0937c413",
   "metadata": {},
   "source": [
    "# <center>Introduction to Programming with Python</center>"
   ]
  },
  {
   "cell_type": "markdown",
   "id": "ea766f8a",
   "metadata": {},
   "source": [
    "In this file, we will see the following *topics*:\n",
    "1. Objective of the course\n",
    "2. What is python?\n",
    "3. Why use python?\n",
    "4. What is to code?\n",
    "5. What is a program?"
   ]
  },
  {
   "cell_type": "markdown",
   "id": "bcd2f05c",
   "metadata": {},
   "source": [
    "## 1. Objective of the course\n",
    "* You will learn the fundamentals of programming and how to use Python to solve problems and create software.\n",
    "* You will learn the basics of programming, including concepts like data types, variables, conditionals, loops, functions and more.\n",
    "* You will also learn how to use these concepts to solve real-world problems and create useful programs."
   ]
  },
  {
   "cell_type": "markdown",
   "id": "d6bcef65",
   "metadata": {},
   "source": [
    "## 2. What is Python?\n",
    "* Python is a popular high-level programming language that is used for a wide range of tasks. It's known for its simplicity, ease of use, and versatility, which makes it a great language for beginners to learn."
   ]
  },
  {
   "cell_type": "markdown",
   "id": "484c0857",
   "metadata": {},
   "source": [
    "## 3. Why use Python?\n",
    "* It's an example of a **high-level programming languages** (another examples would be C++, Java, Ruby, etc.), and once you have learned this language well, you can easily learn another new language.\n",
    "* Most programs in Python require considerably fewer lines of code to perform the same task compared to other languages.\n",
    "* Python can be used for a **large variety of tasks**, such as: \n",
    "    * desktop application,\n",
    "    * web application,\n",
    "    * mobile application,\n",
    "    * databases applications,\n",
    "    * game programming, etc."
   ]
  },
  {
   "cell_type": "markdown",
   "id": "c94069c3",
   "metadata": {},
   "source": [
    "<img src=\"images/major-companies-that-use-python.png\" \n",
    "     width=\"400\" \n",
    "     height=\"400\" />"
   ]
  },
  {
   "cell_type": "markdown",
   "id": "48c1ed16",
   "metadata": {},
   "source": [
    "## 4. What is to code?\n",
    "* Code is giving a set of *instructions* that tell a computer what to do.\n",
    "* An *intuitive way*...\n",
    "    * Code could be like following a cooking recipe.\n",
    "\n"
   ]
  },
  {
   "cell_type": "markdown",
   "id": "471caa99",
   "metadata": {},
   "source": [
    "<img src=\"images/recipe.png\" \n",
    "     width=\"400\" \n",
    "     height=\"400\" />"
   ]
  },
  {
   "cell_type": "markdown",
   "id": "07134586",
   "metadata": {},
   "source": [
    "## 5. What is a program?\n",
    "Programming is the process of writing code to create software that performs **specific tasks** or **solves specific problems**.\n"
   ]
  }
 ],
 "metadata": {
  "kernelspec": {
   "display_name": "Python 3",
   "language": "python",
   "name": "python3"
  },
  "language_info": {
   "codemirror_mode": {
    "name": "ipython",
    "version": 3
   },
   "file_extension": ".py",
   "mimetype": "text/x-python",
   "name": "python",
   "nbconvert_exporter": "python",
   "pygments_lexer": "ipython3",
   "version": "3.8.8"
  }
 },
 "nbformat": 4,
 "nbformat_minor": 5
}
