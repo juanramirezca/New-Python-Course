{
 "cells": [
  {
   "cell_type": "code",
   "execution_count": null,
   "metadata": {},
   "outputs": [],
   "source": []
  },
  {
   "cell_type": "markdown",
   "metadata": {},
   "source": [
    "## 1. Why use functions?"
   ]
  },
  {
   "cell_type": "markdown",
   "metadata": {},
   "source": [
    "There are several reasons of why using functions:\n",
    "1. Creating a function gives you the opportunity to name a **group of statements**, which makes your program easier to read and debug.\n",
    "2. Functions make a program smaller by **eliminating repetitive code.**\n",
    "3. Once you write and debug one, you can **reuse it.**"
   ]
  },
  {
   "cell_type": "code",
   "execution_count": 4,
   "metadata": {},
   "outputs": [
    {
     "name": "stdout",
     "output_type": "stream",
     "text": [
      "120\n",
      "5040\n"
     ]
    }
   ],
   "source": [
    "numero = 5\n",
    "factorial = 1\n",
    "for i in range(1, numero + 1):\n",
    "  factorial *= i\n",
    "print(factorial)\n",
    "\n",
    "## Más codigo.\n",
    "\n",
    "numero = 7\n",
    "factorial = 1\n",
    "for i in range(1, numero + 1):\n",
    "  factorial *= i\n",
    "print(factorial)\n",
    "\n",
    "\n"
   ]
  },
  {
   "cell_type": "code",
   "execution_count": 19,
   "metadata": {},
   "outputs": [],
   "source": [
    "def calcular_factorial(num):\n",
    "  factorial = 1\n",
    "  for i in range(1, num + 1):\n",
    "    factorial *= i\n",
    "  print(factorial)"
   ]
  },
  {
   "cell_type": "code",
   "execution_count": 16,
   "metadata": {},
   "outputs": [
    {
     "name": "stdout",
     "output_type": "stream",
     "text": [
      "120\n"
     ]
    }
   ],
   "source": [
    "calcular_factorial(5)"
   ]
  },
  {
   "cell_type": "code",
   "execution_count": 17,
   "metadata": {},
   "outputs": [
    {
     "name": "stdout",
     "output_type": "stream",
     "text": [
      "5040\n"
     ]
    }
   ],
   "source": [
    "calcular_factorial(7)"
   ]
  },
  {
   "cell_type": "code",
   "execution_count": 18,
   "metadata": {},
   "outputs": [
    {
     "name": "stdout",
     "output_type": "stream",
     "text": [
      "3628800\n"
     ]
    }
   ],
   "source": [
    "calcular_factorial(10)"
   ]
  },
  {
   "cell_type": "code",
   "execution_count": null,
   "metadata": {},
   "outputs": [],
   "source": []
  },
  {
   "cell_type": "markdown",
   "metadata": {},
   "source": [
    "## 2. Functions"
   ]
  },
  {
   "cell_type": "markdown",
   "metadata": {},
   "source": [
    "* A **function** is a reusable block of programming statements designed to perform a certain task.\n",
    "* When defining a function, we specify the name and the sequence of statements. Later, we can *call* the function by its name."
   ]
  },
  {
   "cell_type": "code",
   "execution_count": null,
   "metadata": {},
   "outputs": [],
   "source": []
  },
  {
   "cell_type": "code",
   "execution_count": null,
   "metadata": {},
   "outputs": [],
   "source": []
  },
  {
   "cell_type": "code",
   "execution_count": null,
   "metadata": {},
   "outputs": [],
   "source": []
  },
  {
   "cell_type": "code",
   "execution_count": null,
   "metadata": {},
   "outputs": [],
   "source": []
  },
  {
   "cell_type": "code",
   "execution_count": null,
   "metadata": {},
   "outputs": [],
   "source": []
  },
  {
   "cell_type": "code",
   "execution_count": null,
   "metadata": {},
   "outputs": [],
   "source": []
  },
  {
   "cell_type": "code",
   "execution_count": null,
   "metadata": {},
   "outputs": [],
   "source": []
  },
  {
   "cell_type": "code",
   "execution_count": null,
   "metadata": {},
   "outputs": [],
   "source": []
  },
  {
   "cell_type": "code",
   "execution_count": null,
   "metadata": {},
   "outputs": [],
   "source": []
  },
  {
   "cell_type": "markdown",
   "metadata": {},
   "source": [
    "### 2.1 Name, argument(s) and return value."
   ]
  },
  {
   "cell_type": "markdown",
   "metadata": {},
   "source": [
    "There are three important features within a function:\n",
    "1. **Name.** The name how we can identify the function.\n",
    "2. **Argument(s).** The expression in parentheses is called the argument(s), and can also be called parameter(s).\n",
    "3. **Return value.** The result of executing the function."
   ]
  },
  {
   "cell_type": "code",
   "execution_count": 20,
   "metadata": {},
   "outputs": [
    {
     "name": "stdout",
     "output_type": "stream",
     "text": [
      "Hola, Valentina!\n"
     ]
    }
   ],
   "source": [
    "# print(), int(), input(), float(), str(), append(), randint(), range()\n",
    "\n",
    "print(\"Hola, Valentina!\")"
   ]
  },
  {
   "cell_type": "code",
   "execution_count": 21,
   "metadata": {},
   "outputs": [
    {
     "data": {
      "text/plain": [
       "range(1, 10, 2)"
      ]
     },
     "execution_count": 21,
     "metadata": {},
     "output_type": "execute_result"
    }
   ],
   "source": [
    "range(1, 10, 2)"
   ]
  },
  {
   "cell_type": "markdown",
   "metadata": {},
   "source": [
    "## 3. Math functions"
   ]
  },
  {
   "cell_type": "markdown",
   "metadata": {},
   "source": [
    "* Python has a math module that provides most of the familiar mathematical functions. \n",
    "* A **module** is a file that contains a collection of related functions."
   ]
  },
  {
   "cell_type": "code",
   "execution_count": 22,
   "metadata": {},
   "outputs": [],
   "source": [
    "import random as r"
   ]
  },
  {
   "cell_type": "code",
   "execution_count": 23,
   "metadata": {},
   "outputs": [
    {
     "data": {
      "text/plain": [
       "59"
      ]
     },
     "execution_count": 23,
     "metadata": {},
     "output_type": "execute_result"
    }
   ],
   "source": [
    "r.randint(1, 100)"
   ]
  },
  {
   "cell_type": "code",
   "execution_count": 10,
   "metadata": {},
   "outputs": [],
   "source": [
    "import math as m"
   ]
  },
  {
   "cell_type": "code",
   "execution_count": 17,
   "metadata": {},
   "outputs": [
    {
     "ename": "TypeError",
     "evalue": "pow expected 2 arguments, got 3",
     "output_type": "error",
     "traceback": [
      "\u001b[1;31m---------------------------------------------------------------------------\u001b[0m",
      "\u001b[1;31mTypeError\u001b[0m                                 Traceback (most recent call last)",
      "Cell \u001b[1;32mIn[17], line 1\u001b[0m\n\u001b[1;32m----> 1\u001b[0m \u001b[43mm\u001b[49m\u001b[38;5;241;43m.\u001b[39;49m\u001b[43mpow\u001b[49m\u001b[43m(\u001b[49m\u001b[38;5;241;43m2\u001b[39;49m\u001b[43m,\u001b[49m\u001b[43m \u001b[49m\u001b[38;5;241;43m3\u001b[39;49m\u001b[43m,\u001b[49m\u001b[43m \u001b[49m\u001b[38;5;241;43m100\u001b[39;49m\u001b[43m)\u001b[49m\n",
      "\u001b[1;31mTypeError\u001b[0m: pow expected 2 arguments, got 3"
     ]
    }
   ],
   "source": [
    "m.pow(2, 3)"
   ]
  },
  {
   "cell_type": "code",
   "execution_count": 12,
   "metadata": {},
   "outputs": [
    {
     "data": {
      "text/plain": [
       "8.660254037844387"
      ]
     },
     "execution_count": 12,
     "metadata": {},
     "output_type": "execute_result"
    }
   ],
   "source": [
    "m.sqrt(75)"
   ]
  },
  {
   "cell_type": "code",
   "execution_count": 14,
   "metadata": {},
   "outputs": [
    {
     "data": {
      "text/plain": [
       "3.141592653589793"
      ]
     },
     "execution_count": 14,
     "metadata": {},
     "output_type": "execute_result"
    }
   ],
   "source": [
    "m.pi"
   ]
  },
  {
   "cell_type": "code",
   "execution_count": null,
   "metadata": {},
   "outputs": [],
   "source": []
  },
  {
   "cell_type": "code",
   "execution_count": null,
   "metadata": {},
   "outputs": [],
   "source": []
  },
  {
   "cell_type": "markdown",
   "metadata": {},
   "source": [
    "## 4. Creating our own functions"
   ]
  },
  {
   "cell_type": "markdown",
   "metadata": {},
   "source": [
    "* It is possible to add new functions.\n",
    "* A **function definition** specifies the name of a new function and the sequence of statements that execute when the function is called."
   ]
  },
  {
   "cell_type": "markdown",
   "metadata": {},
   "source": [
    "### 4.1 The syntax of a function"
   ]
  },
  {
   "cell_type": "markdown",
   "metadata": {},
   "source": [
    "```python\n",
    "def function_name(argument1, argument2, ...):\n",
    "    statement(s)\n",
    "```"
   ]
  },
  {
   "cell_type": "code",
   "execution_count": 1,
   "metadata": {},
   "outputs": [
    {
     "name": "stdout",
     "output_type": "stream",
     "text": [
      "El resultado de la suma de la lista es 44\n"
     ]
    }
   ],
   "source": [
    "# Version 1.\n",
    "def sumar_lista_numeros(numeros):\n",
    "  return sum(numeros)\n",
    "\n",
    "numeros = [9, 10, 8, 7, 10]\n",
    "resultado = sumar_lista_numeros(numeros)\n",
    "print(\"El resultado de la suma de la lista es\", resultado)"
   ]
  },
  {
   "cell_type": "code",
   "execution_count": 8,
   "metadata": {},
   "outputs": [
    {
     "name": "stdout",
     "output_type": "stream",
     "text": [
      "El valor de numeros en la posicion i es 9\n",
      "El valor de numeros en la posicion i es 10\n",
      "El valor de numeros en la posicion i es 8\n",
      "El valor de numeros en la posicion i es 7\n",
      "El valor de numeros en la posicion i es 10\n",
      "El valor de numeros en la posicion i es 8\n",
      "El valor de numeros en la posicion i es 8\n",
      "El valor de numeros en la posicion i es 8\n",
      "El resultado de la suma de la lista es 68\n"
     ]
    }
   ],
   "source": [
    "# Version 2. For i in range (posiciones)\n",
    "def sumar_lista_numeros(numeros):\n",
    "  numeros =  [9, 10, 8, 7, 10, 8, 8, 8]\n",
    "  suma = 0\n",
    "  num = len(numeros)\n",
    "  for i in range(0, num):\n",
    "    print(\"El valor de numeros en la posicion i es\", numeros[i])\n",
    "    suma += numeros[i]\n",
    "  return suma\n",
    "\n",
    "# numeros= [0, 1, 2, 3, 4]\n",
    "numeros = [9, 10, 8, 7, 10, 8, 8, 8]\n",
    "resultado = sumar_lista_numeros(numeros)\n",
    "print(\"El resultado de la suma de la lista es\", resultado)"
   ]
  },
  {
   "cell_type": "code",
   "execution_count": 9,
   "metadata": {},
   "outputs": [
    {
     "name": "stdout",
     "output_type": "stream",
     "text": [
      "El valor de num es 9\n",
      "El valor de num es 10\n",
      "El valor de num es 8\n",
      "El valor de num es 7\n",
      "El valor de num es 10\n",
      "El valor de num es 8\n",
      "El valor de num es 1\n",
      "El valor de num es 4\n",
      "El resultado de la suma de la lista es 57\n"
     ]
    }
   ],
   "source": [
    "# Version 3. For-each (elementos)\n",
    "def sumar_lista_numeros(numeros):\n",
    "  suma = 0\n",
    "  for num in numeros:\n",
    "    print(\"El valor de num es\", num)\n",
    "    suma += num\n",
    "  return suma\n",
    "\n",
    "# numeros= [0, 1, 2, 3, 4]\n",
    "numeros = [9, 10, 8, 7, 10, 8, 1, 4]\n",
    "resultado = sumar_lista_numeros(numeros)\n",
    "print(\"El resultado de la suma de la lista es\", resultado)"
   ]
  },
  {
   "cell_type": "code",
   "execution_count": null,
   "metadata": {},
   "outputs": [],
   "source": []
  },
  {
   "cell_type": "markdown",
   "metadata": {},
   "source": [
    "### 4.2 Unknown number of arguments"
   ]
  },
  {
   "cell_type": "markdown",
   "metadata": {},
   "source": [
    "A function in Python can have an unknown number of arguments by using an <code>*</code> before the parameter if we don't know the number of arguments that the user is going to pass."
   ]
  },
  {
   "cell_type": "code",
   "execution_count": 26,
   "metadata": {},
   "outputs": [
    {
     "name": "stdout",
     "output_type": "stream",
     "text": [
      "54\n"
     ]
    }
   ],
   "source": [
    "def suma(*nums):\n",
    "  suma = 0\n",
    "  for num in nums:\n",
    "    suma += num\n",
    "  print(suma)\n",
    "\n",
    "suma(8, 10, 15, 21)  "
   ]
  },
  {
   "cell_type": "code",
   "execution_count": 32,
   "metadata": {},
   "outputs": [
    {
     "name": "stdout",
     "output_type": "stream",
     "text": [
      "Hello, Valentina\n",
      "Hello, Pedro\n",
      "Hello, David\n",
      "Hello, Lucia\n",
      "Hello, Fernanda\n"
     ]
    }
   ],
   "source": [
    "def hello(*names):\n",
    "  for name in names:\n",
    "    print(\"Hello,\", name)\n",
    "  \n",
    "hello(\"Valentina\", \"Pedro\", \"David\", \"Lucia\", \"Fernanda\")"
   ]
  },
  {
   "cell_type": "markdown",
   "metadata": {},
   "source": [
    "### 4.3 Parameter with default value"
   ]
  },
  {
   "cell_type": "markdown",
   "metadata": {},
   "source": [
    "While defining a function, its parameters may be assigned with **default values**. \n",
    "* This default value gets substituted if an appropriate actual parameter is passed when the function is called. \n",
    "* If there is no argument passed, then the default value is used inside the function."
   ]
  },
  {
   "cell_type": "code",
   "execution_count": 38,
   "metadata": {},
   "outputs": [
    {
     "name": "stdout",
     "output_type": "stream",
     "text": [
      "43\n"
     ]
    }
   ],
   "source": [
    "def suma(a, b = 10):\n",
    "  print(a + b)\n",
    "\n",
    "suma(33)\n",
    "#suma (7, 5)"
   ]
  },
  {
   "cell_type": "code",
   "execution_count": 43,
   "metadata": {},
   "outputs": [
    {
     "name": "stdout",
     "output_type": "stream",
     "text": [
      "La propina es:  147.0\n"
     ]
    }
   ],
   "source": [
    "def calcular_propina(cantidad, porcentaje=10):\n",
    "  propina = cantidad * porcentaje / 100\n",
    "  print(\"La propina es: \", propina)\n",
    "\n",
    "calcular_propina(980, 15)"
   ]
  },
  {
   "cell_type": "code",
   "execution_count": null,
   "metadata": {},
   "outputs": [],
   "source": []
  },
  {
   "cell_type": "code",
   "execution_count": null,
   "metadata": {},
   "outputs": [],
   "source": []
  },
  {
   "cell_type": "markdown",
   "metadata": {},
   "source": [
    "### 4.4 Functions with return value"
   ]
  },
  {
   "cell_type": "markdown",
   "metadata": {},
   "source": [
    "Most of the time we need the result of the function to be used in further processes. Hence, the function should return a value."
   ]
  },
  {
   "cell_type": "code",
   "execution_count": null,
   "metadata": {},
   "outputs": [],
   "source": []
  },
  {
   "cell_type": "markdown",
   "metadata": {},
   "source": [
    "### 5. Exercises"
   ]
  },
  {
   "cell_type": "markdown",
   "metadata": {},
   "source": [
    "**Exercise 1. Write a function max_of_three(a, b, c) that returns the maximum of three numbers.**"
   ]
  },
  {
   "cell_type": "code",
   "execution_count": 1,
   "metadata": {},
   "outputs": [],
   "source": [
    "def max_of_three(a, b, c):\n",
    "  # variables locales\n",
    "  if a >= b and a >= c:\n",
    "    print(a)\n",
    "  elif b >= a and b >= c:\n",
    "    print(b)\n",
    "  else:\n",
    "    print(c)"
   ]
  },
  {
   "cell_type": "code",
   "execution_count": 7,
   "metadata": {},
   "outputs": [
    {
     "name": "stdout",
     "output_type": "stream",
     "text": [
      "800\n",
      "800\n"
     ]
    }
   ],
   "source": [
    "# Variables globales\n",
    "a = 800\n",
    "b = 170\n",
    "c = 150\n",
    "max_of_three(a, b, c) # 8, 17, 150\n",
    "\n",
    "print(a)\n",
    "\n",
    "\n"
   ]
  },
  {
   "cell_type": "code",
   "execution_count": 19,
   "metadata": {},
   "outputs": [
    {
     "data": {
      "text/plain": [
       "20000"
      ]
     },
     "execution_count": 19,
     "metadata": {},
     "output_type": "execute_result"
    }
   ],
   "source": [
    "# Opcion 2\n",
    "def max_of_three2(a, b, c):\n",
    "  return max(a, b, c)\n",
    "\n",
    "max_of_three2(20000, 1000, 40)"
   ]
  },
  {
   "cell_type": "markdown",
   "metadata": {},
   "source": [
    "**Exercise 2. Write a function sum_list(lst) that returns the sum of all elements in a list.**"
   ]
  },
  {
   "cell_type": "code",
   "execution_count": null,
   "metadata": {},
   "outputs": [],
   "source": []
  },
  {
   "cell_type": "code",
   "execution_count": 22,
   "metadata": {},
   "outputs": [
    {
     "name": "stdout",
     "output_type": "stream",
     "text": [
      "0\n"
     ]
    }
   ],
   "source": [
    "#opcion1\n",
    "def sum_list1(lista):\n",
    "  suma = 0\n",
    "  for i in lista:\n",
    "    suma = suma + i\n",
    "  return suma\n",
    "    \n",
    "lista = []\n",
    "print(sum_list1(lista))"
   ]
  },
  {
   "cell_type": "code",
   "execution_count": 15,
   "metadata": {},
   "outputs": [
    {
     "name": "stdout",
     "output_type": "stream",
     "text": [
      "33\n"
     ]
    }
   ],
   "source": [
    "# Opcion 2\n",
    "def sum_list2(lista):\n",
    "  return sum(lista)\n",
    "\n",
    "print(sum_list2(lista))"
   ]
  },
  {
   "cell_type": "code",
   "execution_count": null,
   "metadata": {},
   "outputs": [],
   "source": []
  },
  {
   "cell_type": "code",
   "execution_count": null,
   "metadata": {},
   "outputs": [],
   "source": []
  },
  {
   "cell_type": "code",
   "execution_count": null,
   "metadata": {},
   "outputs": [],
   "source": []
  },
  {
   "cell_type": "markdown",
   "metadata": {},
   "source": [
    "**Exercise 3. Write a function average_list(lst) that returns the average of all elements in a list.**"
   ]
  },
  {
   "cell_type": "code",
   "execution_count": 24,
   "metadata": {},
   "outputs": [
    {
     "name": "stdout",
     "output_type": "stream",
     "text": [
      "7.6\n",
      "7.6\n"
     ]
    }
   ],
   "source": [
    "# Todos los elementos los sumo, y luego la suma la divido entre el # de elementos.\n",
    "# Opcion 1\n",
    "def average_list1(calificacion):\n",
    "  suma = sum(calificacion)\n",
    "  promedio = suma / len(lista) \n",
    "  return promedio\n",
    "\n",
    "\n",
    "# Opcion 2 - For\n",
    "def average_list2(calificacion):\n",
    "  suma = 0\n",
    "  for i in calificacion:\n",
    "    suma += i\n",
    "  promedio = suma / len(calificacion)\n",
    "  return promedio\n",
    "\n",
    "lista = [8, 9, 10, 5, 6]\n",
    "print(average_list1(lista))\n",
    "print(average_list2(lista))"
   ]
  },
  {
   "cell_type": "markdown",
   "metadata": {},
   "source": [
    "**Exercise 4. Write a function min_in_list(lst) that returns the minimum element in a list.**"
   ]
  },
  {
   "cell_type": "code",
   "execution_count": null,
   "metadata": {},
   "outputs": [],
   "source": [
    "# TAREA\n",
    "# [10, 8, 7, 4, 0, 1]\n",
    "# Minimo es 0"
   ]
  },
  {
   "cell_type": "markdown",
   "metadata": {},
   "source": [
    "**Exercise 5. Write a function count_even_odd(lst) that returns the count of even and odd numbers in a list.**"
   ]
  },
  {
   "cell_type": "code",
   "execution_count": 29,
   "metadata": {},
   "outputs": [
    {
     "name": "stdout",
     "output_type": "stream",
     "text": [
      "5\n",
      "4\n"
     ]
    }
   ],
   "source": [
    "# [10, 8, 7, 4, 0, 1]\n",
    "# Even: 4 pares \n",
    "# Odd: 2 impares\n",
    "\n",
    "def count_even_odd(lista):\n",
    "  even = 0\n",
    "  odd = 0\n",
    "  for i in lista:\n",
    "    if i % 2 == 0:\n",
    "      even = even + 1\n",
    "    else:\n",
    "      odd = odd + 1\n",
    "  print(even)\n",
    "  print(odd)\n",
    "\n",
    "lista = [10, 8, 7, 4, 0, 1, 13, 71, 88]\n",
    "count_even_odd(lista)\n",
    "\n"
   ]
  },
  {
   "cell_type": "markdown",
   "metadata": {},
   "source": [
    "**Exercise 6. Make a function to print any multiplication table between 2 and 12.**"
   ]
  },
  {
   "cell_type": "code",
   "execution_count": 37,
   "metadata": {},
   "outputs": [
    {
     "name": "stdout",
     "output_type": "stream",
     "text": [
      "2\n",
      "3\n",
      "4\n",
      "5\n",
      "6\n",
      "7\n",
      "8\n",
      "9\n",
      "10\n",
      "11\n",
      "12\n",
      "12 X 1 = 12\n",
      "12 X 2 = 24\n",
      "12 X 3 = 36\n",
      "12 X 4 = 48\n",
      "12 X 5 = 60\n",
      "12 X 6 = 72\n",
      "12 X 7 = 84\n",
      "12 X 8 = 96\n",
      "12 X 9 = 108\n",
      "12 X 10 = 120\n"
     ]
    }
   ],
   "source": [
    "# Dame un numero: 5\n",
    "# 5 x 1 = 5\n",
    "# 5 x 2 = 10\n",
    "# ...\n",
    "# 5 x 10 = 50\n",
    "\n",
    "def tablas():\n",
    "  # TODO: Permitirle al usuario elegir un numero entre 2 y el 12.\n",
    "  # TODO: Solo mostrar la tabla elegida.\n",
    "  for i in range(2, 13):\n",
    "    print(i)\n",
    "  for j in range(1, 11):\n",
    "    print(i, \"X\", j, \"=\", i * j)\n",
    "\n",
    "tablas()\n",
    "\n"
   ]
  },
  {
   "cell_type": "markdown",
   "metadata": {},
   "source": [
    "**Exercise 7. Make a function that computes the factorial of n, with a default parameter of 5**"
   ]
  },
  {
   "cell_type": "code",
   "execution_count": 32,
   "metadata": {},
   "outputs": [
    {
     "name": "stdout",
     "output_type": "stream",
     "text": [
      "18\n"
     ]
    }
   ],
   "source": [
    "# Tarea\n",
    "def suma(a, b = 10):\n",
    "  print(a + b)\n",
    "\n",
    "# factorial(8)\n",
    "# factorial()"
   ]
  },
  {
   "cell_type": "markdown",
   "metadata": {},
   "source": [
    "**Exercise 8. Make a function that computes the average of $n$ scores.**\n",
    "\n",
    "*Hint: Use the $*$ for an unknown number of arguments*\n"
   ]
  },
  {
   "cell_type": "markdown",
   "metadata": {},
   "source": [
    "**Exercise 9. Write a function remove_duplicates(lst) that returns a new list with duplicates removed.**"
   ]
  },
  {
   "cell_type": "code",
   "execution_count": null,
   "metadata": {},
   "outputs": [],
   "source": []
  },
  {
   "cell_type": "markdown",
   "metadata": {},
   "source": [
    "**Exercise 10. Write a function is_prime(n) that checks if a number is prime.**"
   ]
  },
  {
   "cell_type": "code",
   "execution_count": null,
   "metadata": {},
   "outputs": [],
   "source": []
  },
  {
   "cell_type": "code",
   "execution_count": null,
   "metadata": {},
   "outputs": [],
   "source": []
  }
 ],
 "metadata": {
  "kernelspec": {
   "display_name": "Python 3",
   "language": "python",
   "name": "python3"
  },
  "language_info": {
   "codemirror_mode": {
    "name": "ipython",
    "version": 3
   },
   "file_extension": ".py",
   "mimetype": "text/x-python",
   "name": "python",
   "nbconvert_exporter": "python",
   "pygments_lexer": "ipython3",
   "version": "3.12.0"
  }
 },
 "nbformat": 4,
 "nbformat_minor": 2
}
