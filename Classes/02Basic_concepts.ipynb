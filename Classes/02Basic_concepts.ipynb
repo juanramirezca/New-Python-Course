{
 "cells": [
  {
   "cell_type": "markdown",
   "id": "135965e3",
   "metadata": {},
   "source": [
    "# <center>Basic concepts</center>"
   ]
  },
  {
   "cell_type": "markdown",
   "id": "25447209",
   "metadata": {},
   "source": [
    "In this module, we will cover the following topics:\n",
    "1. [Python as a calculator](#python_as_a_calculator)\n",
    "2. [Our first program: Hello, World.](#our_first_program)\n",
    "3. [Syntaxis in Python](#syntaxis_in_python)"
   ]
  },
  {
   "cell_type": "markdown",
   "id": "cd9e8bd8",
   "metadata": {},
   "source": [
    "<a id = \"python_as_a_calculator\">"
   ]
  },
  {
   "cell_type": "markdown",
   "id": "3e61a11c",
   "metadata": {},
   "source": [
    "## 1. Python as a calculator"
   ]
  },
  {
   "cell_type": "markdown",
   "id": "d8002478",
   "metadata": {},
   "source": [
    "* We can use our programming language as a calculator, hence we can do some computations as we do with a calculator.\n",
    "* Let's explore some basic arithmetic operations:"
   ]
  },
  {
   "cell_type": "markdown",
   "id": "de1a1357",
   "metadata": {},
   "source": [
    "| Operation        | Symbol | Example      |\n",
    "|-------------------|--------|--------------|\n",
    "| Addition         | +      | 2 + 2        |\n",
    "| Subtraction      | -      | 5 - 3        |\n",
    "| Multiplication   | *      | 3 * 4        |\n",
    "| Division         | /      | 6 / 2        |\n",
    "| Floor Division   | //     | 7 // 2       |\n",
    "| Modulus (Remainder)| %    | 7 % 2        |\n",
    "| Exponentiation   | **     | 2 ** 3       |"
   ]
  },
  {
   "cell_type": "markdown",
   "id": "36663747",
   "metadata": {},
   "source": [
    "### 1.1 Addition"
   ]
  },
  {
   "cell_type": "code",
   "execution_count": null,
   "id": "01569a3a",
   "metadata": {},
   "outputs": [],
   "source": [
    "3 + 8"
   ]
  },
  {
   "cell_type": "code",
   "execution_count": null,
   "id": "aaf330b2",
   "metadata": {},
   "outputs": [],
   "source": [
    "17.3 + 84.2"
   ]
  },
  {
   "cell_type": "markdown",
   "id": "a71bae4d",
   "metadata": {},
   "source": [
    "### 1.2 Subtraction"
   ]
  },
  {
   "cell_type": "code",
   "execution_count": null,
   "id": "37655f84",
   "metadata": {},
   "outputs": [],
   "source": [
    "87 - 28"
   ]
  },
  {
   "cell_type": "code",
   "execution_count": null,
   "id": "548eeffe",
   "metadata": {},
   "outputs": [],
   "source": [
    "182.47 - 881.20"
   ]
  },
  {
   "cell_type": "markdown",
   "id": "d523337f",
   "metadata": {},
   "source": [
    "### 1.3 Multiplication"
   ]
  },
  {
   "cell_type": "code",
   "execution_count": null,
   "id": "b41c4070",
   "metadata": {},
   "outputs": [],
   "source": [
    "7991 * 281"
   ]
  },
  {
   "cell_type": "code",
   "execution_count": null,
   "id": "99d078c9",
   "metadata": {},
   "outputs": [],
   "source": [
    "17.3 * 3.1"
   ]
  },
  {
   "cell_type": "markdown",
   "id": "98e26aeb",
   "metadata": {},
   "source": [
    "### 1.4 Division"
   ]
  },
  {
   "cell_type": "code",
   "execution_count": null,
   "id": "014f3648",
   "metadata": {},
   "outputs": [],
   "source": [
    "171 / 3"
   ]
  },
  {
   "cell_type": "code",
   "execution_count": null,
   "id": "17c9ac80",
   "metadata": {},
   "outputs": [],
   "source": [
    "181.5 / 3.2"
   ]
  },
  {
   "cell_type": "markdown",
   "id": "3be604f8",
   "metadata": {},
   "source": [
    "### 1.5 Floor division"
   ]
  },
  {
   "cell_type": "code",
   "execution_count": null,
   "id": "a1821983",
   "metadata": {},
   "outputs": [],
   "source": [
    "21//4"
   ]
  },
  {
   "cell_type": "markdown",
   "id": "3b5e53b6",
   "metadata": {},
   "source": [
    "### 1.6 Modulus operator"
   ]
  },
  {
   "cell_type": "markdown",
   "id": "27819cb4",
   "metadata": {},
   "source": [
    "The modulus operator returns the **remainder** of a division operation. For instance, when we divide 21 by 4, the result is $(5 * 4) + 1$, where 1 is the remainder."
   ]
  },
  {
   "cell_type": "code",
   "execution_count": null,
   "id": "94e44809",
   "metadata": {},
   "outputs": [],
   "source": [
    "21 % 4"
   ]
  },
  {
   "cell_type": "code",
   "execution_count": null,
   "id": "7d72940e",
   "metadata": {},
   "outputs": [],
   "source": [
    "7 % 2"
   ]
  },
  {
   "cell_type": "code",
   "execution_count": null,
   "id": "5b7586c0",
   "metadata": {},
   "outputs": [],
   "source": [
    "6 % 2"
   ]
  },
  {
   "cell_type": "markdown",
   "id": "a9ae7bee",
   "metadata": {},
   "source": [
    "### 1.7 Exponentiation"
   ]
  },
  {
   "cell_type": "code",
   "execution_count": null,
   "id": "5333a527",
   "metadata": {},
   "outputs": [],
   "source": [
    "2 ** 5"
   ]
  },
  {
   "cell_type": "markdown",
   "id": "c23a14de",
   "metadata": {},
   "source": [
    "---"
   ]
  },
  {
   "cell_type": "markdown",
   "id": "43f9c536",
   "metadata": {},
   "source": [
    "<a id = \"our_first_program\">"
   ]
  },
  {
   "cell_type": "markdown",
   "id": "78843c74",
   "metadata": {},
   "source": [
    "## 2. Our fist program: Hello, World!"
   ]
  },
  {
   "cell_type": "markdown",
   "id": "e8b09ed7",
   "metadata": {},
   "source": [
    "* Traditionally, the first program we write in a new language is called `\"Hello, World!\"`.\n",
    "* The purpose of this function is to display the words **\"Hello, World!\"**\n",
    "* In python, it looks like this:"
   ]
  },
  {
   "cell_type": "code",
   "execution_count": null,
   "id": "56eb4a1d",
   "metadata": {},
   "outputs": [],
   "source": [
    "print ('Hello, World!')"
   ]
  },
  {
   "cell_type": "markdown",
   "id": "32e7b1ba",
   "metadata": {},
   "source": [
    "Additionally, we can perform computations within our print statements:"
   ]
  },
  {
   "cell_type": "code",
   "execution_count": 2,
   "id": "50392db8",
   "metadata": {},
   "outputs": [
    {
     "name": "stdout",
     "output_type": "stream",
     "text": [
      "4\n"
     ]
    }
   ],
   "source": [
    "print(2 + 2)"
   ]
  },
  {
   "cell_type": "markdown",
   "id": "7747add2",
   "metadata": {},
   "source": [
    "---"
   ]
  },
  {
   "cell_type": "markdown",
   "id": "a6fef0d4",
   "metadata": {},
   "source": [
    "<a id = \"syntaxis_in_python\">"
   ]
  },
  {
   "cell_type": "markdown",
   "id": "cf85d1a9",
   "metadata": {},
   "source": [
    "## 3. Syntaxis in Python"
   ]
  },
  {
   "cell_type": "markdown",
   "id": "00ee1589",
   "metadata": {},
   "source": [
    "In this section, we'll explore some fundamental syntax elements used in Python."
   ]
  },
  {
   "cell_type": "markdown",
   "id": "73e2ded7",
   "metadata": {},
   "source": [
    "### 3.1. Comments in Python"
   ]
  },
  {
   "cell_type": "markdown",
   "id": "56c0c296",
   "metadata": {},
   "source": [
    "* Comments are human-readable notes added within code to provide explanations or clarifications. \n",
    "* They are invaluable for enhancing code readability and maintainability. \n",
    "* In Python, comments are indicated by the `#` symbol."
   ]
  },
  {
   "cell_type": "code",
   "execution_count": null,
   "id": "8053a725",
   "metadata": {},
   "outputs": [],
   "source": [
    "# This is a one line-comment\n",
    "5 + 2"
   ]
  },
  {
   "cell_type": "code",
   "execution_count": 6,
   "id": "8273d94e",
   "metadata": {},
   "outputs": [
    {
     "data": {
      "text/plain": [
       "64"
      ]
     },
     "execution_count": 6,
     "metadata": {},
     "output_type": "execute_result"
    }
   ],
   "source": [
    "'''\n",
    "This is a multiline comment.\n",
    "And everything inside this triple quotes will be ignored.\n",
    "'''\n",
    "8 * 8"
   ]
  },
  {
   "cell_type": "code",
   "execution_count": null,
   "id": "508a6618",
   "metadata": {},
   "outputs": [],
   "source": []
  }
 ],
 "metadata": {
  "kernelspec": {
   "display_name": "Python 3",
   "language": "python",
   "name": "python3"
  },
  "language_info": {
   "codemirror_mode": {
    "name": "ipython",
    "version": 3
   },
   "file_extension": ".py",
   "mimetype": "text/x-python",
   "name": "python",
   "nbconvert_exporter": "python",
   "pygments_lexer": "ipython3",
   "version": "3.12.0"
  }
 },
 "nbformat": 4,
 "nbformat_minor": 5
}
