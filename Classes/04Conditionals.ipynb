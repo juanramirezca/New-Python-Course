{
 "cells": [
  {
   "cell_type": "markdown",
   "id": "15652e3e",
   "metadata": {},
   "source": [
    "# <center>Conditionals</center>"
   ]
  },
  {
   "cell_type": "markdown",
   "id": "c4eb630a",
   "metadata": {},
   "source": [
    "In this file we will see:\n",
    "1. [Boolean expressions](#boolean_expressions)\n",
    "2. [Logical operators](#logical_operators)\n",
    "3. [Conditional execution](#conditional_execution)\n",
    "4. [Alternative execution](#alternative_execution)\n",
    "5. [Chained conditionals](#chained_conditionals)\n",
    "6. [Nested conditionals](#nested_conditionals)\n",
    "7. [Exercises](#exercises)"
   ]
  },
  {
   "cell_type": "markdown",
   "id": "681dc3aa",
   "metadata": {},
   "source": [
    "<a id = \"boolean expressions\">"
   ]
  },
  {
   "cell_type": "markdown",
   "id": "c07eb8ac",
   "metadata": {},
   "source": [
    "## 1. Boolean expressions"
   ]
  },
  {
   "cell_type": "markdown",
   "id": "c6bca041",
   "metadata": {},
   "source": [
    "* A **boolean expression** is an expression that evaluates to either **True** or **False**.\n",
    "* In the following examples, we will use the `==` operator to express equality."
   ]
  },
  {
   "cell_type": "markdown",
   "id": "57f9bd4c",
   "metadata": {},
   "source": [
    "**Example 1. Comparing two values**"
   ]
  },
  {
   "cell_type": "code",
   "execution_count": null,
   "id": "222abda8",
   "metadata": {},
   "outputs": [],
   "source": [
    "5 == 5"
   ]
  },
  {
   "cell_type": "markdown",
   "id": "292700db",
   "metadata": {},
   "source": [
    "**Example 2. Comparing two names**"
   ]
  },
  {
   "cell_type": "code",
   "execution_count": null,
   "id": "42e40168",
   "metadata": {},
   "outputs": [],
   "source": [
    "\"Pedro\" == \"pedro\""
   ]
  },
  {
   "cell_type": "markdown",
   "id": "8bbbf9a6",
   "metadata": {},
   "source": [
    "### 1.1 Relational operators"
   ]
  },
  {
   "cell_type": "markdown",
   "id": "20cde8ee",
   "metadata": {},
   "source": [
    "We can use several relational operators to compare two values:"
   ]
  },
  {
   "cell_type": "markdown",
   "id": "01038d43",
   "metadata": {},
   "source": [
    "| Relational Operator | Description                   |\n",
    "|---------------------|-------------------------------|\n",
    "| `>`                 | Greater than                  |\n",
    "| `<`                 | Less than                     |\n",
    "| `==`                | Equal to                      |\n",
    "| `>=`                | Greater than or equal to      |\n",
    "| `<=`                | Less than or equal to         |\n",
    "| `!=`                | Not equal to                  |"
   ]
  },
  {
   "cell_type": "markdown",
   "id": "f87bfd00",
   "metadata": {},
   "source": [
    "**Example. Comparing two values**"
   ]
  },
  {
   "cell_type": "code",
   "execution_count": null,
   "id": "a5e21e9b",
   "metadata": {},
   "outputs": [],
   "source": [
    "x = 8\n",
    "y = 7"
   ]
  },
  {
   "cell_type": "code",
   "execution_count": null,
   "id": "8c6eb4b7",
   "metadata": {},
   "outputs": [],
   "source": [
    "# x is not equal to y\n",
    "x!=y"
   ]
  },
  {
   "cell_type": "code",
   "execution_count": null,
   "id": "42b5d1ea",
   "metadata": {},
   "outputs": [],
   "source": [
    "# x is greater than y\n",
    "x > y"
   ]
  },
  {
   "cell_type": "code",
   "execution_count": null,
   "id": "f64a4864",
   "metadata": {},
   "outputs": [],
   "source": [
    "# x is less than y\n",
    "x < y"
   ]
  },
  {
   "cell_type": "code",
   "execution_count": null,
   "id": "5500b70d",
   "metadata": {},
   "outputs": [],
   "source": [
    "# x is greater than or equal to y\n",
    "x >= y"
   ]
  },
  {
   "cell_type": "code",
   "execution_count": null,
   "id": "47a5bd14",
   "metadata": {},
   "outputs": [],
   "source": [
    "# x is less than or equal to y\n",
    "x <= y\n"
   ]
  },
  {
   "cell_type": "markdown",
   "id": "6d78be67",
   "metadata": {},
   "source": [
    "> **Note:**\n",
    "> * A single equal sign `=` is used for assignment\n",
    "> * A double equal sign `==` is used as a relational operator"
   ]
  },
  {
   "cell_type": "markdown",
   "id": "76013135",
   "metadata": {},
   "source": [
    "<a id = \"logical_operators\">"
   ]
  },
  {
   "cell_type": "markdown",
   "id": "10319eb0",
   "metadata": {},
   "source": [
    "## 2. Logical operators"
   ]
  },
  {
   "cell_type": "markdown",
   "id": "d6cffbaf",
   "metadata": {},
   "source": [
    "There are three **logical operators**: \n",
    "* `and`\n",
    "* `or`\n",
    "* `not`\n",
    "<br>\n",
    "And the meaning of these operators is similiar to their meaning in English."
   ]
  },
  {
   "cell_type": "markdown",
   "id": "272b225a",
   "metadata": {},
   "source": [
    "**Example 1. A value between zero `and` ten**"
   ]
  },
  {
   "cell_type": "code",
   "execution_count": null,
   "id": "5c9a9f07",
   "metadata": {},
   "outputs": [],
   "source": [
    "x = -2\n",
    "x > 0 and x < 10"
   ]
  },
  {
   "cell_type": "markdown",
   "id": "8cc40dbb",
   "metadata": {},
   "source": [
    "**Example 2. A value divisible by two `or` by three**"
   ]
  },
  {
   "cell_type": "code",
   "execution_count": null,
   "id": "353f0ab9",
   "metadata": {},
   "outputs": [],
   "source": [
    "num = 5\n",
    "num % 2 == 0 or num % 3 == 0"
   ]
  },
  {
   "cell_type": "markdown",
   "id": "a468dfaa",
   "metadata": {},
   "source": [
    "**Example 3. A door that is `NOT` opened**"
   ]
  },
  {
   "cell_type": "code",
   "execution_count": null,
   "id": "9c450bf0",
   "metadata": {},
   "outputs": [],
   "source": [
    "door_opened = True\n",
    "not(door_opened)"
   ]
  },
  {
   "cell_type": "markdown",
   "id": "4c33dbc0",
   "metadata": {},
   "source": [
    "<a id = \"conditional_execution\">"
   ]
  },
  {
   "cell_type": "markdown",
   "id": "cae808a0",
   "metadata": {},
   "source": [
    "## 3. Conditional execution"
   ]
  },
  {
   "cell_type": "markdown",
   "id": "474d6cf1",
   "metadata": {},
   "source": [
    "We use **conditional statements** to check conditions and alter the behavior of our program accordingly. The simplest form is the **if statement**, whose syntax is:\n",
    "```python\n",
    "if condition:\n",
    "  instruction in case condition equals True\n",
    "Continuation of the program\n",
    "```"
   ]
  },
  {
   "cell_type": "markdown",
   "id": "93277059",
   "metadata": {},
   "source": [
    "**Example 1. Determine if a person in Mexico can vote**."
   ]
  },
  {
   "cell_type": "code",
   "execution_count": null,
   "id": "38b30cd7",
   "metadata": {},
   "outputs": [],
   "source": [
    "age = 13\n",
    "if age >= 18:\n",
    "    print(\"Can vote\")"
   ]
  },
  {
   "cell_type": "markdown",
   "id": "879a960f",
   "metadata": {},
   "source": [
    "**Example 2. Determine if a number is positive**."
   ]
  },
  {
   "cell_type": "code",
   "execution_count": null,
   "id": "017c98f5",
   "metadata": {},
   "outputs": [],
   "source": [
    "x = 4\n",
    "if x > 0:\n",
    "    print(\"Positive\")"
   ]
  },
  {
   "cell_type": "markdown",
   "id": "e0544628",
   "metadata": {},
   "source": [
    "**Exercise 1. If the weather is greater than 20, print the message \"It's a warm day\"**."
   ]
  },
  {
   "cell_type": "code",
   "execution_count": null,
   "id": "4b19627a",
   "metadata": {},
   "outputs": [],
   "source": [
    "#Your code here"
   ]
  },
  {
   "cell_type": "markdown",
   "id": "1c883a72",
   "metadata": {},
   "source": [
    "**Exercise 2. Print the message \"you are a teenager\" if the age is between 13 and 19**."
   ]
  },
  {
   "cell_type": "code",
   "execution_count": null,
   "id": "23c72a57",
   "metadata": {},
   "outputs": [],
   "source": [
    "#Your code here"
   ]
  },
  {
   "cell_type": "markdown",
   "id": "7fa3decd",
   "metadata": {},
   "source": [
    "<a id = \"alternative_execution\">"
   ]
  },
  {
   "cell_type": "markdown",
   "id": "31c84183",
   "metadata": {},
   "source": [
    "## 4. Alternative execution"
   ]
  },
  {
   "cell_type": "markdown",
   "id": "6e824f3d",
   "metadata": {},
   "source": [
    "Another form of the if statement is **alternative execution**, where there are two possibilities and the condition determines which one is executed.\n",
    "\n",
    "The syntax is:\n",
    "```python\n",
    "if condition_1:\n",
    "  instruction in case condition_1 equals True\n",
    "else:\n",
    "  instruction in case condition_1 equals False\n",
    "```"
   ]
  },
  {
   "cell_type": "markdown",
   "id": "19a7d41f",
   "metadata": {},
   "source": [
    "**Example 1. Determine if a number is even or odd**"
   ]
  },
  {
   "cell_type": "code",
   "execution_count": null,
   "id": "d0d42e28",
   "metadata": {},
   "outputs": [],
   "source": [
    "num = 13\n",
    "if num % 2 == 0:\n",
    "    print(num, \"is even\")\n",
    "else:\n",
    "    print(num, \"is odd\")"
   ]
  },
  {
   "cell_type": "markdown",
   "id": "7828b57c",
   "metadata": {},
   "source": [
    "**Example 2. Determine if a number is positive or negative**"
   ]
  },
  {
   "cell_type": "code",
   "execution_count": null,
   "id": "35ab5718",
   "metadata": {},
   "outputs": [],
   "source": [
    "num = 0\n",
    "if num > 0:\n",
    "    print(num, \"is positive\")\n",
    "else:\n",
    "    print(num, \"is negative\")"
   ]
  },
  {
   "cell_type": "markdown",
   "id": "ec98d6df",
   "metadata": {},
   "source": [
    "**Exercise 1. Determine if a person in Mexico can vote or not.**"
   ]
  },
  {
   "cell_type": "code",
   "execution_count": null,
   "id": "40a1d1b6",
   "metadata": {},
   "outputs": [],
   "source": [
    "#Your code here"
   ]
  },
  {
   "cell_type": "markdown",
   "id": "0ceacbc6",
   "metadata": {},
   "source": [
    "**Exercise 2. Determine if a student has passed an exam or not.**"
   ]
  },
  {
   "cell_type": "code",
   "execution_count": null,
   "id": "2b01c3ba",
   "metadata": {},
   "outputs": [],
   "source": [
    "#Your code here"
   ]
  },
  {
   "cell_type": "markdown",
   "id": "a9e750cb",
   "metadata": {},
   "source": [
    "<a id = \"chained_conditionals\">"
   ]
  },
  {
   "cell_type": "markdown",
   "id": "7c5a9483",
   "metadata": {},
   "source": [
    "## 5. Chained conditionals"
   ]
  },
  {
   "cell_type": "markdown",
   "id": "98d11e94",
   "metadata": {},
   "source": [
    "When there are more than two possibilities, we can use a chained conditional with the `elif` keyword.\n",
    "\n",
    "The syntax is:\n",
    "```python\n",
    "if condition_1:\n",
    "  instruction in case condition_1 equal True\n",
    "elif condition_2:\n",
    "  instruction in case condition_2 equal True\n",
    "elif condition_k:\n",
    "  instruction in case condition_k equal True\n",
    "else:\n",
    "  instruction in case none of the above are True\n",
    "```"
   ]
  },
  {
   "cell_type": "markdown",
   "id": "8827d4c1",
   "metadata": {},
   "source": [
    "**Example 1. Determine if a number is positive, negative or equal to zero**."
   ]
  },
  {
   "cell_type": "code",
   "execution_count": null,
   "id": "4e50503d",
   "metadata": {},
   "outputs": [],
   "source": [
    "\n",
    "num = 18\n",
    "if num > 0:\n",
    "    print(num, \"is positive\")\n",
    "elif num == 0:\n",
    "    print(num, \"is zero\")\n",
    "else:\n",
    "    print(num, \"is negative\")"
   ]
  },
  {
   "cell_type": "markdown",
   "id": "119fc20b",
   "metadata": {},
   "source": [
    "**Example 2. Determine if `x` is greater, equal or less than `y`**."
   ]
  },
  {
   "cell_type": "code",
   "execution_count": null,
   "id": "1c908219",
   "metadata": {},
   "outputs": [],
   "source": [
    "x = 18\n",
    "y = 17\n",
    "if x > y:\n",
    "    print(x, \"is greater than\", y)\n",
    "elif x == y:\n",
    "    print(x, \"is equal to\", y)\n",
    "else:\n",
    "    print(x, \"is less than\", y)"
   ]
  },
  {
   "cell_type": "markdown",
   "id": "59717288",
   "metadata": {},
   "source": [
    ">Note that `elif` is an abbreviation of \"else if\".\n"
   ]
  },
  {
   "cell_type": "markdown",
   "id": "a425d6a0",
   "metadata": {},
   "source": [
    "----"
   ]
  },
  {
   "cell_type": "markdown",
   "id": "65147782",
   "metadata": {},
   "source": [
    "<a id = \"nested_conditionals\">"
   ]
  },
  {
   "cell_type": "markdown",
   "id": "7dbc5686",
   "metadata": {},
   "source": [
    "## 6. Nested conditionals"
   ]
  },
  {
   "cell_type": "markdown",
   "id": "c3ff5d70",
   "metadata": {},
   "source": [
    "One conditional can be **nested** within another."
   ]
  },
  {
   "cell_type": "markdown",
   "id": "0d5d3bbb",
   "metadata": {},
   "source": [
    "**Example 1. Determine if x is greater, equal or less than y using a nested conditional**"
   ]
  },
  {
   "cell_type": "code",
   "execution_count": null,
   "id": "3496ae60",
   "metadata": {},
   "outputs": [],
   "source": [
    "x = 18\n",
    "y = 17\n",
    "if (x > y):\n",
    "    print(x, \"is greater than\", y)\n",
    "else:\n",
    "    if(x == y):\n",
    "        print(x, \"is equal to\", y)\n",
    "    else:\n",
    "        print(x, \"is less than\", y)"
   ]
  },
  {
   "cell_type": "markdown",
   "id": "9dd8a54a",
   "metadata": {},
   "source": [
    "----"
   ]
  },
  {
   "cell_type": "markdown",
   "id": "e97665e1",
   "metadata": {},
   "source": [
    "<a id = \"exercises\">"
   ]
  },
  {
   "cell_type": "markdown",
   "id": "eb631dd0",
   "metadata": {},
   "source": [
    "## 7. Exercises"
   ]
  },
  {
   "cell_type": "markdown",
   "id": "30058cd5",
   "metadata": {},
   "source": [
    "**1. Write a program to check if a given number is a multiple of 5.**"
   ]
  },
  {
   "cell_type": "code",
   "execution_count": null,
   "id": "e83bad45",
   "metadata": {},
   "outputs": [],
   "source": []
  },
  {
   "cell_type": "markdown",
   "id": "9c295f34",
   "metadata": {},
   "source": [
    "**2. Create a program that asks the user for a day of the week and prints whether it is a weekday or a weekend day.**"
   ]
  },
  {
   "cell_type": "code",
   "execution_count": null,
   "id": "499cfbd8",
   "metadata": {},
   "outputs": [],
   "source": []
  },
  {
   "cell_type": "markdown",
   "id": "2cbe1dcb",
   "metadata": {},
   "source": [
    "**3. Create a program that, given three values of your choice, prints the smallest one.**"
   ]
  },
  {
   "cell_type": "code",
   "execution_count": null,
   "id": "b6152eb5",
   "metadata": {},
   "outputs": [],
   "source": []
  },
  {
   "cell_type": "markdown",
   "id": "30e11734",
   "metadata": {},
   "source": [
    "**4. Write a Python program to calculate the discount based on the purchase amount\n",
    "(10% discount if amount > 1000, otherwise no discount).**"
   ]
  },
  {
   "cell_type": "code",
   "execution_count": null,
   "id": "d1aa6cbb",
   "metadata": {},
   "outputs": [],
   "source": []
  },
  {
   "cell_type": "markdown",
   "id": "1641d681",
   "metadata": {},
   "source": [
    "**5. Determine if a number is divided by three, five or both.**\n",
    "\n"
   ]
  },
  {
   "cell_type": "code",
   "execution_count": null,
   "id": "be12649a",
   "metadata": {},
   "outputs": [],
   "source": []
  },
  {
   "cell_type": "markdown",
   "id": "d19f519c",
   "metadata": {},
   "source": [
    "**6. Given the weather of the city, propose a recommendation to the user.**\n",
    "<br> *For instance, if weather is sunny, recommend to use sunscreen*"
   ]
  },
  {
   "cell_type": "code",
   "execution_count": null,
   "id": "7d486737",
   "metadata": {},
   "outputs": [],
   "source": []
  },
  {
   "cell_type": "markdown",
   "id": "a4c6134c",
   "metadata": {},
   "source": [
    "**7. Create a program that, given an income, computes the corresponding tax that an employee must pay. Use the following table**\n",
    "| salary   | tax  |\n",
    "|----------|------|\n",
    "| < 100    | 10%  |\n",
    "| < 1000   | 15%  |\n",
    "| < 10000  | 20%  |\n",
    "| >= 10000 | 25%  |"
   ]
  },
  {
   "cell_type": "markdown",
   "id": "a626a1d9",
   "metadata": {},
   "source": [
    "**EXTRA EXERCISE**\n",
    "<br>*Make a program that converts from dollars to mexican pesos or viceversa. Consider asking the user for the amount to be converted.*"
   ]
  },
  {
   "cell_type": "code",
   "execution_count": null,
   "id": "d5702f59",
   "metadata": {},
   "outputs": [],
   "source": []
  }
 ],
 "metadata": {
  "kernelspec": {
   "display_name": "Python 3",
   "language": "python",
   "name": "python3"
  },
  "language_info": {
   "codemirror_mode": {
    "name": "ipython",
    "version": 3
   },
   "file_extension": ".py",
   "mimetype": "text/x-python",
   "name": "python",
   "nbconvert_exporter": "python",
   "pygments_lexer": "ipython3",
   "version": "3.12.0"
  }
 },
 "nbformat": 4,
 "nbformat_minor": 5
}
