{
 "cells": [
  {
   "cell_type": "markdown",
   "id": "3682b992",
   "metadata": {},
   "source": [
    "Solution of pyramides"
   ]
  },
  {
   "cell_type": "code",
   "execution_count": 1,
   "id": "39880c44",
   "metadata": {},
   "outputs": [],
   "source": [
    "#The height of the pyramide\n",
    "size = 10"
   ]
  },
  {
   "cell_type": "code",
   "execution_count": 2,
   "id": "0b7a89eb",
   "metadata": {},
   "outputs": [
    {
     "name": "stdout",
     "output_type": "stream",
     "text": [
      "**********\n",
      "*********\n",
      "********\n",
      "*******\n",
      "******\n",
      "*****\n",
      "****\n",
      "***\n",
      "**\n",
      "*\n"
     ]
    }
   ],
   "source": [
    "# 1.\n",
    "# ******\n",
    "# *****\n",
    "# ****\n",
    "# ***\n",
    "# **\n",
    "# *wwww\n",
    "# i = 0 ... 10\n",
    "# i = 2\n",
    "for i in range(size):\n",
    "    # j = i = 2 ... 10\n",
    "    # j = 9, ... 10\n",
    "    for j in range(i, size):\n",
    "        print(\"*\", end = \"\")\n",
    "    print(\"\")"
   ]
  },
  {
   "cell_type": "code",
   "execution_count": 3,
   "id": "05c36946",
   "metadata": {},
   "outputs": [
    {
     "name": "stdout",
     "output_type": "stream",
     "text": [
      "*\n",
      "**\n",
      "***\n",
      "****\n",
      "*****\n",
      "******\n",
      "*******\n",
      "********\n",
      "*********\n",
      "**********\n"
     ]
    }
   ],
   "source": [
    "# 2.\n",
    "# *\n",
    "# **\n",
    "# ***\n",
    "# ****\n",
    "\n",
    "for i in range(size):\n",
    "    for j in range(i + 1):\n",
    "        print(\"*\", end = \"\")\n",
    "    print(\"\")"
   ]
  },
  {
   "cell_type": "code",
   "execution_count": 4,
   "id": "f34b3254",
   "metadata": {},
   "outputs": [
    {
     "name": "stdout",
     "output_type": "stream",
     "text": [
      "         * \n",
      "        ** \n",
      "       *** \n",
      "      **** \n",
      "     ***** \n",
      "    ****** \n",
      "   ******* \n",
      "  ******** \n",
      " ********* \n",
      "********** \n"
     ]
    }
   ],
   "source": [
    "# 3.\n",
    "#    *\n",
    "#   **\n",
    "#  ***\n",
    "# ****\n",
    "\n",
    "# 0 ... 4\n",
    "\n",
    "for i in range(size):\n",
    "    for j in range(size - i, 1, -1):\n",
    "        print(\" \", end = \"\")\n",
    "    for k in range(1, i + j):\n",
    "        print(\"*\", end = \"\")\n",
    "    print(\" \")\n",
    "    "
   ]
  },
  {
   "cell_type": "code",
   "execution_count": 5,
   "id": "aab96fe5",
   "metadata": {},
   "outputs": [
    {
     "name": "stdout",
     "output_type": "stream",
     "text": [
      "********** \n",
      " ********* \n",
      "  ******** \n",
      "   ******* \n",
      "    ****** \n",
      "     ***** \n",
      "      **** \n",
      "       *** \n",
      "        ** \n",
      "         * \n"
     ]
    }
   ],
   "source": [
    "# 4.\n",
    "# ****\n",
    "#  ***\n",
    "#   **\n",
    "#    *\n",
    "\n",
    "for i in range(size):\n",
    "    for j in range(i):\n",
    "        print(\" \", end =\"\")\n",
    "    for k in range(size - i, 0, -1):\n",
    "        print(\"*\", end =\"\")\n",
    "    print(\" \")\n",
    "        \n",
    "        "
   ]
  },
  {
   "cell_type": "code",
   "execution_count": null,
   "id": "a679a5ea",
   "metadata": {},
   "outputs": [],
   "source": []
  }
 ],
 "metadata": {
  "kernelspec": {
   "display_name": "Python 3",
   "language": "python",
   "name": "python3"
  },
  "language_info": {
   "codemirror_mode": {
    "name": "ipython",
    "version": 3
   },
   "file_extension": ".py",
   "mimetype": "text/x-python",
   "name": "python",
   "nbconvert_exporter": "python",
   "pygments_lexer": "ipython3",
   "version": "3.8.8"
  }
 },
 "nbformat": 4,
 "nbformat_minor": 5
}
