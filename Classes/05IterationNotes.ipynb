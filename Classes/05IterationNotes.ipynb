{
 "cells": [
  {
   "cell_type": "markdown",
   "metadata": {},
   "source": [
    "# <center>Iteration</center>"
   ]
  },
  {
   "cell_type": "markdown",
   "metadata": {},
   "source": [
    "In this file we will see:\n",
    "1. [Multiple assignment](#multiple_assignment)\n",
    "2. [Updating variables](#updating_variables)\n",
    "3. [The <code>While</code> statement](#while_statement)\n",
    "4. [<code>For</code> statement](#for_statement)\n",
    "5. [Nested iteration](#nested_iteration)\n",
    "6. [The <code>zip</code> function](#zip_function)\n",
    "7. [Exercises](#exercises)"
   ]
  },
  {
   "cell_type": "markdown",
   "metadata": {},
   "source": [
    "## 1. Introduction to loops"
   ]
  },
  {
   "cell_type": "markdown",
   "metadata": {},
   "source": [
    "* When writing code, sometimes we have some instructions that are identical or similar, and those instructions can be implemented using a loop.\n",
    "* Unlike humans, computers are used to automate repetitive tasks without making any error.\n",
    "* Specifically in Python, we have two types of loops:\n",
    "1. For loop.\n",
    "2. While loop.\n"
   ]
  },
  {
   "cell_type": "code",
   "execution_count": null,
   "metadata": {},
   "outputs": [],
   "source": []
  },
  {
   "cell_type": "markdown",
   "metadata": {},
   "source": [
    "## 2. For loop"
   ]
  },
  {
   "cell_type": "markdown",
   "metadata": {},
   "source": [
    "* In Python, we can use the for loops for iterating over a range, a list, or a sequence.\n",
    "* Therefore, we can have two types of for loops:\n",
    "1. Is used when we have a fixed quantity of repetitions, and we use the `range()` function.\n",
    "2. It is used over lists or sequences, and we iterate over the elements."
   ]
  },
  {
   "cell_type": "markdown",
   "metadata": {},
   "source": [
    "### 2.1 For loop using `range()` function"
   ]
  },
  {
   "cell_type": "markdown",
   "metadata": {},
   "source": [
    "* This type of loop is used when we have a fixed amount of repetitions that has to be done.\n",
    "* We must use the `range()` function for this purpose.\n",
    "* The syntax is the following:\n",
    "``` python\n",
    "for <variable> in range(n):\n",
    "  statement(s)\n",
    "program continuation\n",
    "```"
   ]
  },
  {
   "cell_type": "markdown",
   "metadata": {},
   "source": [
    "**Example 1. Print ten times \"Hello, World!\"**"
   ]
  },
  {
   "cell_type": "code",
   "execution_count": null,
   "metadata": {},
   "outputs": [],
   "source": [
    "for i in range(10):\n",
    "  print(\"Hello, World\")"
   ]
  },
  {
   "cell_type": "markdown",
   "metadata": {},
   "source": [
    "**Example 2. Print the numbers from 0 to 9**"
   ]
  },
  {
   "cell_type": "code",
   "execution_count": null,
   "metadata": {},
   "outputs": [],
   "source": [
    "for i in range(10):\n",
    "  print(i)"
   ]
  },
  {
   "cell_type": "markdown",
   "metadata": {},
   "source": [
    "> Note: \n",
    "> The `range()` function returns a sequence of numbers, starting from 0 by default, and increments by 1 (by default), and stops before a specified number.\n",
    "* The syntax is as follows: `range(start, stop, step)`\n",
    "  - start. Optional. An integer number specifying at which position to start. Default is 0.\n",
    "  - stop. Required. An integer number specifying at which position to stop (not included).\n",
    "  - step. Optional. An integer number specifying the incrementation. Default is 1."
   ]
  },
  {
   "cell_type": "markdown",
   "metadata": {},
   "source": [
    "**Example 3. Print the numbers from 1 to 10**"
   ]
  },
  {
   "cell_type": "code",
   "execution_count": null,
   "metadata": {},
   "outputs": [],
   "source": [
    "for i in range(1,11):\n",
    "  print(i)"
   ]
  },
  {
   "cell_type": "markdown",
   "metadata": {},
   "source": [
    "**Example 4. Print the numbers from 5 to 16**"
   ]
  },
  {
   "cell_type": "code",
   "execution_count": null,
   "metadata": {},
   "outputs": [],
   "source": [
    "# Ejercicio 2. Imprimir los numeros del 5 al 15\n",
    "for i in range(5, 16):\n",
    "  print(i)"
   ]
  },
  {
   "cell_type": "markdown",
   "metadata": {},
   "source": [
    "### Exercises"
   ]
  },
  {
   "cell_type": "markdown",
   "metadata": {},
   "source": [
    "**Exercise 1. Print the even numbers between 0 and 20.**"
   ]
  },
  {
   "cell_type": "code",
   "execution_count": null,
   "metadata": {},
   "outputs": [],
   "source": [
    "# Solution exercise 1"
   ]
  },
  {
   "cell_type": "markdown",
   "metadata": {},
   "source": [
    "**Exercise 2. Print the odd numbers between 0 and 20.**"
   ]
  },
  {
   "cell_type": "code",
   "execution_count": null,
   "metadata": {},
   "outputs": [],
   "source": [
    "# Solution exercise 2"
   ]
  },
  {
   "cell_type": "markdown",
   "metadata": {},
   "source": [
    "**Exercise 3. Print the following numbers: 10, 20, 30, 40, ..., 100.**"
   ]
  },
  {
   "cell_type": "code",
   "execution_count": null,
   "metadata": {},
   "outputs": [],
   "source": [
    "# Solution exercise 3"
   ]
  },
  {
   "cell_type": "markdown",
   "metadata": {},
   "source": [
    "**Exercise 4. Print the following numbers: 20, 19, 18, 17, ..., 1.**"
   ]
  },
  {
   "cell_type": "code",
   "execution_count": null,
   "metadata": {},
   "outputs": [],
   "source": [
    "# Solution exercise 4"
   ]
  },
  {
   "cell_type": "markdown",
   "metadata": {},
   "source": [
    "**Exercise 5. Print the following numbers: 20, 18, 16, 14, ..., 0.**"
   ]
  },
  {
   "cell_type": "code",
   "execution_count": null,
   "metadata": {},
   "outputs": [],
   "source": [
    "# Solution exercise 5"
   ]
  },
  {
   "cell_type": "markdown",
   "metadata": {},
   "source": [
    "### 2.2 For loop"
   ]
  },
  {
   "cell_type": "markdown",
   "metadata": {},
   "source": [
    "* This type of loop is usually used when working with a list or a sequence.\n",
    "* Therefore, we will see a brief introduction to lists.\n"
   ]
  },
  {
   "cell_type": "markdown",
   "metadata": {},
   "source": [
    "### 2.2.1 Lists"
   ]
  },
  {
   "cell_type": "markdown",
   "metadata": {},
   "source": [
    "* A list is a data type used in Python to store multiple items in a single variable.\n",
    "* Lists are created using brackets and using commas to separate each value\n",
    "* The syntax of a list is as follows.:\n",
    "``` python\n",
    "my_list[1, 2, 3, 4]\n",
    "```"
   ]
  },
  {
   "cell_type": "markdown",
   "metadata": {},
   "source": []
  },
  {
   "cell_type": "markdown",
   "metadata": {},
   "source": [
    "**Example 1. Creating a list of animals**"
   ]
  },
  {
   "cell_type": "code",
   "execution_count": 10,
   "metadata": {},
   "outputs": [],
   "source": [
    "animals = [\"dog\", \"cat\", \"lion\", \"gorila\"]"
   ]
  },
  {
   "cell_type": "markdown",
   "metadata": {},
   "source": [
    "**Example 2. Accessing the first element of a list**"
   ]
  },
  {
   "cell_type": "code",
   "execution_count": 11,
   "metadata": {},
   "outputs": [
    {
     "name": "stdout",
     "output_type": "stream",
     "text": [
      "dog\n"
     ]
    }
   ],
   "source": [
    "print(animals[0])"
   ]
  },
  {
   "cell_type": "markdown",
   "metadata": {},
   "source": [
    "**Example 3. Accessing the third element of a list**"
   ]
  },
  {
   "cell_type": "code",
   "execution_count": 12,
   "metadata": {},
   "outputs": [
    {
     "name": "stdout",
     "output_type": "stream",
     "text": [
      "lion\n"
     ]
    }
   ],
   "source": [
    "print(animals[2])"
   ]
  },
  {
   "cell_type": "markdown",
   "metadata": {},
   "source": [
    "**Example 4. Trying to access to an element not present in a list**"
   ]
  },
  {
   "cell_type": "code",
   "execution_count": 13,
   "metadata": {},
   "outputs": [
    {
     "ename": "IndexError",
     "evalue": "list index out of range",
     "output_type": "error",
     "traceback": [
      "\u001b[1;31m---------------------------------------------------------------------------\u001b[0m",
      "\u001b[1;31mIndexError\u001b[0m                                Traceback (most recent call last)",
      "Cell \u001b[1;32mIn[13], line 1\u001b[0m\n\u001b[1;32m----> 1\u001b[0m \u001b[38;5;28mprint\u001b[39m(\u001b[43manimals\u001b[49m\u001b[43m[\u001b[49m\u001b[38;5;241;43m8\u001b[39;49m\u001b[43m]\u001b[49m)\n",
      "\u001b[1;31mIndexError\u001b[0m: list index out of range"
     ]
    }
   ],
   "source": [
    "print(animals[8])"
   ]
  },
  {
   "cell_type": "markdown",
   "metadata": {},
   "source": [
    "### 2.2.2 The for statement syntax"
   ]
  },
  {
   "cell_type": "markdown",
   "metadata": {},
   "source": [
    "```python\n",
    "for <variable> in <sequence>:\n",
    "    statement(s) \n",
    "    \n",
    "program continuation\n",
    "```"
   ]
  },
  {
   "cell_type": "markdown",
   "metadata": {},
   "source": [
    "**Example 1. Printing all the elements of a list**\n"
   ]
  },
  {
   "cell_type": "code",
   "execution_count": null,
   "metadata": {},
   "outputs": [],
   "source": [
    "for animal in animals:\n",
    "  print(animal)"
   ]
  },
  {
   "cell_type": "markdown",
   "metadata": {},
   "source": [
    "**Example 2. Printing a list of scores**"
   ]
  },
  {
   "cell_type": "code",
   "execution_count": 14,
   "metadata": {},
   "outputs": [
    {
     "name": "stdout",
     "output_type": "stream",
     "text": [
      "8\n",
      "7\n",
      "9\n",
      "10\n"
     ]
    }
   ],
   "source": [
    "scores = [8, 7, 9, 10]\n",
    "for sc in scores:\n",
    "    print(sc)"
   ]
  },
  {
   "cell_type": "markdown",
   "metadata": {},
   "source": [
    "**Example 3. Printing a list of sales**"
   ]
  },
  {
   "cell_type": "code",
   "execution_count": null,
   "metadata": {},
   "outputs": [],
   "source": [
    "sales = [89.99, 40.00, 23.54, 139.00, 129.99]\n",
    "for sale in sales:\n",
    "  print(sale)"
   ]
  },
  {
   "cell_type": "markdown",
   "metadata": {},
   "source": [
    "### Exercises"
   ]
  },
  {
   "cell_type": "markdown",
   "metadata": {},
   "source": [
    "**Exercise 1. Create a list of fruits and print all its elements**"
   ]
  },
  {
   "cell_type": "code",
   "execution_count": null,
   "metadata": {},
   "outputs": [],
   "source": [
    "# Solution exercise 1"
   ]
  },
  {
   "cell_type": "markdown",
   "metadata": {},
   "source": [
    "**Exercise 2. Create a list of expenses and print the sum of all the expenses**"
   ]
  },
  {
   "cell_type": "code",
   "execution_count": null,
   "metadata": {},
   "outputs": [],
   "source": [
    "# Solution exercise 1"
   ]
  },
  {
   "cell_type": "code",
   "execution_count": null,
   "metadata": {},
   "outputs": [],
   "source": [
    "# Por cada elemento en mi lista de animales, imprime cada animal\n",
    "animales = [\"gatos\", \"oso\", \"rana\", \"perro\"]\n",
    "for animal in animales:\n",
    "  print(animal)"
   ]
  },
  {
   "cell_type": "code",
   "execution_count": null,
   "metadata": {},
   "outputs": [],
   "source": [
    "# Ejercicio 1. Crear una lista de calificaciones e imprimir cada uno de los valores\n",
    "# Solucion 2. Ocupando un for-each\n",
    "calificaciones = [8, 5, 9, 10, 10]\n",
    "suma = 0\n",
    "for cal in calificaciones:\n",
    "  suma += cal\n",
    "promedio = suma/len(calificaciones)\n",
    "print(promedio)  "
   ]
  },
  {
   "cell_type": "code",
   "execution_count": null,
   "metadata": {},
   "outputs": [],
   "source": [
    "calificaciones = [8, 5, 9, 10, 10]\n",
    "print(calificaciones[0])\n",
    "print(calificaciones[1])\n",
    "print(calificaciones[2])\n",
    "print(calificaciones[3])\n",
    "print(calificaciones[4])"
   ]
  },
  {
   "cell_type": "code",
   "execution_count": null,
   "metadata": {},
   "outputs": [],
   "source": [
    "# for-each\n",
    "ventas = [99.9, 148.50, 230.11, 90.1]\n",
    "total = 0\n",
    "for vent in ventas:\n",
    "  total += vent\n",
    "print(total)"
   ]
  },
  {
   "cell_type": "code",
   "execution_count": null,
   "metadata": {},
   "outputs": [],
   "source": [
    "# for (range)\n",
    "ventas = [99.9, 148.50, 230.11, 90.1]\n",
    "total = 0\n",
    "for pos in range(len(ventas)):\n",
    "  total += ventas[pos]\n",
    "print(total)"
   ]
  },
  {
   "cell_type": "code",
   "execution_count": null,
   "metadata": {},
   "outputs": [],
   "source": [
    "# Range => rango de números\n",
    "# range(inicia, termina*, step)\n",
    "# termina = 5 -> llega hasta el 4.\n",
    "\n",
    "# len() ==> nos da el número de elementos de una lista\n",
    "\n",
    "# numeros = [8, 9, 10, 5]\n",
    "# print(numeros[0]) # Acceder al primer elemento\n",
    "# print(numeros[5]) # 5\n",
    "# print(numeros[-1])"
   ]
  },
  {
   "cell_type": "code",
   "execution_count": null,
   "metadata": {},
   "outputs": [],
   "source": [
    "numeros = [8, 9, 10, 5, 9, 10, 5,9, 10, 5, 6]\n",
    "print(numeros[8])"
   ]
  },
  {
   "cell_type": "code",
   "execution_count": null,
   "metadata": {},
   "outputs": [],
   "source": [
    "# WHILE. Cuando no sabemos antes del ejercicio cuando va a terminar nuestro programa.\n",
    "\n",
    "# inicializar una variable\n",
    "# while (condicion):\n",
    "#   accion que se repite\n",
    "#   actualizacion de la variable"
   ]
  },
  {
   "cell_type": "code",
   "execution_count": null,
   "metadata": {},
   "outputs": [],
   "source": [
    "# CICLO INFINITO\n",
    "# Es una accion que se repite de forma indefinida.\n",
    "# Que nos falte la actualizacion\n",
    "# Que la actualizacion sea incorrecta"
   ]
  },
  {
   "cell_type": "code",
   "execution_count": null,
   "metadata": {},
   "outputs": [],
   "source": []
  },
  {
   "cell_type": "code",
   "execution_count": null,
   "metadata": {},
   "outputs": [],
   "source": []
  },
  {
   "cell_type": "code",
   "execution_count": null,
   "metadata": {},
   "outputs": [],
   "source": []
  },
  {
   "cell_type": "code",
   "execution_count": null,
   "metadata": {},
   "outputs": [],
   "source": []
  },
  {
   "cell_type": "markdown",
   "metadata": {},
   "source": [
    "**Ejemplo 1. Imprimir 10 veces la palabra \"hola\"**"
   ]
  },
  {
   "cell_type": "code",
   "execution_count": null,
   "metadata": {},
   "outputs": [],
   "source": []
  },
  {
   "cell_type": "code",
   "execution_count": null,
   "metadata": {},
   "outputs": [],
   "source": []
  },
  {
   "cell_type": "code",
   "execution_count": null,
   "metadata": {},
   "outputs": [],
   "source": []
  },
  {
   "cell_type": "code",
   "execution_count": null,
   "metadata": {},
   "outputs": [],
   "source": [
    "x = 1\n",
    "if x < 10:\n",
    "  print(\"hola\")"
   ]
  },
  {
   "cell_type": "code",
   "execution_count": null,
   "metadata": {},
   "outputs": [],
   "source": []
  },
  {
   "cell_type": "code",
   "execution_count": null,
   "metadata": {},
   "outputs": [],
   "source": [
    "x = 0 # x = 0\n",
    "while (x < 10): # -5 < 10? True\n",
    "  print(\"hola\")\n",
    "  x -= 1\n",
    "print(\"termino\")"
   ]
  },
  {
   "cell_type": "markdown",
   "metadata": {},
   "source": [
    "**Ejemplo 2. Imprimir los numeros del 0 al 9**"
   ]
  },
  {
   "cell_type": "code",
   "execution_count": null,
   "metadata": {},
   "outputs": [],
   "source": []
  },
  {
   "cell_type": "code",
   "execution_count": null,
   "metadata": {},
   "outputs": [],
   "source": [
    "# Ejercicio. Imprimir los numeros del 1 al 10\n",
    "\n",
    "x = 1\n",
    "while (x <= 10):\n",
    "  print(x)\n",
    "  x += 1"
   ]
  },
  {
   "cell_type": "code",
   "execution_count": null,
   "metadata": {},
   "outputs": [],
   "source": []
  },
  {
   "cell_type": "code",
   "execution_count": null,
   "metadata": {},
   "outputs": [],
   "source": [
    "for v in range(5, 16, 1):\n",
    "  print(v) "
   ]
  },
  {
   "cell_type": "code",
   "execution_count": null,
   "metadata": {},
   "outputs": [],
   "source": [
    "# Ejercicio 2. Imprimir los numeros del 5 al 15\n",
    "x = 5\n",
    "while(x <= 15):\n",
    "  print(x)\n",
    "  x += 1"
   ]
  },
  {
   "cell_type": "code",
   "execution_count": null,
   "metadata": {},
   "outputs": [],
   "source": []
  },
  {
   "cell_type": "code",
   "execution_count": null,
   "metadata": {},
   "outputs": [],
   "source": [
    "1 % 2\n",
    "# 1 == 0?? ==> False"
   ]
  },
  {
   "cell_type": "code",
   "execution_count": null,
   "metadata": {},
   "outputs": [],
   "source": [
    "# Ejercicio 3. Imprimir los numeros pares entre el 0 y el 20.\n",
    "\n",
    "x = 0 # x = 1\n",
    "while (x <= 20): # False\n",
    "  if x % 2 == 0:\n",
    "    print(x)\n",
    "  x += 1\n"
   ]
  },
  {
   "cell_type": "code",
   "execution_count": null,
   "metadata": {},
   "outputs": [],
   "source": [
    "x = 0 # x = 1\n",
    "while (x <= 20): # False\n",
    "  print(x)\n",
    "  x += 2"
   ]
  },
  {
   "cell_type": "code",
   "execution_count": null,
   "metadata": {},
   "outputs": [],
   "source": [
    "# Ejercicio 5. Imprimir los siguientes numeros: 20, 19, 18, 17, ..., 1\n",
    "x = 20\n",
    "while (x >= 1): # 20 <= 20?? \n",
    "  print(x)\n",
    "  x -= 1"
   ]
  },
  {
   "cell_type": "code",
   "execution_count": null,
   "metadata": {},
   "outputs": [],
   "source": []
  },
  {
   "cell_type": "code",
   "execution_count": null,
   "metadata": {},
   "outputs": [],
   "source": []
  },
  {
   "cell_type": "code",
   "execution_count": null,
   "metadata": {},
   "outputs": [],
   "source": [
    "# Adivina el número. (11 intentos)\n",
    "# Adivinar un número entre el 1 y el 100.\n",
    "# 5, no el número que estoy pensando es más grande\n",
    "# 8, no el número que estoy pensando es más grande\n",
    "# 20, no el número que estoy pensando es más grande\n",
    "# 50, no el número que estoy pensando es más chico\n",
    "# 40, no el número que estoy pensando es más chico\n",
    "# 35, no el número que estoy pensando es más chico\n",
    "# 32, no el número que estoy pensando es más chico\n",
    "# 25, no el número que estoy pensando es más grande\n",
    "# 27, no el número que estoy pensando es más grande\n",
    "# 29 no el número que estoy pensando es más chico\n",
    "# 28, correcto. Ganaste!!"
   ]
  },
  {
   "cell_type": "markdown",
   "metadata": {},
   "source": [
    "# Guess a number game\n",
    "1. Create a guess loop to ask the user for a number between 1 and 100 until the user guesses a random number.\n",
    "2. Give a hint to the user if the given value is less or greater than the random number.\n",
    "3. Use a random number \n",
    "4. Let the user know wether the number is correct or not.\n",
    "5. Add some difficulty by only letting the user to have a determined number of chances."
   ]
  },
  {
   "cell_type": "code",
   "execution_count": null,
   "metadata": {},
   "outputs": [],
   "source": []
  },
  {
   "cell_type": "code",
   "execution_count": null,
   "metadata": {},
   "outputs": [],
   "source": [
    "# mientras no adivinaste el número, yo te seguía pidiendo otro número y te daba una pista\n",
    "\n",
    "numero = int(input(\"Dame un numero entre 1 y 100\")) #inicializar la variable\n",
    "numero_adivinar = 28\n",
    "\n",
    "while(numero != numero_adivinar): #while (condicion)\n",
    "  # le debemos dar una pista dependiendo el valor que nos den.\n",
    "  # Lo que se repite\n",
    "  if numero < numero_adivinar:\n",
    "    print(\"Te pasaste\")\n",
    "\n",
    "  # Pedir otro número (actualizacion)\n"
   ]
  },
  {
   "cell_type": "code",
   "execution_count": null,
   "metadata": {},
   "outputs": [],
   "source": []
  },
  {
   "cell_type": "code",
   "execution_count": null,
   "metadata": {},
   "outputs": [],
   "source": []
  },
  {
   "cell_type": "markdown",
   "metadata": {},
   "source": [
    "## Final exercises\n",
    "1. GIven a list of elements, return the highest number in that list."
   ]
  }
 ],
 "metadata": {
  "kernelspec": {
   "display_name": "Python 3",
   "language": "python",
   "name": "python3"
  },
  "language_info": {
   "codemirror_mode": {
    "name": "ipython",
    "version": 3
   },
   "file_extension": ".py",
   "mimetype": "text/x-python",
   "name": "python",
   "nbconvert_exporter": "python",
   "pygments_lexer": "ipython3",
   "version": "3.12.0"
  }
 },
 "nbformat": 4,
 "nbformat_minor": 2
}
