{
 "cells": [
  {
   "cell_type": "markdown",
   "id": "8d59b623",
   "metadata": {},
   "source": [
    "# <center> Functions </center>"
   ]
  },
  {
   "cell_type": "markdown",
   "id": "0c42e3c5",
   "metadata": {},
   "source": [
    "In this module, we will see the following topics:\n",
    "1. [Why use functions.](#why_use_functions)\n",
    "2. [Functions.](#functions)\n",
    "3. [Math functions.](#math_functions)\n",
    "4. [Function composition.](#function_composition)\n",
    "5. [Creating our own functions.](#creating_our_own_functions)\n",
    "6. [Exercises.](#exercises)"
   ]
  },
  {
   "cell_type": "markdown",
   "id": "82c18ed4",
   "metadata": {},
   "source": [
    "<a id='why_use_functions'></a>"
   ]
  },
  {
   "cell_type": "markdown",
   "id": "97950133",
   "metadata": {},
   "source": [
    "## 1. Why use functions?"
   ]
  },
  {
   "cell_type": "markdown",
   "id": "c4b8dd87",
   "metadata": {},
   "source": [
    "There are several reasons of why using functions:\n",
    "1. Creating a function gives you the opportunity to name a **group of statements**, which makes your program easier to read and debug.\n",
    "2. Functions make a program smaller by **eliminating repetitive code.**\n",
    "3. Once you write and debug one, you can **reuse it.**"
   ]
  },
  {
   "cell_type": "markdown",
   "id": "2c66bb2d",
   "metadata": {},
   "source": [
    "<a id='functions'></a>"
   ]
  },
  {
   "cell_type": "markdown",
   "id": "a9864230",
   "metadata": {},
   "source": [
    "## 2. Functions"
   ]
  },
  {
   "cell_type": "markdown",
   "id": "a513c41a",
   "metadata": {},
   "source": [
    "* A **function** is a reusable block of programming statements designed to perform a certain task.\n",
    "* When defining a function, we specify the name and the sequence of statements. Later, we can *call* the function by its name."
   ]
  },
  {
   "cell_type": "markdown",
   "id": "b1948c11",
   "metadata": {},
   "source": [
    "![Function](images/function1.png)"
   ]
  },
  {
   "cell_type": "markdown",
   "id": "01fa4834",
   "metadata": {},
   "source": [
    "**Example 1. Some built-in functions**"
   ]
  },
  {
   "cell_type": "code",
   "execution_count": 3,
   "id": "ffdd833f",
   "metadata": {},
   "outputs": [
    {
     "name": "stdout",
     "output_type": "stream",
     "text": [
      "This is a message\n"
     ]
    }
   ],
   "source": [
    "print(\"This is a message\")"
   ]
  },
  {
   "cell_type": "code",
   "execution_count": 4,
   "id": "206ada2e",
   "metadata": {},
   "outputs": [
    {
     "data": {
      "text/plain": [
       "float"
      ]
     },
     "execution_count": 4,
     "metadata": {},
     "output_type": "execute_result"
    }
   ],
   "source": [
    "type(8.5)"
   ]
  },
  {
   "cell_type": "code",
   "execution_count": 5,
   "id": "7cb07a5e",
   "metadata": {},
   "outputs": [
    {
     "data": {
      "text/plain": [
       "'8.3'"
      ]
     },
     "execution_count": 5,
     "metadata": {},
     "output_type": "execute_result"
    }
   ],
   "source": [
    "str(8.3)"
   ]
  },
  {
   "cell_type": "markdown",
   "id": "4f71865a",
   "metadata": {},
   "source": [
    "### 2.1 Name, argument(s) and return value."
   ]
  },
  {
   "cell_type": "markdown",
   "id": "6cd75e8d",
   "metadata": {},
   "source": [
    "There are three important features within a function:\n",
    "1. **Name.** The name how we can identify the function.\n",
    "2. **Argument(s).** The expression in parentheses is called the argument(s), and can also be called parameter(s).\n",
    "3. **Return value.** The result of executing the function."
   ]
  },
  {
   "cell_type": "markdown",
   "id": "614d6454",
   "metadata": {},
   "source": [
    "**Example 2. Name, argument, and return value of built-in functions**"
   ]
  },
  {
   "cell_type": "code",
   "execution_count": 6,
   "id": "3b905411",
   "metadata": {},
   "outputs": [
    {
     "name": "stdout",
     "output_type": "stream",
     "text": [
      "Goodbye!\n"
     ]
    }
   ],
   "source": [
    "print(\"Goodbye!\")"
   ]
  },
  {
   "cell_type": "code",
   "execution_count": 7,
   "id": "e88c46a6",
   "metadata": {},
   "outputs": [
    {
     "data": {
      "text/plain": [
       "float"
      ]
     },
     "execution_count": 7,
     "metadata": {},
     "output_type": "execute_result"
    }
   ],
   "source": [
    "type(14.3)"
   ]
  },
  {
   "cell_type": "code",
   "execution_count": 8,
   "id": "df8cc8a9",
   "metadata": {},
   "outputs": [
    {
     "data": {
      "text/plain": [
       "8"
      ]
     },
     "execution_count": 8,
     "metadata": {},
     "output_type": "execute_result"
    }
   ],
   "source": [
    "int(\"8\")"
   ]
  },
  {
   "cell_type": "markdown",
   "id": "76bbb77b",
   "metadata": {},
   "source": [
    "*What are the names, their argument(s), and the return values of the functions from the previous examples?*"
   ]
  },
  {
   "cell_type": "markdown",
   "id": "36305330",
   "metadata": {},
   "source": [
    "<a id='math_functions'></a>"
   ]
  },
  {
   "cell_type": "markdown",
   "id": "edca1eb0",
   "metadata": {},
   "source": [
    "## 3. Math functions"
   ]
  },
  {
   "cell_type": "markdown",
   "id": "537540d4",
   "metadata": {},
   "source": [
    "* Python has a math module that provides most of the familiar mathematical functions. \n",
    "* A **module** is a file that contains a collection of related functions."
   ]
  },
  {
   "cell_type": "code",
   "execution_count": 3,
   "id": "794a1c7b",
   "metadata": {},
   "outputs": [],
   "source": [
    "import math"
   ]
  },
  {
   "cell_type": "markdown",
   "id": "12b6d69a",
   "metadata": {},
   "source": [
    "**Example 1. Converting from degrees to radians**"
   ]
  },
  {
   "cell_type": "code",
   "execution_count": 10,
   "id": "8254d027",
   "metadata": {},
   "outputs": [
    {
     "name": "stdout",
     "output_type": "stream",
     "text": [
      "0.7853981633974483\n"
     ]
    }
   ],
   "source": [
    "degrees = 45\n",
    "radianes = math.pi * degrees / 180\n",
    "print(radianes)"
   ]
  },
  {
   "cell_type": "markdown",
   "id": "cac46256",
   "metadata": {},
   "source": [
    "**Example 2. Square root of a number**"
   ]
  },
  {
   "cell_type": "code",
   "execution_count": 11,
   "id": "6e0a504a",
   "metadata": {},
   "outputs": [
    {
     "data": {
      "text/plain": [
       "9.181503144910424"
      ]
     },
     "execution_count": 11,
     "metadata": {},
     "output_type": "execute_result"
    }
   ],
   "source": [
    "number = 84.3\n",
    "math.sqrt(number)"
   ]
  },
  {
   "cell_type": "markdown",
   "id": "6ab57db0",
   "metadata": {},
   "source": [
    "**Example 3. The value of $e$**"
   ]
  },
  {
   "cell_type": "code",
   "execution_count": 12,
   "id": "921fc7d8",
   "metadata": {},
   "outputs": [
    {
     "data": {
      "text/plain": [
       "2.718281828459045"
      ]
     },
     "execution_count": 12,
     "metadata": {},
     "output_type": "execute_result"
    }
   ],
   "source": [
    "math.exp(1)"
   ]
  },
  {
   "cell_type": "markdown",
   "id": "f32da3d3",
   "metadata": {},
   "source": [
    "**Example 4. $a$ to the power of $b$**"
   ]
  },
  {
   "cell_type": "code",
   "execution_count": 13,
   "id": "e5534fe7",
   "metadata": {},
   "outputs": [
    {
     "data": {
      "text/plain": [
       "32.0"
      ]
     },
     "execution_count": 13,
     "metadata": {},
     "output_type": "execute_result"
    }
   ],
   "source": [
    "a = 2\n",
    "b = 5\n",
    "math.pow(a, b)"
   ]
  },
  {
   "cell_type": "markdown",
   "id": "82c99e52",
   "metadata": {},
   "source": [
    "*What is the name, the argument(s), and the return value of the function in the example 4?*"
   ]
  },
  {
   "cell_type": "markdown",
   "id": "9f823e4b",
   "metadata": {},
   "source": [
    "**<font color = red> Note that a function can have 0, 1, 2 or more arguments </font>**."
   ]
  },
  {
   "cell_type": "markdown",
   "id": "3a60de94",
   "metadata": {},
   "source": [
    "### 3.1 Other mathematical functions"
   ]
  },
  {
   "cell_type": "markdown",
   "id": "2a3cd5f3",
   "metadata": {},
   "source": [
    "There are many other mathematical functions that we can use:\n",
    "<code>sin()</code>, <code>cos()</code>, <code>ceil()</code>, <code>floor()</code>, <code>factorial()</code>, etc..."
   ]
  },
  {
   "cell_type": "markdown",
   "id": "945393ba",
   "metadata": {},
   "source": [
    "**Example 1. $log_2 (100)$**"
   ]
  },
  {
   "cell_type": "code",
   "execution_count": 3,
   "id": "583255e2",
   "metadata": {},
   "outputs": [
    {
     "data": {
      "text/plain": [
       "6.643856189774724"
      ]
     },
     "execution_count": 3,
     "metadata": {},
     "output_type": "execute_result"
    }
   ],
   "source": [
    "math.log2(100)"
   ]
  },
  {
   "cell_type": "markdown",
   "id": "ec40b686",
   "metadata": {},
   "source": [
    "**Example 2. Ceil of a number**"
   ]
  },
  {
   "cell_type": "code",
   "execution_count": 4,
   "id": "619d3458",
   "metadata": {},
   "outputs": [
    {
     "data": {
      "text/plain": [
       "9"
      ]
     },
     "execution_count": 4,
     "metadata": {},
     "output_type": "execute_result"
    }
   ],
   "source": [
    "math.ceil(8.3)"
   ]
  },
  {
   "cell_type": "markdown",
   "id": "3032064e",
   "metadata": {},
   "source": [
    "**Example 3. Floor of a number**"
   ]
  },
  {
   "cell_type": "code",
   "execution_count": 23,
   "id": "96e96e25",
   "metadata": {},
   "outputs": [
    {
     "data": {
      "text/plain": [
       "8"
      ]
     },
     "execution_count": 23,
     "metadata": {},
     "output_type": "execute_result"
    }
   ],
   "source": [
    "math.floor(8.4)"
   ]
  },
  {
   "cell_type": "markdown",
   "id": "010bfde4",
   "metadata": {},
   "source": [
    "**Example 4. Factorial of a number**"
   ]
  },
  {
   "cell_type": "code",
   "execution_count": 6,
   "id": "08c48f1c",
   "metadata": {},
   "outputs": [
    {
     "data": {
      "text/plain": [
       "6"
      ]
     },
     "execution_count": 6,
     "metadata": {},
     "output_type": "execute_result"
    }
   ],
   "source": [
    "math.factorial(3)"
   ]
  },
  {
   "cell_type": "markdown",
   "id": "c260ca5e",
   "metadata": {},
   "source": [
    "### 3.2 Summary: features of functions"
   ]
  },
  {
   "cell_type": "markdown",
   "id": "a14f74c5",
   "metadata": {},
   "source": [
    "![Function2](images/function2.jpg)\n"
   ]
  },
  {
   "cell_type": "markdown",
   "id": "7a87e4e3",
   "metadata": {},
   "source": [
    "----"
   ]
  },
  {
   "cell_type": "markdown",
   "id": "dfd4047e",
   "metadata": {},
   "source": [
    "<a id='function_composition'></a>"
   ]
  },
  {
   "cell_type": "markdown",
   "id": "815e05a2",
   "metadata": {},
   "source": [
    "## 4. Function composition"
   ]
  },
  {
   "cell_type": "markdown",
   "id": "46ed4bc7",
   "metadata": {},
   "source": [
    "* So far, we have seen at the elements of functions in isolation, but we can **compose** functions.\n",
    "* That is, we can use the return value of a function as an argument of another function."
   ]
  },
  {
   "cell_type": "markdown",
   "id": "f33dc034",
   "metadata": {},
   "source": [
    "**Example 1.  Computing $sin(π/2)$**"
   ]
  },
  {
   "cell_type": "code",
   "execution_count": 4,
   "id": "2188b506",
   "metadata": {},
   "outputs": [
    {
     "data": {
      "text/plain": [
       "1.0"
      ]
     },
     "execution_count": 4,
     "metadata": {},
     "output_type": "execute_result"
    }
   ],
   "source": [
    "math.sin(math.pi/2)"
   ]
  },
  {
   "cell_type": "markdown",
   "id": "9837f559",
   "metadata": {},
   "source": [
    "**Example 2.  Calculating $cos(π)$**"
   ]
  },
  {
   "cell_type": "code",
   "execution_count": 5,
   "id": "618cf01b",
   "metadata": {},
   "outputs": [
    {
     "data": {
      "text/plain": [
       "-1.0"
      ]
     },
     "execution_count": 5,
     "metadata": {},
     "output_type": "execute_result"
    }
   ],
   "source": [
    "math.cos(math.pi)"
   ]
  },
  {
   "cell_type": "markdown",
   "id": "a49e7ec8",
   "metadata": {},
   "source": [
    "**Example 3. $sin()$ of radians**"
   ]
  },
  {
   "cell_type": "code",
   "execution_count": 6,
   "id": "30da4c37",
   "metadata": {},
   "outputs": [
    {
     "data": {
      "text/plain": [
       "0.7071067811865475"
      ]
     },
     "execution_count": 6,
     "metadata": {},
     "output_type": "execute_result"
    }
   ],
   "source": [
    "degrees = 45\n",
    "result = math.sin(degrees / 360.0 * 2 * math.pi)\n",
    "result"
   ]
  },
  {
   "cell_type": "markdown",
   "id": "88764cec",
   "metadata": {},
   "source": [
    "**Example 4. Computing $e(log(π))$**"
   ]
  },
  {
   "cell_type": "code",
   "execution_count": 7,
   "id": "a1e6da01",
   "metadata": {},
   "outputs": [
    {
     "data": {
      "text/plain": [
       "3.141592653589793"
      ]
     },
     "execution_count": 7,
     "metadata": {},
     "output_type": "execute_result"
    }
   ],
   "source": [
    "y = math.exp(math.log(math.pi))\n",
    "y"
   ]
  },
  {
   "cell_type": "markdown",
   "id": "3d4cb2fc",
   "metadata": {},
   "source": [
    "----"
   ]
  },
  {
   "cell_type": "markdown",
   "id": "9e6c7079",
   "metadata": {},
   "source": [
    "<a id='creating_our_own_functions'></a>"
   ]
  },
  {
   "cell_type": "markdown",
   "id": "3bc0dfc1",
   "metadata": {},
   "source": [
    "## 5. Creating our own functions"
   ]
  },
  {
   "cell_type": "markdown",
   "id": "477c87c5",
   "metadata": {},
   "source": [
    "* It is possible to add new functions.\n",
    "* A **function definition** specifies the name of a new function and the sequence of statements that execute when the function is called."
   ]
  },
  {
   "cell_type": "markdown",
   "id": "b6be443a",
   "metadata": {},
   "source": [
    "### 5.1 The syntax of a function"
   ]
  },
  {
   "cell_type": "markdown",
   "id": "92ec1116",
   "metadata": {},
   "source": [
    "```python\n",
    "def function_name(argument1, argument2, ...):\n",
    "    statement(s)\n",
    "```"
   ]
  },
  {
   "cell_type": "markdown",
   "id": "0d08b79d",
   "metadata": {},
   "source": [
    "**Example 1. Say hello to *someone***"
   ]
  },
  {
   "cell_type": "code",
   "execution_count": 10,
   "id": "1df78a39",
   "metadata": {},
   "outputs": [],
   "source": [
    "def say_name(name):\n",
    "    print(\"Hello,\", name)"
   ]
  },
  {
   "cell_type": "markdown",
   "id": "19d8a0cd",
   "metadata": {},
   "source": [
    "**Example 2. Converting from celsius degrees to fahrenheit degrees**"
   ]
  },
  {
   "cell_type": "code",
   "execution_count": 11,
   "id": "521aee52",
   "metadata": {},
   "outputs": [],
   "source": [
    "def celsius_to_fahr(degrees):\n",
    "    fahr = (9/5 * degrees) + 32\n",
    "    print(\"Fahrenheit degrees =\", fahr)"
   ]
  },
  {
   "cell_type": "markdown",
   "id": "beb6ee52",
   "metadata": {},
   "source": [
    "### 5.1 Calling a function"
   ]
  },
  {
   "cell_type": "markdown",
   "id": "31af7a87",
   "metadata": {},
   "source": [
    "We can use the functions that we have already created, and the action of using them is named **calling** or **invoking** a function."
   ]
  },
  {
   "cell_type": "markdown",
   "id": "058b64d1",
   "metadata": {},
   "source": [
    "**Example 1. Calling <code>say_name()</code> function**"
   ]
  },
  {
   "cell_type": "code",
   "execution_count": 17,
   "id": "ca38905e",
   "metadata": {},
   "outputs": [
    {
     "name": "stdout",
     "output_type": "stream",
     "text": [
      "Hello, Jhon\n"
     ]
    }
   ],
   "source": [
    "say_name(\"Jhon\")"
   ]
  },
  {
   "cell_type": "markdown",
   "id": "453dd63d",
   "metadata": {},
   "source": [
    "**Example 2. Invoking <code>celsius_to_fahr()</code> function**"
   ]
  },
  {
   "cell_type": "code",
   "execution_count": 18,
   "id": "13d1f609",
   "metadata": {},
   "outputs": [
    {
     "name": "stdout",
     "output_type": "stream",
     "text": [
      "Fahrenheit degrees = 84.2\n"
     ]
    }
   ],
   "source": [
    "celsius_to_fahr(29)"
   ]
  },
  {
   "cell_type": "markdown",
   "id": "f5c8c5ad",
   "metadata": {},
   "source": [
    "**<font color = red> Notice that the amount of arguments when we *call* a function must be the same when declaring the function.</font>**"
   ]
  },
  {
   "cell_type": "markdown",
   "id": "9e9b2d2b",
   "metadata": {},
   "source": [
    "### 5.2 Calling functions from another function"
   ]
  },
  {
   "cell_type": "markdown",
   "id": "a37bc30d",
   "metadata": {},
   "source": [
    "Not only can we call a function from any part of our code, but we can call a function within another function."
   ]
  },
  {
   "cell_type": "markdown",
   "id": "5f9a861c",
   "metadata": {},
   "source": [
    "**Example 1. Say hello to *someone* multiple times**"
   ]
  },
  {
   "cell_type": "code",
   "execution_count": 19,
   "id": "2548ba07",
   "metadata": {},
   "outputs": [],
   "source": [
    "def say_hello_multiple_times(times, name):\n",
    "    for i in range(times):\n",
    "        say_name(name)"
   ]
  },
  {
   "cell_type": "code",
   "execution_count": 21,
   "id": "5ef2871f",
   "metadata": {},
   "outputs": [
    {
     "name": "stdout",
     "output_type": "stream",
     "text": [
      "Hello, Chris\n",
      "Hello, Chris\n",
      "Hello, Chris\n"
     ]
    }
   ],
   "source": [
    "say_hello_multiple_times(3, \"Chris\")"
   ]
  },
  {
   "cell_type": "markdown",
   "id": "1c7b7825",
   "metadata": {},
   "source": [
    "**Example 2. Converting many celsius degree to fahrenheit**"
   ]
  },
  {
   "cell_type": "code",
   "execution_count": 22,
   "id": "c6f2ff8c",
   "metadata": {},
   "outputs": [],
   "source": [
    "def multiple_celsisus_to_fahr():\n",
    "    celsiusGuadalajara = 35\n",
    "    celsiusCdMx = 28\n",
    "    celsiusMonterrey = 37\n",
    "    celsius_to_fahr(celsiusGuadalajara)\n",
    "    celsius_to_fahr(celsiusCdMx)\n",
    "    celsius_to_fahr(celsiusMonterrey)"
   ]
  },
  {
   "cell_type": "code",
   "execution_count": 23,
   "id": "7c9b9977",
   "metadata": {},
   "outputs": [
    {
     "name": "stdout",
     "output_type": "stream",
     "text": [
      "Fahrenheit degrees = 95.0\n",
      "Fahrenheit degrees = 82.4\n",
      "Fahrenheit degrees = 98.60000000000001\n"
     ]
    }
   ],
   "source": [
    "multiple_celsisus_to_fahr()"
   ]
  },
  {
   "cell_type": "markdown",
   "id": "398eb0a4",
   "metadata": {},
   "source": [
    "### 5.3 Unknown number of arguments"
   ]
  },
  {
   "cell_type": "markdown",
   "id": "53b7f678",
   "metadata": {},
   "source": [
    "A function in Python can have an unknown number of arguments by using an <code>*</code> before the parameter if we don't know the number of arguments that the user is going to pass."
   ]
  },
  {
   "cell_type": "markdown",
   "id": "3a311dbf",
   "metadata": {},
   "source": [
    "**Example 1. Sum of two values**"
   ]
  },
  {
   "cell_type": "code",
   "execution_count": 24,
   "id": "397eb7d4",
   "metadata": {},
   "outputs": [],
   "source": [
    "def suma(a, b):\n",
    "    return a + b"
   ]
  },
  {
   "cell_type": "markdown",
   "id": "d49343bb",
   "metadata": {},
   "source": [
    "**Example 2. Sum of three values**"
   ]
  },
  {
   "cell_type": "code",
   "execution_count": 9,
   "id": "7095647f",
   "metadata": {},
   "outputs": [],
   "source": [
    "def suma(a, b, c):\n",
    "    return a + b + c"
   ]
  },
  {
   "cell_type": "markdown",
   "id": "f0bcc83c",
   "metadata": {},
   "source": [
    "**Example 3. Sum of many values**"
   ]
  },
  {
   "cell_type": "code",
   "execution_count": 25,
   "id": "b6571105",
   "metadata": {},
   "outputs": [],
   "source": [
    "def suma(*nums):\n",
    "    sum = 0\n",
    "    for i in nums:\n",
    "        sum = sum + i\n",
    "    print(sum)"
   ]
  },
  {
   "cell_type": "markdown",
   "id": "e45b0b3c",
   "metadata": {},
   "source": [
    "**Example 4. Greet many persons**"
   ]
  },
  {
   "cell_type": "code",
   "execution_count": 27,
   "id": "3299a5d4",
   "metadata": {},
   "outputs": [],
   "source": [
    "def greet(*names):\n",
    "    print(\"Hello, \")\n",
    "    for person in names:\n",
    "        print(person)"
   ]
  },
  {
   "cell_type": "code",
   "execution_count": 28,
   "id": "e805aa76",
   "metadata": {},
   "outputs": [
    {
     "name": "stdout",
     "output_type": "stream",
     "text": [
      "Hello, \n",
      "Peter\n",
      "Alex\n",
      "Miguel\n",
      "Juan\n"
     ]
    }
   ],
   "source": [
    "greet(\"Peter\", \"Alex\", \"Miguel\", \"Juan\")"
   ]
  },
  {
   "cell_type": "markdown",
   "id": "114c3a5d",
   "metadata": {},
   "source": [
    "### 5.4 Parameter with default value"
   ]
  },
  {
   "cell_type": "markdown",
   "id": "91de1a13",
   "metadata": {},
   "source": [
    "While defining a function, its parameters may be assigned with **default values**. \n",
    "* This default value gets substituted if an appropriate actual parameter is passed when the function is called. \n",
    "* If there is no argument passed, then the default value is used inside the function."
   ]
  },
  {
   "cell_type": "markdown",
   "id": "5237dff7",
   "metadata": {},
   "source": [
    "**Example 1. Function with default value in parameters**"
   ]
  },
  {
   "cell_type": "code",
   "execution_count": 34,
   "id": "6fae667a",
   "metadata": {},
   "outputs": [],
   "source": [
    "def greet(name = 'guest'):\n",
    "    print(\"Hello,\", name)"
   ]
  },
  {
   "cell_type": "code",
   "execution_count": 35,
   "id": "e6c12490",
   "metadata": {},
   "outputs": [
    {
     "name": "stdout",
     "output_type": "stream",
     "text": [
      "Hello, guest\n"
     ]
    }
   ],
   "source": [
    "# the default value is used\n",
    "greet()"
   ]
  },
  {
   "cell_type": "code",
   "execution_count": 36,
   "id": "d1945739",
   "metadata": {},
   "outputs": [
    {
     "name": "stdout",
     "output_type": "stream",
     "text": [
      "Hello, Juan\n"
     ]
    }
   ],
   "source": [
    "# the parameter is used\n",
    "greet(\"Juan\")"
   ]
  },
  {
   "cell_type": "markdown",
   "id": "33140b1d",
   "metadata": {},
   "source": [
    "**Example 2. Sum function with default value**"
   ]
  },
  {
   "cell_type": "code",
   "execution_count": 31,
   "id": "60183923",
   "metadata": {},
   "outputs": [],
   "source": [
    "def sum(a, b = 5):\n",
    "    print(a + b)"
   ]
  },
  {
   "cell_type": "code",
   "execution_count": 32,
   "id": "4e3f52dd",
   "metadata": {},
   "outputs": [
    {
     "name": "stdout",
     "output_type": "stream",
     "text": [
      "15\n"
     ]
    }
   ],
   "source": [
    "# Using two parameters\n",
    "sum(8, 7)"
   ]
  },
  {
   "cell_type": "code",
   "execution_count": 33,
   "id": "a5e1be15",
   "metadata": {},
   "outputs": [
    {
     "name": "stdout",
     "output_type": "stream",
     "text": [
      "13\n"
     ]
    }
   ],
   "source": [
    "# Using the default value\n",
    "sum(8)"
   ]
  },
  {
   "cell_type": "markdown",
   "id": "47a872a7",
   "metadata": {},
   "source": [
    "### 5.5 Functions with return value"
   ]
  },
  {
   "cell_type": "markdown",
   "id": "86470874",
   "metadata": {},
   "source": [
    "Most of the time we need the result of the function to be used in further processes. Hence, the function should return a value."
   ]
  },
  {
   "cell_type": "markdown",
   "id": "26baebb3",
   "metadata": {},
   "source": [
    "**Example 1. Sum function with return value**"
   ]
  },
  {
   "cell_type": "code",
   "execution_count": 35,
   "id": "a06e90c6",
   "metadata": {},
   "outputs": [],
   "source": [
    "def sum(a, b):\n",
    "    return a + b"
   ]
  },
  {
   "cell_type": "code",
   "execution_count": 37,
   "id": "ed710e8e",
   "metadata": {},
   "outputs": [
    {
     "name": "stdout",
     "output_type": "stream",
     "text": [
      "23\n"
     ]
    }
   ],
   "source": [
    "#Assigning to a variable\n",
    "total = sum(8, 15)\n",
    "print(total)"
   ]
  },
  {
   "cell_type": "code",
   "execution_count": 38,
   "id": "8c057a81",
   "metadata": {},
   "outputs": [
    {
     "data": {
      "text/plain": [
       "184"
      ]
     },
     "execution_count": 38,
     "metadata": {},
     "output_type": "execute_result"
    }
   ],
   "source": [
    "total * 8"
   ]
  },
  {
   "cell_type": "markdown",
   "id": "636ac035",
   "metadata": {},
   "source": [
    "**Example 2. Celsius degree to fahrenheit with return value**"
   ]
  },
  {
   "cell_type": "code",
   "execution_count": 40,
   "id": "1d6d53f7",
   "metadata": {},
   "outputs": [],
   "source": [
    "def celsius_to_fahr(degrees):\n",
    "    fahr = (9/5 * degrees) + 32\n",
    "    return fahr"
   ]
  },
  {
   "cell_type": "code",
   "execution_count": 43,
   "id": "921263f5",
   "metadata": {},
   "outputs": [
    {
     "data": {
      "text/plain": [
       "95.0"
      ]
     },
     "execution_count": 43,
     "metadata": {},
     "output_type": "execute_result"
    }
   ],
   "source": [
    "celsius_to_fahr(35)"
   ]
  },
  {
   "cell_type": "markdown",
   "id": "e206d44e",
   "metadata": {},
   "source": [
    "### 5.6 Typing in functions"
   ]
  },
  {
   "cell_type": "markdown",
   "id": "d9181199",
   "metadata": {},
   "source": [
    "We can define the type that the argument or the return value should be."
   ]
  },
  {
   "cell_type": "markdown",
   "id": "0ab0ceb8",
   "metadata": {},
   "source": [
    "**Example 1. Typing a function**"
   ]
  },
  {
   "cell_type": "code",
   "execution_count": 42,
   "id": "30a5f785",
   "metadata": {},
   "outputs": [],
   "source": [
    "def greetings(name:str) -> str:\n",
    "    return \"Hello \" + name"
   ]
  },
  {
   "cell_type": "code",
   "execution_count": 43,
   "id": "3b4b589e",
   "metadata": {},
   "outputs": [
    {
     "data": {
      "text/plain": [
       "'Hello Juan'"
      ]
     },
     "execution_count": 43,
     "metadata": {},
     "output_type": "execute_result"
    }
   ],
   "source": [
    "greetings(\"Juan\")"
   ]
  },
  {
   "cell_type": "code",
   "execution_count": 44,
   "id": "fc336ddb",
   "metadata": {},
   "outputs": [],
   "source": [
    "def sum_of_integers(num1: int, num2: int) -> int:\n",
    "    return num1 + num2"
   ]
  },
  {
   "cell_type": "code",
   "execution_count": 77,
   "id": "b844d08a",
   "metadata": {},
   "outputs": [
    {
     "data": {
      "text/plain": [
       "15.4"
      ]
     },
     "execution_count": 77,
     "metadata": {},
     "output_type": "execute_result"
    }
   ],
   "source": [
    "sum_of_integers(8.3, 7.1)"
   ]
  },
  {
   "cell_type": "markdown",
   "id": "b23f3c2c",
   "metadata": {},
   "source": [
    "----"
   ]
  },
  {
   "cell_type": "markdown",
   "id": "f630d182",
   "metadata": {},
   "source": [
    "<a id='exercises'></a>"
   ]
  },
  {
   "cell_type": "markdown",
   "id": "f97c5add",
   "metadata": {},
   "source": [
    "### 6. Exercises"
   ]
  },
  {
   "cell_type": "markdown",
   "id": "6a03c1cb",
   "metadata": {},
   "source": [
    "**1. Make a function that converts from hours to minutes.**\n",
    "\n",
    "Example. 28 hours = 1680 minutes\n"
   ]
  },
  {
   "cell_type": "code",
   "execution_count": null,
   "id": "695a1e50",
   "metadata": {},
   "outputs": [],
   "source": []
  },
  {
   "cell_type": "markdown",
   "id": "806ca537",
   "metadata": {},
   "source": [
    "**2. Make a function that computes the area of a triangle.**\n",
    "\n",
    "$$Area = \\frac{base * height} {2}$$"
   ]
  },
  {
   "cell_type": "code",
   "execution_count": null,
   "id": "652a3f53",
   "metadata": {},
   "outputs": [],
   "source": []
  },
  {
   "cell_type": "markdown",
   "id": "cd381b14",
   "metadata": {},
   "source": [
    "**3. Make a function that converts from degrees to radians.**\n",
    "\n",
    "$$radians = \\frac{π * degrees}{180}$$\n"
   ]
  },
  {
   "cell_type": "code",
   "execution_count": null,
   "id": "006b1c48",
   "metadata": {},
   "outputs": [],
   "source": []
  },
  {
   "cell_type": "markdown",
   "id": "817041c9",
   "metadata": {},
   "source": [
    "**4. Make a function that computes the area of a Circle. Ask to the user for the radius.**\n",
    "\n",
    "$$Area = π * r^2$$"
   ]
  },
  {
   "cell_type": "code",
   "execution_count": null,
   "id": "e8b02d03",
   "metadata": {},
   "outputs": [],
   "source": []
  },
  {
   "cell_type": "markdown",
   "id": "01960377",
   "metadata": {},
   "source": [
    "**5. Make a function that computes the logarithm base 10 of a number.**\n",
    "\n",
    "$$log_{10}(p) = \\frac{log_2(p)}{log_2(10)}$$\n"
   ]
  },
  {
   "cell_type": "code",
   "execution_count": null,
   "id": "83237e1c",
   "metadata": {},
   "outputs": [],
   "source": []
  },
  {
   "cell_type": "markdown",
   "id": "d99bcd5d",
   "metadata": {},
   "source": [
    "**6. Make a function that computes the distance between two points in the Cartesian plane**\n",
    "\n",
    "$$\\sqrt{(x_2-x_1)^2 + (y_2-y_1)^2}$$"
   ]
  },
  {
   "cell_type": "code",
   "execution_count": null,
   "id": "645931e9",
   "metadata": {},
   "outputs": [],
   "source": []
  },
  {
   "cell_type": "markdown",
   "id": "2132625f",
   "metadata": {},
   "source": [
    "**7. Make a function that computes the maximum of three numbers.**\n",
    "\n",
    "Example. \n",
    "```python\n",
    "    num1 = 7\n",
    "    num2 = 8\n",
    "    num3 = 10\n",
    "```\n"
   ]
  },
  {
   "cell_type": "code",
   "execution_count": null,
   "id": "ca56ad77",
   "metadata": {},
   "outputs": [],
   "source": []
  },
  {
   "cell_type": "markdown",
   "id": "d67c998a",
   "metadata": {},
   "source": [
    "**8. Make a function to print any multiplication table between 2 and 12.**"
   ]
  },
  {
   "cell_type": "code",
   "execution_count": null,
   "id": "e9f8c21f",
   "metadata": {},
   "outputs": [],
   "source": []
  },
  {
   "cell_type": "markdown",
   "id": "de88d41b",
   "metadata": {},
   "source": [
    "**9. Make a function that computes the factorial of n, with a default parameter of 5**"
   ]
  },
  {
   "cell_type": "code",
   "execution_count": null,
   "id": "286851d2",
   "metadata": {},
   "outputs": [],
   "source": []
  },
  {
   "cell_type": "markdown",
   "id": "2734c377",
   "metadata": {},
   "source": [
    "**10. Make a function that computes the average of $n$ scores.**\n",
    "\n",
    "*Hint: Use the $*$ for an unknown number of arguments*"
   ]
  }
 ],
 "metadata": {
  "kernelspec": {
   "display_name": "Python 3",
   "language": "python",
   "name": "python3"
  },
  "language_info": {
   "codemirror_mode": {
    "name": "ipython",
    "version": 3
   },
   "file_extension": ".py",
   "mimetype": "text/x-python",
   "name": "python",
   "nbconvert_exporter": "python",
   "pygments_lexer": "ipython3",
   "version": "3.8.8"
  },
  "vscode": {
   "interpreter": {
    "hash": "31f2aee4e71d21fbe5cf8b01ff0e069b9275f58929596ceb00d14d90e3e16cd6"
   }
  }
 },
 "nbformat": 4,
 "nbformat_minor": 5
}
