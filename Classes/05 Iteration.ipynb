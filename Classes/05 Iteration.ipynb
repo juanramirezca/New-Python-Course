{
 "cells": [
  {
   "cell_type": "markdown",
   "id": "4d2ac4aa",
   "metadata": {},
   "source": [
    "# <center>Iteration</center>"
   ]
  },
  {
   "cell_type": "markdown",
   "id": "68d0a96d",
   "metadata": {},
   "source": [
    "In this file we will see:\n",
    "1. [Multiple assignment](#multiple_assignment)\n",
    "2. [Updating variables](#updating_variables)\n",
    "3. [The <code>While</code> statement](#while_statement)\n",
    "4. [<code>For</code> statement](#for_statement)\n",
    "5. [Nested iteration](#nested_iteration)\n",
    "6. [The <code>zip</code> function](#zip_function)\n",
    "7. [Exercises](#exercises)"
   ]
  },
  {
   "cell_type": "markdown",
   "id": "5baff32d",
   "metadata": {},
   "source": [
    "<a id = \"multiple_assignment\">"
   ]
  },
  {
   "cell_type": "markdown",
   "id": "dec6f034",
   "metadata": {},
   "source": [
    "## 1. Multiple assignment"
   ]
  },
  {
   "cell_type": "markdown",
   "id": "46850148",
   "metadata": {},
   "source": [
    "* We can make more than one assignment to the same variable.\n",
    "* A new assignment makes an existing variable refer to a new value (and stop refering to the old value)"
   ]
  },
  {
   "cell_type": "markdown",
   "id": "de1708d5",
   "metadata": {},
   "source": [
    "**Example 1. Assigning a new value to a variable**"
   ]
  },
  {
   "cell_type": "code",
   "execution_count": null,
   "id": "6f144010",
   "metadata": {
    "hideCode": false
   },
   "outputs": [],
   "source": [
    "cost = 23\n",
    "print(\"Before new assignment\", cost)\n",
    "cost = 99\n",
    "print(\"After new assignment\", cost)"
   ]
  },
  {
   "cell_type": "markdown",
   "id": "1c20e42e",
   "metadata": {},
   "source": [
    "**Example 2. Assign the value of a variable to another variable**"
   ]
  },
  {
   "cell_type": "code",
   "execution_count": null,
   "id": "05bcc970",
   "metadata": {},
   "outputs": [],
   "source": [
    "a = 7\n",
    "b = a\n",
    "a = 3\n",
    "print(\"A =\", a,\"\\nB =\", b)"
   ]
  },
  {
   "cell_type": "markdown",
   "id": "a864e527",
   "metadata": {},
   "source": [
    "<a id = \"updating_variables\">"
   ]
  },
  {
   "cell_type": "markdown",
   "id": "c433f40e",
   "metadata": {},
   "source": [
    "## 2. Updating variables"
   ]
  },
  {
   "cell_type": "markdown",
   "id": "98c9e3c1",
   "metadata": {},
   "source": [
    "One of the most commons forms of multiple assignment is an **update**, where the new value depends on the old one:"
   ]
  },
  {
   "cell_type": "markdown",
   "id": "e4d08daf",
   "metadata": {},
   "source": [
    "**Example 1. Adding one to a variable $x$**"
   ]
  },
  {
   "cell_type": "code",
   "execution_count": null,
   "id": "9bc7583d",
   "metadata": {},
   "outputs": [],
   "source": [
    "x = 2\n",
    "x = x + 1\n",
    "print(x)"
   ]
  },
  {
   "cell_type": "markdown",
   "id": "f877be0b",
   "metadata": {},
   "source": [
    "**Example 2. Someone's birthday**"
   ]
  },
  {
   "cell_type": "code",
   "execution_count": null,
   "id": "753f08d4",
   "metadata": {},
   "outputs": [],
   "source": [
    "age = 18\n",
    "age = age + 1\n",
    "print(age)"
   ]
  },
  {
   "cell_type": "markdown",
   "id": "a641a3c1",
   "metadata": {},
   "source": [
    "**Example 3. Countdown**"
   ]
  },
  {
   "cell_type": "code",
   "execution_count": null,
   "id": "9bd8ae37",
   "metadata": {},
   "outputs": [],
   "source": [
    "countdown = 3\n",
    "countdown = countdown - 1\n",
    "print(countdown)"
   ]
  },
  {
   "cell_type": "markdown",
   "id": "656862ac",
   "metadata": {},
   "source": [
    "### 2.1 Shortcuts for updating a variable"
   ]
  },
  {
   "cell_type": "markdown",
   "id": "71231f98",
   "metadata": {},
   "source": [
    "There's a form where we can update a variable without using the whole name:"
   ]
  },
  {
   "cell_type": "markdown",
   "id": "46f87c35",
   "metadata": {},
   "source": [
    "**Example 1. Adding one**"
   ]
  },
  {
   "cell_type": "code",
   "execution_count": null,
   "id": "769dfbfa",
   "metadata": {},
   "outputs": [],
   "source": [
    "x = 2\n",
    "x += 1 # x = x + 1\n",
    "print(x)"
   ]
  },
  {
   "cell_type": "markdown",
   "id": "8fd91fc5",
   "metadata": {},
   "source": [
    "**Example 2. Subtracting three**"
   ]
  },
  {
   "cell_type": "code",
   "execution_count": null,
   "id": "7d540de8",
   "metadata": {},
   "outputs": [],
   "source": [
    "countdown = 9\n",
    "countdown -= 3\n",
    "#countdown = countdown - 3\n",
    "print(countdown)"
   ]
  },
  {
   "cell_type": "markdown",
   "id": "1acf1a3b",
   "metadata": {},
   "source": [
    "**Example 3. Multipyling by 2**"
   ]
  },
  {
   "cell_type": "code",
   "execution_count": null,
   "id": "ef1565a4",
   "metadata": {},
   "outputs": [],
   "source": [
    "x = 2\n",
    "x *= 2\n",
    "#x = x * 2\n",
    "x"
   ]
  },
  {
   "cell_type": "markdown",
   "id": "c7110af1",
   "metadata": {},
   "source": [
    "<font color=red> Updating a variable by adding 1 is called an **increment**; subtracting 1 is called **decrement.**</font>"
   ]
  },
  {
   "cell_type": "markdown",
   "id": "d7d8b1de",
   "metadata": {},
   "source": [
    "<a id = \"while_statement\">"
   ]
  },
  {
   "cell_type": "markdown",
   "id": "d6956ee7",
   "metadata": {},
   "source": [
    "## 3. The while statement"
   ]
  },
  {
   "cell_type": "markdown",
   "id": "8407ed37",
   "metadata": {},
   "source": [
    "* Computers are often used to automate repetitive tasks.\n",
    "* Repeating identical or similar tasks without making errors is easy for computers.\n",
    "* We can read the **while** statement as if it were English:"
   ]
  },
  {
   "cell_type": "markdown",
   "id": "27ebcfe5",
   "metadata": {},
   "source": [
    "### 3.1 The while statement syntax"
   ]
  },
  {
   "cell_type": "markdown",
   "id": "8b1857ca",
   "metadata": {},
   "source": [
    "```python\n",
    "variable initalization\n",
    "while <condition that evaluates the variable>:\n",
    "    # statement(s) in case the condition is True\n",
    "    update of the variable\n",
    "\n",
    "program continuation\n",
    "```"
   ]
  },
  {
   "cell_type": "markdown",
   "id": "d3a14c61",
   "metadata": {},
   "source": [
    "**Example 1. Printing $n$ times \"Hello World\"**"
   ]
  },
  {
   "cell_type": "code",
   "execution_count": null,
   "id": "c1e2468c",
   "metadata": {},
   "outputs": [],
   "source": [
    "n = 5\n",
    "while n > 0: \n",
    "    print(\"Hello, World!\")\n",
    "    n -= 1\n",
    "\n",
    "print(\"Goodbye, World!\")"
   ]
  },
  {
   "cell_type": "markdown",
   "id": "b6d174d8",
   "metadata": {},
   "source": [
    "**Example 2. Permission to vote**"
   ]
  },
  {
   "cell_type": "code",
   "execution_count": null,
   "id": "0e99ef0e",
   "metadata": {},
   "outputs": [],
   "source": [
    "age = 14\n",
    "\n",
    "while age < 18:\n",
    "    print(\"Your age is\", age)\n",
    "    print(\"You cannot vote yet!\")\n",
    "    age += 1\n",
    "    \n",
    "print(\"Now you are\", age, \"years old, you can vote!\")"
   ]
  },
  {
   "cell_type": "markdown",
   "id": "825c2793",
   "metadata": {},
   "source": [
    "**Example 3. Total days until Christmas!**"
   ]
  },
  {
   "cell_type": "code",
   "execution_count": null,
   "id": "edc75032",
   "metadata": {},
   "outputs": [],
   "source": [
    "daysUntilChristmas = 10\n",
    "while daysUntilChristmas > 0:\n",
    "    print(daysUntilChristmas, \"days left until Christmas!\")\n",
    "    daysUntilChristmas -= 1\n",
    "    #daysUntilChristmas = daysUntilChristmas - 1 \n",
    "    \n",
    "print(\"Merry Christmas!!\")"
   ]
  },
  {
   "cell_type": "markdown",
   "id": "8018799d",
   "metadata": {},
   "source": [
    "### 3.2 Infinite loop"
   ]
  },
  {
   "cell_type": "markdown",
   "id": "c0f3918a",
   "metadata": {},
   "source": [
    "<font color=red>It's important to update the variable that is inside the while condition. Otherwise, we will have an **INFINITE LOOP**.</font>"
   ]
  },
  {
   "cell_type": "markdown",
   "id": "c7eff59b",
   "metadata": {},
   "source": [
    "**Example 1. Infinite loop**"
   ]
  },
  {
   "cell_type": "code",
   "execution_count": null,
   "id": "aec62336",
   "metadata": {},
   "outputs": [],
   "source": [
    "# Uncomment the following code to see an infinite loop!\n",
    "# n = 0\n",
    "\n",
    "# while n < 5:\n",
    "  #  print(\"Hello, World!\")"
   ]
  },
  {
   "cell_type": "markdown",
   "id": "587b38e4",
   "metadata": {},
   "source": [
    "**Example 2. Classic infinite loop**"
   ]
  },
  {
   "cell_type": "code",
   "execution_count": null,
   "id": "d8c8c526",
   "metadata": {},
   "outputs": [],
   "source": [
    "# Uncomment the following code to see an infinite loop!\n",
    "#while True:\n",
    "    #print(\"I am in an infinite loop!\")"
   ]
  },
  {
   "cell_type": "markdown",
   "id": "63de10d9",
   "metadata": {},
   "source": [
    "### 3.3 break"
   ]
  },
  {
   "cell_type": "markdown",
   "id": "c48f6b05",
   "metadata": {},
   "source": [
    "* Sometimes we don't know if it's time to end a loop until we are half way through the body.\n",
    "* In that case we can use the **break** statement to jump out of the loop."
   ]
  },
  {
   "cell_type": "markdown",
   "id": "6d821a98",
   "metadata": {},
   "source": [
    "**Example 1. Non-valid score**"
   ]
  },
  {
   "cell_type": "code",
   "execution_count": null,
   "id": "50395ea3",
   "metadata": {},
   "outputs": [],
   "source": [
    "score = int(input(\"Give me a score: \"))\n",
    "\n",
    "while True:\n",
    "    if(score < 0 or score > 10):\n",
    "        print(\"Not a valid score!\")\n",
    "        break\n",
    "    else:\n",
    "        print(\"Your score is: \", score)\n",
    "    score = int(input(\"Give me another score: \"))"
   ]
  },
  {
   "cell_type": "markdown",
   "id": "be3dc851",
   "metadata": {},
   "source": [
    "----"
   ]
  },
  {
   "cell_type": "markdown",
   "id": "6f34a9c3",
   "metadata": {},
   "source": [
    "<a id = \"for_statement\">"
   ]
  },
  {
   "cell_type": "markdown",
   "id": "d88f1e91",
   "metadata": {},
   "source": [
    "## 4. For statement"
   ]
  },
  {
   "cell_type": "markdown",
   "id": "4b623c9b",
   "metadata": {},
   "source": [
    "* First we will see a brief introduction of lists in order to use them in loops.\n",
    "* A **list** can be defined as follows:"
   ]
  },
  {
   "cell_type": "code",
   "execution_count": null,
   "id": "9f6213bb",
   "metadata": {},
   "outputs": [],
   "source": [
    "group_animals = [\"dog\", \"cat\", \"lion\", \"gorila\"]"
   ]
  },
  {
   "cell_type": "markdown",
   "id": "ea828ee2",
   "metadata": {},
   "source": [
    "And we can access each animal by its index"
   ]
  },
  {
   "cell_type": "code",
   "execution_count": null,
   "id": "442d8bc7",
   "metadata": {},
   "outputs": [],
   "source": [
    "group_animals[0]"
   ]
  },
  {
   "cell_type": "markdown",
   "id": "1a8bbdc8",
   "metadata": {},
   "source": [
    "In Python we can use **for loop** to iterate over the items of any sequence (a list or a string), in the order that they appear in the sequence."
   ]
  },
  {
   "cell_type": "markdown",
   "id": "326af065",
   "metadata": {},
   "source": [
    "### 4.1 The for statement syntax"
   ]
  },
  {
   "cell_type": "markdown",
   "id": "825000ba",
   "metadata": {},
   "source": [
    "``` python\n",
    "for <variable> in <sequence>:\n",
    "    statement(s) \n",
    "    \n",
    "program continuation\n",
    "```"
   ]
  },
  {
   "cell_type": "markdown",
   "id": "98b57e7a",
   "metadata": {},
   "source": [
    "**Example 1. Printing all the elements of a list**"
   ]
  },
  {
   "cell_type": "code",
   "execution_count": null,
   "id": "72bf7cbc",
   "metadata": {},
   "outputs": [],
   "source": [
    "for animal in group_animals:\n",
    "    print(animal)"
   ]
  },
  {
   "cell_type": "markdown",
   "id": "4742e02a",
   "metadata": {},
   "source": [
    "<font color=red>Note the use of the reserved keywords **for** and **in.**</font>"
   ]
  },
  {
   "cell_type": "markdown",
   "id": "fdcafc86",
   "metadata": {},
   "source": [
    "**Example 2. Printing all the characters of a string**"
   ]
  },
  {
   "cell_type": "code",
   "execution_count": null,
   "id": "5619d89a",
   "metadata": {},
   "outputs": [],
   "source": [
    "greetings = \"Hello!!\" \n",
    "greetings"
   ]
  },
  {
   "cell_type": "code",
   "execution_count": null,
   "id": "92488ceb",
   "metadata": {},
   "outputs": [],
   "source": [
    "for character in greetings:\n",
    "    print(character)"
   ]
  },
  {
   "cell_type": "markdown",
   "id": "dd6fdcd9",
   "metadata": {},
   "source": [
    "Note that a string can be seen as a character list, which contains all the characters present in the string."
   ]
  },
  {
   "cell_type": "markdown",
   "id": "5cf5d22e",
   "metadata": {},
   "source": [
    "**Example 3. Printing a list of scores**"
   ]
  },
  {
   "cell_type": "code",
   "execution_count": null,
   "id": "e9c9f8a8",
   "metadata": {},
   "outputs": [],
   "source": [
    "scores = [8, 7, 9, 10]\n",
    "for sc in scores:\n",
    "    print(sc, end = \" \")"
   ]
  },
  {
   "cell_type": "markdown",
   "id": "338cb60b",
   "metadata": {},
   "source": [
    "**Example 4. Printing a list of float values**"
   ]
  },
  {
   "cell_type": "code",
   "execution_count": null,
   "id": "9cdd1fc5",
   "metadata": {},
   "outputs": [],
   "source": [
    "floatScores = [8.3, 7.2, 9.1, 10.0, 8.7]\n",
    "for score in floatScores:\n",
    "    print(score, end = \" \")"
   ]
  },
  {
   "cell_type": "markdown",
   "id": "10a41a80",
   "metadata": {},
   "source": [
    "### 4.2 The <code><font color = blue;>enumerate()</font></code> function"
   ]
  },
  {
   "cell_type": "markdown",
   "id": "30c8ba4f",
   "metadata": {},
   "source": [
    "So far, we have printed elements of a sequence, list, or string. But if we would like to print also the indices of the sequence, we can use the <code><font color = blue;>enumerate()</font></code> function."
   ]
  },
  {
   "cell_type": "markdown",
   "id": "c5e666ab",
   "metadata": {},
   "source": [
    "**Example 1. A list of students with indices**"
   ]
  },
  {
   "cell_type": "code",
   "execution_count": null,
   "id": "f92c24be",
   "metadata": {},
   "outputs": [],
   "source": [
    "students = [\"Mary\", \"Peter\", \"Will\", \"Jhon\"]\n",
    "for index, student in enumerate(students):\n",
    "    print(\"The student #\", (index + 1), \"is\", student)"
   ]
  },
  {
   "cell_type": "markdown",
   "id": "6b014872",
   "metadata": {},
   "source": [
    "**Example 2. Indices of a list of scores**"
   ]
  },
  {
   "cell_type": "code",
   "execution_count": null,
   "id": "5b9a0cc7",
   "metadata": {},
   "outputs": [],
   "source": [
    "myScoresList = [8.3, 7.2, 9.1, 10.0, 8.7]\n",
    "for ind, sc in enumerate(myScoresList):\n",
    "    print(\"#\", (ind + 1), \"-\", sc)"
   ]
  },
  {
   "cell_type": "markdown",
   "id": "12654fbb",
   "metadata": {},
   "source": [
    "### 4.3 The  <code><font color = blue;>range()</font></code> function"
   ]
  },
  {
   "cell_type": "markdown",
   "id": "a99e1d02",
   "metadata": {},
   "source": [
    "* If we need to iterate over a sequence of numbers, the built-in function <code><font color = blue;>range()</font></code> comes in handy. \n",
    "* It generates arithmetic progressions."
   ]
  },
  {
   "cell_type": "markdown",
   "id": "1bece5d8",
   "metadata": {},
   "source": [
    "**Example 1. Print the first ten values**"
   ]
  },
  {
   "cell_type": "code",
   "execution_count": null,
   "id": "5691d156",
   "metadata": {},
   "outputs": [],
   "source": [
    "for i in range(10):\n",
    "    print(i, end = \" \")"
   ]
  },
  {
   "cell_type": "markdown",
   "id": "79184120",
   "metadata": {},
   "source": [
    "**Example 2. Determining the start and end values of the sequence**"
   ]
  },
  {
   "cell_type": "markdown",
   "id": "5f558f49",
   "metadata": {},
   "source": [
    "We can give two parameters to the <code><font color = blue;>range()</font></code> function to determine the start and the end values of the sequence."
   ]
  },
  {
   "cell_type": "code",
   "execution_count": null,
   "id": "9d1c5485",
   "metadata": {},
   "outputs": [],
   "source": [
    "for x in range(10,16):\n",
    "    print(x, end = \" \")"
   ]
  },
  {
   "cell_type": "markdown",
   "id": "d037f62d",
   "metadata": {},
   "source": [
    "**Example 3. Adding a step**"
   ]
  },
  {
   "cell_type": "markdown",
   "id": "51b1f11e",
   "metadata": {},
   "source": [
    "Furthermore, we can add another parameter to determine the step of the sequence."
   ]
  },
  {
   "cell_type": "code",
   "execution_count": null,
   "id": "86e89645",
   "metadata": {},
   "outputs": [],
   "source": [
    "for num in range(4,20,2):\n",
    "    print(num, end = \" \")"
   ]
  },
  {
   "cell_type": "markdown",
   "id": "fd70d747",
   "metadata": {},
   "source": [
    "**Example 4. Printing a sequence backwards**"
   ]
  },
  {
   "cell_type": "code",
   "execution_count": null,
   "id": "a15842cf",
   "metadata": {
    "scrolled": true
   },
   "outputs": [],
   "source": [
    "for x in range(20, -1, -2):\n",
    "    print(x, end = \" \")"
   ]
  },
  {
   "cell_type": "markdown",
   "id": "d754e42d",
   "metadata": {},
   "source": [
    "### 4.4 The  <code><font color = blue;>len()</font></code> function"
   ]
  },
  {
   "cell_type": "markdown",
   "id": "29afe9e0",
   "metadata": {},
   "source": [
    "We can use the <code><font color = blue;>len()</font></code> function to get the total elements in a sequence, list or string."
   ]
  },
  {
   "cell_type": "code",
   "execution_count": null,
   "id": "fad1ca5b",
   "metadata": {},
   "outputs": [],
   "source": [
    "group_animals"
   ]
  },
  {
   "cell_type": "markdown",
   "id": "0e53c63b",
   "metadata": {},
   "source": [
    "**Example 1. Length of a list of strings**"
   ]
  },
  {
   "cell_type": "code",
   "execution_count": null,
   "id": "2b1ad681",
   "metadata": {},
   "outputs": [],
   "source": [
    "len(group_animals)"
   ]
  },
  {
   "cell_type": "markdown",
   "id": "ef1c7ab1",
   "metadata": {},
   "source": [
    "**Example 2. Length of a long string**"
   ]
  },
  {
   "cell_type": "code",
   "execution_count": null,
   "id": "825e0e3a",
   "metadata": {},
   "outputs": [],
   "source": [
    "longString = 'This is a really long text!'"
   ]
  },
  {
   "cell_type": "code",
   "execution_count": null,
   "id": "c406000a",
   "metadata": {},
   "outputs": [],
   "source": [
    "len(longString)"
   ]
  },
  {
   "cell_type": "markdown",
   "id": "a32fd078",
   "metadata": {},
   "source": [
    "### 4.5 Using <code><font color = blue;>range()</font></code> and <code><font color = blue;>len()</font></code> together"
   ]
  },
  {
   "cell_type": "markdown",
   "id": "93d56a5c",
   "metadata": {},
   "source": [
    "We can use the combination of these two methods to iterate over the indices of a sequence."
   ]
  },
  {
   "cell_type": "markdown",
   "id": "52551448",
   "metadata": {},
   "source": [
    "**Example 1. Printing the indices of a list of students**"
   ]
  },
  {
   "cell_type": "code",
   "execution_count": null,
   "id": "e2e97bbb",
   "metadata": {},
   "outputs": [],
   "source": [
    "students = [\"Mary\", \"Peter\", \"Helen\", \"Jhon\", \"Brad\", \"Brian\"]\n",
    "students"
   ]
  },
  {
   "cell_type": "code",
   "execution_count": null,
   "id": "38d5463a",
   "metadata": {},
   "outputs": [],
   "source": [
    "for i in range(len(students)):\n",
    "    print(i, end = \" \")"
   ]
  },
  {
   "cell_type": "markdown",
   "id": "29ea7651",
   "metadata": {},
   "source": [
    "**Example 2. Printing the elements of the list using indices**"
   ]
  },
  {
   "cell_type": "code",
   "execution_count": null,
   "id": "6a73594f",
   "metadata": {
    "scrolled": true
   },
   "outputs": [],
   "source": [
    "for i in range(len(students)):\n",
    "    print(students[i], end = \" \")"
   ]
  },
  {
   "cell_type": "markdown",
   "id": "13af26ac",
   "metadata": {},
   "source": [
    "**Example 3. Printing the indices and elements of a list of students**"
   ]
  },
  {
   "cell_type": "code",
   "execution_count": null,
   "id": "e883ad17",
   "metadata": {},
   "outputs": [],
   "source": [
    "for i in range(len(students)):\n",
    "    print(i, students[i])"
   ]
  },
  {
   "cell_type": "markdown",
   "id": "e40945b7",
   "metadata": {},
   "source": [
    "<a id = \"nested_iteration\">"
   ]
  },
  {
   "cell_type": "markdown",
   "id": "4c99f363",
   "metadata": {},
   "source": [
    "## 5. Nested iteration"
   ]
  },
  {
   "cell_type": "markdown",
   "id": "9cb4e406",
   "metadata": {},
   "source": [
    "We have seen many examples of loops, but now we can see loops inside another loop. Let's look at the following example to see the importance of a nested iteration."
   ]
  },
  {
   "cell_type": "markdown",
   "id": "d1c899de",
   "metadata": {},
   "source": [
    "**Example 1. Nested loops using a while loop**"
   ]
  },
  {
   "cell_type": "code",
   "execution_count": null,
   "id": "de193b54",
   "metadata": {},
   "outputs": [],
   "source": [
    "outer = 1\n",
    "while outer < 4:\n",
    "    print(\"Outer loop with value = \", outer)\n",
    "    inner = 7\n",
    "    while j < 10:\n",
    "        print(\"Inner loop with value = \", inner)\n",
    "        inner += 1\n",
    "    outer += 1"
   ]
  },
  {
   "cell_type": "markdown",
   "id": "286e8b71",
   "metadata": {},
   "source": [
    "**Example 2. Nested loops using a for loop**"
   ]
  },
  {
   "cell_type": "code",
   "execution_count": null,
   "id": "ec2f7a85",
   "metadata": {},
   "outputs": [],
   "source": [
    "for outer in range(1, 4):\n",
    "    print(\"Outer loop with value = \", outer)\n",
    "    for inner in range(7,10):\n",
    "        print(\"Inner loop with value = \", inner)"
   ]
  },
  {
   "cell_type": "markdown",
   "id": "c77a4628",
   "metadata": {},
   "source": [
    "**Example 3. Using nested loops to do a computation**"
   ]
  },
  {
   "cell_type": "code",
   "execution_count": null,
   "id": "a5a606b6",
   "metadata": {},
   "outputs": [],
   "source": [
    "for i in range(2,5):\n",
    "    for j in range(2,5):\n",
    "        print(i, \"+\", j, \"=\", i + j)"
   ]
  },
  {
   "cell_type": "markdown",
   "id": "e2adb952",
   "metadata": {},
   "source": [
    "----"
   ]
  },
  {
   "cell_type": "markdown",
   "id": "917d22da",
   "metadata": {},
   "source": [
    "## 5.1. How does a nested loop work behind scenes?"
   ]
  },
  {
   "cell_type": "code",
   "execution_count": null,
   "id": "d11545f0",
   "metadata": {},
   "outputs": [],
   "source": [
    "import time as t"
   ]
  },
  {
   "cell_type": "markdown",
   "id": "627a9781",
   "metadata": {},
   "source": [
    "**Example 1. Using the time library**"
   ]
  },
  {
   "cell_type": "code",
   "execution_count": null,
   "id": "51989ce9",
   "metadata": {},
   "outputs": [],
   "source": [
    "t.sleep(3)\n",
    "print(t.ctime())"
   ]
  },
  {
   "cell_type": "markdown",
   "id": "7cda44d6",
   "metadata": {},
   "source": [
    "**Example 2. Nested loops behind scenes**"
   ]
  },
  {
   "cell_type": "code",
   "execution_count": null,
   "id": "82c6ef63",
   "metadata": {},
   "outputs": [],
   "source": [
    "for lap in range(20):\n",
    "    print(\"I am running the lap #\", lap)\n",
    "    t.sleep(5)\n",
    "    for meter in range(100, 1001, 100):\n",
    "        print(\"I have run\", meter, \"meters\")\n",
    "        t.sleep(3)"
   ]
  },
  {
   "cell_type": "markdown",
   "id": "c42c2b32",
   "metadata": {},
   "source": [
    "----"
   ]
  },
  {
   "cell_type": "markdown",
   "id": "c4dcfa97",
   "metadata": {},
   "source": [
    "## Differences between for, for each and while"
   ]
  },
  {
   "cell_type": "markdown",
   "id": "61777209",
   "metadata": {},
   "source": [
    "<table style=\"border: 1px solid black;\">\n",
    "    <tr style=\"border: 1px solid black;\" >\n",
    "        <th><center> </center></th>\n",
    "        <th style=background-color:#3396ff;><center> When to use it? </center></th>\n",
    "        <th style=background-color:#3396ff;><center> Characteristics </center></th>\n",
    "        <th style=background-color:#3396ff;><center> Examples </center></th>\n",
    "    </tr>\n",
    "    <tr style=\"border: 1px solid black;\">\n",
    "        <td style= \"background-color:#33c7ff;\"> <p style=\"text-align:left;background-color:#33c7ff;\"> For </p></td>\n",
    "        <td style=\"border: 1px solid black;\"> <p style=\"text-align:left;\">When we know the exact amount of elements we are handling</p> </td>\n",
    "        <td style=\"border: 1px solid black;\"> <p style=\"text-align:left;\"> We must use the <code>range</code> function</p> </td>\n",
    "        <td style=\"border: 1px solid black;\"> <p style=\"text-align:left;\"> Print the first 100 int numbers</p> </td>\n",
    "    </tr>\n",
    "    <tr style=\"border: 1px solid black;\">\n",
    "        <td style= \"background-color:#33c7ff;\"> <p style=\"text-align:left;\"> For each </p></td>\n",
    "        <td style=\"border: 1px solid black;\"> <p style=\"text-align:left;\"> When we have a list or a sequence of numbers</p> </td>\n",
    "        <td style=\"border: 1px solid black;\"> <p style=\"text-align:left;\"> It iterates over the elements of the list or the sequence</p> </td>\n",
    "        <td style=\"border: 1px solid black;\"> <p style=\"text-align:left;\"> Print the elements of a to-do list</p> </td>\n",
    "    </tr>\n",
    "    <tr style=\"border: 1px solid black;\">\n",
    "        <td style= \"background-color:#33c7ff;\"> <p style=\"text-align:left;\"> While </p></td>\n",
    "        <td style=\"border: 1px solid black;\"> <p style=\"text-align:left;\">When we do not know exactly when the program will end</p> </td>\n",
    "        <td style=\"border: 1px solid black;\"> <p style=\"text-align:left;\">We must declare the stop condition of the loop</p> </td>\n",
    "        <td style=\"border: 1px solid black;\"> <p style=\"text-align:left;\">Determine when a player has won</p> </td>\n",
    "    </tr>\n",
    "</table>"
   ]
  },
  {
   "cell_type": "markdown",
   "id": "8232960d",
   "metadata": {},
   "source": [
    "----"
   ]
  },
  {
   "cell_type": "markdown",
   "id": "2692767b",
   "metadata": {},
   "source": [
    "<a id = \"zip_function\">"
   ]
  },
  {
   "cell_type": "markdown",
   "id": "f53346a4",
   "metadata": {},
   "source": [
    "## 6. The <code><font color = blue;>zip()</font></code> function"
   ]
  },
  {
   "cell_type": "markdown",
   "id": "5204adda",
   "metadata": {},
   "source": [
    "To loop over two or more sequences at the same time, the entries can be paired with the <code><font color = blue;>zip()</font></code> function."
   ]
  },
  {
   "cell_type": "markdown",
   "id": "a5fc9494",
   "metadata": {},
   "source": [
    "**Example 1. Printing students' names with their respective id**"
   ]
  },
  {
   "cell_type": "code",
   "execution_count": null,
   "id": "2a8dfc10",
   "metadata": {},
   "outputs": [],
   "source": [
    "stud_names = ['Ben', 'Ken', 'Lois', 'Mary']\n",
    "stud_id = ['102155', '111423', '117423', '127138']"
   ]
  },
  {
   "cell_type": "code",
   "execution_count": null,
   "id": "b6ff87b7",
   "metadata": {},
   "outputs": [],
   "source": [
    "for _id, stud in zip(stud_id, stud_names):\n",
    "    print(\"ID:\", _id, \"Name:\", stud )"
   ]
  },
  {
   "cell_type": "markdown",
   "id": "3a785c9f",
   "metadata": {},
   "source": [
    "**Example 2. Printing students' names, id and email**"
   ]
  },
  {
   "cell_type": "code",
   "execution_count": null,
   "id": "6ac3b7d7",
   "metadata": {},
   "outputs": [],
   "source": [
    "stud_email = [\"ben@email.com\", \"ken@email.com\", \"lois@email.com\", \"mary@email.com\"]"
   ]
  },
  {
   "cell_type": "code",
   "execution_count": null,
   "id": "ca7fa089",
   "metadata": {},
   "outputs": [],
   "source": [
    "for _id, stud, email in zip(stud_id, stud_names, stud_email):\n",
    "    print(\"ID:\", _id, \"Name:\", stud, \"email:\", email)"
   ]
  },
  {
   "cell_type": "markdown",
   "id": "5e3e11cb",
   "metadata": {},
   "source": [
    "<a id = \"exercises\">"
   ]
  },
  {
   "cell_type": "markdown",
   "id": "2f48bbc7",
   "metadata": {},
   "source": [
    "## 7. Exercises"
   ]
  },
  {
   "cell_type": "markdown",
   "id": "671a2345",
   "metadata": {},
   "source": [
    "**1. Determine if a number is even or odd in the following list.** \n",
    "\n",
    "$$[84, 17, 11, 78, 12, 13, 81, 74]$$"
   ]
  },
  {
   "cell_type": "code",
   "execution_count": null,
   "id": "686fb423",
   "metadata": {},
   "outputs": [],
   "source": []
  },
  {
   "cell_type": "markdown",
   "id": "b160e726",
   "metadata": {},
   "source": [
    "**2. Given the following score, determine which student approves and which one doesn't.** \n",
    "\n",
    "$$[6.5, 7.8, 5.6, 10, 10, 7.3]$$"
   ]
  },
  {
   "cell_type": "code",
   "execution_count": null,
   "id": "c1f06642",
   "metadata": {},
   "outputs": [],
   "source": []
  },
  {
   "cell_type": "markdown",
   "id": "4a141a9f",
   "metadata": {},
   "source": [
    "**3. Using the previous score list, print the average of the list.**"
   ]
  },
  {
   "cell_type": "code",
   "execution_count": null,
   "id": "99181c09",
   "metadata": {},
   "outputs": [],
   "source": []
  },
  {
   "cell_type": "markdown",
   "id": "30262877",
   "metadata": {},
   "source": [
    "**4. Print the seven multiplication table** "
   ]
  },
  {
   "cell_type": "code",
   "execution_count": null,
   "id": "f4639f2f",
   "metadata": {},
   "outputs": [],
   "source": []
  },
  {
   "cell_type": "markdown",
   "id": "9ccd7224",
   "metadata": {},
   "source": [
    "**5. Print the multiplication tables for the values from 2 to 12** "
   ]
  },
  {
   "cell_type": "code",
   "execution_count": null,
   "id": "be70c09e",
   "metadata": {},
   "outputs": [],
   "source": []
  },
  {
   "cell_type": "markdown",
   "id": "fda00fe1",
   "metadata": {},
   "source": [
    "**6. Print the first 10 multiples of seven with their respective indices:** \n",
    "\n",
    "**1 $\\rightarrow$ 7**\n",
    "\n",
    "**2 $\\rightarrow$ 14**\n",
    "\n",
    "**3 $\\rightarrow$ 21**\n",
    "\n",
    "**$ ... $**\n",
    "\n",
    "**10 $\\rightarrow$ 70**\n"
   ]
  },
  {
   "cell_type": "code",
   "execution_count": null,
   "id": "6b717bc0",
   "metadata": {},
   "outputs": [],
   "source": []
  },
  {
   "cell_type": "markdown",
   "id": "9de29bcf",
   "metadata": {},
   "source": [
    "**7. Given a number $n$ from the user, determine all its divisors. A divisor divides the number without any remainder.**"
   ]
  },
  {
   "cell_type": "markdown",
   "id": "e43708cb",
   "metadata": {},
   "source": [
    "**8. Given a number $n$ from the user, determine if it is prime or not.**"
   ]
  },
  {
   "cell_type": "code",
   "execution_count": null,
   "id": "e7bafbe7",
   "metadata": {},
   "outputs": [],
   "source": []
  },
  {
   "cell_type": "markdown",
   "id": "f94c5435",
   "metadata": {},
   "source": [
    "**9. Given two sorted arrays, find the elements of the intersection between them.** \n",
    "\n",
    "*Example 1:*\n",
    "\n",
    "$ a = [1, 2, 2, 4, 5],  b = [0, 2, 2, 4, 4, 4, 6, 9]$\n",
    "\n",
    "**The intersection is $[2, 4]$**\n",
    "\n",
    "*Example 2:*\n",
    "\n",
    "$ a = [4, 6, 8], b = [5, 7, 9]$\n",
    "\n",
    "**The intersection is $[]$**"
   ]
  },
  {
   "cell_type": "markdown",
   "id": "a999b05a",
   "metadata": {},
   "source": [
    "**10. Make a \"game\" that determines if an user has guessed a number between 1 and 100, following the next steps:** \n",
    "\n",
    "1. The game should ask the gamer for a number and only respond whether he/she is right or not.\n",
    "2. Some hints should be given to the user, so the gamer can determine if the given number is greater or less than the number to guess.\n",
    "3. The number to guess should be a random number.\n",
    "4. Give only 6 chances to the user to guess the number.\n",
    "5. The user should be informed if he or she lost and what was the correct number."
   ]
  },
  {
   "cell_type": "markdown",
   "id": "5bbc8c0d",
   "metadata": {},
   "source": [
    "### Extra exercises"
   ]
  },
  {
   "cell_type": "markdown",
   "id": "1f2bc16f",
   "metadata": {},
   "source": [
    "**Print the following pyramides of size $n$.**"
   ]
  },
  {
   "cell_type": "code",
   "execution_count": null,
   "id": "0af0bf02",
   "metadata": {},
   "outputs": [],
   "source": [
    "altura = 10"
   ]
  },
  {
   "cell_type": "markdown",
   "id": "91d2388d",
   "metadata": {},
   "source": [
    "```\n",
    "**********\n",
    "*********\n",
    "********\n",
    "*******\n",
    "******\n",
    "*****\n",
    "****\n",
    "***\n",
    "**\n",
    "*\n",
    "```"
   ]
  },
  {
   "cell_type": "code",
   "execution_count": null,
   "id": "73a9b649",
   "metadata": {},
   "outputs": [],
   "source": [
    "#1. Introduce your code for the pyramid above"
   ]
  },
  {
   "cell_type": "markdown",
   "id": "4b68baf9",
   "metadata": {},
   "source": [
    "```\n",
    "*\n",
    "**\n",
    "***\n",
    "****\n",
    "*****\n",
    "******\n",
    "*******\n",
    "********\n",
    "*********\n",
    "**********\n",
    "```"
   ]
  },
  {
   "cell_type": "code",
   "execution_count": null,
   "id": "085f4916",
   "metadata": {},
   "outputs": [],
   "source": [
    "#2. Introduce your code for the pyramid above"
   ]
  },
  {
   "cell_type": "markdown",
   "id": "cd7d654e",
   "metadata": {},
   "source": [
    "```\n",
    "         * \n",
    "        ** \n",
    "       *** \n",
    "      **** \n",
    "     ***** \n",
    "    ****** \n",
    "   ******* \n",
    "  ******** \n",
    " ********* \n",
    "********** \n",
    "```"
   ]
  },
  {
   "cell_type": "code",
   "execution_count": null,
   "id": "90a9c73d",
   "metadata": {},
   "outputs": [],
   "source": [
    "#3. Introduce your code for the pyramid above"
   ]
  },
  {
   "cell_type": "markdown",
   "id": "831b9175",
   "metadata": {},
   "source": [
    "```\n",
    "********** \n",
    " ********* \n",
    "  ******** \n",
    "   ******* \n",
    "    ****** \n",
    "     ***** \n",
    "      **** \n",
    "       *** \n",
    "        ** \n",
    "         *\n",
    "```"
   ]
  },
  {
   "cell_type": "code",
   "execution_count": null,
   "id": "26dacafe",
   "metadata": {},
   "outputs": [],
   "source": [
    "#4. Introduce your code for the pyramid above"
   ]
  }
 ],
 "metadata": {
  "kernelspec": {
   "display_name": "Python 3",
   "language": "python",
   "name": "python3"
  },
  "language_info": {
   "codemirror_mode": {
    "name": "ipython",
    "version": 3
   },
   "file_extension": ".py",
   "mimetype": "text/x-python",
   "name": "python",
   "nbconvert_exporter": "python",
   "pygments_lexer": "ipython3",
   "version": "3.8.8"
  },
  "vscode": {
   "interpreter": {
    "hash": "31f2aee4e71d21fbe5cf8b01ff0e069b9275f58929596ceb00d14d90e3e16cd6"
   }
  }
 },
 "nbformat": 4,
 "nbformat_minor": 5
}
