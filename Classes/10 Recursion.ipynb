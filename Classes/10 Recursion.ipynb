{
 "cells": [
  {
   "cell_type": "markdown",
   "id": "3636ebef",
   "metadata": {},
   "source": [
    "# <center> Recursion </center>"
   ]
  },
  {
   "cell_type": "markdown",
   "id": "92072a75",
   "metadata": {},
   "source": [
    "![Recursion](images/recursion1.jpg)"
   ]
  },
  {
   "cell_type": "markdown",
   "id": "d9636cec",
   "metadata": {},
   "source": [
    "It is legal for one function to call another. Yet it is also legal for a function to call itself. "
   ]
  },
  {
   "cell_type": "code",
   "execution_count": 7,
   "id": "effd3a3e",
   "metadata": {},
   "outputs": [],
   "source": [
    "# Example 1. Countdown.\n",
    "def countdown(n):\n",
    "    if n <= 0:\n",
    "        print ('Blastoff!')\n",
    "    else:\n",
    "        print (n)\n",
    "        countdown(n - 1)"
   ]
  },
  {
   "cell_type": "code",
   "execution_count": 11,
   "id": "5810717d",
   "metadata": {},
   "outputs": [
    {
     "name": "stdout",
     "output_type": "stream",
     "text": [
      "5\n",
      "4\n",
      "3\n",
      "2\n",
      "1\n",
      "Blastoff!\n"
     ]
    }
   ],
   "source": [
    "countdown(5)"
   ]
  },
  {
   "cell_type": "markdown",
   "id": "e5d44ef5",
   "metadata": {},
   "source": [
    "A function that calls itself is **recursive**, and the process is called **recursion**"
   ]
  },
  {
   "cell_type": "code",
   "execution_count": 10,
   "id": "66f77c5b",
   "metadata": {},
   "outputs": [],
   "source": [
    "# Example 2. Printing n times\n",
    "def print_n(s, n):\n",
    "    if n <= 0:\n",
    "        return\n",
    "    print (s)\n",
    "    print_n(s, n - 1)"
   ]
  },
  {
   "cell_type": "code",
   "execution_count": null,
   "id": "26a6ac1f",
   "metadata": {},
   "outputs": [],
   "source": [
    "# Example 3. Times until our exam!"
   ]
  },
  {
   "cell_type": "code",
   "execution_count": null,
   "id": "d61c8d32",
   "metadata": {},
   "outputs": [],
   "source": []
  },
  {
   "cell_type": "code",
   "execution_count": 12,
   "id": "aea7f8d7",
   "metadata": {},
   "outputs": [],
   "source": [
    "# Example 4. Computing factorial number"
   ]
  },
  {
   "cell_type": "code",
   "execution_count": null,
   "id": "8e05dfda",
   "metadata": {},
   "outputs": [],
   "source": []
  },
  {
   "cell_type": "code",
   "execution_count": 13,
   "id": "b13c1b66",
   "metadata": {},
   "outputs": [],
   "source": [
    "# Example 5. Sum of the first n numbers"
   ]
  },
  {
   "cell_type": "code",
   "execution_count": null,
   "id": "ddc0df5c",
   "metadata": {},
   "outputs": [],
   "source": []
  },
  {
   "cell_type": "code",
   "execution_count": null,
   "id": "e454a036",
   "metadata": {},
   "outputs": [],
   "source": []
  },
  {
   "cell_type": "code",
   "execution_count": null,
   "id": "3293312f",
   "metadata": {},
   "outputs": [],
   "source": []
  },
  {
   "cell_type": "code",
   "execution_count": 14,
   "id": "f978113b",
   "metadata": {},
   "outputs": [],
   "source": [
    "# Example 6. Compute the n-th element of the fibonacci series\n",
    "# fib(0) = 0, fib(1) = 1 fib(n) = fib (n - 1) + fib(n - 2 )\n",
    "# 0 1 1 2 3 5 8 13 21 ..."
   ]
  },
  {
   "cell_type": "code",
   "execution_count": null,
   "id": "06125187",
   "metadata": {},
   "outputs": [],
   "source": []
  },
  {
   "cell_type": "code",
   "execution_count": null,
   "id": "32b6c3ca",
   "metadata": {},
   "outputs": [],
   "source": []
  },
  {
   "cell_type": "markdown",
   "id": "b53e621f",
   "metadata": {},
   "source": [
    "**Example 7. Euclidean Algorithm. Given two positive integer numbers <code>m</code> and <code>n</code>, such that <code>m > n</code>, find the MCD:**\n",
    " 1. Calculate <code>m/n</code> to obtain the remainder <code>r</code>, where <code>0 <= r < n</code>.\n",
    " 2. If <code>r = 0</code>, then <code>MCD = n</code>\n",
    " 2.1 If not, then <code>MCD = MCD(n,r)</code>\n",
    " \n",
    " Example: \n",
    " \n",
    "<code>m = 18</code>,  <code>n = 15</code>,  <code>MCD = 3</code> \n",
    "\n"
   ]
  },
  {
   "cell_type": "markdown",
   "id": "37528c29",
   "metadata": {},
   "source": [
    "## Exercises"
   ]
  },
  {
   "cell_type": "markdown",
   "id": "b0242447",
   "metadata": {},
   "source": [
    "**Exercise 1. The Ackermann Function. This function is defined as follows:** \n",
    "\n",
    "<code> A(m,n)</code> =\n",
    "    \n",
    "    { \n",
    "        n + 1, if m = 0\n",
    "        A(m - 1, 1), if m > 0 and n = 0        \n",
    "        A(m - 1, A(m, n - 1)) if m > 0 and n > 0        \n",
    "    }\n",
    "    \n",
    "#### Example: Ack (3,4) = 125\n",
    "    "
   ]
  },
  {
   "cell_type": "code",
   "execution_count": 44,
   "id": "03afb1a2",
   "metadata": {},
   "outputs": [],
   "source": [
    "# 1, 1\n",
    "def ack_fun(m,n):\n",
    "    if (m == 0):\n",
    "        return n + 1\n",
    "    elif(m > 0 and n == 0):\n",
    "        #A(2,1)\n",
    "        return ack_fun(m - 1, 1)\n",
    "    elif(m > 0 and n > 0):\n",
    "        #A(2, A(3, 3))\n",
    "        #A(2, A(3, 2))\n",
    "        #A(2, A(3, 1))\n",
    "        #A(2, A(3,0))\n",
    "        \n",
    "        return ack_fun(m - 1, ack_fun(m, n - 1))"
   ]
  },
  {
   "cell_type": "code",
   "execution_count": 48,
   "id": "070f2e33",
   "metadata": {},
   "outputs": [
    {
     "name": "stdout",
     "output_type": "stream",
     "text": [
      "125\n"
     ]
    }
   ],
   "source": [
    "print(ack_fun(3,4))"
   ]
  },
  {
   "cell_type": "markdown",
   "id": "c406e70f",
   "metadata": {},
   "source": [
    "**Exercise 2. The palindrome example.**\n",
    "\n",
    "In this example we will see how to determine if a given string <code>s</code> is palindrome or not. This example can be done in two ways:\n",
    "1. Using a loop.\n",
    "2. Using recursion\n",
    "\n",
    "#### Example: \n",
    "<code>s = 'anitalavalatina' </code>"
   ]
  },
  {
   "cell_type": "code",
   "execution_count": 60,
   "id": "99ba1f18",
   "metadata": {},
   "outputs": [],
   "source": [
    "def loop_palindrome(cad):\n",
    "    mid = len(cad) / 2\n",
    "    i = 0\n",
    "    isPalindrome = True\n",
    "    \n",
    "    #a  b\n",
    "    #n  n\n",
    "    #i  i\n",
    "    # ...\n",
    "    #v v\n",
    "    while(isPalindrome == True and i <= mid):\n",
    "        if(cad[i] != cad[len(cad) - (i + 1)]):\n",
    "            isPalindrome = False\n",
    "        i += 1\n",
    "        \n",
    "    return isPalindrome    \n",
    "        "
   ]
  },
  {
   "cell_type": "code",
   "execution_count": 62,
   "id": "868efec5",
   "metadata": {},
   "outputs": [
    {
     "data": {
      "text/plain": [
       "False"
      ]
     },
     "execution_count": 62,
     "metadata": {},
     "output_type": "execute_result"
    }
   ],
   "source": [
    "loop_palindrome(\"anitalavalatina\")"
   ]
  },
  {
   "cell_type": "code",
   "execution_count": 65,
   "id": "6b851ef2",
   "metadata": {},
   "outputs": [],
   "source": [
    "#a\n",
    "#aa\n",
    "#hola\n",
    "def recursive_palindrome(cad):\n",
    "    \n",
    "    if(len(cad) == 1):\n",
    "        return True\n",
    "    elif(cad[0] == cad[len(cad) - 1]):\n",
    "        return recursive_palindrome(cad[1:len(cad) - 1])\n",
    "    else:\n",
    "        return False"
   ]
  },
  {
   "cell_type": "code",
   "execution_count": 69,
   "id": "05cf6251",
   "metadata": {},
   "outputs": [
    {
     "data": {
      "text/plain": [
       "True"
      ]
     },
     "execution_count": 69,
     "metadata": {},
     "output_type": "execute_result"
    }
   ],
   "source": [
    "recursive_palindrome(\"aaa\")"
   ]
  },
  {
   "cell_type": "code",
   "execution_count": null,
   "id": "ce4b1c5b",
   "metadata": {},
   "outputs": [],
   "source": []
  },
  {
   "cell_type": "code",
   "execution_count": null,
   "id": "32e6170e",
   "metadata": {},
   "outputs": [],
   "source": []
  },
  {
   "cell_type": "code",
   "execution_count": null,
   "id": "3ffa22ec",
   "metadata": {},
   "outputs": [],
   "source": []
  }
 ],
 "metadata": {
  "kernelspec": {
   "display_name": "Python 3",
   "language": "python",
   "name": "python3"
  },
  "language_info": {
   "codemirror_mode": {
    "name": "ipython",
    "version": 3
   },
   "file_extension": ".py",
   "mimetype": "text/x-python",
   "name": "python",
   "nbconvert_exporter": "python",
   "pygments_lexer": "ipython3",
   "version": "3.8.8"
  }
 },
 "nbformat": 4,
 "nbformat_minor": 5
}
