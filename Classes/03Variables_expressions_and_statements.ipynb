{
 "cells": [
  {
   "cell_type": "markdown",
   "id": "e935686d",
   "metadata": {},
   "source": [
    "# <center> Variables, expressions, and statements <center>"
   ]
  },
  {
   "cell_type": "markdown",
   "id": "bb69e9ce",
   "metadata": {},
   "source": [
    "In this module, we will cover the following topics:\n",
    "1. [Values](#values)\n",
    "2. [Variables and types](#variables_and_types)\n",
    "3. [Variable names and keywords](#variable_names_and_keywords)\n",
    "4. [Operators and operands](#operators_and_operands)\n",
    "5. [Order of operations](#order_of_operations)\n",
    "6. [Input function](#input_function)\n",
    "7. [Exercises](#exercises)"
   ]
  },
  {
   "cell_type": "markdown",
   "id": "262af73a",
   "metadata": {},
   "source": [
    "<a id = \"values\">"
   ]
  },
  {
   "cell_type": "markdown",
   "id": "60d68fdd",
   "metadata": {},
   "source": [
    "## 1. Values\n",
    "A **value** is one of the basic things a program works with, like a letter or a number.\n",
    "For instance:"
   ]
  },
  {
   "cell_type": "code",
   "execution_count": null,
   "id": "73b028ce",
   "metadata": {},
   "outputs": [],
   "source": [
    "\"Hola Mundo\""
   ]
  },
  {
   "cell_type": "code",
   "execution_count": null,
   "id": "f853a7b2",
   "metadata": {},
   "outputs": [],
   "source": [
    "2.0"
   ]
  },
  {
   "cell_type": "markdown",
   "id": "939bcccb",
   "metadata": {},
   "source": [
    "<a id = \"variables_and_types\">"
   ]
  },
  {
   "cell_type": "markdown",
   "id": "246e4333",
   "metadata": {},
   "source": [
    "## 2. Variables and types\n",
    "A **variable** is a name that refers to a value. In Python, there are four types of variables: \n",
    "* <font color=red>Int</font>: A type value that represents integer numbers.\n",
    "* <font color=red>Floating - point</font>: A type of value that represents numbers with a decimal part.\n",
    "* <font color=red>String</font>: Represents a sequence of characters.\n",
    "* <font color=red>Bool</font>: Represents two types of values: <code>true</code> and <code>false</code>.\n"
   ]
  },
  {
   "cell_type": "code",
   "execution_count": null,
   "id": "ce3194a0",
   "metadata": {},
   "outputs": [],
   "source": [
    "#Integer number\n",
    "1"
   ]
  },
  {
   "cell_type": "code",
   "execution_count": null,
   "id": "24d0266b",
   "metadata": {},
   "outputs": [],
   "source": [
    "# Float number\n",
    "1.13"
   ]
  },
  {
   "cell_type": "code",
   "execution_count": null,
   "id": "66864abe",
   "metadata": {},
   "outputs": [],
   "source": [
    "#String\n",
    "\"Hola Mundo\""
   ]
  },
  {
   "cell_type": "code",
   "execution_count": null,
   "id": "ff11dfda",
   "metadata": {},
   "outputs": [],
   "source": [
    "#Bool\n",
    "False"
   ]
  },
  {
   "cell_type": "markdown",
   "id": "c939bae4",
   "metadata": {},
   "source": [
    "## 2.1 The <code>type</code> fucntion"
   ]
  },
  {
   "cell_type": "markdown",
   "id": "8b4bc695",
   "metadata": {},
   "source": [
    "In Python, there is a built-in function called `type` that identifies the type of a variable."
   ]
  },
  {
   "cell_type": "code",
   "execution_count": null,
   "id": "5754f06d",
   "metadata": {},
   "outputs": [],
   "source": [
    "#Type of an integer\n",
    "type(1)"
   ]
  },
  {
   "cell_type": "code",
   "execution_count": null,
   "id": "4c458f54",
   "metadata": {},
   "outputs": [],
   "source": [
    "#Type of a float\n",
    "type(3.14)"
   ]
  },
  {
   "cell_type": "code",
   "execution_count": null,
   "id": "2b1bb7fa",
   "metadata": {},
   "outputs": [],
   "source": [
    "#Type of a String\n",
    "type(\"Hola,Mundo!\")"
   ]
  },
  {
   "cell_type": "code",
   "execution_count": null,
   "id": "848c0d9e",
   "metadata": {},
   "outputs": [],
   "source": [
    "#Type of a boolean\n",
    "type(False)"
   ]
  },
  {
   "cell_type": "markdown",
   "id": "17808389",
   "metadata": {},
   "source": [
    "## 2.2 Variable assignment\n",
    "A **variable assignment** creates a new variable and assigns value to it."
   ]
  },
  {
   "cell_type": "code",
   "execution_count": null,
   "id": "86fbffc9",
   "metadata": {},
   "outputs": [],
   "source": [
    "message = \"Welcome to class!\"\n",
    "print(message)"
   ]
  },
  {
   "cell_type": "code",
   "execution_count": null,
   "id": "875cea55",
   "metadata": {},
   "outputs": [],
   "source": [
    "score = 9\n",
    "score"
   ]
  },
  {
   "cell_type": "code",
   "execution_count": null,
   "id": "df388b6e",
   "metadata": {},
   "outputs": [],
   "source": [
    "division = 14.7\n",
    "division\n"
   ]
  },
  {
   "cell_type": "markdown",
   "id": "2e4b988e",
   "metadata": {},
   "source": [
    "<a id = \"type_conversion\">"
   ]
  },
  {
   "cell_type": "markdown",
   "id": "521af837",
   "metadata": {},
   "source": [
    "## 2.3 Type conversion"
   ]
  },
  {
   "cell_type": "markdown",
   "id": "74fa560c",
   "metadata": {},
   "source": [
    "Python provides built-in functions to convert between different types of variables.\n"
   ]
  },
  {
   "cell_type": "markdown",
   "id": "0fb553cf",
   "metadata": {},
   "source": [
    "|    Function    |                      Description                       |\n",
    "|----------------|--------------------------------------------------------|\n",
    "| `int(var)`     | Convert a variable or value to an integer              |\n",
    "| `float(var)`   | Convert a variable or value to a floating-point number |\n",
    "| `str(var)`     | Convert a variable or value to a string                |\n",
    "| `bool(var)`    | Convert a variable or value to a boolean               |"
   ]
  },
  {
   "cell_type": "code",
   "execution_count": null,
   "id": "ac6615c6",
   "metadata": {},
   "outputs": [],
   "source": [
    "#Convert from string to integer\n",
    "num = \"3\""
   ]
  },
  {
   "cell_type": "code",
   "execution_count": null,
   "id": "39a79476",
   "metadata": {},
   "outputs": [],
   "source": [
    "int(num)"
   ]
  },
  {
   "cell_type": "code",
   "execution_count": null,
   "id": "1b23522d",
   "metadata": {},
   "outputs": [],
   "source": [
    "#Convert from float to str\n",
    "score = 8.7"
   ]
  },
  {
   "cell_type": "code",
   "execution_count": 47,
   "id": "398d216c",
   "metadata": {},
   "outputs": [
    {
     "data": {
      "text/plain": [
       "'8.7'"
      ]
     },
     "execution_count": 47,
     "metadata": {},
     "output_type": "execute_result"
    }
   ],
   "source": [
    "str(score)"
   ]
  },
  {
   "cell_type": "markdown",
   "id": "0ad7b392",
   "metadata": {},
   "source": [
    "<a id = \"variable_names_and_keywords\">"
   ]
  },
  {
   "cell_type": "markdown",
   "id": "da3f96d1",
   "metadata": {},
   "source": [
    "## 3. Variable names and keywords\n",
    "* Use **meaningful** variable names.\n",
    "* Variable names **must begin with a letter** and can contain letters and numbers. \n",
    "* Certain **reserved keywords** cannot be used as a variable name."
   ]
  },
  {
   "cell_type": "markdown",
   "id": "625bf3ca",
   "metadata": {},
   "source": [
    "**Example 1. Incorrect variable names**"
   ]
  },
  {
   "cell_type": "code",
   "execution_count": 48,
   "id": "117fe583",
   "metadata": {},
   "outputs": [],
   "source": [
    "a = 1"
   ]
  },
  {
   "cell_type": "code",
   "execution_count": 49,
   "id": "6a0df35a",
   "metadata": {},
   "outputs": [],
   "source": [
    "b = 3.14"
   ]
  },
  {
   "cell_type": "code",
   "execution_count": 50,
   "id": "2a2039b2",
   "metadata": {},
   "outputs": [
    {
     "ename": "SyntaxError",
     "evalue": "invalid syntax. Maybe you meant '==' or ':=' instead of '='? (2714262717.py, line 1)",
     "output_type": "error",
     "traceback": [
      "\u001b[1;36m  Cell \u001b[1;32mIn[50], line 1\u001b[1;36m\u001b[0m\n\u001b[1;33m    @xy = 23\u001b[0m\n\u001b[1;37m     ^\u001b[0m\n\u001b[1;31mSyntaxError\u001b[0m\u001b[1;31m:\u001b[0m invalid syntax. Maybe you meant '==' or ':=' instead of '='?\n"
     ]
    }
   ],
   "source": [
    "@xy = 23"
   ]
  },
  {
   "cell_type": "code",
   "execution_count": 51,
   "id": "06cb3b04",
   "metadata": {},
   "outputs": [],
   "source": [
    "n = \"student\""
   ]
  },
  {
   "cell_type": "markdown",
   "id": "0afa17b4",
   "metadata": {},
   "source": [
    "**Example 2: Correct variable names**"
   ]
  },
  {
   "cell_type": "code",
   "execution_count": 52,
   "id": "a826ac93",
   "metadata": {},
   "outputs": [],
   "source": [
    "finalScore = 10"
   ]
  },
  {
   "cell_type": "code",
   "execution_count": 53,
   "id": "0148b4e5",
   "metadata": {},
   "outputs": [],
   "source": [
    "november_salary = 20300.50"
   ]
  },
  {
   "cell_type": "code",
   "execution_count": 54,
   "id": "6e8e234b",
   "metadata": {},
   "outputs": [],
   "source": [
    "model_car = \"Honda\""
   ]
  },
  {
   "cell_type": "markdown",
   "id": "c5a5d6a0",
   "metadata": {},
   "source": [
    "### 3.1 Table of the keywords used in Python and a short description"
   ]
  },
  {
   "cell_type": "markdown",
   "id": "cacc195c",
   "metadata": {},
   "source": [
    "| Keyword          | Description                   |\n",
    "|------------------|-------------------------------|\n",
    "| and              | Boolean AND                   |\n",
    "| as               | Alias                         |\n",
    "| assert           | Debugging                     |\n",
    "| break            | Exit loop                     |\n",
    "| class            | Define class                  |\n",
    "| continue         | Continue loop                 |\n",
    "| def              | Define function               |\n",
    "| del              | Delete item                   |\n",
    "| elif             | Conditional                   |\n",
    "| else             | Else condition                |\n",
    "| except           | Exception handling            |\n",
    "| finally          | Final execution               |\n",
    "| for              | Looping                       |\n",
    "| from             | Import                        |\n",
    "| global           | Global variable               |\n",
    "| if               | Conditional                   |\n",
    "| import           | Import                        |\n",
    "| in               | Membership                    |\n",
    "| is               | Identity                      |\n",
    "| lambda           | Anonymous function            |\n",
    "| nonlocal         | Non-local variable            |\n",
    "| not              | Boolean NOT                   |\n",
    "| or               | Boolean OR                    |\n",
    "| pass             | Placeholder                   |\n",
    "| raise            | Exception raising             |\n",
    "| return           | Return value                  |\n",
    "| try              | Error handling                |\n",
    "| while            | Looping                       |\n",
    "| with             | Resource management           |\n",
    "| yield            | Generator                     |"
   ]
  },
  {
   "cell_type": "markdown",
   "id": "5688ff5a",
   "metadata": {},
   "source": [
    "<a id = \"operators_and_operands\">"
   ]
  },
  {
   "cell_type": "markdown",
   "id": "58c6dcc3",
   "metadata": {},
   "source": [
    "## 4. Operators and operands\n",
    "\n",
    "* **Operators** are symbols that represent computations like addition and multiplication. \n",
    "* The values the operator is applied to are called **operands**."
   ]
  },
  {
   "cell_type": "markdown",
   "id": "a89dd1a2",
   "metadata": {},
   "source": [
    "**Example 1. Adding two sales.**"
   ]
  },
  {
   "cell_type": "code",
   "execution_count": 55,
   "id": "bbd9ce44",
   "metadata": {},
   "outputs": [],
   "source": [
    "sale1 = 8 \n",
    "sale2 = 5"
   ]
  },
  {
   "cell_type": "code",
   "execution_count": 56,
   "id": "dcd619da",
   "metadata": {},
   "outputs": [
    {
     "data": {
      "text/plain": [
       "13"
      ]
     },
     "execution_count": 56,
     "metadata": {},
     "output_type": "execute_result"
    }
   ],
   "source": [
    "sale1 + sale2"
   ]
  },
  {
   "cell_type": "markdown",
   "id": "b417410f",
   "metadata": {},
   "source": [
    "**Example 2. Given the daily salary, compute the monthly salary**"
   ]
  },
  {
   "cell_type": "code",
   "execution_count": 57,
   "id": "2a0e0ecb",
   "metadata": {},
   "outputs": [],
   "source": [
    "daily_salary = 170.55"
   ]
  },
  {
   "cell_type": "code",
   "execution_count": 58,
   "id": "88a18449",
   "metadata": {},
   "outputs": [
    {
     "data": {
      "text/plain": [
       "5116.5"
      ]
     },
     "execution_count": 58,
     "metadata": {},
     "output_type": "execute_result"
    }
   ],
   "source": [
    "daily_salary * 30"
   ]
  },
  {
   "cell_type": "markdown",
   "id": "b12dd99b",
   "metadata": {},
   "source": [
    "**Example 3. Splitting a bill**"
   ]
  },
  {
   "cell_type": "code",
   "execution_count": 59,
   "id": "8ac0071a",
   "metadata": {},
   "outputs": [],
   "source": [
    "total_bill = 1854\n",
    "number_of_friends = 4"
   ]
  },
  {
   "cell_type": "code",
   "execution_count": 60,
   "id": "30585e14",
   "metadata": {},
   "outputs": [
    {
     "name": "stdout",
     "output_type": "stream",
     "text": [
      "463.5\n"
     ]
    }
   ],
   "source": [
    "share_per_friend = total_bill / number_of_friends\n",
    "print(share_per_friend)"
   ]
  },
  {
   "cell_type": "markdown",
   "id": "bc2ff1be",
   "metadata": {},
   "source": [
    "**Example 4. Given a group of friends, compute number of cars needed**"
   ]
  },
  {
   "cell_type": "code",
   "execution_count": 61,
   "id": "7408f435",
   "metadata": {},
   "outputs": [],
   "source": [
    "students = 8\n",
    "candies = 3"
   ]
  },
  {
   "cell_type": "code",
   "execution_count": 62,
   "id": "8400c642",
   "metadata": {},
   "outputs": [
    {
     "data": {
      "text/plain": [
       "2"
      ]
     },
     "execution_count": 62,
     "metadata": {},
     "output_type": "execute_result"
    }
   ],
   "source": [
    "students // candies"
   ]
  },
  {
   "cell_type": "markdown",
   "id": "eb9459fc",
   "metadata": {},
   "source": [
    "**Example 5. Determine if a number is even.**"
   ]
  },
  {
   "cell_type": "code",
   "execution_count": 63,
   "id": "3be365e4",
   "metadata": {},
   "outputs": [],
   "source": [
    "number = 8"
   ]
  },
  {
   "cell_type": "code",
   "execution_count": 64,
   "id": "22a57e11",
   "metadata": {},
   "outputs": [
    {
     "data": {
      "text/plain": [
       "0"
      ]
     },
     "execution_count": 64,
     "metadata": {},
     "output_type": "execute_result"
    }
   ],
   "source": [
    "number % 2"
   ]
  },
  {
   "cell_type": "markdown",
   "id": "18d19ffd",
   "metadata": {},
   "source": [
    "**Example 6. Raise $a$ to the power of $b$.**"
   ]
  },
  {
   "cell_type": "code",
   "execution_count": 65,
   "id": "c68ae56f",
   "metadata": {},
   "outputs": [],
   "source": [
    "a = 2\n",
    "b = 5"
   ]
  },
  {
   "cell_type": "code",
   "execution_count": 66,
   "id": "cacd66a5",
   "metadata": {},
   "outputs": [
    {
     "data": {
      "text/plain": [
       "32"
      ]
     },
     "execution_count": 66,
     "metadata": {},
     "output_type": "execute_result"
    }
   ],
   "source": [
    "a ** b"
   ]
  },
  {
   "cell_type": "markdown",
   "id": "d5aa71a0",
   "metadata": {},
   "source": [
    "----"
   ]
  },
  {
   "cell_type": "markdown",
   "id": "183d5501",
   "metadata": {},
   "source": [
    "<a id = \"order_of_operations\">"
   ]
  },
  {
   "cell_type": "markdown",
   "id": "267af7bb",
   "metadata": {},
   "source": [
    "## 5. Order of operations"
   ]
  },
  {
   "cell_type": "markdown",
   "id": "e36db1bf",
   "metadata": {},
   "source": [
    "* When more than one operator appears in an expression, the order of evaluation depends on the **rules of precedence**. \n",
    "* Python follows mathematical convention:\n",
    "    1. Parentheses.\n",
    "    2. Exponentiation.\n",
    "    3. Multiplication, division and modulus operator.\n",
    "    4. Addition and subtraction."
   ]
  },
  {
   "cell_type": "markdown",
   "id": "e0d0aee9",
   "metadata": {},
   "source": [
    "**Example 1. Use of parentheses**"
   ]
  },
  {
   "cell_type": "code",
   "execution_count": 67,
   "id": "dccd0e2d",
   "metadata": {},
   "outputs": [
    {
     "data": {
      "text/plain": [
       "4"
      ]
     },
     "execution_count": 67,
     "metadata": {},
     "output_type": "execute_result"
    }
   ],
   "source": [
    "2 * (3 - 1) "
   ]
  },
  {
   "cell_type": "code",
   "execution_count": 68,
   "id": "594fdd66",
   "metadata": {},
   "outputs": [
    {
     "data": {
      "text/plain": [
       "5"
      ]
     },
     "execution_count": 68,
     "metadata": {},
     "output_type": "execute_result"
    }
   ],
   "source": [
    "2 * 3 - 1 "
   ]
  },
  {
   "cell_type": "markdown",
   "id": "2b22af55",
   "metadata": {},
   "source": [
    "**Notice that** $$2 * (3-1) \\neq 2 * 3 - 1$$\n",
    "This is because the way to solve the left side is as follows: \n",
    "$$ 2 * (3 - 1)$$\n",
    "$$ = 2 * (2)$$\n",
    "$$= 4$$\n",
    "\n",
    "And the way to solve the right side is as follows:\n",
    "\n",
    "$$2 * 3 - 1$$\n",
    "$$= 6 - 1$$\n",
    "$$= 5$$\n"
   ]
  },
  {
   "cell_type": "markdown",
   "id": "fa8802f3",
   "metadata": {},
   "source": [
    "**Example 2. Exponentiation before multiplication and division**"
   ]
  },
  {
   "cell_type": "code",
   "execution_count": 69,
   "id": "4aa5adcc",
   "metadata": {},
   "outputs": [
    {
     "data": {
      "text/plain": [
       "32"
      ]
     },
     "execution_count": 69,
     "metadata": {},
     "output_type": "execute_result"
    }
   ],
   "source": [
    "2 * 4 ** 2"
   ]
  },
  {
   "cell_type": "code",
   "execution_count": 70,
   "id": "6648e24d",
   "metadata": {},
   "outputs": [
    {
     "data": {
      "text/plain": [
       "64"
      ]
     },
     "execution_count": 70,
     "metadata": {},
     "output_type": "execute_result"
    }
   ],
   "source": [
    "(2 * 4) ** 2"
   ]
  },
  {
   "cell_type": "markdown",
   "id": "eb4221bf",
   "metadata": {},
   "source": [
    "**Notice that** $$2 * 4 ^{2} \\neq (2 * 4)^{2} $$\n",
    "This is because the way to solve the left side is as follows: \n",
    "$$ 2 * 4 ^{2}$$\n",
    "$$ = 2 * 16$$\n",
    "$$= 32$$\n",
    "\n",
    "And the way to solve the right side is as follows:\n",
    "\n",
    "$$(2 * 4)^{2}$$\n",
    "$$=(8)^{2}$$\n",
    "$$= 64$$"
   ]
  },
  {
   "cell_type": "markdown",
   "id": "6fc1bd85",
   "metadata": {},
   "source": [
    "**Example 3. Same hierarchy of operations**"
   ]
  },
  {
   "cell_type": "markdown",
   "id": "2913a1f8",
   "metadata": {},
   "source": [
    "If we have operators with the same hierarchy in an expression, then we perform the operation from left to right."
   ]
  },
  {
   "cell_type": "code",
   "execution_count": 71,
   "id": "0978d96f",
   "metadata": {},
   "outputs": [],
   "source": [
    "daily_expense = 75\n",
    "total_days = 5\n",
    "friends = 4"
   ]
  },
  {
   "cell_type": "code",
   "execution_count": 72,
   "id": "71cb0d8f",
   "metadata": {},
   "outputs": [
    {
     "data": {
      "text/plain": [
       "93.75"
      ]
     },
     "execution_count": 72,
     "metadata": {},
     "output_type": "execute_result"
    }
   ],
   "source": [
    "daily_expense * total_days / friends"
   ]
  },
  {
   "cell_type": "markdown",
   "id": "3813014e",
   "metadata": {},
   "source": [
    "**Example 4. Other uses of parentheses**"
   ]
  },
  {
   "cell_type": "markdown",
   "id": "b3f7286a",
   "metadata": {},
   "source": [
    "Sometimes we can use parentheses to make a statement clearer:"
   ]
  },
  {
   "cell_type": "code",
   "execution_count": 73,
   "id": "4f99618d",
   "metadata": {},
   "outputs": [
    {
     "data": {
      "text/plain": [
       "82.4"
      ]
     },
     "execution_count": 73,
     "metadata": {},
     "output_type": "execute_result"
    }
   ],
   "source": [
    "celsius = 28\n",
    "(celsius * 9/5) + 32"
   ]
  },
  {
   "cell_type": "code",
   "execution_count": null,
   "id": "a1925f25",
   "metadata": {},
   "outputs": [],
   "source": []
  },
  {
   "cell_type": "markdown",
   "id": "655f6de7",
   "metadata": {},
   "source": [
    "----"
   ]
  },
  {
   "cell_type": "markdown",
   "id": "136953bb",
   "metadata": {},
   "source": [
    "<a id = \"input_function\">"
   ]
  },
  {
   "cell_type": "markdown",
   "id": "b73c7a6a",
   "metadata": {},
   "source": [
    "## 6. Input function"
   ]
  },
  {
   "cell_type": "markdown",
   "id": "e09bf4d9",
   "metadata": {},
   "source": [
    "* The `input()` function in Python is used to take user input from the keyboard. \n",
    "* It reads a line of input from the user as a string and returns that value. "
   ]
  },
  {
   "cell_type": "markdown",
   "id": "91ba0046",
   "metadata": {},
   "source": [
    "**Example 1. Basic input**"
   ]
  },
  {
   "cell_type": "code",
   "execution_count": 74,
   "id": "5e09e93b",
   "metadata": {},
   "outputs": [
    {
     "ename": "KeyboardInterrupt",
     "evalue": "Interrupted by user",
     "output_type": "error",
     "traceback": [
      "\u001b[1;31m---------------------------------------------------------------------------\u001b[0m",
      "\u001b[1;31mKeyboardInterrupt\u001b[0m                         Traceback (most recent call last)",
      "Cell \u001b[1;32mIn[74], line 1\u001b[0m\n\u001b[1;32m----> 1\u001b[0m name \u001b[38;5;241m=\u001b[39m \u001b[38;5;28;43minput\u001b[39;49m\u001b[43m(\u001b[49m\u001b[38;5;124;43m\"\u001b[39;49m\u001b[38;5;124;43mEnter your name: \u001b[39;49m\u001b[38;5;124;43m\"\u001b[39;49m\u001b[43m)\u001b[49m\n\u001b[0;32m      2\u001b[0m \u001b[38;5;28mprint\u001b[39m(\u001b[38;5;124m\"\u001b[39m\u001b[38;5;124mHello, \u001b[39m\u001b[38;5;124m\"\u001b[39m, name)\n",
      "File \u001b[1;32m~\\AppData\\Roaming\\Python\\Python312\\site-packages\\ipykernel\\kernelbase.py:1282\u001b[0m, in \u001b[0;36mKernel.raw_input\u001b[1;34m(self, prompt)\u001b[0m\n\u001b[0;32m   1280\u001b[0m     msg \u001b[38;5;241m=\u001b[39m \u001b[38;5;124m\"\u001b[39m\u001b[38;5;124mraw_input was called, but this frontend does not support input requests.\u001b[39m\u001b[38;5;124m\"\u001b[39m\n\u001b[0;32m   1281\u001b[0m     \u001b[38;5;28;01mraise\u001b[39;00m StdinNotImplementedError(msg)\n\u001b[1;32m-> 1282\u001b[0m \u001b[38;5;28;01mreturn\u001b[39;00m \u001b[38;5;28;43mself\u001b[39;49m\u001b[38;5;241;43m.\u001b[39;49m\u001b[43m_input_request\u001b[49m\u001b[43m(\u001b[49m\n\u001b[0;32m   1283\u001b[0m \u001b[43m    \u001b[49m\u001b[38;5;28;43mstr\u001b[39;49m\u001b[43m(\u001b[49m\u001b[43mprompt\u001b[49m\u001b[43m)\u001b[49m\u001b[43m,\u001b[49m\n\u001b[0;32m   1284\u001b[0m \u001b[43m    \u001b[49m\u001b[38;5;28;43mself\u001b[39;49m\u001b[38;5;241;43m.\u001b[39;49m\u001b[43m_parent_ident\u001b[49m\u001b[43m[\u001b[49m\u001b[38;5;124;43m\"\u001b[39;49m\u001b[38;5;124;43mshell\u001b[39;49m\u001b[38;5;124;43m\"\u001b[39;49m\u001b[43m]\u001b[49m\u001b[43m,\u001b[49m\n\u001b[0;32m   1285\u001b[0m \u001b[43m    \u001b[49m\u001b[38;5;28;43mself\u001b[39;49m\u001b[38;5;241;43m.\u001b[39;49m\u001b[43mget_parent\u001b[49m\u001b[43m(\u001b[49m\u001b[38;5;124;43m\"\u001b[39;49m\u001b[38;5;124;43mshell\u001b[39;49m\u001b[38;5;124;43m\"\u001b[39;49m\u001b[43m)\u001b[49m\u001b[43m,\u001b[49m\n\u001b[0;32m   1286\u001b[0m \u001b[43m    \u001b[49m\u001b[43mpassword\u001b[49m\u001b[38;5;241;43m=\u001b[39;49m\u001b[38;5;28;43;01mFalse\u001b[39;49;00m\u001b[43m,\u001b[49m\n\u001b[0;32m   1287\u001b[0m \u001b[43m\u001b[49m\u001b[43m)\u001b[49m\n",
      "File \u001b[1;32m~\\AppData\\Roaming\\Python\\Python312\\site-packages\\ipykernel\\kernelbase.py:1325\u001b[0m, in \u001b[0;36mKernel._input_request\u001b[1;34m(self, prompt, ident, parent, password)\u001b[0m\n\u001b[0;32m   1322\u001b[0m \u001b[38;5;28;01mexcept\u001b[39;00m \u001b[38;5;167;01mKeyboardInterrupt\u001b[39;00m:\n\u001b[0;32m   1323\u001b[0m     \u001b[38;5;66;03m# re-raise KeyboardInterrupt, to truncate traceback\u001b[39;00m\n\u001b[0;32m   1324\u001b[0m     msg \u001b[38;5;241m=\u001b[39m \u001b[38;5;124m\"\u001b[39m\u001b[38;5;124mInterrupted by user\u001b[39m\u001b[38;5;124m\"\u001b[39m\n\u001b[1;32m-> 1325\u001b[0m     \u001b[38;5;28;01mraise\u001b[39;00m \u001b[38;5;167;01mKeyboardInterrupt\u001b[39;00m(msg) \u001b[38;5;28;01mfrom\u001b[39;00m \u001b[38;5;28;01mNone\u001b[39;00m\n\u001b[0;32m   1326\u001b[0m \u001b[38;5;28;01mexcept\u001b[39;00m \u001b[38;5;167;01mException\u001b[39;00m:\n\u001b[0;32m   1327\u001b[0m     \u001b[38;5;28mself\u001b[39m\u001b[38;5;241m.\u001b[39mlog\u001b[38;5;241m.\u001b[39mwarning(\u001b[38;5;124m\"\u001b[39m\u001b[38;5;124mInvalid Message:\u001b[39m\u001b[38;5;124m\"\u001b[39m, exc_info\u001b[38;5;241m=\u001b[39m\u001b[38;5;28;01mTrue\u001b[39;00m)\n",
      "\u001b[1;31mKeyboardInterrupt\u001b[0m: Interrupted by user"
     ]
    }
   ],
   "source": [
    "name = input(\"Enter your name: \")\n",
    "print(\"Hello, \", name)"
   ]
  },
  {
   "cell_type": "markdown",
   "id": "49580feb",
   "metadata": {},
   "source": [
    "**Example 2. Numeric input**"
   ]
  },
  {
   "cell_type": "code",
   "execution_count": null,
   "id": "c6abef99",
   "metadata": {},
   "outputs": [],
   "source": [
    "age = input(\"Enter your age: \")\n",
    "print(\"You are\", age, \"years old.\")\n"
   ]
  },
  {
   "cell_type": "markdown",
   "id": "2109872f",
   "metadata": {},
   "source": [
    "> Note that the input function returns a string value as default, if we need to use an integer or float value, we need to convert using the functions seen in section [2.3 Type Conversion](#type_conversion)"
   ]
  },
  {
   "cell_type": "markdown",
   "id": "460185ba",
   "metadata": {},
   "source": [
    "**Example 3. Using int to convert to integer**"
   ]
  },
  {
   "cell_type": "code",
   "execution_count": null,
   "id": "a50d4e9e",
   "metadata": {},
   "outputs": [],
   "source": [
    "monthly_rent = int(input(\"Give the total value of the rent\"))\n",
    "print(\"You spent\", monthly_rent * 12, \"this year\")"
   ]
  },
  {
   "cell_type": "markdown",
   "id": "f15eb02b",
   "metadata": {},
   "source": [
    "**Example 4. Using float to convert to a decimal value**"
   ]
  },
  {
   "cell_type": "code",
   "execution_count": null,
   "id": "e2b4c546",
   "metadata": {},
   "outputs": [],
   "source": [
    "cost = float(input(\"Give the total value of the product\"))\n",
    "discount = float(input(\"Give the percentage\"))\n",
    "total_cost = cost * (1 - discount)\n",
    "print(\"Cost of the product with discount\", total_cost)"
   ]
  },
  {
   "cell_type": "markdown",
   "id": "88fcbc4d",
   "metadata": {},
   "source": [
    "----"
   ]
  },
  {
   "cell_type": "markdown",
   "id": "e176ac7c",
   "metadata": {},
   "source": [
    "<a id = \"exercises\">"
   ]
  },
  {
   "cell_type": "markdown",
   "id": "0bd74bcc",
   "metadata": {},
   "source": [
    "## 7. Exercises"
   ]
  },
  {
   "cell_type": "markdown",
   "id": "6ee7fd84",
   "metadata": {},
   "source": [
    "**1. Compute the area of a triangle with a base 10 cm and height 15 cm.** \n",
    "\n",
    "$$TriangleArea =\\frac{base * height}{2}$$"
   ]
  },
  {
   "cell_type": "code",
   "execution_count": null,
   "id": "5b85c244",
   "metadata": {},
   "outputs": [],
   "source": []
  },
  {
   "cell_type": "markdown",
   "id": "1015bb2b",
   "metadata": {},
   "source": [
    "**2. Compute the area of a circle with a radius 5.**\n",
    "\n",
    "$$CircleArea = \\pi * r^{2}$$"
   ]
  },
  {
   "cell_type": "code",
   "execution_count": null,
   "id": "08019b63",
   "metadata": {},
   "outputs": [],
   "source": []
  },
  {
   "cell_type": "markdown",
   "id": "b1909666",
   "metadata": {},
   "source": [
    "**3. Compute the average of three scores: $8.5$, $7.2$, and $9.3$**"
   ]
  },
  {
   "cell_type": "code",
   "execution_count": null,
   "id": "35087a7a",
   "metadata": {},
   "outputs": [],
   "source": []
  },
  {
   "cell_type": "markdown",
   "id": "7c34a525",
   "metadata": {},
   "source": [
    "**4. Given a Celsius degree, convert it to Fahrenheit.**\n",
    "\n",
    "$$ F = \\frac{9}{5} * C + 32$$"
   ]
  },
  {
   "cell_type": "code",
   "execution_count": null,
   "id": "2f15f9e1",
   "metadata": {},
   "outputs": [],
   "source": []
  },
  {
   "cell_type": "markdown",
   "id": "9a7c67fc",
   "metadata": {},
   "source": [
    "**5. A group of friends go out for a dinner and the total bill to pay is of 87.50 USD, if they would like to give a tip of 15%. How much should the tip be?**\n"
   ]
  },
  {
   "cell_type": "code",
   "execution_count": null,
   "id": "19df193f",
   "metadata": {},
   "outputs": [],
   "source": []
  },
  {
   "cell_type": "markdown",
   "id": "9c895e4d",
   "metadata": {},
   "source": [
    "**EXTRA EXERCISE**\n",
    "<br>*Ask the user for an amount of mexican pesos so it can be converted to dollars. Consider that $19.92 MXN is equivalent to 1 USD*"
   ]
  },
  {
   "cell_type": "code",
   "execution_count": null,
   "id": "61f8a449",
   "metadata": {},
   "outputs": [],
   "source": []
  },
  {
   "cell_type": "code",
   "execution_count": null,
   "id": "1e0d2b0f",
   "metadata": {},
   "outputs": [],
   "source": []
  }
 ],
 "metadata": {
  "kernelspec": {
   "display_name": "Python 3",
   "language": "python",
   "name": "python3"
  },
  "language_info": {
   "codemirror_mode": {
    "name": "ipython",
    "version": 3
   },
   "file_extension": ".py",
   "mimetype": "text/x-python",
   "name": "python",
   "nbconvert_exporter": "python",
   "pygments_lexer": "ipython3",
   "version": "3.12.0"
  }
 },
 "nbformat": 4,
 "nbformat_minor": 5
}
