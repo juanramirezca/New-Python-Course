{
 "cells": [
  {
   "cell_type": "markdown",
   "id": "0937c413",
   "metadata": {},
   "source": [
    "# <center>Introduction to Programming with Python</center>"
   ]
  },
  {
   "cell_type": "markdown",
   "id": "ea766f8a",
   "metadata": {},
   "source": [
    "In this file, we will see the following *topics*:\n",
    "1. Objective of the course\n",
    "2. What is python?\n",
    "3. What is to code?\n",
    "4. What is a program?"
   ]
  },
  {
   "cell_type": "markdown",
   "id": "bcd2f05c",
   "metadata": {},
   "source": [
    "## Objective of this course\n",
    "* The objective of this course is to develop one important skill: **problem solving**. \n",
    "* This means the ability to formulate problems, think creatively about solutions, and express a solution clearly and accurately."
   ]
  },
  {
   "cell_type": "markdown",
   "id": "d6bcef65",
   "metadata": {},
   "source": [
    "## Python as a programming language\n",
    "* Python is an example of a high-level languages. \n",
    "* Other examples could be C++, Perl, or Java."
   ]
  },
  {
   "cell_type": "markdown",
   "id": "48c1ed16",
   "metadata": {},
   "source": [
    "## What is to code?\n",
    "* Give some *instructions* to the computer so that it can develop some tasks for us.\n",
    "* Another definition: Desing and development of programs that can do some specific tasks.\n",
    "* An intuitive way...\n",
    "    * Code could be like following a cooking recipe.\n",
    "\n"
   ]
  },
  {
   "cell_type": "markdown",
   "id": "07134586",
   "metadata": {},
   "source": [
    "## What is a program?\n",
    "A **program** is a sequence of instructions that specifies how to perform computations:\n",
    "* _Something mathematical_: solving system of equations or finding the roots of polynomimal.\n",
    "* _Symbolic computation_: Searching and replacing text in a document."
   ]
  }
 ],
 "metadata": {
  "kernelspec": {
   "display_name": "Python 3",
   "language": "python",
   "name": "python3"
  },
  "language_info": {
   "codemirror_mode": {
    "name": "ipython",
    "version": 3
   },
   "file_extension": ".py",
   "mimetype": "text/x-python",
   "name": "python",
   "nbconvert_exporter": "python",
   "pygments_lexer": "ipython3",
   "version": "3.8.8"
  }
 },
 "nbformat": 4,
 "nbformat_minor": 5
}
