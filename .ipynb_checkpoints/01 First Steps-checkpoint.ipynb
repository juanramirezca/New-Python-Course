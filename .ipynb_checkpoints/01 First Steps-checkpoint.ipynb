{
 "cells": [
  {
   "cell_type": "markdown",
   "id": "9801ac10",
   "metadata": {},
   "source": [
    "# <center> First Steps </center>"
   ]
  },
  {
   "cell_type": "markdown",
   "id": "1617424f",
   "metadata": {},
   "source": [
    "**In this file we will see how to Install Python, Anaconda and some useful shortcuts to use better Jupyter**\n",
    "1. Anaconda installation\n",
    "2. Python installation\n",
    "3. Jupyter useful shortcuts\n",
    "4. Symbols in latex"
   ]
  },
  {
   "cell_type": "markdown",
   "id": "cfccabd8",
   "metadata": {},
   "source": [
    "## 1. Anaconda installation"
   ]
  },
  {
   "cell_type": "markdown",
   "id": "f6e411db",
   "metadata": {},
   "source": [
    "<br> To install Anaconda for Windows:\n",
    "<br>https://www.anaconda.com/products/individual#windows\n",
    "<br> To install Anaconda for Mac:\n",
    "<br>https://docs.anaconda.com/anaconda/install/mac-os/"
   ]
  },
  {
   "cell_type": "markdown",
   "id": "c771d5cb",
   "metadata": {},
   "source": [
    "## 2. Python installation"
   ]
  },
  {
   "cell_type": "markdown",
   "id": "85c7d37c",
   "metadata": {},
   "source": [
    "\n",
    "<br> To install Python in Windows:\n",
    "<br>https://phoenixnap.com/kb/how-to-install-python-3-windows\n",
    "<br> To install Python in Mac:\n",
    "<br>https://www.python.org/downloads\n"
   ]
  },
  {
   "cell_type": "markdown",
   "id": "dabbab90",
   "metadata": {},
   "source": [
    "## 3. Jupyter useful shortcuts"
   ]
  },
  {
   "cell_type": "markdown",
   "id": "dcca825a",
   "metadata": {},
   "source": [
    "Here are some of the most useful shortcuts in Jupyter:\n",
    "\n",
    "<table>\n",
    "    <tr>\n",
    "        <th><center> Description </center></th>\n",
    "        <th><center> Shortcut </center></th>\n",
    "    </tr>\n",
    "    <tr>\n",
    "        <td> <p style=\"text-align:left;\"> Suggestion about variables and methods </p></td>\n",
    "        <td> <p style=\"color:blue;text-align:left;\">tab</p> </td>\n",
    "    </tr>\n",
    "    <tr>\n",
    "        <td> <p style=\"text-align:left;\"> Information about a function </p></td>\n",
    "        <td> <p style=\"color:blue;text-align:left;\">shift + tab</p> </td>\n",
    "    </tr>\n",
    "    <tr>\n",
    "        <td> <p style=\"text-align:left;\"> To run a cell </p></td>\n",
    "        <td> <p style=\"color:blue;text-align:left;\">shift + enter</p> </td>\n",
    "    </tr>\n",
    "    <tr>\n",
    "        <td> <p style=\"text-align:left;\"> To enter in command mode</p></td>\n",
    "        <td> <p style=\"color:blue;text-align:left;\">esc</p> </td>\n",
    "    </tr>\n",
    "    <tr>\n",
    "</table>"
   ]
  },
  {
   "cell_type": "markdown",
   "id": "7aeac683",
   "metadata": {},
   "source": [
    "Once in **\"command mode\"**, press any of the following shortcuts.\n",
    "<table>\n",
    "    <tr>\n",
    "        <th><center> Function </center></th>\n",
    "        <th><center> Shortcut </center></th>\n",
    "    </tr>\n",
    "    <tr>\n",
    "        <td> <p style= \"text-align:left;\"> To insert a new cell above </p></td>\n",
    "        <td> <p style=\"color:blue;text-align:center\">a</p> </td>\n",
    "    </tr>\n",
    "    <tr>\n",
    "        <td> <p style= \"text-align:left;\"> To insert a new cell below </p></td>\n",
    "        <td> <p style=\"color:blue;text-align:center\">b</p> </td>\n",
    "    </tr>\n",
    "    <tr>\n",
    "        <td> <p style= \"text-align:left;\"> To copy a specific cell </p></td>\n",
    "        <td> <p style=\"color:blue;text-align:center\">c</p> </td>\n",
    "    </tr>\n",
    "    <tr>\n",
    "        <td> <p style= \"text-align:left;\"> To paste the copied cell </p></td>\n",
    "        <td> <p style=\"color:blue;text-align:center\">v</p> </td>\n",
    "    </tr>\n",
    "    <tr>\n",
    "        <td> <p style= \"text-align:left;\"> To cut a cell </p></td>\n",
    "        <td> <p style=\"color:blue;text-align:center\">x</p> </td>\n",
    "    </tr>\n",
    "    <tr>\n",
    "        <td> <p style= \"text-align:left;\"> Change to markdown mode </p></td>\n",
    "        <td> <p style=\"color:blue;text-align:center\">m</p> </td>\n",
    "    </tr>\n",
    "    <tr>\n",
    "        <td> <p style= \"text-align:left;\"> Change to code mode </p></td>\n",
    "        <td> <p style=\"color:blue;text-align:center\">y</p> </td>\n",
    "    </tr>\n",
    "    <tr>\n",
    "        <td> <p style= \"text-align:left;\"> To write headings </p></td>\n",
    "        <td> <p style=\"color:blue;text-align:center\">#</p> </td>\n",
    "    </tr>\n",
    "</table>"
   ]
  },
  {
   "cell_type": "markdown",
   "id": "75246b55",
   "metadata": {},
   "source": [
    "## 4. Commands in latex"
   ]
  },
  {
   "cell_type": "markdown",
   "id": "fca2caf9",
   "metadata": {},
   "source": [
    "Here are some of the most used symbols to represent mathematical functions in Latex:\n",
    "<table>\n",
    "    <tr>\n",
    "        <th><center> Description </center></th>\n",
    "        <th><center> Shortcut </center></th>\n",
    "        <th><center> Symbol </center></th>\n",
    "    </tr>\n",
    "    <tr>\n",
    "        <td><p style = text-align: left;>Real number</p></td>\n",
    "        <td><p style = text-align: left;>\\mathbb R </p></td>\n",
    "        <td>$$\\mathbb R$$ </td>\n",
    "    </tr>\n",
    "    <tr>\n",
    "        <td><p style = text-align: left;>Not equal</p></td>\n",
    "        <td><p style = text-align: left;>\\neq </p></td>\n",
    "        <td>$$\\neq$$ </td>\n",
    "    </tr>\n",
    "    <tr>\n",
    "        <td><p style = text-align: left;>Empty set</p></td>\n",
    "        <td><p style = text-align: left;>\\emptyset </p></td>\n",
    "        <td>$$\\emptyset$$</td>\n",
    "    </tr>\n",
    "    <tr>\n",
    "        <td><p style = text-align: left;>For all</p></td>\n",
    "        <td><p style = text-align: left;>\\forall </p></td>\n",
    "        <td>$$\\forall$$</td>\n",
    "    </tr>\n",
    "    <tr>\n",
    "        <td><p style = text-align: left;>Belongs to</p></td>\n",
    "        <td><p style = text-align: left;>\\in </p></td>\n",
    "        <td>$$\\in$$</td>\n",
    "    </tr>\n",
    "    <tr>\n",
    "        <td><p style = text-align: left;>Exists</p></td>\n",
    "        <td><p style = text-align: left;>\\exists</p></td>\n",
    "        <td>$$\\exists$$</td>\n",
    "    </tr>\n",
    "    <tr>\n",
    "        <td><p style = text-align: left;>Such that</p></td>\n",
    "        <td><p style = text-align: left;>\\mid </p></td>\n",
    "        <td>$$\\mid$$</td>\n",
    "    </tr>\n",
    "    <tr>\n",
    "        <td><p style = text-align: left;>Infinity</p></td>\n",
    "        <td><p style = text-align: left;>\\infty </p></td>\n",
    "        <td>$$\\infty$$</td>\n",
    "    </tr>\n",
    "    <tr>\n",
    "        <td><p style = text-align: left;>$\\pi$ symbol</p></td>\n",
    "        <td><p style = text-align: left;>\\pi </p></td>\n",
    "        <td>$$\\pi$$</td>\n",
    "    </tr>\n",
    "    <tr>\n",
    "        <td><p style = text-align: left;>$a$ to the power of $b$</p></td>\n",
    "        <td><p style = text-align: left;>\\a^{b} </p></td>\n",
    "        <td>$$a^{b}$$</td>\n",
    "    </tr>\n",
    "    <tr>\n",
    "        <td><p style = text-align: left;>$a$ divided by $b$</p></td>\n",
    "        <td><p style = text-align: left;>\\frac{a}{b} </p></td>\n",
    "        <td>$$\\frac{a}{b}$$</td>\n",
    "    </tr>\n",
    "    \n",
    "</table>"
   ]
  }
 ],
 "metadata": {
  "kernelspec": {
   "display_name": "Python 3",
   "language": "python",
   "name": "python3"
  },
  "language_info": {
   "codemirror_mode": {
    "name": "ipython",
    "version": 3
   },
   "file_extension": ".py",
   "mimetype": "text/x-python",
   "name": "python",
   "nbconvert_exporter": "python",
   "pygments_lexer": "ipython3",
   "version": "3.8.8"
  }
 },
 "nbformat": 4,
 "nbformat_minor": 5
}
