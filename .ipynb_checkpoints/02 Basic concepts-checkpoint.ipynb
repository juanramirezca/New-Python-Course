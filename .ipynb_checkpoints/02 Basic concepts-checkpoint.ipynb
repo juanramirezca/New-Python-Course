{
 "cells": [
  {
   "cell_type": "markdown",
   "id": "135965e3",
   "metadata": {},
   "source": [
    "## <center>Basic concepts</center>"
   ]
  },
  {
   "cell_type": "markdown",
   "id": "25447209",
   "metadata": {},
   "source": [
    "In this file we will see:\n",
    "* Basic concepts of programming with Python\n",
    "* Our first program: Hello, World.\n",
    "* Syntaxis in Python"
   ]
  },
  {
   "cell_type": "markdown",
   "id": "d8002478",
   "metadata": {},
   "source": [
    "First of all, we can use our programming language as a calculator, we can do some computations as we do with a calculator, such as:\n",
    "* Addition\n",
    "* Substraction\n",
    "* Multiplication\n",
    "* Division\n",
    "* Modulus Operator\n",
    "* Exponentiation"
   ]
  },
  {
   "cell_type": "markdown",
   "id": "36663747",
   "metadata": {},
   "source": [
    "### Addition"
   ]
  },
  {
   "cell_type": "code",
   "execution_count": 8,
   "id": "01569a3a",
   "metadata": {},
   "outputs": [
    {
     "data": {
      "text/plain": [
       "11"
      ]
     },
     "execution_count": 8,
     "metadata": {},
     "output_type": "execute_result"
    }
   ],
   "source": [
    "3 + 8"
   ]
  },
  {
   "cell_type": "markdown",
   "id": "a71bae4d",
   "metadata": {},
   "source": [
    "### Substraction"
   ]
  },
  {
   "cell_type": "code",
   "execution_count": 9,
   "id": "37655f84",
   "metadata": {},
   "outputs": [
    {
     "data": {
      "text/plain": [
       "59"
      ]
     },
     "execution_count": 9,
     "metadata": {},
     "output_type": "execute_result"
    }
   ],
   "source": [
    "87 - 28"
   ]
  },
  {
   "cell_type": "markdown",
   "id": "d523337f",
   "metadata": {},
   "source": [
    "### Multiplication"
   ]
  },
  {
   "cell_type": "code",
   "execution_count": 10,
   "id": "b41c4070",
   "metadata": {},
   "outputs": [
    {
     "data": {
      "text/plain": [
       "2245471"
      ]
     },
     "execution_count": 10,
     "metadata": {},
     "output_type": "execute_result"
    }
   ],
   "source": [
    "7991 * 281"
   ]
  },
  {
   "cell_type": "markdown",
   "id": "98e26aeb",
   "metadata": {},
   "source": [
    "### Division"
   ]
  },
  {
   "cell_type": "code",
   "execution_count": 11,
   "id": "014f3648",
   "metadata": {},
   "outputs": [
    {
     "data": {
      "text/plain": [
       "57.0"
      ]
     },
     "execution_count": 11,
     "metadata": {},
     "output_type": "execute_result"
    }
   ],
   "source": [
    "171 / 3"
   ]
  },
  {
   "cell_type": "markdown",
   "id": "3b5e53b6",
   "metadata": {},
   "source": [
    "### Modulus operator"
   ]
  },
  {
   "cell_type": "code",
   "execution_count": 12,
   "id": "94e44809",
   "metadata": {},
   "outputs": [
    {
     "data": {
      "text/plain": [
       "1"
      ]
     },
     "execution_count": 12,
     "metadata": {},
     "output_type": "execute_result"
    }
   ],
   "source": [
    "87 % 2"
   ]
  },
  {
   "cell_type": "markdown",
   "id": "a9ae7bee",
   "metadata": {},
   "source": [
    "### Exponentiation"
   ]
  },
  {
   "cell_type": "code",
   "execution_count": 13,
   "id": "5333a527",
   "metadata": {},
   "outputs": [
    {
     "data": {
      "text/plain": [
       "10"
      ]
     },
     "execution_count": 13,
     "metadata": {},
     "output_type": "execute_result"
    }
   ],
   "source": [
    "2 * 5"
   ]
  },
  {
   "cell_type": "markdown",
   "id": "c23a14de",
   "metadata": {},
   "source": [
    "---"
   ]
  },
  {
   "cell_type": "markdown",
   "id": "78843c74",
   "metadata": {},
   "source": [
    "## Our fist program: Hello, World!"
   ]
  },
  {
   "cell_type": "markdown",
   "id": "e8b09ed7",
   "metadata": {},
   "source": [
    "* Traditionally, the first program we write in a new language is called \"Hello, World!\" because all it does is display the words **\"Hello, World!\"**\n",
    "* In python, it looks like this:"
   ]
  },
  {
   "cell_type": "code",
   "execution_count": 14,
   "id": "56eb4a1d",
   "metadata": {},
   "outputs": [
    {
     "name": "stdout",
     "output_type": "stream",
     "text": [
      "Hello, World!\n"
     ]
    }
   ],
   "source": [
    "print ('Hello, World!')"
   ]
  },
  {
   "cell_type": "markdown",
   "id": "7747add2",
   "metadata": {},
   "source": [
    "---"
   ]
  },
  {
   "cell_type": "markdown",
   "id": "cf85d1a9",
   "metadata": {},
   "source": [
    "## Syntaxis in Python"
   ]
  },
  {
   "cell_type": "markdown",
   "id": "73e2ded7",
   "metadata": {},
   "source": [
    "### 1. Comments in Python"
   ]
  },
  {
   "cell_type": "markdown",
   "id": "56c0c296",
   "metadata": {},
   "source": [
    "\n",
    "In Python we can use comments with the symbol \"#\""
   ]
  },
  {
   "cell_type": "code",
   "execution_count": 15,
   "id": "8053a725",
   "metadata": {},
   "outputs": [
    {
     "data": {
      "text/plain": [
       "7"
      ]
     },
     "execution_count": 15,
     "metadata": {},
     "output_type": "execute_result"
    }
   ],
   "source": [
    "# This is a one line-comment\n",
    "5 + 2\n"
   ]
  },
  {
   "cell_type": "markdown",
   "id": "5a8c3e83",
   "metadata": {},
   "source": [
    "### 2. Large integers in Python"
   ]
  },
  {
   "cell_type": "markdown",
   "id": "40dbf4c7",
   "metadata": {},
   "source": [
    "When we want to type a large integer, we may be tempted to use commas between groups of three digits. For instance:"
   ]
  },
  {
   "cell_type": "code",
   "execution_count": 17,
   "id": "c0403c3c",
   "metadata": {},
   "outputs": [
    {
     "data": {
      "text/plain": [
       "(1, 230, 840)"
      ]
     },
     "execution_count": 17,
     "metadata": {},
     "output_type": "execute_result"
    }
   ],
   "source": [
    "1,230,840"
   ]
  },
  {
   "cell_type": "markdown",
   "id": "83a8bcf0",
   "metadata": {},
   "source": [
    "But this is not a legal integer in Python. Instead, we must use \"_\". For example:\n"
   ]
  },
  {
   "cell_type": "code",
   "execution_count": 18,
   "id": "791a374d",
   "metadata": {},
   "outputs": [
    {
     "data": {
      "text/plain": [
       "1230840"
      ]
     },
     "execution_count": 18,
     "metadata": {},
     "output_type": "execute_result"
    }
   ],
   "source": [
    "1_230_840"
   ]
  }
 ],
 "metadata": {
  "kernelspec": {
   "display_name": "Python 3",
   "language": "python",
   "name": "python3"
  },
  "language_info": {
   "codemirror_mode": {
    "name": "ipython",
    "version": 3
   },
   "file_extension": ".py",
   "mimetype": "text/x-python",
   "name": "python",
   "nbconvert_exporter": "python",
   "pygments_lexer": "ipython3",
   "version": "3.8.8"
  }
 },
 "nbformat": 4,
 "nbformat_minor": 5
}
