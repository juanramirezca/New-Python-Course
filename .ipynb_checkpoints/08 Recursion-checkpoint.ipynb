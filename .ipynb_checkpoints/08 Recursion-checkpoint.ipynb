{
 "cells": [
  {
   "cell_type": "markdown",
   "id": "3636ebef",
   "metadata": {},
   "source": [
    "# <center> Recursion </center>"
   ]
  },
  {
   "cell_type": "markdown",
   "id": "92072a75",
   "metadata": {},
   "source": [
    "![Recursion](images/recursion1.jpg)"
   ]
  },
  {
   "cell_type": "markdown",
   "id": "d9636cec",
   "metadata": {},
   "source": [
    "It is legal for one function to call another. Yet it is also legal for a function to call itself. "
   ]
  },
  {
   "cell_type": "code",
   "execution_count": 7,
   "id": "effd3a3e",
   "metadata": {},
   "outputs": [],
   "source": [
    "# Example 1. Countdown.\n",
    "def countdown(n):\n",
    "    if n <= 0:\n",
    "        print ('Blastoff!')\n",
    "    else:\n",
    "        print (n)\n",
    "        countdown(n - 1)"
   ]
  },
  {
   "cell_type": "code",
   "execution_count": 11,
   "id": "5810717d",
   "metadata": {},
   "outputs": [
    {
     "name": "stdout",
     "output_type": "stream",
     "text": [
      "5\n",
      "4\n",
      "3\n",
      "2\n",
      "1\n",
      "Blastoff!\n"
     ]
    }
   ],
   "source": [
    "countdown(5)"
   ]
  },
  {
   "cell_type": "markdown",
   "id": "e5d44ef5",
   "metadata": {},
   "source": [
    "A function that calls itself is **recursive**, and the process is called **recursion**"
   ]
  },
  {
   "cell_type": "code",
   "execution_count": 10,
   "id": "66f77c5b",
   "metadata": {},
   "outputs": [],
   "source": [
    "# Example 2. Printing n times\n",
    "def print_n(s, n):\n",
    "    if n <= 0:\n",
    "        return\n",
    "    print (s)\n",
    "    print_n(s, n - 1)"
   ]
  },
  {
   "cell_type": "code",
   "execution_count": null,
   "id": "26a6ac1f",
   "metadata": {},
   "outputs": [],
   "source": [
    "# Example 3. Times until our exam!"
   ]
  },
  {
   "cell_type": "code",
   "execution_count": null,
   "id": "d61c8d32",
   "metadata": {},
   "outputs": [],
   "source": []
  },
  {
   "cell_type": "code",
   "execution_count": 12,
   "id": "aea7f8d7",
   "metadata": {},
   "outputs": [],
   "source": [
    "# Example 4. Computing factorial number"
   ]
  },
  {
   "cell_type": "code",
   "execution_count": null,
   "id": "8e05dfda",
   "metadata": {},
   "outputs": [],
   "source": []
  },
  {
   "cell_type": "code",
   "execution_count": 13,
   "id": "b13c1b66",
   "metadata": {},
   "outputs": [],
   "source": [
    "# Example 5. Sum of the first n numbers"
   ]
  },
  {
   "cell_type": "code",
   "execution_count": null,
   "id": "ddc0df5c",
   "metadata": {},
   "outputs": [],
   "source": []
  },
  {
   "cell_type": "code",
   "execution_count": null,
   "id": "e454a036",
   "metadata": {},
   "outputs": [],
   "source": []
  },
  {
   "cell_type": "code",
   "execution_count": null,
   "id": "3293312f",
   "metadata": {},
   "outputs": [],
   "source": []
  },
  {
   "cell_type": "code",
   "execution_count": 14,
   "id": "f978113b",
   "metadata": {},
   "outputs": [],
   "source": [
    "# Example 6. Compute the n-th element of the fibonacci series\n",
    "# fib(0) = 0, fib(1) = 1 fib(n) = fib (n - 1) + fib(n - 2 )\n",
    "# 0 1 1 2 3 5 8 13 21 ..."
   ]
  },
  {
   "cell_type": "code",
   "execution_count": null,
   "id": "06125187",
   "metadata": {},
   "outputs": [],
   "source": []
  },
  {
   "cell_type": "code",
   "execution_count": null,
   "id": "32b6c3ca",
   "metadata": {},
   "outputs": [],
   "source": []
  },
  {
   "cell_type": "markdown",
   "id": "b53e621f",
   "metadata": {},
   "source": [
    "**Example 7. Euclidean Algorithm. Given two positive integer numbers <code>m</code> and <code>n</code>, such that <code>m > n</code>, find the MCD:**\n",
    " 1. Calculate <code>m/n</code> to obtain the remainder <code>r</code>, where <code>0 <= r < n</code>.\n",
    " 2. If <code>r = 0</code>, then <code>MCD = n</code>\n",
    " 2.1 If not, then <code>MCD = MCD(n,r)</code>\n",
    " \n",
    " Example: \n",
    " \n",
    "<code>m = 18</code>,  <code>n = 15</code>,  <code>MCD = 3</code> \n",
    "\n"
   ]
  },
  {
   "cell_type": "markdown",
   "id": "37528c29",
   "metadata": {},
   "source": [
    "## Exercises"
   ]
  },
  {
   "cell_type": "markdown",
   "id": "b0242447",
   "metadata": {},
   "source": [
    "**Exercise 1. The Ackermann Function. This function is defined as follows:** \n",
    "\n",
    "<code> A(m,n)</code> =\n",
    "    \n",
    "    { \n",
    "        n + 1, if m = 0\n",
    "        A(m - 1, 1), if m > 0 and n = 0        \n",
    "        A(m - 1, A(m, n - 1)) if m > 0 and n > 0        \n",
    "    }\n",
    "    \n",
    "#### Example: Ack (3,4) = 125\n",
    "    "
   ]
  },
  {
   "cell_type": "markdown",
   "id": "c406e70f",
   "metadata": {},
   "source": [
    "**Exercise 2. The palindrome example.**\n",
    "\n",
    "In this example we will see how to determine if a given string <code>s</code> is palindrome or not. This example can be done in two ways:\n",
    "1. Using a loop.\n",
    "2. Using recursion\n",
    "\n",
    "#### Example: \n",
    "<code>s = 'anita lava la tina' </code>"
   ]
  }
 ],
 "metadata": {
  "kernelspec": {
   "display_name": "Python 3",
   "language": "python",
   "name": "python3"
  },
  "language_info": {
   "codemirror_mode": {
    "name": "ipython",
    "version": 3
   },
   "file_extension": ".py",
   "mimetype": "text/x-python",
   "name": "python",
   "nbconvert_exporter": "python",
   "pygments_lexer": "ipython3",
   "version": "3.8.8"
  }
 },
 "nbformat": 4,
 "nbformat_minor": 5
}
