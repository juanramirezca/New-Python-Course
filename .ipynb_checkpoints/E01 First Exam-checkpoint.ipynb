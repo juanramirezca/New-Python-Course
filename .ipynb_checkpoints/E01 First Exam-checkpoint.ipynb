{
 "cells": [
  {
   "cell_type": "markdown",
   "id": "150d5b83",
   "metadata": {},
   "source": [
    "# <center> First Exam </center>"
   ]
  },
  {
   "cell_type": "markdown",
   "id": "ae95184a",
   "metadata": {},
   "source": [
    "**1. Given a $n \\geq 0$, make a function that computes the following: \n",
    "$$\\sum_{i = 1}^{n}n$$**\n"
   ]
  },
  {
   "cell_type": "code",
   "execution_count": 200,
   "id": "e3a6c0f3",
   "metadata": {},
   "outputs": [],
   "source": [
    "import time as t\n",
    "num = 5000"
   ]
  },
  {
   "cell_type": "code",
   "execution_count": 219,
   "id": "1b7e148e",
   "metadata": {},
   "outputs": [],
   "source": [
    "#Time 4 min 38 segs\n",
    "# 1 + 2 + 3 + 4 + 5\n",
    "def suma_n(n):\n",
    "    sol = 0\n",
    "    for i in range(1, n + 1):\n",
    "        sol += i\n",
    "    return sol"
   ]
  },
  {
   "cell_type": "code",
   "execution_count": 220,
   "id": "1f3c5efe",
   "metadata": {},
   "outputs": [
    {
     "name": "stdout",
     "output_type": "stream",
     "text": [
      "0.000247955322265625\n"
     ]
    }
   ],
   "source": [
    "start = t.time()\n",
    "suma_n(num)\n",
    "end = t.time()\n",
    "print(end - start)"
   ]
  },
  {
   "cell_type": "code",
   "execution_count": 203,
   "id": "d649e9b8",
   "metadata": {},
   "outputs": [],
   "source": [
    "# 5 + 4 + 3 + 2 + 1\n",
    "def recursive_sum(n):\n",
    "    \n",
    "    if(n == 1):\n",
    "        return 1\n",
    "    else:\n",
    "        return n + recursive_sum(n - 1)\n",
    "\n"
   ]
  },
  {
   "cell_type": "code",
   "execution_count": 204,
   "id": "bce1b772",
   "metadata": {},
   "outputs": [
    {
     "ename": "RecursionError",
     "evalue": "maximum recursion depth exceeded in comparison",
     "output_type": "error",
     "traceback": [
      "\u001b[0;31m---------------------------------------------------------------------------\u001b[0m",
      "\u001b[0;31mRecursionError\u001b[0m                            Traceback (most recent call last)",
      "\u001b[0;32m<ipython-input-204-7267c859f27d>\u001b[0m in \u001b[0;36m<module>\u001b[0;34m\u001b[0m\n\u001b[1;32m      1\u001b[0m \u001b[0mstart\u001b[0m \u001b[0;34m=\u001b[0m \u001b[0mt\u001b[0m\u001b[0;34m.\u001b[0m\u001b[0mtime\u001b[0m\u001b[0;34m(\u001b[0m\u001b[0;34m)\u001b[0m\u001b[0;34m\u001b[0m\u001b[0;34m\u001b[0m\u001b[0m\n\u001b[0;32m----> 2\u001b[0;31m \u001b[0mrecursive_sum\u001b[0m\u001b[0;34m(\u001b[0m\u001b[0mnum\u001b[0m\u001b[0;34m)\u001b[0m\u001b[0;34m\u001b[0m\u001b[0;34m\u001b[0m\u001b[0m\n\u001b[0m\u001b[1;32m      3\u001b[0m \u001b[0mend\u001b[0m \u001b[0;34m=\u001b[0m \u001b[0mt\u001b[0m\u001b[0;34m.\u001b[0m\u001b[0mtime\u001b[0m\u001b[0;34m(\u001b[0m\u001b[0;34m)\u001b[0m\u001b[0;34m\u001b[0m\u001b[0;34m\u001b[0m\u001b[0m\n\u001b[1;32m      4\u001b[0m \u001b[0mprint\u001b[0m\u001b[0;34m(\u001b[0m\u001b[0mend\u001b[0m \u001b[0;34m-\u001b[0m \u001b[0mstart\u001b[0m\u001b[0;34m)\u001b[0m\u001b[0;34m\u001b[0m\u001b[0;34m\u001b[0m\u001b[0m\n",
      "\u001b[0;32m<ipython-input-203-25c065821236>\u001b[0m in \u001b[0;36mrecursive_sum\u001b[0;34m(n)\u001b[0m\n\u001b[1;32m      5\u001b[0m         \u001b[0;32mreturn\u001b[0m \u001b[0;36m1\u001b[0m\u001b[0;34m\u001b[0m\u001b[0;34m\u001b[0m\u001b[0m\n\u001b[1;32m      6\u001b[0m     \u001b[0;32melse\u001b[0m\u001b[0;34m:\u001b[0m\u001b[0;34m\u001b[0m\u001b[0;34m\u001b[0m\u001b[0m\n\u001b[0;32m----> 7\u001b[0;31m         \u001b[0;32mreturn\u001b[0m \u001b[0mn\u001b[0m \u001b[0;34m+\u001b[0m \u001b[0mrecursive_sum\u001b[0m\u001b[0;34m(\u001b[0m\u001b[0mn\u001b[0m \u001b[0;34m-\u001b[0m \u001b[0;36m1\u001b[0m\u001b[0;34m)\u001b[0m\u001b[0;34m\u001b[0m\u001b[0;34m\u001b[0m\u001b[0m\n\u001b[0m\u001b[1;32m      8\u001b[0m \u001b[0;34m\u001b[0m\u001b[0m\n",
      "... last 1 frames repeated, from the frame below ...\n",
      "\u001b[0;32m<ipython-input-203-25c065821236>\u001b[0m in \u001b[0;36mrecursive_sum\u001b[0;34m(n)\u001b[0m\n\u001b[1;32m      5\u001b[0m         \u001b[0;32mreturn\u001b[0m \u001b[0;36m1\u001b[0m\u001b[0;34m\u001b[0m\u001b[0;34m\u001b[0m\u001b[0m\n\u001b[1;32m      6\u001b[0m     \u001b[0;32melse\u001b[0m\u001b[0;34m:\u001b[0m\u001b[0;34m\u001b[0m\u001b[0;34m\u001b[0m\u001b[0m\n\u001b[0;32m----> 7\u001b[0;31m         \u001b[0;32mreturn\u001b[0m \u001b[0mn\u001b[0m \u001b[0;34m+\u001b[0m \u001b[0mrecursive_sum\u001b[0m\u001b[0;34m(\u001b[0m\u001b[0mn\u001b[0m \u001b[0;34m-\u001b[0m \u001b[0;36m1\u001b[0m\u001b[0;34m)\u001b[0m\u001b[0;34m\u001b[0m\u001b[0;34m\u001b[0m\u001b[0m\n\u001b[0m\u001b[1;32m      8\u001b[0m \u001b[0;34m\u001b[0m\u001b[0m\n",
      "\u001b[0;31mRecursionError\u001b[0m: maximum recursion depth exceeded in comparison"
     ]
    }
   ],
   "source": [
    "start = t.time()\n",
    "recursive_sum(num)\n",
    "end = t.time()\n",
    "print(end - start)"
   ]
  },
  {
   "cell_type": "code",
   "execution_count": 205,
   "id": "c6607029",
   "metadata": {},
   "outputs": [],
   "source": [
    "# n (n + 1) / 2\n",
    "def sum_form(n):\n",
    "    return n * (n + 1) / 2\n"
   ]
  },
  {
   "cell_type": "code",
   "execution_count": 206,
   "id": "86211715",
   "metadata": {},
   "outputs": [
    {
     "name": "stdout",
     "output_type": "stream",
     "text": [
      "4.315376281738281e-05\n"
     ]
    }
   ],
   "source": [
    "start = t.time()\n",
    "sum_form(num)\n",
    "end = t.time()\n",
    "print(end - start)"
   ]
  },
  {
   "cell_type": "markdown",
   "id": "b3f274e6",
   "metadata": {},
   "source": [
    "**2. In the following world cup Qatar 2022, 32 teams will compete to win the world championship. In how many different ways can we have a champion, second, and third places?**\n"
   ]
  },
  {
   "cell_type": "code",
   "execution_count": 76,
   "id": "929e3038",
   "metadata": {},
   "outputs": [],
   "source": [
    "# 1 min 17 segs\n",
    "# 5! = 1 * 2 * 3 * 4 * 5\n",
    "# n! = 1 * 2 * ... * n!\n",
    "def fact(n):\n",
    "    res = 1\n",
    "    for i in range(1, n + 1):\n",
    "        res *= i\n",
    "    return res"
   ]
  },
  {
   "cell_type": "code",
   "execution_count": 77,
   "id": "4fe72444",
   "metadata": {},
   "outputs": [
    {
     "data": {
      "text/plain": [
       "120"
      ]
     },
     "execution_count": 77,
     "metadata": {},
     "output_type": "execute_result"
    }
   ],
   "source": [
    "fact(5)"
   ]
  },
  {
   "cell_type": "code",
   "execution_count": 79,
   "id": "3a6a86a3",
   "metadata": {},
   "outputs": [
    {
     "data": {
      "text/plain": [
       "29760.0"
      ]
     },
     "execution_count": 79,
     "metadata": {},
     "output_type": "execute_result"
    }
   ],
   "source": [
    "# n = 32, r = 3\n",
    "# Variación ->n! / (n - r!) \n",
    "# Permutacion -> n! / n! * (n - r)!\n",
    "\n",
    "def worldCupVariation(n, r):\n",
    "    return fact(n) / fact(n - r)\n",
    "\n",
    "worldCupVariation(32, 3)\n",
    "\n",
    "#[1,2,3]\n"
   ]
  },
  {
   "cell_type": "markdown",
   "id": "4269d2d4",
   "metadata": {},
   "source": [
    "**3. Given any expression in a polynomial form, make a function that returns its derive**\n",
    "\n",
    "*Example:*\n",
    "    $$f(x) = 4x^{2} - 12x - 1 \\Rightarrow f'(x) = 8x + 12$$"
   ]
  },
  {
   "cell_type": "code",
   "execution_count": 155,
   "id": "6d68c5c0",
   "metadata": {},
   "outputs": [],
   "source": [
    "#[['+',4,2], ['+',12,1], ['+',1,0]]\n",
    "#[(4,2),(12,1),(1,0)]\n",
    "#[4,12,1] -> [0,8,12]\n",
    "\n",
    "def derive(tuple_list):\n",
    "    finalList = []\n",
    "    for i in tuple_list:\n",
    "        deriveList = []\n",
    "        deriveList.append(i[0])\n",
    "        deriveList.append(i[1] * i[2])\n",
    "        deriveList.append(i[2] - 1)\n",
    "        finalList.append(deriveList)\n",
    "    return finalList"
   ]
  },
  {
   "cell_type": "code",
   "execution_count": 221,
   "id": "049c3401",
   "metadata": {},
   "outputs": [],
   "source": [
    "def read_formula(coef_list):\n",
    "    for x in coef_list:\n",
    "        if(x[2] == 0):\n",
    "            print(f'{x[0]} {x[1]}x')\n",
    "        elif(x[1] != 0):\n",
    "            print(f'{x[0]} {x[1]}x^{x[2]}', end = ' ')        "
   ]
  },
  {
   "cell_type": "code",
   "execution_count": 223,
   "id": "a251ebe1",
   "metadata": {},
   "outputs": [
    {
     "name": "stdout",
     "output_type": "stream",
     "text": [
      "+ 8x^1 - 12x\n"
     ]
    }
   ],
   "source": [
    "tup_lst = [['+',4,2], ['-',12,1], ['-',1,0]]\n",
    "tup_lst\n",
    "\n",
    "res = derive(tup_lst)\n",
    "read_derive(res)\n"
   ]
  },
  {
   "cell_type": "code",
   "execution_count": 162,
   "id": "483ddafc",
   "metadata": {},
   "outputs": [
    {
     "name": "stdout",
     "output_type": "stream",
     "text": [
      "+ 4x^2 - 12x^1 + 1x\n"
     ]
    }
   ],
   "source": [
    "read_derive(tup_lst)"
   ]
  },
  {
   "cell_type": "markdown",
   "id": "5a04d233",
   "metadata": {},
   "source": [
    "**4. 2520 is the smallest number that can be divided by each of the numbers from 1 to 10 without any remainder.\n",
    "What is the smallest positive number that is evenly divisible by all of the numbers from 1 to 20?**"
   ]
  },
  {
   "cell_type": "code",
   "execution_count": 289,
   "id": "6b591b85",
   "metadata": {},
   "outputs": [],
   "source": [
    "def dividedByAll(num, limit):\n",
    "    i = 2\n",
    "    divided = True\n",
    "    while(divided and i <= limit):\n",
    "        if(num % i != 0):\n",
    "            divided = False\n",
    "        i += 1\n",
    "    return divided\n",
    "    "
   ]
  },
  {
   "cell_type": "code",
   "execution_count": null,
   "id": "e3054ecb",
   "metadata": {},
   "outputs": [],
   "source": [
    "start = t.time()\n",
    "limitNum = 20\n",
    "foundNum = False\n",
    "currentNum = 20\n",
    "\n",
    "while(not foundNum):\n",
    "    foundNum = dividedByAll(currentNum, limitNum)\n",
    "    if(foundNum):\n",
    "        break;\n",
    "    else:\n",
    "        currentNum += 1\n",
    "\n",
    "print(currentNum)\n",
    "end = t.time()\n",
    "print(end - start)"
   ]
  },
  {
   "cell_type": "code",
   "execution_count": null,
   "id": "8114a14b",
   "metadata": {},
   "outputs": [],
   "source": [
    "#Solution -> 232792560"
   ]
  },
  {
   "cell_type": "code",
   "execution_count": 265,
   "id": "72245281",
   "metadata": {},
   "outputs": [
    {
     "data": {
      "text/plain": [
       "60"
      ]
     },
     "execution_count": 265,
     "metadata": {},
     "output_type": "execute_result"
    }
   ],
   "source": [
    "1 * 2 * 3 * 2 * 5"
   ]
  },
  {
   "cell_type": "code",
   "execution_count": 249,
   "id": "5cd22127",
   "metadata": {},
   "outputs": [
    {
     "data": {
      "text/plain": [
       "[2, 3, 5, 7, 11, 13, 17, 19]"
      ]
     },
     "execution_count": 249,
     "metadata": {},
     "output_type": "execute_result"
    }
   ],
   "source": [
    "numbers\n"
   ]
  },
  {
   "cell_type": "code",
   "execution_count": null,
   "id": "7c58d977",
   "metadata": {},
   "outputs": [],
   "source": []
  },
  {
   "cell_type": "markdown",
   "id": "d45dfc51",
   "metadata": {},
   "source": [
    "**5. If we list all the natural numbers below 10 that are multiples of 3 or 5, we get 3, 5, 6 and 9. The sum of these multiples is 23. Find the sum of all the multiples of 3 or 5 below 1000.**"
   ]
  },
  {
   "cell_type": "code",
   "execution_count": 250,
   "id": "87d06c19",
   "metadata": {},
   "outputs": [
    {
     "name": "stdout",
     "output_type": "stream",
     "text": [
      "234168\n"
     ]
    }
   ],
   "source": [
    "finalSum = 0\n",
    "for i in range(1,1001):\n",
    "    if(i % 3 == 0 or i % 5 == 0):\n",
    "        finalSum += i\n",
    "print(finalSum)"
   ]
  },
  {
   "cell_type": "markdown",
   "id": "a39262c5",
   "metadata": {},
   "source": [
    "**6. Given two strings by the an user, make a function that determines if they are equal or not.**\n"
   ]
  },
  {
   "cell_type": "code",
   "execution_count": null,
   "id": "d486a05d",
   "metadata": {},
   "outputs": [],
   "source": [
    "def equalStrings(st1, st2):\n",
    "    for i in range(len(st1)):\n",
    "        if(st1[i] != st2[i]):\n",
    "            print(\"Strings not equal\")\n",
    "            "
   ]
  },
  {
   "cell_type": "markdown",
   "id": "e6d78f91",
   "metadata": {},
   "source": [
    "**7. Use any data structure you want to test the following test cases:** \n",
    "\n",
    "* \"a\", \"a\"\n",
    "* \"aa\", \"ab\"\n",
    "* \"ba\", \"ba\"\n",
    "* \"bb\", \"bb\"\n",
    "* \"ba\", \"ab\"\n",
    "* \"aaa\", \"aab\"\n",
    "* \"aba\", \"aab\"\n",
    "* \"aaa\", \"aaa\"\n",
    "* \"aaa\", \"aaab\""
   ]
  },
  {
   "cell_type": "code",
   "execution_count": null,
   "id": "e7629b2f",
   "metadata": {},
   "outputs": [],
   "source": [
    "testCases = [[\"a\", \"a\"], [\"aa\", \"ab\"], [\"ba\", \"ba\"], [\"bb\", \"bb\"], [\"ba\", \"ab\"], [\"aaa\", \"aab\"], [\"aba\", \"aab\"], [\"aaa\", \"aaa\"], [\"aaa\", \"aaab\"]] \n",
    "\n",
    "\n",
    "for test in testCases:\n",
    "    equalStrings(test[0], test[1])\n"
   ]
  },
  {
   "cell_type": "markdown",
   "id": "fe879fb7",
   "metadata": {},
   "source": [
    "**8. Fifa ranks every country's soccer team according to their recent results. Next we will have a table that has two columns: country name and points. Sort the points to see which country is the best ranked this year. NOTE: DO NOT USE THE PRE-BUILT FUNCTION <code>sort()</code>**\n",
    "\n",
    "\n",
    "<table>\n",
    "    <tr>\n",
    "        <th><center>Country</center></th>\n",
    "        <th><center>Points</center></th>\n",
    "    </tr>\n",
    "    <tr>\n",
    "        <td> Brazil </td>\n",
    "        <td> 1833 </td>\n",
    "    </tr>\n",
    "    <tr>\n",
    "        <td> Spain </td>\n",
    "        <td> 1709 </td>\n",
    "    </tr>\n",
    "    <tr>\n",
    "        <td> Denmark </td>\n",
    "        <td> 1654 </td>\n",
    "    </tr>\n",
    "    <tr>\n",
    "        <td> Italy </td>\n",
    "        <td> 1723 </td>\n",
    "    </tr>\n",
    "        <tr>\n",
    "        <td> France </td>\n",
    "        <td> 1790 </td>\n",
    "    </tr>\n",
    "        <tr>\n",
    "        <td> Argentina </td>\n",
    "        <td> 1765 </td>\n",
    "    </tr>\n",
    "        <tr>\n",
    "        <td> Belgium </td>\n",
    "        <td> 1827 </td>\n",
    "    </tr>\n",
    "        <tr>\n",
    "        <td> England </td>\n",
    "        <td> 1762 </td>\n",
    "    </tr>\n",
    "        <tr>\n",
    "        <td> Mexico </td>\n",
    "        <td> 1659 </td>\n",
    "    </tr>\n",
    "        <tr>\n",
    "        <td> Portugal </td>\n",
    "        <td> 1675 </td>\n",
    "    </tr>\n",
    "\n",
    "</table>\n",
    "\n",
    "\n",
    "\n",
    "\n"
   ]
  },
  {
   "cell_type": "code",
   "execution_count": null,
   "id": "6e3d583c",
   "metadata": {},
   "outputs": [],
   "source": [
    "countryRankings = [['Brazil', 1833], ['Spain', 1709], ['Denmark', 1654], ['Italy', 1723], ['France', 1790], ['Argentina', 1765], ['Belgium', 1827], ['England', 1762], ['Mexico', 1659], ['Portugal', 1675]]\n",
    " \n",
    " "
   ]
  },
  {
   "cell_type": "markdown",
   "id": "61b01a19",
   "metadata": {},
   "source": [
    "**9. Given a year, determine whether it is a leap year or not.**\n",
    "\n",
    "An extra day is added to the calendar almost every four years as February 29, and the day is called a leap day. It corrects the calendar for the fact that our planet takes approximately 365.25 days to orbit the sun. A leap year contains a leap day.\n",
    "\n",
    "In the Gregorian calendar, three conditions are used to identify leap years:\n",
    "* The year can be evenly divided by 4, is a leap year, unless:\n",
    "* The year can be evenly divided by 100, it is NOT a leap year, unless:\n",
    "* The year is also evenly divisible by 400. Then it is a leap year.\n",
    "\n",
    "This means that in the Gregorian calendar, the years 2000 and 2400 are leap years, while 1800, 1900, 2100, 2200, 2300 and 2500 are NOT leap years."
   ]
  },
  {
   "cell_type": "code",
   "execution_count": 291,
   "id": "ed752779",
   "metadata": {},
   "outputs": [],
   "source": [
    "def leap_year(year):\n",
    "    if(year % 4 == 0 and year % 100 != 0 or year % 400 == 0):\n",
    "        print(year, \"is leap year\")\n",
    "    else:\n",
    "        print(year, \"is NOT Leap year\")"
   ]
  },
  {
   "cell_type": "code",
   "execution_count": 292,
   "id": "b85118c8",
   "metadata": {},
   "outputs": [
    {
     "name": "stdout",
     "output_type": "stream",
     "text": [
      "1900 is NOT Leap year\n",
      "1901 is NOT Leap year\n",
      "1902 is NOT Leap year\n",
      "1903 is NOT Leap year\n",
      "1904 is leap year\n",
      "1905 is NOT Leap year\n",
      "1906 is NOT Leap year\n",
      "1907 is NOT Leap year\n",
      "1908 is leap year\n",
      "1909 is NOT Leap year\n",
      "1910 is NOT Leap year\n",
      "1911 is NOT Leap year\n",
      "1912 is leap year\n",
      "1913 is NOT Leap year\n",
      "1914 is NOT Leap year\n",
      "1915 is NOT Leap year\n",
      "1916 is leap year\n",
      "1917 is NOT Leap year\n",
      "1918 is NOT Leap year\n",
      "1919 is NOT Leap year\n",
      "1920 is leap year\n",
      "1921 is NOT Leap year\n",
      "1922 is NOT Leap year\n",
      "1923 is NOT Leap year\n",
      "1924 is leap year\n",
      "1925 is NOT Leap year\n",
      "1926 is NOT Leap year\n",
      "1927 is NOT Leap year\n",
      "1928 is leap year\n",
      "1929 is NOT Leap year\n",
      "1930 is NOT Leap year\n",
      "1931 is NOT Leap year\n",
      "1932 is leap year\n",
      "1933 is NOT Leap year\n",
      "1934 is NOT Leap year\n",
      "1935 is NOT Leap year\n",
      "1936 is leap year\n",
      "1937 is NOT Leap year\n",
      "1938 is NOT Leap year\n",
      "1939 is NOT Leap year\n",
      "1940 is leap year\n",
      "1941 is NOT Leap year\n",
      "1942 is NOT Leap year\n",
      "1943 is NOT Leap year\n",
      "1944 is leap year\n",
      "1945 is NOT Leap year\n",
      "1946 is NOT Leap year\n",
      "1947 is NOT Leap year\n",
      "1948 is leap year\n",
      "1949 is NOT Leap year\n",
      "1950 is NOT Leap year\n",
      "1951 is NOT Leap year\n",
      "1952 is leap year\n",
      "1953 is NOT Leap year\n",
      "1954 is NOT Leap year\n",
      "1955 is NOT Leap year\n",
      "1956 is leap year\n",
      "1957 is NOT Leap year\n",
      "1958 is NOT Leap year\n",
      "1959 is NOT Leap year\n",
      "1960 is leap year\n",
      "1961 is NOT Leap year\n",
      "1962 is NOT Leap year\n",
      "1963 is NOT Leap year\n",
      "1964 is leap year\n",
      "1965 is NOT Leap year\n",
      "1966 is NOT Leap year\n",
      "1967 is NOT Leap year\n",
      "1968 is leap year\n",
      "1969 is NOT Leap year\n",
      "1970 is NOT Leap year\n",
      "1971 is NOT Leap year\n",
      "1972 is leap year\n",
      "1973 is NOT Leap year\n",
      "1974 is NOT Leap year\n",
      "1975 is NOT Leap year\n",
      "1976 is leap year\n",
      "1977 is NOT Leap year\n",
      "1978 is NOT Leap year\n",
      "1979 is NOT Leap year\n",
      "1980 is leap year\n",
      "1981 is NOT Leap year\n",
      "1982 is NOT Leap year\n",
      "1983 is NOT Leap year\n",
      "1984 is leap year\n",
      "1985 is NOT Leap year\n",
      "1986 is NOT Leap year\n",
      "1987 is NOT Leap year\n",
      "1988 is leap year\n",
      "1989 is NOT Leap year\n",
      "1990 is NOT Leap year\n",
      "1991 is NOT Leap year\n",
      "1992 is leap year\n",
      "1993 is NOT Leap year\n",
      "1994 is NOT Leap year\n",
      "1995 is NOT Leap year\n",
      "1996 is leap year\n",
      "1997 is NOT Leap year\n",
      "1998 is NOT Leap year\n",
      "1999 is NOT Leap year\n",
      "2000 is leap year\n",
      "2001 is NOT Leap year\n",
      "2002 is NOT Leap year\n",
      "2003 is NOT Leap year\n",
      "2004 is leap year\n",
      "2005 is NOT Leap year\n",
      "2006 is NOT Leap year\n",
      "2007 is NOT Leap year\n",
      "2008 is leap year\n",
      "2009 is NOT Leap year\n",
      "2010 is NOT Leap year\n",
      "2011 is NOT Leap year\n",
      "2012 is leap year\n",
      "2013 is NOT Leap year\n",
      "2014 is NOT Leap year\n",
      "2015 is NOT Leap year\n",
      "2016 is leap year\n",
      "2017 is NOT Leap year\n",
      "2018 is NOT Leap year\n",
      "2019 is NOT Leap year\n",
      "2020 is leap year\n",
      "2021 is NOT Leap year\n",
      "2022 is NOT Leap year\n",
      "2023 is NOT Leap year\n",
      "2024 is leap year\n",
      "2025 is NOT Leap year\n",
      "2026 is NOT Leap year\n",
      "2027 is NOT Leap year\n",
      "2028 is leap year\n",
      "2029 is NOT Leap year\n",
      "2030 is NOT Leap year\n",
      "2031 is NOT Leap year\n",
      "2032 is leap year\n",
      "2033 is NOT Leap year\n",
      "2034 is NOT Leap year\n",
      "2035 is NOT Leap year\n",
      "2036 is leap year\n",
      "2037 is NOT Leap year\n",
      "2038 is NOT Leap year\n",
      "2039 is NOT Leap year\n",
      "2040 is leap year\n",
      "2041 is NOT Leap year\n",
      "2042 is NOT Leap year\n",
      "2043 is NOT Leap year\n",
      "2044 is leap year\n",
      "2045 is NOT Leap year\n",
      "2046 is NOT Leap year\n",
      "2047 is NOT Leap year\n",
      "2048 is leap year\n",
      "2049 is NOT Leap year\n",
      "2050 is NOT Leap year\n",
      "2051 is NOT Leap year\n",
      "2052 is leap year\n",
      "2053 is NOT Leap year\n",
      "2054 is NOT Leap year\n",
      "2055 is NOT Leap year\n",
      "2056 is leap year\n",
      "2057 is NOT Leap year\n",
      "2058 is NOT Leap year\n",
      "2059 is NOT Leap year\n",
      "2060 is leap year\n",
      "2061 is NOT Leap year\n",
      "2062 is NOT Leap year\n",
      "2063 is NOT Leap year\n",
      "2064 is leap year\n",
      "2065 is NOT Leap year\n",
      "2066 is NOT Leap year\n",
      "2067 is NOT Leap year\n",
      "2068 is leap year\n",
      "2069 is NOT Leap year\n",
      "2070 is NOT Leap year\n",
      "2071 is NOT Leap year\n",
      "2072 is leap year\n",
      "2073 is NOT Leap year\n",
      "2074 is NOT Leap year\n",
      "2075 is NOT Leap year\n",
      "2076 is leap year\n",
      "2077 is NOT Leap year\n",
      "2078 is NOT Leap year\n",
      "2079 is NOT Leap year\n",
      "2080 is leap year\n",
      "2081 is NOT Leap year\n",
      "2082 is NOT Leap year\n",
      "2083 is NOT Leap year\n",
      "2084 is leap year\n",
      "2085 is NOT Leap year\n",
      "2086 is NOT Leap year\n",
      "2087 is NOT Leap year\n",
      "2088 is leap year\n",
      "2089 is NOT Leap year\n",
      "2090 is NOT Leap year\n",
      "2091 is NOT Leap year\n",
      "2092 is leap year\n",
      "2093 is NOT Leap year\n",
      "2094 is NOT Leap year\n",
      "2095 is NOT Leap year\n",
      "2096 is leap year\n",
      "2097 is NOT Leap year\n",
      "2098 is NOT Leap year\n",
      "2099 is NOT Leap year\n",
      "2100 is NOT Leap year\n",
      "2101 is NOT Leap year\n",
      "2102 is NOT Leap year\n",
      "2103 is NOT Leap year\n",
      "2104 is leap year\n",
      "2105 is NOT Leap year\n",
      "2106 is NOT Leap year\n",
      "2107 is NOT Leap year\n",
      "2108 is leap year\n",
      "2109 is NOT Leap year\n",
      "2110 is NOT Leap year\n",
      "2111 is NOT Leap year\n",
      "2112 is leap year\n",
      "2113 is NOT Leap year\n",
      "2114 is NOT Leap year\n",
      "2115 is NOT Leap year\n",
      "2116 is leap year\n",
      "2117 is NOT Leap year\n",
      "2118 is NOT Leap year\n",
      "2119 is NOT Leap year\n",
      "2120 is leap year\n",
      "2121 is NOT Leap year\n",
      "2122 is NOT Leap year\n",
      "2123 is NOT Leap year\n",
      "2124 is leap year\n",
      "2125 is NOT Leap year\n",
      "2126 is NOT Leap year\n",
      "2127 is NOT Leap year\n",
      "2128 is leap year\n",
      "2129 is NOT Leap year\n",
      "2130 is NOT Leap year\n",
      "2131 is NOT Leap year\n",
      "2132 is leap year\n",
      "2133 is NOT Leap year\n",
      "2134 is NOT Leap year\n",
      "2135 is NOT Leap year\n",
      "2136 is leap year\n",
      "2137 is NOT Leap year\n",
      "2138 is NOT Leap year\n",
      "2139 is NOT Leap year\n",
      "2140 is leap year\n",
      "2141 is NOT Leap year\n",
      "2142 is NOT Leap year\n",
      "2143 is NOT Leap year\n",
      "2144 is leap year\n",
      "2145 is NOT Leap year\n",
      "2146 is NOT Leap year\n",
      "2147 is NOT Leap year\n",
      "2148 is leap year\n",
      "2149 is NOT Leap year\n",
      "2150 is NOT Leap year\n",
      "2151 is NOT Leap year\n",
      "2152 is leap year\n",
      "2153 is NOT Leap year\n",
      "2154 is NOT Leap year\n",
      "2155 is NOT Leap year\n",
      "2156 is leap year\n",
      "2157 is NOT Leap year\n",
      "2158 is NOT Leap year\n",
      "2159 is NOT Leap year\n",
      "2160 is leap year\n",
      "2161 is NOT Leap year\n",
      "2162 is NOT Leap year\n",
      "2163 is NOT Leap year\n",
      "2164 is leap year\n",
      "2165 is NOT Leap year\n",
      "2166 is NOT Leap year\n",
      "2167 is NOT Leap year\n",
      "2168 is leap year\n",
      "2169 is NOT Leap year\n",
      "2170 is NOT Leap year\n",
      "2171 is NOT Leap year\n",
      "2172 is leap year\n",
      "2173 is NOT Leap year\n",
      "2174 is NOT Leap year\n",
      "2175 is NOT Leap year\n",
      "2176 is leap year\n",
      "2177 is NOT Leap year\n",
      "2178 is NOT Leap year\n",
      "2179 is NOT Leap year\n",
      "2180 is leap year\n",
      "2181 is NOT Leap year\n",
      "2182 is NOT Leap year\n",
      "2183 is NOT Leap year\n",
      "2184 is leap year\n",
      "2185 is NOT Leap year\n",
      "2186 is NOT Leap year\n",
      "2187 is NOT Leap year\n",
      "2188 is leap year\n",
      "2189 is NOT Leap year\n",
      "2190 is NOT Leap year\n",
      "2191 is NOT Leap year\n",
      "2192 is leap year\n",
      "2193 is NOT Leap year\n",
      "2194 is NOT Leap year\n",
      "2195 is NOT Leap year\n",
      "2196 is leap year\n",
      "2197 is NOT Leap year\n",
      "2198 is NOT Leap year\n",
      "2199 is NOT Leap year\n",
      "2200 is NOT Leap year\n",
      "2201 is NOT Leap year\n",
      "2202 is NOT Leap year\n",
      "2203 is NOT Leap year\n",
      "2204 is leap year\n",
      "2205 is NOT Leap year\n",
      "2206 is NOT Leap year\n",
      "2207 is NOT Leap year\n",
      "2208 is leap year\n",
      "2209 is NOT Leap year\n",
      "2210 is NOT Leap year\n",
      "2211 is NOT Leap year\n",
      "2212 is leap year\n",
      "2213 is NOT Leap year\n",
      "2214 is NOT Leap year\n",
      "2215 is NOT Leap year\n",
      "2216 is leap year\n",
      "2217 is NOT Leap year\n",
      "2218 is NOT Leap year\n",
      "2219 is NOT Leap year\n",
      "2220 is leap year\n",
      "2221 is NOT Leap year\n",
      "2222 is NOT Leap year\n",
      "2223 is NOT Leap year\n",
      "2224 is leap year\n",
      "2225 is NOT Leap year\n",
      "2226 is NOT Leap year\n",
      "2227 is NOT Leap year\n",
      "2228 is leap year\n",
      "2229 is NOT Leap year\n",
      "2230 is NOT Leap year\n",
      "2231 is NOT Leap year\n",
      "2232 is leap year\n",
      "2233 is NOT Leap year\n",
      "2234 is NOT Leap year\n",
      "2235 is NOT Leap year\n",
      "2236 is leap year\n",
      "2237 is NOT Leap year\n",
      "2238 is NOT Leap year\n",
      "2239 is NOT Leap year\n",
      "2240 is leap year\n",
      "2241 is NOT Leap year\n",
      "2242 is NOT Leap year\n",
      "2243 is NOT Leap year\n",
      "2244 is leap year\n",
      "2245 is NOT Leap year\n",
      "2246 is NOT Leap year\n",
      "2247 is NOT Leap year\n",
      "2248 is leap year\n",
      "2249 is NOT Leap year\n",
      "2250 is NOT Leap year\n",
      "2251 is NOT Leap year\n",
      "2252 is leap year\n",
      "2253 is NOT Leap year\n",
      "2254 is NOT Leap year\n",
      "2255 is NOT Leap year\n",
      "2256 is leap year\n",
      "2257 is NOT Leap year\n",
      "2258 is NOT Leap year\n",
      "2259 is NOT Leap year\n",
      "2260 is leap year\n",
      "2261 is NOT Leap year\n",
      "2262 is NOT Leap year\n",
      "2263 is NOT Leap year\n",
      "2264 is leap year\n",
      "2265 is NOT Leap year\n",
      "2266 is NOT Leap year\n",
      "2267 is NOT Leap year\n",
      "2268 is leap year\n",
      "2269 is NOT Leap year\n",
      "2270 is NOT Leap year\n",
      "2271 is NOT Leap year\n",
      "2272 is leap year\n",
      "2273 is NOT Leap year\n",
      "2274 is NOT Leap year\n",
      "2275 is NOT Leap year\n",
      "2276 is leap year\n",
      "2277 is NOT Leap year\n",
      "2278 is NOT Leap year\n",
      "2279 is NOT Leap year\n",
      "2280 is leap year\n",
      "2281 is NOT Leap year\n",
      "2282 is NOT Leap year\n",
      "2283 is NOT Leap year\n",
      "2284 is leap year\n",
      "2285 is NOT Leap year\n",
      "2286 is NOT Leap year\n",
      "2287 is NOT Leap year\n",
      "2288 is leap year\n",
      "2289 is NOT Leap year\n",
      "2290 is NOT Leap year\n",
      "2291 is NOT Leap year\n",
      "2292 is leap year\n",
      "2293 is NOT Leap year\n",
      "2294 is NOT Leap year\n",
      "2295 is NOT Leap year\n",
      "2296 is leap year\n",
      "2297 is NOT Leap year\n",
      "2298 is NOT Leap year\n",
      "2299 is NOT Leap year\n",
      "2300 is NOT Leap year\n",
      "2301 is NOT Leap year\n",
      "2302 is NOT Leap year\n",
      "2303 is NOT Leap year\n",
      "2304 is leap year\n",
      "2305 is NOT Leap year\n",
      "2306 is NOT Leap year\n",
      "2307 is NOT Leap year\n",
      "2308 is leap year\n",
      "2309 is NOT Leap year\n",
      "2310 is NOT Leap year\n",
      "2311 is NOT Leap year\n",
      "2312 is leap year\n",
      "2313 is NOT Leap year\n",
      "2314 is NOT Leap year\n",
      "2315 is NOT Leap year\n",
      "2316 is leap year\n",
      "2317 is NOT Leap year\n",
      "2318 is NOT Leap year\n",
      "2319 is NOT Leap year\n",
      "2320 is leap year\n",
      "2321 is NOT Leap year\n",
      "2322 is NOT Leap year\n",
      "2323 is NOT Leap year\n",
      "2324 is leap year\n",
      "2325 is NOT Leap year\n",
      "2326 is NOT Leap year\n",
      "2327 is NOT Leap year\n",
      "2328 is leap year\n",
      "2329 is NOT Leap year\n",
      "2330 is NOT Leap year\n",
      "2331 is NOT Leap year\n",
      "2332 is leap year\n",
      "2333 is NOT Leap year\n",
      "2334 is NOT Leap year\n",
      "2335 is NOT Leap year\n",
      "2336 is leap year\n",
      "2337 is NOT Leap year\n",
      "2338 is NOT Leap year\n",
      "2339 is NOT Leap year\n",
      "2340 is leap year\n",
      "2341 is NOT Leap year\n",
      "2342 is NOT Leap year\n",
      "2343 is NOT Leap year\n",
      "2344 is leap year\n",
      "2345 is NOT Leap year\n",
      "2346 is NOT Leap year\n",
      "2347 is NOT Leap year\n",
      "2348 is leap year\n",
      "2349 is NOT Leap year\n",
      "2350 is NOT Leap year\n",
      "2351 is NOT Leap year\n",
      "2352 is leap year\n",
      "2353 is NOT Leap year\n",
      "2354 is NOT Leap year\n",
      "2355 is NOT Leap year\n",
      "2356 is leap year\n",
      "2357 is NOT Leap year\n",
      "2358 is NOT Leap year\n",
      "2359 is NOT Leap year\n",
      "2360 is leap year\n",
      "2361 is NOT Leap year\n",
      "2362 is NOT Leap year\n",
      "2363 is NOT Leap year\n",
      "2364 is leap year\n",
      "2365 is NOT Leap year\n",
      "2366 is NOT Leap year\n",
      "2367 is NOT Leap year\n",
      "2368 is leap year\n",
      "2369 is NOT Leap year\n",
      "2370 is NOT Leap year\n",
      "2371 is NOT Leap year\n",
      "2372 is leap year\n",
      "2373 is NOT Leap year\n",
      "2374 is NOT Leap year\n",
      "2375 is NOT Leap year\n",
      "2376 is leap year\n",
      "2377 is NOT Leap year\n",
      "2378 is NOT Leap year\n",
      "2379 is NOT Leap year\n",
      "2380 is leap year\n",
      "2381 is NOT Leap year\n",
      "2382 is NOT Leap year\n",
      "2383 is NOT Leap year\n",
      "2384 is leap year\n",
      "2385 is NOT Leap year\n",
      "2386 is NOT Leap year\n",
      "2387 is NOT Leap year\n",
      "2388 is leap year\n",
      "2389 is NOT Leap year\n",
      "2390 is NOT Leap year\n",
      "2391 is NOT Leap year\n",
      "2392 is leap year\n",
      "2393 is NOT Leap year\n",
      "2394 is NOT Leap year\n",
      "2395 is NOT Leap year\n",
      "2396 is leap year\n",
      "2397 is NOT Leap year\n",
      "2398 is NOT Leap year\n",
      "2399 is NOT Leap year\n"
     ]
    }
   ],
   "source": [
    "for yr in range(1900, 2400, 1):\n",
    "    leap_year(yr)"
   ]
  },
  {
   "cell_type": "markdown",
   "id": "673be75d",
   "metadata": {},
   "source": [
    "**10. Given the following document, determine the unique words of the document, and how many times do that words appear in the document.**\n",
    "\n",
    "\"It was a bright cold day in April, and the clocks were striking thirteen. Winston Smith, his chin nuzzled into his breast in an effort to escape the vile wind, slipped quickly through the glass doors of Victory Mansions, though not quickly enough to prevent a swirl of gritty dust from entering along with him.\n",
    "\n",
    "The hallway smelt of boiled cabbage and old rag mats. At one end of it a coloured poster, too large for indoor display, had been tacked to the wall. It depicted simply an enormous face, more than a metre wide: the face of a man of about forty-five, with a heavy black moustache and ruggedly handsome features. Winston made for the stairs. It was no use trying the lift. Even at the best of times it was seldom working, and at present the electric current was cut off during daylight hours. It was part of the economy drive in preparation for HateWeek. The flat was seven flights up, and Winston, who was thirty-nine and had a varicose ulcer above his right ankle, went slowly, resting several times on the way. On each landing, opposite the lift shaft, the poster with the enormous face gazed from the wall. It was one of those pictures which are so contrived that the eyes follow you about when you move. BIG BROTHER IS WATCHING YOU, the caption beneath it ran.\"\n"
   ]
  },
  {
   "cell_type": "code",
   "execution_count": null,
   "id": "99bda468",
   "metadata": {},
   "outputs": [],
   "source": [
    "document = (\"It was a bright cold day in April, and the clocks were striking thirteen. Winston Smith, \" \n",
    "\n",
    "            \"his chin nuzzled into his breast in an effort to escape the vile wind, slipped quickly through\"\n",
    "\n",
    "            \"the glass doors of Victory Mansions, though not quickly enough to prevent a swirl of gritty dust\"\n",
    "\n",
    "            \"from entering along with him. \"\n",
    "\n",
    "            \" The hallway smelt of boiled cabbage and old rag mats. At one end of it a coloured poster,\" \n",
    "\n",
    "            \"too large for indoor display, had been tacked to the wall. It depicted simply an enormous face, \"\n",
    "\n",
    "            \"more than a metre wide: the face of a man of about forty-five, with a heavy black moustache and\"\n",
    "\n",
    "            \"ruggedly handsome features. Winston made for the stairs. It was no use trying the lift. Even at \"\n",
    "\n",
    "            \"the best of times it was seldom working, and at present the electric current was cut off during \"\n",
    "\n",
    "            \"daylight hours. It was part of the economy drive in preparation for HateWeek. The flat was seven\"\n",
    "\n",
    "            \"flights up, and Winston, who was thirty-nine and had a varicose ulcer above his right ankle, went\"\n",
    "\n",
    "            \"slowly, resting several times on the way. On each landing, opposite the lift shaft, the poster\"\n",
    "\n",
    "            \"with the enormous face gazed from the wall. It was one of those pictures which are so contrived\"\n",
    "\n",
    "            \"that the eyes follow you about when you move. BIG BROTHER IS WATCHING YOU, the caption beneath it ran.\")"
   ]
  },
  {
   "cell_type": "code",
   "execution_count": null,
   "id": "b02caf1d",
   "metadata": {},
   "outputs": [],
   "source": [
    "document = document.split(' ')\n",
    "document"
   ]
  },
  {
   "cell_type": "code",
   "execution_count": null,
   "id": "43f694c3",
   "metadata": {},
   "outputs": [],
   "source": [
    "dictionary = {}\n",
    "for letter in document:\n",
    "    if letter not in dictionary:\n",
    "        dictionary[letter] = 1\n",
    "    else:\n",
    "        dictionary[letter] += 1\n",
    "print(dictionary)"
   ]
  }
 ],
 "metadata": {
  "kernelspec": {
   "display_name": "Python 3",
   "language": "python",
   "name": "python3"
  },
  "language_info": {
   "codemirror_mode": {
    "name": "ipython",
    "version": 3
   },
   "file_extension": ".py",
   "mimetype": "text/x-python",
   "name": "python",
   "nbconvert_exporter": "python",
   "pygments_lexer": "ipython3",
   "version": "3.8.8"
  }
 },
 "nbformat": 4,
 "nbformat_minor": 5
}
