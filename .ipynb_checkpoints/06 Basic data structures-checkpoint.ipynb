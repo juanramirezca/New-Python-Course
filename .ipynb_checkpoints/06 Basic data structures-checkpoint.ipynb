{
 "cells": [
  {
   "cell_type": "markdown",
   "id": "6c16852b",
   "metadata": {},
   "source": [
    "# <center>Basic data structures</center>"
   ]
  },
  {
   "cell_type": "markdown",
   "id": "315223c0",
   "metadata": {},
   "source": [
    "In this file, we will cover the main data structures that are available in Python:\n",
    "1. Strings\n",
    "2. Lists\n",
    "3. Tuples\n",
    "4. Sets\n",
    "5. Dictionary"
   ]
  },
  {
   "cell_type": "markdown",
   "id": "c7840229",
   "metadata": {},
   "source": [
    "## 1. Strings"
   ]
  },
  {
   "cell_type": "markdown",
   "id": "3e989961",
   "metadata": {},
   "source": [
    "Besides the numbers, in Python we can manipulate strings. To refer a string, we can use either single quote ('...') or double quote(\"...\")"
   ]
  },
  {
   "cell_type": "code",
   "execution_count": 1,
   "id": "bab0a093",
   "metadata": {},
   "outputs": [],
   "source": [
    "greetings = \"Hello, World!\""
   ]
  },
  {
   "cell_type": "code",
   "execution_count": 2,
   "id": "0d066ecf",
   "metadata": {},
   "outputs": [
    {
     "data": {
      "text/plain": [
       "'Hello, World!'"
      ]
     },
     "execution_count": 2,
     "metadata": {},
     "output_type": "execute_result"
    }
   ],
   "source": [
    "greetings"
   ]
  },
  {
   "cell_type": "code",
   "execution_count": 3,
   "id": "bcbf51a2",
   "metadata": {},
   "outputs": [
    {
     "data": {
      "text/plain": [
       "'Goodbye, World!'"
      ]
     },
     "execution_count": 3,
     "metadata": {},
     "output_type": "execute_result"
    }
   ],
   "source": [
    "goodbye = 'Goodbye, World!'\n",
    "goodbye"
   ]
  },
  {
   "cell_type": "markdown",
   "id": "9bc6aeb5",
   "metadata": {},
   "source": [
    "<font color = red> Remember we can use the **(+)** to concatenate strings and the **(*)** operator to repeat many times a string"
   ]
  },
  {
   "cell_type": "code",
   "execution_count": 4,
   "id": "07bb3446",
   "metadata": {},
   "outputs": [
    {
     "name": "stdout",
     "output_type": "stream",
     "text": [
      "Hello World!\n"
     ]
    }
   ],
   "source": [
    "string1 = \"Hello\"\n",
    "string2 = \" World!\"\n",
    "print(string1 + string2)"
   ]
  },
  {
   "cell_type": "code",
   "execution_count": 4,
   "id": "1a2415af",
   "metadata": {},
   "outputs": [
    {
     "name": "stdout",
     "output_type": "stream",
     "text": [
      "Hello, World!Hello, World!Hello, World!\n"
     ]
    }
   ],
   "source": [
    "# Do you remember what does the following expression returns?\n",
    "print(greetings * 3)"
   ]
  },
  {
   "cell_type": "code",
   "execution_count": 5,
   "id": "64ecb87a",
   "metadata": {},
   "outputs": [
    {
     "name": "stdout",
     "output_type": "stream",
     "text": [
      "Sometimes we have a really long string that does not fit in only one line. So in that case we can use the parentheses to surround the text and single or double quote in each line of the string\n"
     ]
    }
   ],
   "source": [
    "text = ('Sometimes we have a really long string that does not fit in '\n",
    "        'only one line. So in that case we can use the parentheses to '\n",
    "        'surround the text and single or double quote in each line '\n",
    "        'of the string'\n",
    "       )\n",
    "print(text)"
   ]
  },
  {
   "cell_type": "markdown",
   "id": "822c2812",
   "metadata": {},
   "source": [
    "### 1.1 Indices"
   ]
  },
  {
   "cell_type": "markdown",
   "id": "6c7af649",
   "metadata": {},
   "source": [
    "Strings can be indexed, but remember that the first element of the string corresponds to the index **0**"
   ]
  },
  {
   "cell_type": "code",
   "execution_count": 8,
   "id": "27888dca",
   "metadata": {},
   "outputs": [
    {
     "data": {
      "text/plain": [
       "'p'"
      ]
     },
     "execution_count": 8,
     "metadata": {},
     "output_type": "execute_result"
    }
   ],
   "source": [
    "word = 'python is a great programming language'\n",
    "word[0]"
   ]
  },
  {
   "cell_type": "code",
   "execution_count": 10,
   "id": "3f6cc21a",
   "metadata": {},
   "outputs": [],
   "source": [
    "shortWord = \"Ape\"\n",
    "#shortWord[4]"
   ]
  },
  {
   "cell_type": "markdown",
   "id": "4a9411f0",
   "metadata": {},
   "source": [
    "<font color = red> Indices can also be negative, starting from the right of the string as the starting point"
   ]
  },
  {
   "cell_type": "code",
   "execution_count": null,
   "id": "8e1541e4",
   "metadata": {},
   "outputs": [],
   "source": [
    "print(shortWord[-1])\n",
    "# print(shortWord[-2])\n",
    "# print(shortWord[-6])"
   ]
  },
  {
   "cell_type": "markdown",
   "id": "dec3a013",
   "metadata": {},
   "source": [
    "### 1.2 Slices"
   ]
  },
  {
   "cell_type": "markdown",
   "id": "f86b8dfd",
   "metadata": {},
   "source": [
    "Besides indices, we can use slices or \"chunks\" of a string. Slices allows us to obtain sub-strings"
   ]
  },
  {
   "cell_type": "code",
   "execution_count": 19,
   "id": "df853c07",
   "metadata": {},
   "outputs": [
    {
     "data": {
      "text/plain": [
       "' is a great programming language'"
      ]
     },
     "execution_count": 19,
     "metadata": {},
     "output_type": "execute_result"
    }
   ],
   "source": [
    "#[0,6)\n",
    "#0,1,2,3,4,5\n",
    "#p,y,t,h,o,n\n",
    "#word[2:6]\n",
    "#word[:6]\n",
    "#word[6:]"
   ]
  },
  {
   "cell_type": "code",
   "execution_count": 27,
   "id": "04cf7503",
   "metadata": {},
   "outputs": [
    {
     "data": {
      "text/plain": [
       "'language'"
      ]
     },
     "execution_count": 27,
     "metadata": {},
     "output_type": "execute_result"
    }
   ],
   "source": [
    "# Exercise. Print only the sub-string \"language\" from the variable \"word\"\n",
    "#word[-8:]\n",
    "word[30:]"
   ]
  },
  {
   "cell_type": "code",
   "execution_count": 13,
   "id": "16b6de0b",
   "metadata": {
    "scrolled": false
   },
   "outputs": [
    {
     "name": "stdout",
     "output_type": "stream",
     "text": [
      "+---+---+---+---+---+---+\n",
      "| P | y | t | h | o | n |\n",
      "+---+---+---+---+---+---+\n",
      "0   1   2   3   4   5   6\n",
      "-6  -5  -4  -3  -2  -1  \n",
      "\n"
     ]
    }
   ],
   "source": [
    "# This is a visual way to remember how slices work in Python \n",
    "\n",
    "\n",
    "print('+---+---+---+---+---+---+\\n' \n",
    "      '| P | y | t | h | o | n |\\n'\n",
    "      '+---+---+---+---+---+---+\\n'\n",
    "      '0   1   2   3   4   5   6\\n'\n",
    "      '-6  -5  -4  -3  -2  -1  \\n'\n",
    "     )"
   ]
  },
  {
   "cell_type": "markdown",
   "id": "960c847d",
   "metadata": {},
   "source": [
    "### 1.3 The len( ) function"
   ]
  },
  {
   "cell_type": "code",
   "execution_count": 29,
   "id": "577ebf52",
   "metadata": {},
   "outputs": [
    {
     "data": {
      "text/plain": [
       "38"
      ]
     },
     "execution_count": 29,
     "metadata": {},
     "output_type": "execute_result"
    }
   ],
   "source": [
    "string = \"supercalifragilisticexpialidocious\"\n",
    "len(string)"
   ]
  },
  {
   "cell_type": "markdown",
   "id": "90568905",
   "metadata": {},
   "source": [
    "### Recap"
   ]
  },
  {
   "cell_type": "markdown",
   "id": "41166aa7",
   "metadata": {},
   "source": [
    "<table>\n",
    "    <tr>\n",
    "        <th><center> </center></th>\n",
    "        <th style=background-color:#3396ff;><center> When to use it? </center></th>\n",
    "        <th style=background-color:#3396ff;><center> Example </center></th>\n",
    "    </tr>\n",
    "    <tr>\n",
    "        <td style= \"background-color:#33c7ff;\"> <p style=\"text-align:left;background-color:#33c7ff;\"> Indices </p></td>\n",
    "        <td> <p style=\"text-align:left;\">When we want to access a specific character of a string</p> </td>\n",
    "        <td> <p style=\"text-align:left;\"> word[4]</p> </td>\n",
    "    </tr>\n",
    "        <tr>\n",
    "        <td style= \"background-color:#33c7ff;\"> <p style=\"text-align:left;\"> Slices </p></td>\n",
    "        <td> <p style=\"text-align:left;\"> When we want a sub-string</p> </td>\n",
    "        <td> <p style=\"text-align:left;\"> word[2:6]</p> </td>\n",
    "    </tr>\n",
    "        <tr>\n",
    "        <td style= \"background-color:#33c7ff;\"> <p style=\"text-align:left;\"> Len( ) function</p></td>\n",
    "        <td> <p style=\"text-align:left;\">To know the length of a string</p> </td>\n",
    "        <td> <p style=\"text-align:left;\">len(word)</p> </td>\n",
    "    </tr>\n",
    "</table>"
   ]
  },
  {
   "cell_type": "code",
   "execution_count": null,
   "id": "b5456844",
   "metadata": {},
   "outputs": [],
   "source": [
    "#To-Do\n",
    "#Add functions like isalnum(), isdigit(), isalpha(), islower(), isUpper(), find(), replace(), split()"
   ]
  },
  {
   "cell_type": "markdown",
   "id": "fd695c85",
   "metadata": {},
   "source": [
    "## 2. Lists"
   ]
  },
  {
   "cell_type": "markdown",
   "id": "7234979b",
   "metadata": {},
   "source": [
    "* Python knows a number of *compound data types*, used to group together values. The most versatile is the list, which can be written as a list of comma-separated values(items) between square brackets.\n",
    "* Lists might contain items of different types, but usually the items all have the same type"
   ]
  },
  {
   "cell_type": "code",
   "execution_count": 33,
   "id": "f5ec41d2",
   "metadata": {},
   "outputs": [
    {
     "data": {
      "text/plain": [
       "[10, 8, 7]"
      ]
     },
     "execution_count": 33,
     "metadata": {},
     "output_type": "execute_result"
    }
   ],
   "source": [
    "# Integer list\n",
    "scores = [10, 8, 7]\n",
    "scores"
   ]
  },
  {
   "cell_type": "code",
   "execution_count": 34,
   "id": "ad870085",
   "metadata": {},
   "outputs": [
    {
     "data": {
      "text/plain": [
       "['Maths', 'Economy', 'Computer', 'Data Science']"
      ]
     },
     "execution_count": 34,
     "metadata": {},
     "output_type": "execute_result"
    }
   ],
   "source": [
    "# String list\n",
    "careers = ['Maths', 'Economy', 'Computer', 'Data Science']\n",
    "careers"
   ]
  },
  {
   "cell_type": "code",
   "execution_count": 35,
   "id": "597ffdea",
   "metadata": {},
   "outputs": [
    {
     "data": {
      "text/plain": [
       "[23.5, 72.3, 88.17, 11.2]"
      ]
     },
     "execution_count": 35,
     "metadata": {},
     "output_type": "execute_result"
    }
   ],
   "source": [
    "# Float list\n",
    "sales = [23.5, 72.3, 88.17, 11.2]\n",
    "sales\n"
   ]
  },
  {
   "cell_type": "code",
   "execution_count": 36,
   "id": "150d8ced",
   "metadata": {},
   "outputs": [
    {
     "data": {
      "text/plain": [
       "[1, 'apple', 3.14, False]"
      ]
     },
     "execution_count": 36,
     "metadata": {},
     "output_type": "execute_result"
    }
   ],
   "source": [
    "# Different value types\n",
    "mixedList = [1, 'apple', 3.14, False]\n",
    "mixedList"
   ]
  },
  {
   "cell_type": "markdown",
   "id": "32a38a73",
   "metadata": {},
   "source": [
    "### 2.1 Indices"
   ]
  },
  {
   "cell_type": "markdown",
   "id": "7305c75f",
   "metadata": {},
   "source": [
    "Such as strings, lists also can be indexed"
   ]
  },
  {
   "cell_type": "code",
   "execution_count": 38,
   "id": "7be2d44a",
   "metadata": {},
   "outputs": [],
   "source": [
    "squareNumbers = [1,4,9,16,25]"
   ]
  },
  {
   "cell_type": "code",
   "execution_count": 42,
   "id": "c590c1cd",
   "metadata": {},
   "outputs": [],
   "source": [
    "# What does the following statements will print?\n",
    "#squareNumbers[2]\n",
    "#squareNumbers[0]\n",
    "# print(squareNumbers[-1])\n",
    "# print(len(squareNumbers))\n",
    "# squareNumbers[7]"
   ]
  },
  {
   "cell_type": "markdown",
   "id": "02086bf1",
   "metadata": {},
   "source": [
    "### 2.2 Slices"
   ]
  },
  {
   "cell_type": "markdown",
   "id": "0becae88",
   "metadata": {},
   "source": [
    "A slice operation returns a new list cotaining the requested element.\n",
    "\n",
    "\n",
    "\n"
   ]
  },
  {
   "cell_type": "code",
   "execution_count": 44,
   "id": "af93088a",
   "metadata": {},
   "outputs": [
    {
     "data": {
      "text/plain": [
       "[1, 4, 9, 16, 25]"
      ]
     },
     "execution_count": 44,
     "metadata": {},
     "output_type": "execute_result"
    }
   ],
   "source": [
    "squareNumbers"
   ]
  },
  {
   "cell_type": "code",
   "execution_count": 48,
   "id": "d077e54a",
   "metadata": {},
   "outputs": [
    {
     "data": {
      "text/plain": [
       "[1, 4, 9, 16, 25]"
      ]
     },
     "execution_count": 48,
     "metadata": {},
     "output_type": "execute_result"
    }
   ],
   "source": [
    "# What does the following statements will print?\n",
    "#squareNumbers [2:3]\n",
    "#squareNumbers [:3]\n",
    "#squareNumbers [3:]\n",
    "squareNumbers [:]"
   ]
  },
  {
   "cell_type": "markdown",
   "id": "5d8f3ea6",
   "metadata": {},
   "source": [
    "### 2.3 Len ( ) function"
   ]
  },
  {
   "cell_type": "code",
   "execution_count": 50,
   "id": "d8a210fa",
   "metadata": {},
   "outputs": [
    {
     "data": {
      "text/plain": [
       "5"
      ]
     },
     "execution_count": 50,
     "metadata": {},
     "output_type": "execute_result"
    }
   ],
   "source": [
    "# We can use the pre-built function len( )\n",
    "len(squareNumbers)"
   ]
  },
  {
   "cell_type": "markdown",
   "id": "aa786ce0",
   "metadata": {},
   "source": [
    "### 2.4 Lists of lists"
   ]
  },
  {
   "cell_type": "markdown",
   "id": "38d3abbe",
   "metadata": {},
   "source": [
    "We can also have a list of lists"
   ]
  },
  {
   "cell_type": "code",
   "execution_count": 51,
   "id": "ed3dfd21",
   "metadata": {},
   "outputs": [
    {
     "data": {
      "text/plain": [
       "[[1, 2, 3], [4, 5, 6]]"
      ]
     },
     "execution_count": 51,
     "metadata": {},
     "output_type": "execute_result"
    }
   ],
   "source": [
    "list1 = [1,2,3]\n",
    "list2 = [4,5,6]\n",
    "numberList = [list1, list2]\n",
    "numberList"
   ]
  },
  {
   "cell_type": "code",
   "execution_count": 54,
   "id": "82aa44f6",
   "metadata": {},
   "outputs": [
    {
     "data": {
      "text/plain": [
       "[['a', 'b', 'c'], [2, 4, 6]]"
      ]
     },
     "execution_count": 54,
     "metadata": {},
     "output_type": "execute_result"
    }
   ],
   "source": [
    "letters = ['a', 'b', 'c']\n",
    "numbers = [2, 4, 6]\n",
    "x = [letters, numbers]\n",
    "# What's the length of the list 'x'?\n",
    "x"
   ]
  },
  {
   "cell_type": "markdown",
   "id": "cdbd9186",
   "metadata": {},
   "source": [
    "## 2.5 Most commonly used functions on lists"
   ]
  },
  {
   "cell_type": "markdown",
   "id": "17ae3eb7",
   "metadata": {},
   "source": [
    "Now we will se some of the most commonly used functions on list in Python. But first we will create a list of elements."
   ]
  },
  {
   "cell_type": "code",
   "execution_count": 55,
   "id": "8d6caf37",
   "metadata": {},
   "outputs": [
    {
     "data": {
      "text/plain": [
       "['apple', 'kiwi', 'papaya', 'banana', 'papaya', 'kiwi', 'mango', 'strawberry']"
      ]
     },
     "execution_count": 55,
     "metadata": {},
     "output_type": "execute_result"
    }
   ],
   "source": [
    "fruits = ['apple', 'kiwi', 'papaya', 'banana', 'papaya', 'kiwi', 'mango', 'strawberry']\n",
    "fruits"
   ]
  },
  {
   "cell_type": "markdown",
   "id": "5cb9eb6d",
   "metadata": {},
   "source": [
    "### 2.5.1 Append"
   ]
  },
  {
   "cell_type": "markdown",
   "id": "87c1e8d2",
   "metadata": {},
   "source": [
    "Adds an item to the end of the list"
   ]
  },
  {
   "cell_type": "code",
   "execution_count": 56,
   "id": "96c1e0d1",
   "metadata": {},
   "outputs": [
    {
     "data": {
      "text/plain": [
       "['apple',\n",
       " 'kiwi',\n",
       " 'papaya',\n",
       " 'banana',\n",
       " 'papaya',\n",
       " 'kiwi',\n",
       " 'mango',\n",
       " 'strawberry',\n",
       " 'orange']"
      ]
     },
     "execution_count": 56,
     "metadata": {},
     "output_type": "execute_result"
    }
   ],
   "source": [
    "fruits.append('orange')\n",
    "fruits"
   ]
  },
  {
   "cell_type": "markdown",
   "id": "c2647667",
   "metadata": {},
   "source": [
    "### 2.5.2 Insert"
   ]
  },
  {
   "cell_type": "markdown",
   "id": "17cbdfc0",
   "metadata": {},
   "source": [
    "* Inserts an item at a given position.\n",
    "* The first argument is the index of the element before which to insert"
   ]
  },
  {
   "cell_type": "code",
   "execution_count": 57,
   "id": "f27bf36c",
   "metadata": {},
   "outputs": [
    {
     "data": {
      "text/plain": [
       "['apple',\n",
       " 'kiwi',\n",
       " 'papaya',\n",
       " 'banana',\n",
       " 'papaya',\n",
       " 'kiwi',\n",
       " 'mango',\n",
       " 'strawberry',\n",
       " 'orange']"
      ]
     },
     "execution_count": 57,
     "metadata": {},
     "output_type": "execute_result"
    }
   ],
   "source": [
    "fruits"
   ]
  },
  {
   "cell_type": "code",
   "execution_count": 58,
   "id": "93830dc5",
   "metadata": {},
   "outputs": [
    {
     "data": {
      "text/plain": [
       "['cantaloupe',\n",
       " 'apple',\n",
       " 'kiwi',\n",
       " 'papaya',\n",
       " 'banana',\n",
       " 'papaya',\n",
       " 'kiwi',\n",
       " 'mango',\n",
       " 'strawberry',\n",
       " 'orange']"
      ]
     },
     "execution_count": 58,
     "metadata": {},
     "output_type": "execute_result"
    }
   ],
   "source": [
    "# insert(position, element to insert)\n",
    "fruits.insert(0, 'cantaloupe')\n",
    "fruits"
   ]
  },
  {
   "cell_type": "code",
   "execution_count": 59,
   "id": "2eb4f6eb",
   "metadata": {},
   "outputs": [
    {
     "data": {
      "text/plain": [
       "['cantaloupe',\n",
       " 'apple',\n",
       " 'kiwi',\n",
       " 'watermelon',\n",
       " 'papaya',\n",
       " 'banana',\n",
       " 'papaya',\n",
       " 'kiwi',\n",
       " 'mango',\n",
       " 'strawberry',\n",
       " 'orange']"
      ]
     },
     "execution_count": 59,
     "metadata": {},
     "output_type": "execute_result"
    }
   ],
   "source": [
    "fruits.insert(3,'watermelon')\n",
    "fruits"
   ]
  },
  {
   "cell_type": "markdown",
   "id": "2f869b01",
   "metadata": {},
   "source": [
    "### 2.5.3 Remove"
   ]
  },
  {
   "cell_type": "markdown",
   "id": "1acb2e4b",
   "metadata": {},
   "source": [
    "* Removes the first item from the list whose value is equal to x.\n",
    "* An *ValueError* is raised if there is no such element"
   ]
  },
  {
   "cell_type": "code",
   "execution_count": 61,
   "id": "c6e4524f",
   "metadata": {},
   "outputs": [
    {
     "ename": "ValueError",
     "evalue": "list.remove(x): x not in list",
     "output_type": "error",
     "traceback": [
      "\u001b[0;31m---------------------------------------------------------------------------\u001b[0m",
      "\u001b[0;31mValueError\u001b[0m                                Traceback (most recent call last)",
      "\u001b[0;32m<ipython-input-61-c1ed288f1476>\u001b[0m in \u001b[0;36m<module>\u001b[0;34m\u001b[0m\n\u001b[1;32m      1\u001b[0m \u001b[0;31m# fruits.remove('papaya')\u001b[0m\u001b[0;34m\u001b[0m\u001b[0;34m\u001b[0m\u001b[0;34m\u001b[0m\u001b[0m\n\u001b[1;32m      2\u001b[0m \u001b[0;31m# fruits.remove('cantaloupe')\u001b[0m\u001b[0;34m\u001b[0m\u001b[0;34m\u001b[0m\u001b[0;34m\u001b[0m\u001b[0m\n\u001b[0;32m----> 3\u001b[0;31m \u001b[0mfruits\u001b[0m\u001b[0;34m.\u001b[0m\u001b[0mremove\u001b[0m\u001b[0;34m(\u001b[0m\u001b[0;34m'guava'\u001b[0m\u001b[0;34m)\u001b[0m\u001b[0;34m\u001b[0m\u001b[0;34m\u001b[0m\u001b[0m\n\u001b[0m\u001b[1;32m      4\u001b[0m \u001b[0mfruits\u001b[0m\u001b[0;34m\u001b[0m\u001b[0;34m\u001b[0m\u001b[0m\n",
      "\u001b[0;31mValueError\u001b[0m: list.remove(x): x not in list"
     ]
    }
   ],
   "source": [
    "# fruits.remove('papaya')\n",
    "# fruits.remove('cantaloupe')\n",
    "fruits.remove('guava')\n",
    "fruits"
   ]
  },
  {
   "cell_type": "markdown",
   "id": "c644a0cd",
   "metadata": {},
   "source": [
    "### 2.5.4 Clear"
   ]
  },
  {
   "cell_type": "markdown",
   "id": "fb58b561",
   "metadata": {},
   "source": [
    "Removes all items from the list"
   ]
  },
  {
   "cell_type": "code",
   "execution_count": 64,
   "id": "582842ed",
   "metadata": {},
   "outputs": [
    {
     "data": {
      "text/plain": [
       "['apple', 'kiwi', 'papaya', 'banana', 'papaya', 'kiwi', 'mango', 'strawberry']"
      ]
     },
     "execution_count": 64,
     "metadata": {},
     "output_type": "execute_result"
    }
   ],
   "source": [
    "fruits = ['apple', 'kiwi', 'papaya', 'banana', 'papaya', 'kiwi', 'mango', 'strawberry']\n",
    "fruits"
   ]
  },
  {
   "cell_type": "code",
   "execution_count": 65,
   "id": "b8e0b04e",
   "metadata": {},
   "outputs": [
    {
     "ename": "TypeError",
     "evalue": "clear() takes no arguments (1 given)",
     "output_type": "error",
     "traceback": [
      "\u001b[0;31m---------------------------------------------------------------------------\u001b[0m",
      "\u001b[0;31mTypeError\u001b[0m                                 Traceback (most recent call last)",
      "\u001b[0;32m<ipython-input-65-f9e1ee94cad8>\u001b[0m in \u001b[0;36m<module>\u001b[0;34m\u001b[0m\n\u001b[0;32m----> 1\u001b[0;31m \u001b[0mfruits\u001b[0m\u001b[0;34m.\u001b[0m\u001b[0mclear\u001b[0m\u001b[0;34m(\u001b[0m\u001b[0;36m1\u001b[0m\u001b[0;34m)\u001b[0m\u001b[0;34m\u001b[0m\u001b[0;34m\u001b[0m\u001b[0m\n\u001b[0m\u001b[1;32m      2\u001b[0m \u001b[0mfruits\u001b[0m\u001b[0;34m\u001b[0m\u001b[0;34m\u001b[0m\u001b[0m\n",
      "\u001b[0;31mTypeError\u001b[0m: clear() takes no arguments (1 given)"
     ]
    }
   ],
   "source": [
    "fruits.clear()\n",
    "fruits"
   ]
  },
  {
   "cell_type": "markdown",
   "id": "812ee4b1",
   "metadata": {},
   "source": [
    "### 2.5.5 Pop"
   ]
  },
  {
   "cell_type": "markdown",
   "id": "42adc7ea",
   "metadata": {},
   "source": [
    "* Removes an item at a given position in the list, and returns it.\n",
    "* If no index is specified, then it removes and returns the last item in the list"
   ]
  },
  {
   "cell_type": "code",
   "execution_count": 66,
   "id": "47e50f92",
   "metadata": {},
   "outputs": [
    {
     "data": {
      "text/plain": [
       "['apple', 'papaya', 'banana', 'papaya', 'kiwi', 'mango', 'strawberry']"
      ]
     },
     "execution_count": 66,
     "metadata": {},
     "output_type": "execute_result"
    }
   ],
   "source": [
    "# Remove the item at the given position in the list, and return it\n",
    "fruits.pop(1)\n",
    "fruits\n",
    "#fruits.pop()"
   ]
  },
  {
   "cell_type": "markdown",
   "id": "b1cf0556",
   "metadata": {},
   "source": [
    "### 2.5.6 Count"
   ]
  },
  {
   "cell_type": "markdown",
   "id": "95d3ffea",
   "metadata": {},
   "source": [
    "Returns the number of times an item appears in the list"
   ]
  },
  {
   "cell_type": "code",
   "execution_count": 67,
   "id": "ac8c9739",
   "metadata": {},
   "outputs": [
    {
     "data": {
      "text/plain": [
       "['apple', 'papaya', 'banana', 'papaya', 'kiwi', 'mango', 'strawberry']"
      ]
     },
     "execution_count": 67,
     "metadata": {},
     "output_type": "execute_result"
    }
   ],
   "source": [
    "fruits"
   ]
  },
  {
   "cell_type": "code",
   "execution_count": 69,
   "id": "189f2884",
   "metadata": {},
   "outputs": [
    {
     "data": {
      "text/plain": [
       "1"
      ]
     },
     "execution_count": 69,
     "metadata": {},
     "output_type": "execute_result"
    }
   ],
   "source": [
    "fruits.count('mango')"
   ]
  },
  {
   "cell_type": "markdown",
   "id": "a6666865",
   "metadata": {},
   "source": [
    "### 2.5.7 Sort"
   ]
  },
  {
   "cell_type": "markdown",
   "id": "8afd4fe6",
   "metadata": {},
   "source": [
    "* Sorts the items of the list.\n",
    "* We can use the reverse argument to sort in a descending way"
   ]
  },
  {
   "cell_type": "code",
   "execution_count": 71,
   "id": "ff5e6ccf",
   "metadata": {},
   "outputs": [
    {
     "data": {
      "text/plain": [
       "['apple', 'banana', 'kiwi', 'mango', 'papaya', 'papaya', 'strawberry']"
      ]
     },
     "execution_count": 71,
     "metadata": {},
     "output_type": "execute_result"
    }
   ],
   "source": [
    "fruits.sort()\n",
    "fruits"
   ]
  },
  {
   "cell_type": "code",
   "execution_count": 72,
   "id": "59bd1f9a",
   "metadata": {},
   "outputs": [
    {
     "data": {
      "text/plain": [
       "['strawberry', 'papaya', 'papaya', 'mango', 'kiwi', 'banana', 'apple']"
      ]
     },
     "execution_count": 72,
     "metadata": {},
     "output_type": "execute_result"
    }
   ],
   "source": [
    "fruits.sort(reverse=True)\n",
    "fruits"
   ]
  },
  {
   "cell_type": "markdown",
   "id": "7df6538e",
   "metadata": {},
   "source": [
    "### 2.5.8 Reverse"
   ]
  },
  {
   "cell_type": "markdown",
   "id": "ea99bc7d",
   "metadata": {},
   "source": [
    "Reverses the elements of the list "
   ]
  },
  {
   "cell_type": "code",
   "execution_count": 74,
   "id": "d66691f1",
   "metadata": {},
   "outputs": [
    {
     "data": {
      "text/plain": [
       "['apple', 'banana', 'kiwi', 'mango', 'papaya', 'papaya', 'strawberry']"
      ]
     },
     "execution_count": 74,
     "metadata": {},
     "output_type": "execute_result"
    }
   ],
   "source": [
    "fruits"
   ]
  },
  {
   "cell_type": "code",
   "execution_count": 77,
   "id": "e81e2a38",
   "metadata": {},
   "outputs": [
    {
     "data": {
      "text/plain": [
       "['strawberry', 'papaya', 'papaya', 'mango', 'kiwi', 'banana', 'apple']"
      ]
     },
     "execution_count": 77,
     "metadata": {},
     "output_type": "execute_result"
    }
   ],
   "source": [
    "fruits.reverse()\n",
    "fruits"
   ]
  },
  {
   "cell_type": "markdown",
   "id": "cb537216",
   "metadata": {},
   "source": [
    "### 2.5.9 Copy"
   ]
  },
  {
   "cell_type": "markdown",
   "id": "c134c7a9",
   "metadata": {},
   "source": [
    "Returns a copy of the list"
   ]
  },
  {
   "cell_type": "code",
   "execution_count": 78,
   "id": "b79202a1",
   "metadata": {},
   "outputs": [
    {
     "data": {
      "text/plain": [
       "['strawberry', 'papaya', 'papaya', 'mango', 'kiwi', 'banana', 'apple']"
      ]
     },
     "execution_count": 78,
     "metadata": {},
     "output_type": "execute_result"
    }
   ],
   "source": [
    "fruits2 = fruits.copy()\n",
    "fruits2"
   ]
  },
  {
   "cell_type": "code",
   "execution_count": 79,
   "id": "542d3ae2",
   "metadata": {},
   "outputs": [
    {
     "data": {
      "text/plain": [
       "['strawberry', 'papaya', 'papaya', 'mango', 'kiwi', 'banana', 'apple']"
      ]
     },
     "execution_count": 79,
     "metadata": {},
     "output_type": "execute_result"
    }
   ],
   "source": [
    "fruits"
   ]
  },
  {
   "cell_type": "markdown",
   "id": "fe652c66",
   "metadata": {},
   "source": [
    "### 2.5.10 Del statement"
   ]
  },
  {
   "cell_type": "markdown",
   "id": "853f746d",
   "metadata": {},
   "source": [
    "* Removes an element of a list by it's index\n",
    "* We can also remove slices of a list"
   ]
  },
  {
   "cell_type": "code",
   "execution_count": 80,
   "id": "8cc138f0",
   "metadata": {},
   "outputs": [
    {
     "data": {
      "text/plain": [
       "['strawberry', 'papaya', 'papaya', 'mango', 'kiwi', 'banana', 'apple']"
      ]
     },
     "execution_count": 80,
     "metadata": {},
     "output_type": "execute_result"
    }
   ],
   "source": [
    "fruits"
   ]
  },
  {
   "cell_type": "code",
   "execution_count": 81,
   "id": "e2cb656a",
   "metadata": {},
   "outputs": [
    {
     "data": {
      "text/plain": [
       "['strawberry', 'papaya', 'papaya', 'kiwi', 'banana', 'apple']"
      ]
     },
     "execution_count": 81,
     "metadata": {},
     "output_type": "execute_result"
    }
   ],
   "source": [
    "del fruits[3]\n",
    "fruits"
   ]
  },
  {
   "cell_type": "code",
   "execution_count": 58,
   "id": "c0b86849",
   "metadata": {},
   "outputs": [
    {
     "data": {
      "text/plain": [
       "['strawberry', 'papaya', 'kiwi', 'banana', 'apple']"
      ]
     },
     "execution_count": 58,
     "metadata": {},
     "output_type": "execute_result"
    }
   ],
   "source": [
    "del fruits[2:4]\n",
    "fruits"
   ]
  },
  {
   "cell_type": "code",
   "execution_count": 82,
   "id": "4ac41e3c",
   "metadata": {},
   "outputs": [],
   "source": [
    "del fruits2[:]"
   ]
  },
  {
   "cell_type": "code",
   "execution_count": 83,
   "id": "38e2362d",
   "metadata": {},
   "outputs": [
    {
     "data": {
      "text/plain": [
       "[]"
      ]
     },
     "execution_count": 83,
     "metadata": {},
     "output_type": "execute_result"
    }
   ],
   "source": [
    "fruits2"
   ]
  },
  {
   "cell_type": "code",
   "execution_count": 85,
   "id": "085e65f3",
   "metadata": {},
   "outputs": [
    {
     "ename": "IndexError",
     "evalue": "list assignment index out of range",
     "output_type": "error",
     "traceback": [
      "\u001b[0;31m---------------------------------------------------------------------------\u001b[0m",
      "\u001b[0;31mIndexError\u001b[0m                                Traceback (most recent call last)",
      "\u001b[0;32m<ipython-input-85-e3d0ce09f12d>\u001b[0m in \u001b[0;36m<module>\u001b[0;34m\u001b[0m\n\u001b[0;32m----> 1\u001b[0;31m \u001b[0;32mdel\u001b[0m \u001b[0mfruits\u001b[0m\u001b[0;34m[\u001b[0m\u001b[0;36m6\u001b[0m\u001b[0;34m]\u001b[0m\u001b[0;34m\u001b[0m\u001b[0;34m\u001b[0m\u001b[0m\n\u001b[0m",
      "\u001b[0;31mIndexError\u001b[0m: list assignment index out of range"
     ]
    }
   ],
   "source": [
    "del fruits[6]"
   ]
  },
  {
   "cell_type": "markdown",
   "id": "71b782f5",
   "metadata": {},
   "source": [
    "### Summary"
   ]
  },
  {
   "cell_type": "markdown",
   "id": "3c5aa156",
   "metadata": {},
   "source": [
    "Suppose we have a list **l** and an element **e** and an index **pos**.\n",
    "<table>\n",
    "    <tr>\n",
    "        <th style=background-color:#3396ff;><center> List method </center></th>\n",
    "        <th style=background-color:#3396ff;><center> Example </center></th>\n",
    "        <th style=background-color:#3396ff;><center> Definition </center></th>\n",
    "    </tr> \n",
    "    <tr>\n",
    "        <td> <p style=\"text-align:left;\"> 1. Append </p></td>\n",
    "        <td style = \"text-align:left;\"> <code> l.append('e') </code> </td>\n",
    "        <td> <p style=\"text-align:left;\"> Adds an item to the end of the list</p> </td>\n",
    "    </tr>\n",
    "    <tr>\n",
    "        <td> <p style=\"text-align:left;\"> 2. Insert </p></td>\n",
    "        <td style = \"text-align:left;\"> <code> l.insert(pos,'e') </code> </td>\n",
    "        <td> <p style=\"text-align:left;\"> Inserts an iten at a given position</p> </td>\n",
    "    </tr>\n",
    "        <tr>\n",
    "        <td> <p style=\"text-align:left;\"> 3. Remove</p></td>\n",
    "        <td style = \"text-align:left;\"> <code> l.remove('e') </code> </td>\n",
    "        <td> <p style=\"text-align:left;\">Removes the first item from the list whose value is equal to 'e'</p> </td>\n",
    "    </tr>\n",
    "        <tr>\n",
    "        <td> <p style=\"text-align:left;\"> 4. Clear </p></td>\n",
    "        <td style = \"text-align:left;\"> <code> l.clear() </code> </td>\n",
    "        <td> <p style=\"text-align:left;\"> Removes all items from the list</p> </td>\n",
    "    </tr>\n",
    "        <tr>\n",
    "        <td> <p style=\"text-align:left;\"> 5. Pop</p></td>\n",
    "        <td style = \"text-align:left;\"> <code> l.pop(pos) </code> </td>\n",
    "        <td> <p style=\"text-align:left;\"> Removes an item at a given position in the list</p> </td>\n",
    "    </tr>\n",
    "        <tr>\n",
    "        <td> <p style=\"text-align:left;\"> 6. Count </p></td>\n",
    "        <td style = \"text-align:left;\"> <code> l.count('e') </code> </td>\n",
    "        <td> <p style=\"text-align:left;\"> Returns the number of times an item appears in a list</p> </td>\n",
    "    </tr>\n",
    "        <tr>\n",
    "        <td> <p style=\"text-align:left;\"> 7. Sort </p></td>\n",
    "        <td style = \"text-align:left;\"> <code> l.sort() </code> </td>\n",
    "        <td> <p style=\"text-align:left;\"> Sorts the items of the list</p> </td>\n",
    "    </tr>\n",
    "        <tr>\n",
    "        <td> <p style=\"text-align:left;\"> 8. Reverse </p></td>\n",
    "        <td style = \"text-align:left;\"> <code> l.reverse() </code> </td>\n",
    "        <td> <p style=\"text-align:left;\"> Reverses the elements of the list</p> </td>\n",
    "    </tr>\n",
    "        <tr>\n",
    "        <td> <p style=\"text-align:left;\"> 9. Copy</p></td>\n",
    "        <td style = \"text-align:left;\" > <code> l2 = l.copy() </code> </td>\n",
    "        <td> <p style=\"text-align:left;\"> Returns a copy of the list l1</p> </td>\n",
    "    </tr>\n",
    "        <tr>\n",
    "        <td> <p style=\"text-align:left;\"> 10. Del statement </p></td>\n",
    "        <td style = \"text-align:left;\"> <code> del l[2:4] </code> </td>\n",
    "        <td> <p style=\"text-align:left;\"> Removes an element(s) of a list by index (or slices)</p> </td>\n",
    "    </tr>\n",
    "       \n",
    "        \n",
    "</table>"
   ]
  },
  {
   "cell_type": "markdown",
   "id": "129b0e7a",
   "metadata": {},
   "source": [
    "### 2.6 List Comprehensions"
   ]
  },
  {
   "cell_type": "markdown",
   "id": "87816337",
   "metadata": {},
   "source": [
    "* **List comprehension** provides a concise way to create list.\n",
    "* It is common to make new lists where each element is the result of some operations applied to each member of another sequence or iterable\n",
    "* Or to create a subsequence of those elements that satisfy a certain condition."
   ]
  },
  {
   "cell_type": "code",
   "execution_count": 1,
   "id": "d2831cb1",
   "metadata": {},
   "outputs": [
    {
     "data": {
      "text/plain": [
       "[0, 1, 4, 9, 16, 25, 36, 49, 64, 81]"
      ]
     },
     "execution_count": 1,
     "metadata": {},
     "output_type": "execute_result"
    }
   ],
   "source": [
    "# So far this is the way we have seen to create a list of the first 10 square numbers\n",
    "squares = []\n",
    "for x in range(10):\n",
    "    squares.append(x**2)\n",
    "\n",
    "squares"
   ]
  },
  {
   "cell_type": "code",
   "execution_count": 2,
   "id": "c5a9d11a",
   "metadata": {},
   "outputs": [
    {
     "data": {
      "text/plain": [
       "[0, 1, 4, 9, 16, 25, 36, 49, 64, 81]"
      ]
     },
     "execution_count": 2,
     "metadata": {},
     "output_type": "execute_result"
    }
   ],
   "source": [
    "squares = [(x ** 2) for x in range(10)]\n",
    "squares"
   ]
  },
  {
   "cell_type": "markdown",
   "id": "4825aa5f",
   "metadata": {},
   "source": [
    "* <font color = red> A *list comprehension* consists of an **expression** surrounded by parentheses followed by a *for* clause, then zero or more *for* or *if* clauses.\n",
    "* The result will be a new list resulting from evaluating the given expression in the context of the following clauses\n"
   ]
  },
  {
   "cell_type": "code",
   "execution_count": 4,
   "id": "7b4b606a",
   "metadata": {},
   "outputs": [
    {
     "data": {
      "text/plain": [
       "[(1, 3), (1, 4), (2, 3), (2, 1), (2, 4), (3, 1), (3, 4)]"
      ]
     },
     "execution_count": 4,
     "metadata": {},
     "output_type": "execute_result"
    }
   ],
   "source": [
    "#Example 1.\n",
    "[(x,y) for x in [1,2,3] for y in [3,1,4] if x!=y]"
   ]
  },
  {
   "cell_type": "code",
   "execution_count": 2,
   "id": "b4991d9d",
   "metadata": {},
   "outputs": [
    {
     "data": {
      "text/plain": [
       "[(1, 3), (1, 4), (2, 3), (2, 1), (2, 4), (3, 1), (3, 4)]"
      ]
     },
     "execution_count": 2,
     "metadata": {},
     "output_type": "execute_result"
    }
   ],
   "source": [
    "#Likely\n",
    "comb = []\n",
    "# x = 2\n",
    "for x in [1,2,3]:\n",
    "    # y = 4\n",
    "    for y in [3,1,4]:\n",
    "        if x!= y:\n",
    "            comb.append((x,y))\n",
    "comb\n"
   ]
  },
  {
   "cell_type": "code",
   "execution_count": 6,
   "id": "71c100f9",
   "metadata": {},
   "outputs": [
    {
     "data": {
      "text/plain": [
       "[8, 16]"
      ]
     },
     "execution_count": 6,
     "metadata": {},
     "output_type": "execute_result"
    }
   ],
   "source": [
    "#Example 2.\n",
    "vector = [-8, -4, 0, 4, 8]\n",
    "[(x*2) for x in vector if x > 0]"
   ]
  },
  {
   "cell_type": "markdown",
   "id": "5b8827bd",
   "metadata": {},
   "source": [
    "### 2.6.1 Exercises"
   ]
  },
  {
   "cell_type": "code",
   "execution_count": 8,
   "id": "9ef4731b",
   "metadata": {},
   "outputs": [
    {
     "data": {
      "text/plain": [
       "[0, 2, 4, 6, 8, 10, 12, 14, 16, 18]"
      ]
     },
     "execution_count": 8,
     "metadata": {},
     "output_type": "execute_result"
    }
   ],
   "source": [
    "# Exercise 1. Create a list using list comprehension that contains the first 10 even numbers\n",
    "# 2, 4, 6, 8, 10, ...\n",
    "[x for x in range(20) if x % 2 == 0]"
   ]
  },
  {
   "cell_type": "code",
   "execution_count": 9,
   "id": "115978dd",
   "metadata": {},
   "outputs": [],
   "source": [
    "import math as m"
   ]
  },
  {
   "cell_type": "code",
   "execution_count": 13,
   "id": "1f03879a",
   "metadata": {},
   "outputs": [
    {
     "data": {
      "text/plain": [
       "[6.0, 8.0, 10.0, 11.0, 13.0, 25.0]"
      ]
     },
     "execution_count": 13,
     "metadata": {},
     "output_type": "execute_result"
    }
   ],
   "source": [
    "# Exercise 2. Create a list using list comprehension that contains the square root numbers of the following list\n",
    "list2 = [36, 64, 100, 121, 169, 625]\n",
    "[m.sqrt(x) for x in list2]"
   ]
  },
  {
   "cell_type": "code",
   "execution_count": 15,
   "id": "cc11f929",
   "metadata": {},
   "outputs": [
    {
     "data": {
      "text/plain": [
       "[8.3, 10, 9.8, 9.1, 8.5, 8.7]"
      ]
     },
     "execution_count": 15,
     "metadata": {},
     "output_type": "execute_result"
    }
   ],
   "source": [
    "# Exercise 3. Given a list of scores, create a list using list comprehension with only those students whose \n",
    "# score is greater or equal to 6\n",
    "scores = [2.5, 8.3, 10, 9.8, 9.1, 8.5, 5.6, 8.7, 2.8]\n",
    "approved = [x for x in scores if x >= 6]\n",
    "approved"
   ]
  },
  {
   "cell_type": "code",
   "execution_count": 20,
   "id": "46e51867",
   "metadata": {},
   "outputs": [
    {
     "data": {
      "text/plain": [
       "[10, 9.8, 9.1, 8.7, 8.5, 8.3]"
      ]
     },
     "execution_count": 20,
     "metadata": {},
     "output_type": "execute_result"
    }
   ],
   "source": [
    "# 3.1 How many students approved?\n",
    "# 3.2 Order the list in a descending way\n",
    "approved.sort(reverse = True)\n",
    "approved"
   ]
  },
  {
   "cell_type": "code",
   "execution_count": 8,
   "id": "d3696ae0",
   "metadata": {},
   "outputs": [],
   "source": [
    "# Exercise 4. Given the following matrix, transpose the matrix using list comprehension\n",
    "matrix = [\n",
    "    [ 1, 2, 3, 4],\n",
    "    [-1, 0, 1, 0],\n",
    "    [ 7, 3, 1, 2]\n",
    "]"
   ]
  },
  {
   "cell_type": "code",
   "execution_count": 9,
   "id": "cb1379d3",
   "metadata": {},
   "outputs": [
    {
     "data": {
      "text/plain": [
       "4"
      ]
     },
     "execution_count": 9,
     "metadata": {},
     "output_type": "execute_result"
    }
   ],
   "source": [
    "len(matrix[2])"
   ]
  },
  {
   "cell_type": "code",
   "execution_count": 10,
   "id": "eb339fd3",
   "metadata": {},
   "outputs": [
    {
     "data": {
      "text/plain": [
       "[[1, -1, 7], [2, 0, 3], [3, 1, 1], [4, 0, 2]]"
      ]
     },
     "execution_count": 10,
     "metadata": {},
     "output_type": "execute_result"
    }
   ],
   "source": [
    "[[row[i] for row in matrix] for i in range(len(matrix[0]))]"
   ]
  },
  {
   "cell_type": "code",
   "execution_count": 12,
   "id": "932238b3",
   "metadata": {},
   "outputs": [
    {
     "data": {
      "text/plain": [
       "[[1, -1, 7], [2, 0, 3], [3, 1, 1], [4, 0, 2]]"
      ]
     },
     "execution_count": 12,
     "metadata": {},
     "output_type": "execute_result"
    }
   ],
   "source": [
    "# Transposing the matrix using for loops\n",
    "transposed = []\n",
    "for i in range(len(matrix[0])):\n",
    "    transposed_row = []\n",
    "    for row in matrix:\n",
    "        transposed_row.append(row[i])\n",
    "    transposed.append(transposed_row)\n",
    "transposed"
   ]
  },
  {
   "cell_type": "markdown",
   "id": "d6b38754",
   "metadata": {},
   "source": [
    "## 3. Tuples"
   ]
  },
  {
   "cell_type": "markdown",
   "id": "f02b09dd",
   "metadata": {},
   "source": [
    "A tuple consists of a number of values separated by commas.\n",
    "* Tuples may be nested\n",
    "* Tuples are immutable"
   ]
  },
  {
   "cell_type": "code",
   "execution_count": 14,
   "id": "b3e12295",
   "metadata": {},
   "outputs": [
    {
     "data": {
      "text/plain": [
       "(123, 456, 'Hello!')"
      ]
     },
     "execution_count": 14,
     "metadata": {},
     "output_type": "execute_result"
    }
   ],
   "source": [
    "t = 123, 456, \"Hello!\"\n",
    "t"
   ]
  },
  {
   "cell_type": "code",
   "execution_count": 15,
   "id": "9541e260",
   "metadata": {},
   "outputs": [
    {
     "data": {
      "text/plain": [
       "tuple"
      ]
     },
     "execution_count": 15,
     "metadata": {},
     "output_type": "execute_result"
    }
   ],
   "source": [
    "type(t)"
   ]
  },
  {
   "cell_type": "code",
   "execution_count": 16,
   "id": "76b864c4",
   "metadata": {},
   "outputs": [
    {
     "data": {
      "text/plain": [
       "((123, 456, 'Hello!'), (2, 4, 6))"
      ]
     },
     "execution_count": 16,
     "metadata": {},
     "output_type": "execute_result"
    }
   ],
   "source": [
    "# Nesting tuples\n",
    "u = t, (2,4,6)\n",
    "u"
   ]
  },
  {
   "cell_type": "code",
   "execution_count": 17,
   "id": "68086b76",
   "metadata": {},
   "outputs": [
    {
     "data": {
      "text/plain": [
       "(123, 456, 'Hello!')"
      ]
     },
     "execution_count": 17,
     "metadata": {},
     "output_type": "execute_result"
    }
   ],
   "source": [
    "#Accessing an element of a tuple\n",
    "u[0]"
   ]
  },
  {
   "cell_type": "code",
   "execution_count": 19,
   "id": "a0cf10ed",
   "metadata": {},
   "outputs": [
    {
     "ename": "TypeError",
     "evalue": "'tuple' object does not support item assignment",
     "output_type": "error",
     "traceback": [
      "\u001b[0;31m---------------------------------------------------------------------------\u001b[0m",
      "\u001b[0;31mTypeError\u001b[0m                                 Traceback (most recent call last)",
      "\u001b[0;32m<ipython-input-19-f40ec6380cd9>\u001b[0m in \u001b[0;36m<module>\u001b[0;34m\u001b[0m\n\u001b[1;32m      1\u001b[0m \u001b[0;31m# Tuples are immutable\u001b[0m\u001b[0;34m\u001b[0m\u001b[0;34m\u001b[0m\u001b[0;34m\u001b[0m\u001b[0m\n\u001b[0;32m----> 2\u001b[0;31m \u001b[0mu\u001b[0m\u001b[0;34m[\u001b[0m\u001b[0;36m0\u001b[0m\u001b[0;34m]\u001b[0m \u001b[0;34m=\u001b[0m \u001b[0;36m123\u001b[0m\u001b[0;34m\u001b[0m\u001b[0;34m\u001b[0m\u001b[0m\n\u001b[0m",
      "\u001b[0;31mTypeError\u001b[0m: 'tuple' object does not support item assignment"
     ]
    }
   ],
   "source": [
    "# Tuples are immutable\n",
    "u[0] = 123"
   ]
  },
  {
   "cell_type": "markdown",
   "id": "678abd98",
   "metadata": {},
   "source": [
    "Tuples usuallly contain a heterogeneous sequence of elements that can be accessed via unpacking or indexing"
   ]
  },
  {
   "cell_type": "code",
   "execution_count": 20,
   "id": "e2c16038",
   "metadata": {},
   "outputs": [
    {
     "data": {
      "text/plain": [
       "(121013, 'Mathematics', 'Roberto')"
      ]
     },
     "execution_count": 20,
     "metadata": {},
     "output_type": "execute_result"
    }
   ],
   "source": [
    "person1 = 121013, \"Mathematics\", \"Roberto\"\n",
    "person1"
   ]
  },
  {
   "cell_type": "code",
   "execution_count": 49,
   "id": "2fb6eaca",
   "metadata": {},
   "outputs": [],
   "source": [
    "# Accessing via sequence unpacking\n",
    "id, career, name = person1"
   ]
  },
  {
   "cell_type": "code",
   "execution_count": 46,
   "id": "d655d302",
   "metadata": {},
   "outputs": [
    {
     "name": "stdout",
     "output_type": "stream",
     "text": [
      "Maths\n"
     ]
    }
   ],
   "source": [
    "print(career)"
   ]
  },
  {
   "cell_type": "code",
   "execution_count": 21,
   "id": "5c6f4ac2",
   "metadata": {},
   "outputs": [
    {
     "data": {
      "text/plain": [
       "(171211, 'Economy', 'Maria')"
      ]
     },
     "execution_count": 21,
     "metadata": {},
     "output_type": "execute_result"
    }
   ],
   "source": [
    "person2 = 171211, \"Economy\", \"Maria\"\n",
    "person2"
   ]
  },
  {
   "cell_type": "code",
   "execution_count": 22,
   "id": "0ee849df",
   "metadata": {},
   "outputs": [],
   "source": [
    "#Accessing via indexing\n",
    "id2 = person2[0]\n",
    "career2 = person2[1]\n",
    "name2 = person2[2]"
   ]
  },
  {
   "cell_type": "code",
   "execution_count": 23,
   "id": "91dfa74a",
   "metadata": {},
   "outputs": [],
   "source": [
    "#id\n",
    "#name2\n",
    "#career"
   ]
  },
  {
   "cell_type": "markdown",
   "id": "d5ef9ad2",
   "metadata": {},
   "source": [
    "<font color = red> Sequence unpacking requires that there are as many variables on the left side of the equals sign as there are elements in the sequence."
   ]
  },
  {
   "cell_type": "markdown",
   "id": "302fe3df",
   "metadata": {},
   "source": [
    "## 4. Sets"
   ]
  },
  {
   "cell_type": "markdown",
   "id": "f5eccccf",
   "metadata": {},
   "source": [
    "A set is an unordered collection with no duplicate elements.\n",
    "* Set objects also support mathematical operations like union, intersection, difference and symmetric difference.\n",
    "* Curly braces or the <code>set()</code> function can be used to create sets.\n",
    "* To create an empty set, we have to use set( ), <font color = red> **not** <code>{}</code>"
   ]
  },
  {
   "cell_type": "code",
   "execution_count": 24,
   "id": "499d5e37",
   "metadata": {},
   "outputs": [
    {
     "data": {
      "text/plain": [
       "{'apple', 'banana', 'canteloup', 'strawberry', 'watermelon'}"
      ]
     },
     "execution_count": 24,
     "metadata": {},
     "output_type": "execute_result"
    }
   ],
   "source": [
    "fruits = {'apple', 'banana', 'apple', 'banana', 'watermelon', 'canteloup', 'strawberry'}\n",
    "fruits"
   ]
  },
  {
   "cell_type": "markdown",
   "id": "0f71617e",
   "metadata": {},
   "source": [
    "### 4.1 Membership testing"
   ]
  },
  {
   "cell_type": "markdown",
   "id": "9b38531c",
   "metadata": {},
   "source": [
    "We can use the reserved keyword <code>in</code> to check the membership of an element"
   ]
  },
  {
   "cell_type": "code",
   "execution_count": 31,
   "id": "06388fd3",
   "metadata": {},
   "outputs": [
    {
     "data": {
      "text/plain": [
       "False"
      ]
     },
     "execution_count": 31,
     "metadata": {},
     "output_type": "execute_result"
    }
   ],
   "source": [
    "'orange' in fruits"
   ]
  },
  {
   "cell_type": "code",
   "execution_count": 32,
   "id": "7dd93b7c",
   "metadata": {},
   "outputs": [
    {
     "data": {
      "text/plain": [
       "True"
      ]
     },
     "execution_count": 32,
     "metadata": {},
     "output_type": "execute_result"
    }
   ],
   "source": [
    "'banana' in fruits"
   ]
  },
  {
   "cell_type": "markdown",
   "id": "6887e443",
   "metadata": {},
   "source": [
    "### 4.2 Set Operations"
   ]
  },
  {
   "cell_type": "markdown",
   "id": "93f4ee2e",
   "metadata": {},
   "source": [
    "We will see some examples of operations that can be performed over sets:"
   ]
  },
  {
   "cell_type": "code",
   "execution_count": 33,
   "id": "e3036ac5",
   "metadata": {},
   "outputs": [],
   "source": [
    "a = set('ProgrammingLanguage')\n",
    "b = set('Python')"
   ]
  },
  {
   "cell_type": "code",
   "execution_count": 34,
   "id": "68515cec",
   "metadata": {},
   "outputs": [
    {
     "data": {
      "text/plain": [
       "{'L', 'P', 'a', 'e', 'g', 'i', 'm', 'n', 'o', 'r', 'u'}"
      ]
     },
     "execution_count": 34,
     "metadata": {},
     "output_type": "execute_result"
    }
   ],
   "source": [
    "a"
   ]
  },
  {
   "cell_type": "code",
   "execution_count": 31,
   "id": "41d8cc30",
   "metadata": {},
   "outputs": [
    {
     "data": {
      "text/plain": [
       "{'P', 'h', 'n', 'o', 't', 'y'}"
      ]
     },
     "execution_count": 31,
     "metadata": {},
     "output_type": "execute_result"
    }
   ],
   "source": [
    "b"
   ]
  },
  {
   "cell_type": "markdown",
   "id": "363094c9",
   "metadata": {},
   "source": [
    "### 4.2.1 Difference"
   ]
  },
  {
   "cell_type": "code",
   "execution_count": 32,
   "id": "1921ebef",
   "metadata": {},
   "outputs": [
    {
     "data": {
      "text/plain": [
       "{'L', 'a', 'e', 'g', 'i', 'm', 'r', 'u'}"
      ]
     },
     "execution_count": 32,
     "metadata": {},
     "output_type": "execute_result"
    }
   ],
   "source": [
    "# Letters in a, but not in b\n",
    "a - b"
   ]
  },
  {
   "cell_type": "markdown",
   "id": "abbaaac9",
   "metadata": {},
   "source": [
    "### 4.2.2 Union"
   ]
  },
  {
   "cell_type": "code",
   "execution_count": 34,
   "id": "180f6f09",
   "metadata": {},
   "outputs": [
    {
     "data": {
      "text/plain": [
       "{'L', 'P', 'a', 'e', 'g', 'h', 'i', 'm', 'n', 'o', 'r', 't', 'u', 'y'}"
      ]
     },
     "execution_count": 34,
     "metadata": {},
     "output_type": "execute_result"
    }
   ],
   "source": [
    "# Letters in a, b or both\n",
    "a | b"
   ]
  },
  {
   "cell_type": "markdown",
   "id": "365a1f84",
   "metadata": {},
   "source": [
    "### 4.2.3 Intersection"
   ]
  },
  {
   "cell_type": "code",
   "execution_count": 39,
   "id": "5e7e1be4",
   "metadata": {},
   "outputs": [
    {
     "data": {
      "text/plain": [
       "{'P', 'n', 'o'}"
      ]
     },
     "execution_count": 39,
     "metadata": {},
     "output_type": "execute_result"
    }
   ],
   "source": [
    "# letters in both a and b\n",
    "a & b"
   ]
  },
  {
   "cell_type": "markdown",
   "id": "f986c021",
   "metadata": {},
   "source": [
    "### 4.2.4 Symmetric difference"
   ]
  },
  {
   "cell_type": "code",
   "execution_count": 38,
   "id": "4bd6b226",
   "metadata": {
    "scrolled": true
   },
   "outputs": [
    {
     "data": {
      "text/plain": [
       "{'L', 'a', 'e', 'g', 'h', 'i', 'm', 'r', 't', 'u', 'y'}"
      ]
     },
     "execution_count": 38,
     "metadata": {},
     "output_type": "execute_result"
    }
   ],
   "source": [
    "# Letters in a or b but not both\n",
    "a ^ b"
   ]
  },
  {
   "cell_type": "markdown",
   "id": "22442a63",
   "metadata": {},
   "source": [
    "**Notice that the symmetric difference can be seen as the** <code> union - intersection </code>"
   ]
  },
  {
   "cell_type": "code",
   "execution_count": 26,
   "id": "502c703b",
   "metadata": {},
   "outputs": [],
   "source": [
    "union = a | b"
   ]
  },
  {
   "cell_type": "code",
   "execution_count": 27,
   "id": "28c3c8f7",
   "metadata": {},
   "outputs": [],
   "source": [
    "intersection = a & b"
   ]
  },
  {
   "cell_type": "code",
   "execution_count": 28,
   "id": "0ca9db2e",
   "metadata": {},
   "outputs": [
    {
     "data": {
      "text/plain": [
       "{'L', 'a', 'e', 'g', 'h', 'i', 'm', 'r', 't', 'u', 'y'}"
      ]
     },
     "execution_count": 28,
     "metadata": {},
     "output_type": "execute_result"
    }
   ],
   "source": [
    "union - intersection"
   ]
  },
  {
   "cell_type": "markdown",
   "id": "a12a0f63",
   "metadata": {},
   "source": [
    "### 4.2.5 Exercise"
   ]
  },
  {
   "cell_type": "code",
   "execution_count": null,
   "id": "7c0167b0",
   "metadata": {},
   "outputs": [],
   "source": [
    "# 1. Given two sorted arrays, find the elements of the intersection between them\n",
    "\n",
    "# Example 1:\n",
    "# a = {1, 2, 2, 2, 4, 5}\n",
    "# b = {0, 2, 2, 4, 4, 4, 6, 9}\n",
    "\n",
    "# Intersection is {2, 4}\n",
    "\n",
    "# Example 2\n",
    "# a = {4, 6, 8}\n",
    "# b = {5, 7, 9}\n",
    "\n",
    "# Intersection is {}\n"
   ]
  },
  {
   "cell_type": "code",
   "execution_count": 35,
   "id": "e1a8e39e",
   "metadata": {},
   "outputs": [],
   "source": [
    "a = {1,2,2,2,4,5}\n",
    "b = {0,2,2,4,4,4,6,9}"
   ]
  },
  {
   "cell_type": "code",
   "execution_count": 36,
   "id": "472e43d1",
   "metadata": {},
   "outputs": [
    {
     "data": {
      "text/plain": [
       "{1, 2, 4, 5}"
      ]
     },
     "execution_count": 36,
     "metadata": {},
     "output_type": "execute_result"
    }
   ],
   "source": [
    "a"
   ]
  },
  {
   "cell_type": "code",
   "execution_count": 37,
   "id": "5eb83d22",
   "metadata": {},
   "outputs": [
    {
     "data": {
      "text/plain": [
       "{0, 2, 4, 6, 9}"
      ]
     },
     "execution_count": 37,
     "metadata": {},
     "output_type": "execute_result"
    }
   ],
   "source": [
    "b"
   ]
  },
  {
   "cell_type": "code",
   "execution_count": 38,
   "id": "ebf30526",
   "metadata": {},
   "outputs": [
    {
     "data": {
      "text/plain": [
       "{2, 4}"
      ]
     },
     "execution_count": 38,
     "metadata": {},
     "output_type": "execute_result"
    }
   ],
   "source": [
    "a & b"
   ]
  },
  {
   "cell_type": "markdown",
   "id": "5df1d338",
   "metadata": {},
   "source": [
    "### 4.2.6. Set Comprehension"
   ]
  },
  {
   "cell_type": "markdown",
   "id": "dbe900c8",
   "metadata": {},
   "source": [
    "Similarly to list comprehension, set comprehension are also supported"
   ]
  },
  {
   "cell_type": "code",
   "execution_count": 48,
   "id": "484cded4",
   "metadata": {},
   "outputs": [
    {
     "data": {
      "text/plain": [
       "{' ', 'L', 'a', 'e', 'g', 'i', 'm', 'r', 'u'}"
      ]
     },
     "execution_count": 48,
     "metadata": {},
     "output_type": "execute_result"
    }
   ],
   "source": [
    "a = {x for x in 'Programming Language' if x not in 'Python'}\n",
    "a"
   ]
  },
  {
   "cell_type": "markdown",
   "id": "55c3c444",
   "metadata": {},
   "source": [
    "## 5. Dictionaries"
   ]
  },
  {
   "cell_type": "markdown",
   "id": "ddc0731d",
   "metadata": {},
   "source": [
    "A **dictionary** is a set of *key:value* pairs, with the requirement that the keys are unique(within one dictionary).\n",
    "* Dictionaries are indexed by *keys* which can be any immutable type: strings and numbers.\n",
    "* Tuples can be used as keys if they contain only strings, numbers, or tuples.\n",
    "* A pair of braces creates an empty dictionary <code>{}</code>"
   ]
  },
  {
   "cell_type": "code",
   "execution_count": 39,
   "id": "636ae941",
   "metadata": {},
   "outputs": [],
   "source": [
    "students = {}\n"
   ]
  },
  {
   "cell_type": "code",
   "execution_count": 40,
   "id": "cb839bc4",
   "metadata": {},
   "outputs": [
    {
     "data": {
      "text/plain": [
       "{}"
      ]
     },
     "execution_count": 40,
     "metadata": {},
     "output_type": "execute_result"
    }
   ],
   "source": [
    "students"
   ]
  },
  {
   "cell_type": "code",
   "execution_count": null,
   "id": "7a6165a0",
   "metadata": {},
   "outputs": [],
   "source": []
  },
  {
   "cell_type": "markdown",
   "id": "94bcbaf0",
   "metadata": {},
   "source": [
    "### 5.1 Adding elements to the dictionary"
   ]
  },
  {
   "cell_type": "markdown",
   "id": "5aa9d0a2",
   "metadata": {},
   "source": [
    "We can add an element using the **key** like if it was an index of an array, then set the value that we want to store in that key"
   ]
  },
  {
   "cell_type": "code",
   "execution_count": 41,
   "id": "3fdc7018",
   "metadata": {},
   "outputs": [],
   "source": [
    "students['121013'] = \"Juan\"\n",
    "students['141123'] = \"Paola\"\n",
    "students['171717'] = \"Arturo\""
   ]
  },
  {
   "cell_type": "code",
   "execution_count": 42,
   "id": "c94470cd",
   "metadata": {},
   "outputs": [
    {
     "data": {
      "text/plain": [
       "{'121013': 'Juan', '141123': 'Paola', '171717': 'Arturo'}"
      ]
     },
     "execution_count": 42,
     "metadata": {},
     "output_type": "execute_result"
    }
   ],
   "source": [
    "#Printing the dictionary\n",
    "students"
   ]
  },
  {
   "cell_type": "markdown",
   "id": "e0e3d19c",
   "metadata": {},
   "source": [
    "### 5.2 Creating the dictionary with elements"
   ]
  },
  {
   "cell_type": "markdown",
   "id": "7cd30226",
   "metadata": {},
   "source": [
    "We can also create a dictionary with elements from the beginning by placing a comma-separated list of *key:values* pairs within the braces."
   ]
  },
  {
   "cell_type": "code",
   "execution_count": 30,
   "id": "bcd32b38",
   "metadata": {},
   "outputs": [
    {
     "data": {
      "text/plain": [
       "{1: 'Peter', 2: 'Richard', 5: 'Tom', 10: 'Mary'}"
      ]
     },
     "execution_count": 30,
     "metadata": {},
     "output_type": "execute_result"
    }
   ],
   "source": [
    "hotelRooms = {1: \"Peter\", 2: \"Richard\", 5: \"Tom\", 10: \"Mary\"} \n",
    "hotelRooms"
   ]
  },
  {
   "cell_type": "code",
   "execution_count": null,
   "id": "d7bd4c86",
   "metadata": {},
   "outputs": [],
   "source": []
  },
  {
   "cell_type": "markdown",
   "id": "d049317e",
   "metadata": {},
   "source": [
    "### 5.3 Main operations on a dictionary"
   ]
  },
  {
   "cell_type": "markdown",
   "id": "5056564f",
   "metadata": {},
   "source": [
    "The main operations on a dictionary are: \n",
    "* Storing a value with some key,\n",
    "* Extracting the value given the key, and\n",
    "* Delete a *key:value* pair with <code>del</code>statement"
   ]
  },
  {
   "cell_type": "code",
   "execution_count": 43,
   "id": "04a0b8b8",
   "metadata": {},
   "outputs": [],
   "source": [
    "#Storing a value with some key\n",
    "hotelRooms[3] = \"Summer\""
   ]
  },
  {
   "cell_type": "code",
   "execution_count": 44,
   "id": "212111b1",
   "metadata": {},
   "outputs": [
    {
     "data": {
      "text/plain": [
       "{1: 'Peter', 2: 'Richard', 5: 'Tom', 10: 'Mary', 3: 'Summer'}"
      ]
     },
     "execution_count": 44,
     "metadata": {},
     "output_type": "execute_result"
    }
   ],
   "source": [
    "hotelRooms"
   ]
  },
  {
   "cell_type": "code",
   "execution_count": 45,
   "id": "0f415efb",
   "metadata": {},
   "outputs": [
    {
     "data": {
      "text/plain": [
       "'Summer'"
      ]
     },
     "execution_count": 45,
     "metadata": {},
     "output_type": "execute_result"
    }
   ],
   "source": [
    "#Extracting the value given the key\n",
    "new_guest = hotelRooms[3]\n",
    "new_guest"
   ]
  },
  {
   "cell_type": "code",
   "execution_count": 47,
   "id": "3fd62709",
   "metadata": {},
   "outputs": [],
   "source": [
    "#Deleting an element\n",
    "del hotelRooms[2]"
   ]
  },
  {
   "cell_type": "code",
   "execution_count": 48,
   "id": "202cc615",
   "metadata": {},
   "outputs": [
    {
     "data": {
      "text/plain": [
       "{1: 'Peter', 5: 'Tom', 10: 'Mary', 3: 'Summer'}"
      ]
     },
     "execution_count": 48,
     "metadata": {},
     "output_type": "execute_result"
    }
   ],
   "source": [
    "hotelRooms"
   ]
  },
  {
   "cell_type": "markdown",
   "id": "4b4a09c3",
   "metadata": {},
   "source": [
    "### 5.4 Return dictionary as a list"
   ]
  },
  {
   "cell_type": "markdown",
   "id": "48a96315",
   "metadata": {},
   "source": [
    "* Performing <code>list(d)</code> on a dictionary returns a list of all the **keys** used in the dictionary, in insertion order.\n",
    "* If we want it sorted, we can use <code>sorted(d)</code>"
   ]
  },
  {
   "cell_type": "code",
   "execution_count": 49,
   "id": "e668d6f0",
   "metadata": {},
   "outputs": [
    {
     "data": {
      "text/plain": [
       "[1, 5, 10, 3]"
      ]
     },
     "execution_count": 49,
     "metadata": {},
     "output_type": "execute_result"
    }
   ],
   "source": [
    "list(hotelRooms)"
   ]
  },
  {
   "cell_type": "code",
   "execution_count": 96,
   "id": "af713465",
   "metadata": {},
   "outputs": [
    {
     "data": {
      "text/plain": [
       "[1, 3, 5, 10]"
      ]
     },
     "execution_count": 96,
     "metadata": {},
     "output_type": "execute_result"
    }
   ],
   "source": [
    "sorted(hotelRooms)"
   ]
  },
  {
   "cell_type": "markdown",
   "id": "a7289a7d",
   "metadata": {},
   "source": [
    "### 5.5 Membership testing on dictionary"
   ]
  },
  {
   "cell_type": "markdown",
   "id": "5b95cc4c",
   "metadata": {},
   "source": [
    "To check whether a single key is in the dictionary, we can use the <code>in</code> keyword"
   ]
  },
  {
   "cell_type": "code",
   "execution_count": 50,
   "id": "d7484d99",
   "metadata": {},
   "outputs": [
    {
     "data": {
      "text/plain": [
       "False"
      ]
     },
     "execution_count": 50,
     "metadata": {},
     "output_type": "execute_result"
    }
   ],
   "source": [
    "7 in hotelRooms"
   ]
  },
  {
   "cell_type": "code",
   "execution_count": 51,
   "id": "064b1d88",
   "metadata": {},
   "outputs": [
    {
     "data": {
      "text/plain": [
       "True"
      ]
     },
     "execution_count": 51,
     "metadata": {},
     "output_type": "execute_result"
    }
   ],
   "source": [
    "5 in hotelRooms"
   ]
  },
  {
   "cell_type": "code",
   "execution_count": 53,
   "id": "173a33c3",
   "metadata": {},
   "outputs": [
    {
     "data": {
      "text/plain": [
       "False"
      ]
     },
     "execution_count": 53,
     "metadata": {},
     "output_type": "execute_result"
    }
   ],
   "source": []
  },
  {
   "cell_type": "markdown",
   "id": "1834098f",
   "metadata": {},
   "source": [
    "### 5.6 Using keyword arguments"
   ]
  },
  {
   "cell_type": "markdown",
   "id": "f4f77cbd",
   "metadata": {},
   "source": [
    "When the keys are simple strings, it is sometimes easier to specify pairs using keywords arguments and the reserved keyword <code>dict</code>."
   ]
  },
  {
   "cell_type": "code",
   "execution_count": 100,
   "id": "b05f2e88",
   "metadata": {},
   "outputs": [
    {
     "data": {
      "text/plain": [
       "{'joe': 1234, 'jack': 2234, 'peter': 1113}"
      ]
     },
     "execution_count": 100,
     "metadata": {},
     "output_type": "execute_result"
    }
   ],
   "source": [
    "tel = dict(joe = 1234, jack = 2234, peter = 1113 )\n",
    "tel"
   ]
  }
 ],
 "metadata": {
  "kernelspec": {
   "display_name": "Python 3",
   "language": "python",
   "name": "python3"
  },
  "language_info": {
   "codemirror_mode": {
    "name": "ipython",
    "version": 3
   },
   "file_extension": ".py",
   "mimetype": "text/x-python",
   "name": "python",
   "nbconvert_exporter": "python",
   "pygments_lexer": "ipython3",
   "version": "3.8.8"
  }
 },
 "nbformat": 4,
 "nbformat_minor": 5
}
