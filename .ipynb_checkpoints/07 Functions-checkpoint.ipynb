{
 "cells": [
  {
   "cell_type": "markdown",
   "id": "8d59b623",
   "metadata": {},
   "source": [
    "# <center> Functions </center>"
   ]
  },
  {
   "cell_type": "markdown",
   "id": "0c42e3c5",
   "metadata": {},
   "source": [
    "In this file, we will see the following topics:\n",
    "1. Function calls\n",
    "2. Type conversions\n",
    "3. Math functions\n",
    "4. Composition\n",
    "5. Creating own functions\n",
    "6. Exercises"
   ]
  },
  {
   "cell_type": "markdown",
   "id": "b1948c11",
   "metadata": {},
   "source": [
    "![Function](images/function1.png)"
   ]
  },
  {
   "cell_type": "markdown",
   "id": "a9864230",
   "metadata": {},
   "source": [
    "## 1. Function calls"
   ]
  },
  {
   "cell_type": "markdown",
   "id": "a513c41a",
   "metadata": {},
   "source": [
    "* A **function** is a named sequence of statements that performs a computation.\n",
    "* When defining a function, we specify the name and the sequence of statements. Later, we can \"call\" the function by name."
   ]
  },
  {
   "cell_type": "code",
   "execution_count": 23,
   "id": "ffdd833f",
   "metadata": {},
   "outputs": [
    {
     "name": "stdout",
     "output_type": "stream",
     "text": [
      "Hello, World!\n"
     ]
    }
   ],
   "source": [
    "# Example 1. Some built-in functions\n",
    "#type(True)\n",
    "print(\"Hello, World!\")"
   ]
  },
  {
   "cell_type": "markdown",
   "id": "4f71865a",
   "metadata": {},
   "source": [
    "### 1.1 Name, argument and return value"
   ]
  },
  {
   "cell_type": "markdown",
   "id": "6cd75e8d",
   "metadata": {},
   "source": [
    "There are three important features within a function:\n",
    "1. Name\n",
    "2. Argument(s)\n",
    "3. Return value"
   ]
  },
  {
   "cell_type": "code",
   "execution_count": 26,
   "id": "e88c46a6",
   "metadata": {},
   "outputs": [
    {
     "name": "stdout",
     "output_type": "stream",
     "text": [
      "Goodbye!\n"
     ]
    }
   ],
   "source": [
    "#Example 2. Name, argument, and return value of built-in functions\n",
    "#type(14.3)\n",
    "print(\"Goodbye!\")"
   ]
  },
  {
   "cell_type": "markdown",
   "id": "964350dc",
   "metadata": {},
   "source": [
    "## 2. Type conversion functions"
   ]
  },
  {
   "cell_type": "markdown",
   "id": "6929ad8b",
   "metadata": {},
   "source": [
    "* Python provides built-in functions that convert values from one type to another. "
   ]
  },
  {
   "cell_type": "code",
   "execution_count": 30,
   "id": "7d808094",
   "metadata": {},
   "outputs": [
    {
     "data": {
      "text/plain": [
       "-2"
      ]
     },
     "execution_count": 30,
     "metadata": {},
     "output_type": "execute_result"
    }
   ],
   "source": [
    "# Int function\n",
    "#int(32)\n",
    "#int('Hello')\n",
    "#int(3.9999)\n",
    "int(-2.3)"
   ]
  },
  {
   "cell_type": "code",
   "execution_count": 32,
   "id": "78033dec",
   "metadata": {},
   "outputs": [
    {
     "data": {
      "text/plain": [
       "3.1416"
      ]
     },
     "execution_count": 32,
     "metadata": {},
     "output_type": "execute_result"
    }
   ],
   "source": [
    "#Float function\n",
    "#float(22)\n",
    "float(3.1416)"
   ]
  },
  {
   "cell_type": "code",
   "execution_count": 35,
   "id": "548dfe90",
   "metadata": {},
   "outputs": [
    {
     "data": {
      "text/plain": [
       "'3.1416'"
      ]
     },
     "execution_count": 35,
     "metadata": {},
     "output_type": "execute_result"
    }
   ],
   "source": [
    "#String function\n",
    "#x = str(28)\n",
    "#type(x)\n",
    "str(3.1416)"
   ]
  },
  {
   "cell_type": "markdown",
   "id": "36305330",
   "metadata": {},
   "source": [
    "## 3. Math functions"
   ]
  },
  {
   "cell_type": "markdown",
   "id": "537540d4",
   "metadata": {},
   "source": [
    "* Python has a math module that provides most of the familiar mathematical functions. \n",
    "* A **module** is a file that contains a collection of related functions"
   ]
  },
  {
   "cell_type": "code",
   "execution_count": 36,
   "id": "794a1c7b",
   "metadata": {},
   "outputs": [],
   "source": [
    "import math"
   ]
  },
  {
   "cell_type": "code",
   "execution_count": 47,
   "id": "8254d027",
   "metadata": {},
   "outputs": [
    {
     "name": "stdout",
     "output_type": "stream",
     "text": [
      "0.7853981633974483\n"
     ]
    }
   ],
   "source": [
    "#Example 1.\n",
    "degrees = 45\n",
    "radianes = math.pi * degrees / 180\n",
    "print(radianes)"
   ]
  },
  {
   "cell_type": "code",
   "execution_count": 41,
   "id": "72a74e9c",
   "metadata": {},
   "outputs": [
    {
     "data": {
      "text/plain": [
       "8.54400374531753"
      ]
     },
     "execution_count": 41,
     "metadata": {},
     "output_type": "execute_result"
    }
   ],
   "source": [
    "#Example 2.\n",
    "math.sqrt(73)"
   ]
  },
  {
   "cell_type": "code",
   "execution_count": 43,
   "id": "921fc7d8",
   "metadata": {},
   "outputs": [
    {
     "data": {
      "text/plain": [
       "2.718281828459045"
      ]
     },
     "execution_count": 43,
     "metadata": {},
     "output_type": "execute_result"
    }
   ],
   "source": [
    "#Example 3.\n",
    "math.exp(1)"
   ]
  },
  {
   "cell_type": "markdown",
   "id": "2a3cd5f3",
   "metadata": {},
   "source": [
    "There are many other mathematical functions that we can use:\n",
    "<code>sin()</code>, <code>cos()</code>, <code>log10()</code>, <code>log()</code>, <code>pow()</code>, etc..."
   ]
  },
  {
   "cell_type": "markdown",
   "id": "815e05a2",
   "metadata": {},
   "source": [
    "## 4. Composition"
   ]
  },
  {
   "cell_type": "markdown",
   "id": "46ed4bc7",
   "metadata": {},
   "source": [
    "* So far, we have looked at the element of programs in isolation, but we can take small blocks of codes and **compose** them.\n",
    "* We can use the return value of a function as an argument of another function."
   ]
  },
  {
   "cell_type": "code",
   "execution_count": 45,
   "id": "2188b506",
   "metadata": {},
   "outputs": [
    {
     "data": {
      "text/plain": [
       "-1.0"
      ]
     },
     "execution_count": 45,
     "metadata": {},
     "output_type": "execute_result"
    }
   ],
   "source": [
    "#Example 1.\n",
    "#math.sin(math.pi/2)\n",
    "math.cos(math.pi)"
   ]
  },
  {
   "cell_type": "code",
   "execution_count": 51,
   "id": "30da4c37",
   "metadata": {},
   "outputs": [
    {
     "data": {
      "text/plain": [
       "-0.750987246771676"
      ]
     },
     "execution_count": 51,
     "metadata": {},
     "output_type": "execute_result"
    }
   ],
   "source": [
    "#Example 2.\n",
    "x = math.sin(degrees / 360.0 * 2 * math.pi)\n",
    "x"
   ]
  },
  {
   "cell_type": "code",
   "execution_count": 49,
   "id": "a1e6da01",
   "metadata": {},
   "outputs": [
    {
     "data": {
      "text/plain": [
       "1.7071067811865475"
      ]
     },
     "execution_count": 49,
     "metadata": {},
     "output_type": "execute_result"
    }
   ],
   "source": [
    "#Example 3.\n",
    "y = math.exp(math.log(x + 1))\n",
    "y"
   ]
  },
  {
   "cell_type": "code",
   "execution_count": 52,
   "id": "b7855689",
   "metadata": {},
   "outputs": [
    {
     "data": {
      "text/plain": [
       "32.0"
      ]
     },
     "execution_count": 52,
     "metadata": {},
     "output_type": "execute_result"
    }
   ],
   "source": [
    "#Example 4\n",
    "math.pow(2,5)"
   ]
  },
  {
   "cell_type": "markdown",
   "id": "9f823e4b",
   "metadata": {},
   "source": [
    "**<font color = red> Notice that a function can have 0, 1, 2 or more arguments </font>**."
   ]
  },
  {
   "cell_type": "markdown",
   "id": "d891cd0c",
   "metadata": {},
   "source": [
    "## Summary\n",
    "\n"
   ]
  },
  {
   "cell_type": "markdown",
   "id": "a14f74c5",
   "metadata": {},
   "source": [
    "![Function2](images/function2.png)"
   ]
  },
  {
   "cell_type": "markdown",
   "id": "3bc0dfc1",
   "metadata": {},
   "source": [
    "## 5. Creating own functions"
   ]
  },
  {
   "cell_type": "markdown",
   "id": "477c87c5",
   "metadata": {},
   "source": [
    "* It is possible to add new functions.\n",
    "* A **function definition** specifies the name of a new function and the sequence of statements that execute when the function is called."
   ]
  },
  {
   "cell_type": "code",
   "execution_count": 53,
   "id": "1df78a39",
   "metadata": {},
   "outputs": [],
   "source": [
    "#Example 1.\n",
    "def say_name(name):\n",
    "    print(\"Hello,\", name)"
   ]
  },
  {
   "cell_type": "code",
   "execution_count": 54,
   "id": "521aee52",
   "metadata": {},
   "outputs": [],
   "source": [
    "#Example 2.\n",
    "def celsius_to_fahr(cel_degrees):\n",
    "    fahr = (9/5 * cel_degrees) + 32\n",
    "    return (fahr)"
   ]
  },
  {
   "cell_type": "markdown",
   "id": "beb6ee52",
   "metadata": {},
   "source": [
    "### 5.1 Calling functions"
   ]
  },
  {
   "cell_type": "code",
   "execution_count": 57,
   "id": "ca38905e",
   "metadata": {},
   "outputs": [
    {
     "name": "stdout",
     "output_type": "stream",
     "text": [
      "Hello, Paco\n"
     ]
    }
   ],
   "source": []
  },
  {
   "cell_type": "code",
   "execution_count": 60,
   "id": "f0300e75",
   "metadata": {},
   "outputs": [
    {
     "data": {
      "text/plain": [
       "46.4"
      ]
     },
     "execution_count": 60,
     "metadata": {},
     "output_type": "execute_result"
    }
   ],
   "source": [
    "celsius_to_fahr(8)"
   ]
  },
  {
   "cell_type": "markdown",
   "id": "9e9b2d2b",
   "metadata": {},
   "source": [
    "### 5.2 Calling functions from another function"
   ]
  },
  {
   "cell_type": "code",
   "execution_count": 69,
   "id": "f353227b",
   "metadata": {},
   "outputs": [],
   "source": [
    "a = 12"
   ]
  },
  {
   "cell_type": "code",
   "execution_count": 67,
   "id": "8b82e269",
   "metadata": {},
   "outputs": [],
   "source": [
    "#Example 3\n",
    "def print_temp():\n",
    "    a = 18\n",
    "    cels_deg_Mexico = 28\n",
    "    cels_deg_Tijuana = 37\n",
    "    cels_deg_Puebla = 23\n",
    "    print(a)\n"
   ]
  },
  {
   "cell_type": "code",
   "execution_count": 68,
   "id": "9392e0f8",
   "metadata": {},
   "outputs": [
    {
     "name": "stdout",
     "output_type": "stream",
     "text": [
      "18\n"
     ]
    }
   ],
   "source": [
    "print_temp()"
   ]
  },
  {
   "cell_type": "code",
   "execution_count": 70,
   "id": "79d729a6",
   "metadata": {},
   "outputs": [
    {
     "name": "stdout",
     "output_type": "stream",
     "text": [
      "Can vote\n"
     ]
    }
   ],
   "source": [
    "#Crea una funcion que dada una edad, te diga que si puedes o no votar\n",
    "def can_vote(age):\n",
    "    if(age >= 18):\n",
    "        print(\"Can vote\")\n",
    "\n",
    "can_vote(22)"
   ]
  },
  {
   "cell_type": "code",
   "execution_count": null,
   "id": "3ff949d0",
   "metadata": {},
   "outputs": [],
   "source": [
    "while(True):\n",
    "    if(i == 10);\n",
    "    break\n",
    "    print(\"Hola\")"
   ]
  },
  {
   "cell_type": "markdown",
   "id": "f97c5add",
   "metadata": {},
   "source": [
    "### 6. Exercises"
   ]
  },
  {
   "cell_type": "markdown",
   "id": "cd381b14",
   "metadata": {},
   "source": [
    "1. **Make a function that converts from degrees to radians.**\n",
    "\n",
    "<code>radians = π * degrees / 180</code>\n"
   ]
  },
  {
   "cell_type": "code",
   "execution_count": null,
   "id": "5ff8d063",
   "metadata": {},
   "outputs": [],
   "source": []
  },
  {
   "cell_type": "markdown",
   "id": "6a03c1cb",
   "metadata": {},
   "source": [
    "2. **Make a function that converts from hours to minutes.**\n",
    "\n",
    "Example. 28 hours = 1680 minutes\n"
   ]
  },
  {
   "cell_type": "code",
   "execution_count": null,
   "id": "89d3e2b0",
   "metadata": {},
   "outputs": [],
   "source": []
  },
  {
   "cell_type": "markdown",
   "id": "01960377",
   "metadata": {},
   "source": [
    "3. **Make a function that computes the logarithm base 10 of a number.**\n",
    "\n",
    "<code>log10(p) = log2(p)/log2(10)</code>\n"
   ]
  },
  {
   "cell_type": "code",
   "execution_count": null,
   "id": "c89e36e2",
   "metadata": {},
   "outputs": [],
   "source": []
  },
  {
   "cell_type": "markdown",
   "id": "2132625f",
   "metadata": {},
   "source": [
    "4. **Make a function that computes the maximum of three numbers.**\n",
    "\n",
    "Example. <code>num1 = 7</code>, <code>num2 = 2</code>, <code>num3 = 15</code>\n"
   ]
  },
  {
   "cell_type": "code",
   "execution_count": null,
   "id": "def83c28",
   "metadata": {},
   "outputs": [],
   "source": []
  },
  {
   "cell_type": "markdown",
   "id": "806ca537",
   "metadata": {},
   "source": [
    "5. **Make a function that computes the area of a triangle.**\n",
    "\n",
    "<code>Area = base * height / 2</code>"
   ]
  },
  {
   "cell_type": "code",
   "execution_count": null,
   "id": "66fd8941",
   "metadata": {},
   "outputs": [],
   "source": []
  },
  {
   "cell_type": "markdown",
   "id": "817041c9",
   "metadata": {},
   "source": [
    "6. **Make a function that computes the area of a Circle. Ask to the user for the radius**\n",
    "\n",
    "<code>Area = π * r^2</code>"
   ]
  },
  {
   "cell_type": "code",
   "execution_count": null,
   "id": "69f5acf3",
   "metadata": {},
   "outputs": [],
   "source": []
  },
  {
   "cell_type": "markdown",
   "id": "d99bcd5d",
   "metadata": {},
   "source": [
    "7. **Make a function that computes the distance between to points in the cartesian plane**\n",
    "\n",
    "<code>sqrt[(x2-x1)^2 + (y2-y1)^2]</code>"
   ]
  },
  {
   "cell_type": "code",
   "execution_count": null,
   "id": "b46fc5f2",
   "metadata": {},
   "outputs": [],
   "source": []
  },
  {
   "cell_type": "markdown",
   "id": "47cd2b48",
   "metadata": {},
   "source": [
    "8. In certain hospital 30 patients were examined by their cholesterol. We know that the levels of cholesterol are defined in the following way:\n",
    "\n",
    "* desirable < 200\n",
    "* acceptable limit [200,239]\n",
    "* high > 239\n",
    "\n",
    "a) **Given the results of the patients, make a function that determines the level of each one of them.**\n",
    "\n",
    "\n",
    "\n",
    "list_chol=[155,283,300,272,289,159,184,204,210,236,162,267,238,196,240,206,258,203,295,208,258,293,223,202,282,225,158,291,187,289 ]"
   ]
  },
  {
   "cell_type": "code",
   "execution_count": null,
   "id": "15630e50",
   "metadata": {},
   "outputs": [],
   "source": []
  },
  {
   "cell_type": "code",
   "execution_count": null,
   "id": "d1f1be98",
   "metadata": {},
   "outputs": [],
   "source": []
  },
  {
   "cell_type": "markdown",
   "id": "2d3d5ae8",
   "metadata": {},
   "source": [
    "**b) Use a dictionary to store each result depending on their level and determine how many patients are in each level.**"
   ]
  },
  {
   "cell_type": "code",
   "execution_count": null,
   "id": "0a55e967",
   "metadata": {},
   "outputs": [],
   "source": []
  },
  {
   "cell_type": "markdown",
   "id": "016ae7e0",
   "metadata": {},
   "source": [
    "#### 10. Consider a list (<code>list = []</code>). You can perform the following commands:\n",
    "\n",
    "1. <code>insert i e</code>: Insert integer <code>e</code> at position <code>i</code>\n",
    "2. <code>print</code>: Print the list.\n",
    "3. <code>remove e</code>:Delete the first occurrence of integer <code>e</code>\n",
    "4. <code>append e</code>: Insert integer <code>e</code> at the end of the list\n",
    "5. <code>sort</code>: Sort the list.\n",
    "6. <code>pop</code>: Pop the last element from the list.\n",
    "7. <code>reverse</code>: Reverse the list.\n",
    "\n",
    "Initialize your list and read in the value of followed by lines of commands where each command will be of the types **7** listed above. **Iterate through each command in order and perform the corresponding operation on your list.** \n",
    "\n",
    "*Example*\n",
    "* N = 4\n",
    "* append 1\n",
    "* append 2\n",
    "* insert 3 1\n",
    "* print\n",
    "\n",
    "Output:\n",
    "[1, 3, 2]"
   ]
  },
  {
   "cell_type": "markdown",
   "id": "05fc81bd",
   "metadata": {},
   "source": [
    "*Input*\n",
    "* 12\n",
    "* insert 0 5\n",
    "* insert 1 10\n",
    "* insert 0 6\n",
    "* print\n",
    "* remove 6\n",
    "* append 9\n",
    "* append 1\n",
    "* sort\n",
    "* print\n",
    "* pop\n",
    "* reverse\n",
    "* print\n",
    "\n",
    "*Output*\n",
    "\n",
    "[6,5,10]\n",
    "\n",
    "[1,5,9,10]\n",
    "\n",
    "[9,5,1]"
   ]
  },
  {
   "cell_type": "code",
   "execution_count": null,
   "id": "78e96fdb",
   "metadata": {},
   "outputs": [],
   "source": []
  }
 ],
 "metadata": {
  "kernelspec": {
   "display_name": "Python 3",
   "language": "python",
   "name": "python3"
  },
  "language_info": {
   "codemirror_mode": {
    "name": "ipython",
    "version": 3
   },
   "file_extension": ".py",
   "mimetype": "text/x-python",
   "name": "python",
   "nbconvert_exporter": "python",
   "pygments_lexer": "ipython3",
   "version": "3.8.8"
  }
 },
 "nbformat": 4,
 "nbformat_minor": 5
}
