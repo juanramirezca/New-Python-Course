{
 "cells": [
  {
   "cell_type": "markdown",
   "id": "15652e3e",
   "metadata": {},
   "source": [
    "# <center>Conditionals</center>"
   ]
  },
  {
   "cell_type": "markdown",
   "id": "c4eb630a",
   "metadata": {},
   "source": [
    "In this file we will see:\n",
    "1. Boolean expressions\n",
    "2. Logical operators\n",
    "3. Conditional execution\n",
    "4. Alternative execution\n",
    "5. Chained conditionals\n",
    "6. Nested Conditionals\n",
    "7. Exercises"
   ]
  },
  {
   "cell_type": "markdown",
   "id": "c07eb8ac",
   "metadata": {},
   "source": [
    "## 1. Boolean expressions"
   ]
  },
  {
   "cell_type": "markdown",
   "id": "c6bca041",
   "metadata": {},
   "source": [
    "* A **boolean expression** is an expression that is either <font color=red>true</font> or <font color=red>false</font>.\n",
    "* In the following examples, we use the operator **==** to compare two operands and produce either *True* or *False*"
   ]
  },
  {
   "cell_type": "code",
   "execution_count": 39,
   "id": "222abda8",
   "metadata": {},
   "outputs": [
    {
     "data": {
      "text/plain": [
       "True"
      ]
     },
     "execution_count": 39,
     "metadata": {},
     "output_type": "execute_result"
    }
   ],
   "source": [
    "5 == 5"
   ]
  },
  {
   "cell_type": "code",
   "execution_count": 40,
   "id": "42e40168",
   "metadata": {},
   "outputs": [
    {
     "data": {
      "text/plain": [
       "False"
      ]
     },
     "execution_count": 40,
     "metadata": {},
     "output_type": "execute_result"
    }
   ],
   "source": [
    "5 == 6"
   ]
  },
  {
   "cell_type": "markdown",
   "id": "8bbbf9a6",
   "metadata": {},
   "source": [
    "### 1.1 Relational operators"
   ]
  },
  {
   "cell_type": "markdown",
   "id": "20cde8ee",
   "metadata": {},
   "source": [
    "There are some relational operators that we can use to compare two values:"
   ]
  },
  {
   "cell_type": "code",
   "execution_count": 41,
   "id": "a5e21e9b",
   "metadata": {},
   "outputs": [],
   "source": [
    "x = 8\n",
    "y = 7"
   ]
  },
  {
   "cell_type": "code",
   "execution_count": 42,
   "id": "8c6eb4b7",
   "metadata": {},
   "outputs": [
    {
     "data": {
      "text/plain": [
       "True"
      ]
     },
     "execution_count": 42,
     "metadata": {},
     "output_type": "execute_result"
    }
   ],
   "source": [
    "# x is not equal to y\n",
    "x!=y"
   ]
  },
  {
   "cell_type": "code",
   "execution_count": 43,
   "id": "42b5d1ea",
   "metadata": {},
   "outputs": [
    {
     "data": {
      "text/plain": [
       "True"
      ]
     },
     "execution_count": 43,
     "metadata": {},
     "output_type": "execute_result"
    }
   ],
   "source": [
    "# x is greater than y\n",
    "x > y"
   ]
  },
  {
   "cell_type": "code",
   "execution_count": 44,
   "id": "f64a4864",
   "metadata": {},
   "outputs": [
    {
     "data": {
      "text/plain": [
       "False"
      ]
     },
     "execution_count": 44,
     "metadata": {},
     "output_type": "execute_result"
    }
   ],
   "source": [
    "# x is less than y\n",
    "x < y"
   ]
  },
  {
   "cell_type": "code",
   "execution_count": 45,
   "id": "5500b70d",
   "metadata": {},
   "outputs": [
    {
     "data": {
      "text/plain": [
       "True"
      ]
     },
     "execution_count": 45,
     "metadata": {},
     "output_type": "execute_result"
    }
   ],
   "source": [
    "# x is greater than or equal to y\n",
    "x >= y"
   ]
  },
  {
   "cell_type": "code",
   "execution_count": 47,
   "id": "47a5bd14",
   "metadata": {},
   "outputs": [
    {
     "data": {
      "text/plain": [
       "False"
      ]
     },
     "execution_count": 47,
     "metadata": {},
     "output_type": "execute_result"
    }
   ],
   "source": [
    "# x is less than or equal to y\n",
    "x <= y"
   ]
  },
  {
   "cell_type": "markdown",
   "id": "95f002b6",
   "metadata": {},
   "source": [
    "<font color=red>Remember that we use:\n",
    "<br> A single equal sign **=** for assignment\n",
    "<br> And double equal sign **==** as a relational operator</font>"
   ]
  },
  {
   "cell_type": "markdown",
   "id": "10319eb0",
   "metadata": {},
   "source": [
    "## 2. Logical operators"
   ]
  },
  {
   "cell_type": "markdown",
   "id": "d6cffbaf",
   "metadata": {},
   "source": [
    "There are three **logical operators**:\n",
    "* and\n",
    "* or\n",
    "* not\n",
    "<br>\n",
    "And the meaning of these operators is similiar to their meaning in English"
   ]
  },
  {
   "cell_type": "code",
   "execution_count": 48,
   "id": "5c9a9f07",
   "metadata": {},
   "outputs": [
    {
     "data": {
      "text/plain": [
       "False"
      ]
     },
     "execution_count": 48,
     "metadata": {},
     "output_type": "execute_result"
    }
   ],
   "source": [
    "# and logical operator\n",
    "x = 10\n",
    "x > 0 and x < 10"
   ]
  },
  {
   "cell_type": "code",
   "execution_count": 52,
   "id": "353f0ab9",
   "metadata": {},
   "outputs": [
    {
     "data": {
      "text/plain": [
       "True"
      ]
     },
     "execution_count": 52,
     "metadata": {},
     "output_type": "execute_result"
    }
   ],
   "source": [
    "# or logical operator\n",
    "num = 2\n",
    "num % 2 == 0 or num % 3 == 0"
   ]
  },
  {
   "cell_type": "code",
   "execution_count": 53,
   "id": "9c450bf0",
   "metadata": {},
   "outputs": [
    {
     "data": {
      "text/plain": [
       "True"
      ]
     },
     "execution_count": 53,
     "metadata": {},
     "output_type": "execute_result"
    }
   ],
   "source": [
    "# or logical operator\n",
    "value1 = 12\n",
    "value2 = 17\n",
    "\n",
    "not(value1 > value2)"
   ]
  },
  {
   "cell_type": "markdown",
   "id": "cae808a0",
   "metadata": {},
   "source": [
    "## 3. Conditional execution"
   ]
  },
  {
   "cell_type": "markdown",
   "id": "474d6cf1",
   "metadata": {},
   "source": [
    "* We can use **conditional statements** when we want to check some conditions and change the behavior of our programm depending on the condition.\n",
    "* The simplest form is using the **if statement**"
   ]
  },
  {
   "cell_type": "code",
   "execution_count": 54,
   "id": "38b30cd7",
   "metadata": {},
   "outputs": [
    {
     "name": "stdout",
     "output_type": "stream",
     "text": [
      "Can vote\n"
     ]
    }
   ],
   "source": [
    "# Determine if a person in Mexico can vote\n",
    "age = 18\n",
    "if (age >= 18):\n",
    "    print(\"Can vote\")"
   ]
  },
  {
   "cell_type": "code",
   "execution_count": 55,
   "id": "017c98f5",
   "metadata": {},
   "outputs": [
    {
     "name": "stdout",
     "output_type": "stream",
     "text": [
      "Positive\n"
     ]
    }
   ],
   "source": [
    "# Determine if a value is positive\n",
    "x = 12\n",
    "if(x > 0):\n",
    "    print(\"Positive\")"
   ]
  },
  {
   "cell_type": "markdown",
   "id": "31c84183",
   "metadata": {},
   "source": [
    "## 4. Alternative execution"
   ]
  },
  {
   "cell_type": "markdown",
   "id": "6e824f3d",
   "metadata": {},
   "source": [
    "A second form of the if statement is **alternative execution**, in which there are two possibilities and the condition determines which one gets executed."
   ]
  },
  {
   "cell_type": "code",
   "execution_count": 56,
   "id": "d0d42e28",
   "metadata": {},
   "outputs": [
    {
     "name": "stdout",
     "output_type": "stream",
     "text": [
      "12 is even\n"
     ]
    }
   ],
   "source": [
    "# A number is even or odd\n",
    "num = 12\n",
    "if (num % 2 == 0):\n",
    "    print(x, \"is even\")\n",
    "else:\n",
    "    print(x, \"is odd\")"
   ]
  },
  {
   "cell_type": "code",
   "execution_count": 57,
   "id": "35ab5718",
   "metadata": {},
   "outputs": [
    {
     "name": "stdout",
     "output_type": "stream",
     "text": [
      "-14 is equal to zero or negative\n"
     ]
    }
   ],
   "source": [
    "# A number is positive or negative\n",
    "num = -14\n",
    "if (num > 0):\n",
    "    print(num, \"is positive\")\n",
    "else:\n",
    "    print(num, \"is equal to zero or negative\")"
   ]
  },
  {
   "cell_type": "markdown",
   "id": "7c5a9483",
   "metadata": {},
   "source": [
    "## 5. Chained conditionals"
   ]
  },
  {
   "cell_type": "markdown",
   "id": "98d11e94",
   "metadata": {},
   "source": [
    "Sometimes there are more than two possibilities and we need more than two branches. We can express that computation with a **chained conditional**"
   ]
  },
  {
   "cell_type": "code",
   "execution_count": 59,
   "id": "4e50503d",
   "metadata": {},
   "outputs": [
    {
     "name": "stdout",
     "output_type": "stream",
     "text": [
      "18 is positive\n"
     ]
    }
   ],
   "source": [
    "# A number is positive, negative or equal to zero\n",
    "num = 18\n",
    "if (num > 0):\n",
    "    print(num, \"is positive\")\n",
    "elif(num == 0 ):\n",
    "    print(num, \"is zero\")\n",
    "else:\n",
    "    print(num, \"is negative\")"
   ]
  },
  {
   "cell_type": "code",
   "execution_count": 60,
   "id": "1c908219",
   "metadata": {},
   "outputs": [
    {
     "name": "stdout",
     "output_type": "stream",
     "text": [
      "18 is greater than 17\n"
     ]
    }
   ],
   "source": [
    "# Determine if x is greater, equal or less than y\n",
    "x = 18\n",
    "y = 17\n",
    "if (x > y):\n",
    "    print(x, \"is greater than\", y)\n",
    "elif(num == 0 ):\n",
    "    print(x, \"is equal to\", y)\n",
    "else:\n",
    "    print(x, \"is less than\", y)"
   ]
  },
  {
   "cell_type": "markdown",
   "id": "59717288",
   "metadata": {},
   "source": [
    "<font color=red>Note that **elif** is an abbreviation of \"else if\"</font>"
   ]
  },
  {
   "cell_type": "markdown",
   "id": "7dbc5686",
   "metadata": {},
   "source": [
    "## 6. Nested conditionals"
   ]
  },
  {
   "cell_type": "markdown",
   "id": "c3ff5d70",
   "metadata": {},
   "source": [
    "* One conditional can also be **nested** within another. \n",
    "* We could have written the previous example like this:"
   ]
  },
  {
   "cell_type": "code",
   "execution_count": 61,
   "id": "d3492669",
   "metadata": {},
   "outputs": [
    {
     "name": "stdout",
     "output_type": "stream",
     "text": [
      "18 is greater than 17\n"
     ]
    }
   ],
   "source": [
    "x = 18\n",
    "y = 17\n",
    "if (x > y):\n",
    "    print(x, \"is greater than\", y)\n",
    "else:\n",
    "    if(x == y):\n",
    "        print(x, \"is equal to\", y)\n",
    "    else:\n",
    "        print(x, \"is less than\", y)"
   ]
  },
  {
   "cell_type": "markdown",
   "id": "eb631dd0",
   "metadata": {},
   "source": [
    "## 7. Exercies"
   ]
  },
  {
   "cell_type": "code",
   "execution_count": 6,
   "id": "f4aad23f",
   "metadata": {},
   "outputs": [
    {
     "name": "stdout",
     "output_type": "stream",
     "text": [
      "No aplica\n"
     ]
    }
   ],
   "source": [
    "#1. Determine if a number is divided by 3, 5 or both\n",
    "num = 23\n",
    "if (num % 3 == 0 and num % 5 == 0):\n",
    "    print(\"Divisible entre 3 y 5\")\n",
    "elif (num % 5 == 0):\n",
    "    print(\"Divisible entre 5\")\n",
    "elif (num % 3 == 0):\n",
    "    print(\"Divisible entre 3\")\n",
    "else:\n",
    "    print(\"No aplica\")"
   ]
  },
  {
   "cell_type": "code",
   "execution_count": 9,
   "id": "69489a17",
   "metadata": {},
   "outputs": [
    {
     "ename": "TypeError",
     "evalue": "'>' not supported between instances of 'str' and 'int'",
     "output_type": "error",
     "traceback": [
      "\u001b[0;31m---------------------------------------------------------------------------\u001b[0m",
      "\u001b[0;31mTypeError\u001b[0m                                 Traceback (most recent call last)",
      "\u001b[0;32m<ipython-input-9-209990ec59bf>\u001b[0m in \u001b[0;36m<module>\u001b[0;34m\u001b[0m\n\u001b[1;32m      1\u001b[0m \u001b[0;31m#2. Determine if an employee is eligible for retirement. Retirement at 65.\u001b[0m\u001b[0;34m\u001b[0m\u001b[0;34m\u001b[0m\u001b[0;34m\u001b[0m\u001b[0m\n\u001b[1;32m      2\u001b[0m \u001b[0mage\u001b[0m \u001b[0;34m=\u001b[0m \u001b[0;34m\"diez\"\u001b[0m\u001b[0;34m\u001b[0m\u001b[0;34m\u001b[0m\u001b[0m\n\u001b[0;32m----> 3\u001b[0;31m \u001b[0;32mif\u001b[0m\u001b[0;34m(\u001b[0m\u001b[0mage\u001b[0m \u001b[0;34m>\u001b[0m \u001b[0;36m0\u001b[0m\u001b[0;34m)\u001b[0m\u001b[0;34m:\u001b[0m\u001b[0;34m\u001b[0m\u001b[0;34m\u001b[0m\u001b[0m\n\u001b[0m\u001b[1;32m      4\u001b[0m     \u001b[0;32mif\u001b[0m\u001b[0;34m(\u001b[0m\u001b[0mage\u001b[0m \u001b[0;34m>=\u001b[0m \u001b[0;36m65\u001b[0m\u001b[0;34m)\u001b[0m\u001b[0;34m:\u001b[0m\u001b[0;34m\u001b[0m\u001b[0;34m\u001b[0m\u001b[0m\n\u001b[1;32m      5\u001b[0m         \u001b[0mprint\u001b[0m\u001b[0;34m(\u001b[0m\u001b[0;34m\"Candidato a retiro\"\u001b[0m\u001b[0;34m)\u001b[0m\u001b[0;34m\u001b[0m\u001b[0;34m\u001b[0m\u001b[0m\n",
      "\u001b[0;31mTypeError\u001b[0m: '>' not supported between instances of 'str' and 'int'"
     ]
    }
   ],
   "source": [
    "#2. Determine if an employee is eligible for retirement. Retirement at 65.\n",
    "age = -10\n",
    "if(age > 0):\n",
    "    if(age >= 65):\n",
    "        print(\"Candidato a retiro\")\n",
    "    else:\n",
    "        print(\"No es candidato\")\n",
    "else:\n",
    "    print(\"Numero no valido\")\n",
    "        "
   ]
  },
  {
   "cell_type": "code",
   "execution_count": 12,
   "id": "ed2eee10",
   "metadata": {},
   "outputs": [
    {
     "name": "stdout",
     "output_type": "stream",
     "text": [
      "Es mayor\n"
     ]
    }
   ],
   "source": [
    "#3. Determine if Pedro is younger or older than Mary. Pedro is 13 and Mary 17.\n",
    "pedro = 20\n",
    "mary = 17\n",
    "\n",
    "if(pedro > mary):\n",
    "    print(\"Es mayor\")\n",
    "elif(pedro == mary):\n",
    "    print(\"Misma edad\")\n",
    "else:\n",
    "    print(\"Es menor\")"
   ]
  },
  {
   "cell_type": "code",
   "execution_count": 15,
   "id": "3fcd44bb",
   "metadata": {},
   "outputs": [
    {
     "name": "stdout",
     "output_type": "stream",
     "text": [
      "X es mayor\n"
     ]
    }
   ],
   "source": [
    "#4. Given three numbers, determine which one is bigger.\n",
    "# x = 12, y = 10, z = 8\n",
    "\n",
    "x = 35\n",
    "y = 23\n",
    "z = 18\n",
    "\n",
    "if(x > 0 and y > 0 and z > 0):\n",
    "    # Suponer que x es el mayor de todos\n",
    "    if(x > y):\n",
    "        if(x > z):\n",
    "            print(\"X es mayor\")\n",
    "        else:\n",
    "            print(\"Z es mayor\")\n",
    "    else:\n",
    "        if(y < z):\n",
    "            print(\"Z es mayor\")\n",
    "        else:\n",
    "            print(\"Y es mayor\")\n",
    "else:\n",
    "    print(\"Numeros no validos\")"
   ]
  },
  {
   "cell_type": "code",
   "execution_count": 16,
   "id": "6a4afaee",
   "metadata": {},
   "outputs": [
    {
     "name": "stdout",
     "output_type": "stream",
     "text": [
      "35\n"
     ]
    }
   ],
   "source": [
    "nums = [35, 23, 18]\n",
    "print(max(nums))"
   ]
  },
  {
   "cell_type": "code",
   "execution_count": null,
   "id": "80c309f9",
   "metadata": {},
   "outputs": [],
   "source": [
    "#5. Given the weather of the city, make a recommendation to the user.\n",
    "# For instance, if weather == \"Sunny\" --> Use Sunscreen\n",
    "weather = \"Sunny\""
   ]
  }
 ],
 "metadata": {
  "kernelspec": {
   "display_name": "Python 3",
   "language": "python",
   "name": "python3"
  },
  "language_info": {
   "codemirror_mode": {
    "name": "ipython",
    "version": 3
   },
   "file_extension": ".py",
   "mimetype": "text/x-python",
   "name": "python",
   "nbconvert_exporter": "python",
   "pygments_lexer": "ipython3",
   "version": "3.8.8"
  }
 },
 "nbformat": 4,
 "nbformat_minor": 5
}
