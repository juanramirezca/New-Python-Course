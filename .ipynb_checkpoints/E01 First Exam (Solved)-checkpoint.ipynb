{
 "cells": [
  {
   "cell_type": "markdown",
   "id": "150d5b83",
   "metadata": {},
   "source": [
    "# <center> First Exam </center>"
   ]
  },
  {
   "cell_type": "markdown",
   "id": "ae95184a",
   "metadata": {},
   "source": [
    "**1. Given a $n \\geq 0$, make a function that computes the following: \n",
    "$$\\sum_{i = 1}^{n}i$$**\n"
   ]
  },
  {
   "cell_type": "markdown",
   "id": "5b686326",
   "metadata": {},
   "source": [
    "<font color=blue>**Solution**: To solve this problem we can do it in three different ways:\n",
    "1. Using recursion.\n",
    "2. Using a loop\n",
    "3. Using the <a href = \"https://letstalkscience.ca/educational-resources/backgrounders/gauss-summation\">Gauss Summation formula </a> $$\\sum_{i = 1}^{n}1 = \\frac {n * (n+1)}{2}$$\n",
    "\n",
    "We can solve this problem using either this three solutions. However, we will use the time library to prove that the best solution is the option #3. \n",
    "<font>"
   ]
  },
  {
   "cell_type": "code",
   "execution_count": 33,
   "id": "e3a6c0f3",
   "metadata": {},
   "outputs": [],
   "source": [
    "# Using the time library and setting an arbitrary n\n",
    "import time as t\n",
    "n = 5000"
   ]
  },
  {
   "cell_type": "code",
   "execution_count": 34,
   "id": "d649e9b8",
   "metadata": {},
   "outputs": [],
   "source": [
    "# Solution #1. Using recursion.\n",
    "def recursive_sum(n):\n",
    "    if(n == 1):\n",
    "        return 1\n",
    "    else:\n",
    "        return n + recursive_sum(n - 1)"
   ]
  },
  {
   "cell_type": "code",
   "execution_count": 35,
   "id": "bce1b772",
   "metadata": {},
   "outputs": [
    {
     "ename": "RecursionError",
     "evalue": "maximum recursion depth exceeded in comparison",
     "output_type": "error",
     "traceback": [
      "\u001b[0;31m---------------------------------------------------------------------------\u001b[0m",
      "\u001b[0;31mRecursionError\u001b[0m                            Traceback (most recent call last)",
      "\u001b[0;32m<ipython-input-35-5a5373b7ac0b>\u001b[0m in \u001b[0;36m<module>\u001b[0;34m\u001b[0m\n\u001b[1;32m      1\u001b[0m \u001b[0;31m# Measuring the time it takes to solve the problem using recursion.\u001b[0m\u001b[0;34m\u001b[0m\u001b[0;34m\u001b[0m\u001b[0;34m\u001b[0m\u001b[0m\n\u001b[1;32m      2\u001b[0m \u001b[0mstart\u001b[0m \u001b[0;34m=\u001b[0m \u001b[0mt\u001b[0m\u001b[0;34m.\u001b[0m\u001b[0mtime\u001b[0m\u001b[0;34m(\u001b[0m\u001b[0;34m)\u001b[0m\u001b[0;34m\u001b[0m\u001b[0;34m\u001b[0m\u001b[0m\n\u001b[0;32m----> 3\u001b[0;31m \u001b[0mrecursive_sum\u001b[0m\u001b[0;34m(\u001b[0m\u001b[0mnum\u001b[0m\u001b[0;34m)\u001b[0m\u001b[0;34m\u001b[0m\u001b[0;34m\u001b[0m\u001b[0m\n\u001b[0m\u001b[1;32m      4\u001b[0m \u001b[0mend\u001b[0m \u001b[0;34m=\u001b[0m \u001b[0mt\u001b[0m\u001b[0;34m.\u001b[0m\u001b[0mtime\u001b[0m\u001b[0;34m(\u001b[0m\u001b[0;34m)\u001b[0m\u001b[0;34m\u001b[0m\u001b[0;34m\u001b[0m\u001b[0m\n\u001b[1;32m      5\u001b[0m \u001b[0mprint\u001b[0m\u001b[0;34m(\u001b[0m\u001b[0mend\u001b[0m \u001b[0;34m-\u001b[0m \u001b[0mstart\u001b[0m\u001b[0;34m)\u001b[0m\u001b[0;34m\u001b[0m\u001b[0;34m\u001b[0m\u001b[0m\n",
      "\u001b[0;32m<ipython-input-34-1a2a12b14772>\u001b[0m in \u001b[0;36mrecursive_sum\u001b[0;34m(n)\u001b[0m\n\u001b[1;32m      4\u001b[0m         \u001b[0;32mreturn\u001b[0m \u001b[0;36m1\u001b[0m\u001b[0;34m\u001b[0m\u001b[0;34m\u001b[0m\u001b[0m\n\u001b[1;32m      5\u001b[0m     \u001b[0;32melse\u001b[0m\u001b[0;34m:\u001b[0m\u001b[0;34m\u001b[0m\u001b[0;34m\u001b[0m\u001b[0m\n\u001b[0;32m----> 6\u001b[0;31m         \u001b[0;32mreturn\u001b[0m \u001b[0mn\u001b[0m \u001b[0;34m+\u001b[0m \u001b[0mrecursive_sum\u001b[0m\u001b[0;34m(\u001b[0m\u001b[0mn\u001b[0m \u001b[0;34m-\u001b[0m \u001b[0;36m1\u001b[0m\u001b[0;34m)\u001b[0m\u001b[0;34m\u001b[0m\u001b[0;34m\u001b[0m\u001b[0m\n\u001b[0m",
      "... last 1 frames repeated, from the frame below ...\n",
      "\u001b[0;32m<ipython-input-34-1a2a12b14772>\u001b[0m in \u001b[0;36mrecursive_sum\u001b[0;34m(n)\u001b[0m\n\u001b[1;32m      4\u001b[0m         \u001b[0;32mreturn\u001b[0m \u001b[0;36m1\u001b[0m\u001b[0;34m\u001b[0m\u001b[0;34m\u001b[0m\u001b[0m\n\u001b[1;32m      5\u001b[0m     \u001b[0;32melse\u001b[0m\u001b[0;34m:\u001b[0m\u001b[0;34m\u001b[0m\u001b[0;34m\u001b[0m\u001b[0m\n\u001b[0;32m----> 6\u001b[0;31m         \u001b[0;32mreturn\u001b[0m \u001b[0mn\u001b[0m \u001b[0;34m+\u001b[0m \u001b[0mrecursive_sum\u001b[0m\u001b[0;34m(\u001b[0m\u001b[0mn\u001b[0m \u001b[0;34m-\u001b[0m \u001b[0;36m1\u001b[0m\u001b[0;34m)\u001b[0m\u001b[0;34m\u001b[0m\u001b[0;34m\u001b[0m\u001b[0m\n\u001b[0m",
      "\u001b[0;31mRecursionError\u001b[0m: maximum recursion depth exceeded in comparison"
     ]
    }
   ],
   "source": [
    "# Measuring the time it takes to solve the problem using recursion.\n",
    "start = t.time()\n",
    "recursive_sum(num)\n",
    "end = t.time()\n",
    "print(end - start)"
   ]
  },
  {
   "cell_type": "markdown",
   "id": "96a5829d",
   "metadata": {},
   "source": [
    "<font color=red>**Notice that if n = 5000, then we have a *RecursionError* because we exceeded the maximum recursion depth** </font>"
   ]
  },
  {
   "cell_type": "code",
   "execution_count": null,
   "id": "1b7e148e",
   "metadata": {},
   "outputs": [],
   "source": [
    "# Solution #2. Using a for loop. Alternatively, we can use a while loop.\n",
    "def loop_sum(n):\n",
    "    sol = 0\n",
    "    for i in range(1, n + 1):\n",
    "        sol += i\n",
    "    return sol"
   ]
  },
  {
   "cell_type": "code",
   "execution_count": null,
   "id": "1f3c5efe",
   "metadata": {},
   "outputs": [],
   "source": [
    "# Measuring the time it takes to solve the problem using a loop.\n",
    "start = t.time()\n",
    "loop_sum(num)\n",
    "end = t.time()\n",
    "print(end - start)"
   ]
  },
  {
   "cell_type": "code",
   "execution_count": 36,
   "id": "c6607029",
   "metadata": {},
   "outputs": [],
   "source": [
    "# Solution #3. Using the Gauss Summation Formula.\n",
    "def gauss_sum(n):\n",
    "    return n * (n + 1) / 2\n"
   ]
  },
  {
   "cell_type": "code",
   "execution_count": 37,
   "id": "86211715",
   "metadata": {},
   "outputs": [
    {
     "name": "stdout",
     "output_type": "stream",
     "text": [
      "3.886222839355469e-05\n"
     ]
    }
   ],
   "source": [
    "start = t.time()\n",
    "gauss_sum(num)\n",
    "end = t.time()\n",
    "print(end - start)"
   ]
  },
  {
   "cell_type": "markdown",
   "id": "b3f274e6",
   "metadata": {},
   "source": [
    "**2. In the following world cup Qatar 2022, 32 teams will compete to win the world championship. In how many different ways can we have a champion, second, and third places?**\n"
   ]
  },
  {
   "cell_type": "markdown",
   "id": "4396c239",
   "metadata": {},
   "source": [
    "<font color=blue>**Solution**: We will solve this problem in two different ways:\n",
    "1. We can identify that the solution can be thought as a statistical variation problem and use the corresponding formula: $\\frac {n!}{n - r!}$, where $n$ is the total number of teams (in this example $n = 32$) and $r = 3$ because we are looking for the best three teams of the championship.\n",
    "2. The second solution could be made creating all the different possible solutions and then counting all of them. For this solution, we will use three nested loops.\n",
    "<font>"
   ]
  },
  {
   "cell_type": "code",
   "execution_count": 40,
   "id": "929e3038",
   "metadata": {},
   "outputs": [],
   "source": [
    "# Solution #1. Using the statistical variation formula.\n",
    "# 1.1 First we can create our own factorial function.\n",
    "def fact(n):\n",
    "    res = 1\n",
    "    for i in range(1, n + 1):\n",
    "        res *= i\n",
    "    return res"
   ]
  },
  {
   "cell_type": "code",
   "execution_count": 41,
   "id": "3a6a86a3",
   "metadata": {},
   "outputs": [
    {
     "data": {
      "text/plain": [
       "29760.0"
      ]
     },
     "execution_count": 41,
     "metadata": {},
     "output_type": "execute_result"
    }
   ],
   "source": [
    "# 1.2 We can now define our function that uses the factorial function.\n",
    "def worldCupVariation(n, r):\n",
    "    return fact(n) / fact(n - r)\n",
    "\n",
    "worldCupVariation(32, 3)"
   ]
  },
  {
   "cell_type": "markdown",
   "id": "16233ffe",
   "metadata": {},
   "source": [
    "<font color=blue> For this solution, we can try to create the solution first for a fewer number of teams, and then try to expand that solution for the original problem. \n",
    "For instance, we can think we have only 4 countries (Australia, Brazil, Croacia, Denmark), and we want to see in how many different ways we can champion, second, and third places. \n",
    "    \n",
    "Notice that the position **matters**: think that it would be completely different for a country to end as third place than winning the championship. Taking that into account, it would be a different solution [A, B, C] than [C, B, A].\n",
    "    \n",
    "\n",
    "<br>Now, we can create all the different possible solutions for this four countries. First, we can think that Australia will be in first place, and try to create all the different possible solutions considering this restriction. Those solutions will be the following:\n",
    "    \n",
    "**Australia Championship: **\n",
    "$$[A, B, C]$$\n",
    "$$[A, B, D]$$\n",
    "$$[A, C, B]$$\n",
    "$$[A, C, D]$$\n",
    "$$[A, D, B]$$\n",
    "$$[A, D, C]$$\n",
    "\n",
    "We can see that if we consider Australia as first place, we have six options. But we haven't considered the case where Brazil, Croacia, or Denmark are championship instead of Australia. Therefore, we can see there are another six options for each country. So, we will, have 24 solutions in total. \n",
    "    \n",
    "From this small solution, we can see that the important thing here is we can consider first a country as fixed (with an outer loop), and then two other positions will be created with two inner loops, but considering that any country can be repeated. For instance, [A, B, B] wouldn't be a valid solution because that would mean that Brazil would have won second and third place.\n",
    "\n",
    "<font>"
   ]
  },
  {
   "cell_type": "code",
   "execution_count": 42,
   "id": "05d0a53a",
   "metadata": {
    "scrolled": false
   },
   "outputs": [
    {
     "name": "stdout",
     "output_type": "stream",
     "text": [
      "29760\n"
     ]
    }
   ],
   "source": [
    "# Solution #2. Creating all the different possible solutions and then count each of them.\n",
    "count = 0\n",
    "\n",
    "# This outer loop will control the case where we set one country as championship.\n",
    "for i in range(1, 33):\n",
    "    for j in range(1, 33):\n",
    "        for k in range(1, 33):\n",
    "            #This condition is important so we do not allow cases like [A, B, B]\n",
    "            if(i != j and i != k and j != k):\n",
    "                #print(i, j, k)\n",
    "                count += 1\n",
    "print(count)"
   ]
  },
  {
   "cell_type": "markdown",
   "id": "4269d2d4",
   "metadata": {},
   "source": [
    "**3. Given any expression in a polynomial form, make a function that returns its derive**\n",
    "\n",
    "*Example:*\n",
    "    $$f(x) = 4x^{2} - 12x - 1 \\Rightarrow f'(x) = 8x - 12$$"
   ]
  },
  {
   "cell_type": "markdown",
   "id": "17278253",
   "metadata": {},
   "source": [
    "<font color=blue>**Solution**: To solve this problem, we have to consider two things:\n",
    "1. How are going to read any given expression.\n",
    "2. How are going to derive the expression in terms of how we handle the expression.\n",
    "\n",
    "In this case, we decided to use a list, where each position will consist of a list that contains three elements (sign, coefficient, exponent) in that order of the corresponding term.\n",
    "    \n",
    "Now we have the control of the coefficient, and exponent and sign of each term of the expression, we can simply apply the derive formula and return the result:\n",
    "\n",
    "$$f(x) = a_{n}x^{n} + ... + a_{2}x^{2} + a_{1}x + a_{0} \\Rightarrow f'(x) = n * a_{n}x^{n-1} + ... + 2 * a_{2}x + a_{1}$$\n",
    "    \n",
    "</font>"
   ]
  },
  {
   "cell_type": "code",
   "execution_count": 8,
   "id": "049c3401",
   "metadata": {},
   "outputs": [],
   "source": [
    "#Here is a simple way to read an expression. There are several improvements that we can add.\n",
    "def read_expression(coef_list):\n",
    "    for x in coef_list:\n",
    "        if(x[2] == 0):\n",
    "            print(f'{x[0]} {x[1]}x')\n",
    "        elif(x[1] != 0):\n",
    "            print(f'{x[0]} {x[1]}x^{x[2]}', end = ' ')        "
   ]
  },
  {
   "cell_type": "code",
   "execution_count": 9,
   "id": "6d68c5c0",
   "metadata": {},
   "outputs": [],
   "source": [
    "# We use the above formula to derive and then add the result to a list of lists.\n",
    "def derive(expList):\n",
    "    derivedExp = []\n",
    "    for term in expList:\n",
    "        derivedTerm = []\n",
    "        derivedTerm.append(term[0])\n",
    "        derivedTerm.append(term[1] * term[2])\n",
    "        derivedTerm.append(term[2] - 1)\n",
    "        derivedExp.append(derivedTerm)\n",
    "    return derivedExp"
   ]
  },
  {
   "cell_type": "code",
   "execution_count": 7,
   "id": "a251ebe1",
   "metadata": {},
   "outputs": [
    {
     "name": "stdout",
     "output_type": "stream",
     "text": [
      "+ 8x^1 - 12x\n"
     ]
    }
   ],
   "source": [
    "# Here we can use any example. In this case we are deriving 4𝑥^2−12𝑥−1\n",
    "exp = [['+',4,2], ['-',12,1], ['-',1,0]]\n",
    "exp\n",
    "\n",
    "#Reading the exp\n",
    "#read_expression(exp)\n",
    "\n",
    "#Showing the result\n",
    "result = derive(exp)\n",
    "read_expression(result)\n"
   ]
  },
  {
   "cell_type": "markdown",
   "id": "5a04d233",
   "metadata": {},
   "source": [
    "**4. 2520 is the smallest number that can be divided by each of the numbers from 1 to 10 without any remainder.\n",
    "What is the smallest positive number that is evenly divisible by all of the numbers from 1 to 20?**"
   ]
  },
  {
   "cell_type": "markdown",
   "id": "1affbc91",
   "metadata": {},
   "source": [
    "<font color=blue>**Solution**: The first solution we can think is using brute force. Trying to divide any $n$ number by all the numbers between $1$ and $20$.\n",
    "\n",
    "But, let us suppose that $n$ is not divided by $3$ without any remainder. Then, we don't need to divide all the rest of the numbers between $4$ and $20$, therefore, we can say that $n$ is not our solution and we can try now with $n + 1$.\n",
    "    \n",
    "Another improvement that will not be considered here, is that we don't need to divide $n$ by $6$ if we have already proven that $n$ is divided by $2$ and $3$. So, we can only use a list of prime numbers here.\n",
    "</font>"
   ]
  },
  {
   "cell_type": "code",
   "execution_count": 14,
   "id": "6b591b85",
   "metadata": {},
   "outputs": [],
   "source": [
    "# This is an auxiliar function that returns True or False.\n",
    "# If n is not divided exactly by any number between 1 and 20, then it returns False.\n",
    "# Otherwise the function returns true.\n",
    "\n",
    "def dividedByAll(num, limit):\n",
    "    i = 2\n",
    "    divided = True\n",
    "    while(divided and i <= limit):\n",
    "        if(num % i != 0):\n",
    "            divided = False\n",
    "        i += 1\n",
    "    return divided\n",
    "    "
   ]
  },
  {
   "cell_type": "code",
   "execution_count": 15,
   "id": "e3054ecb",
   "metadata": {},
   "outputs": [
    {
     "name": "stdout",
     "output_type": "stream",
     "text": [
      "232792560\n",
      "67.96887683868408\n"
     ]
    }
   ],
   "source": [
    "# In this chunk of code, we are using the previous auxiliar function.\n",
    "# If it has found a number that is divided by all numbers between 1 and 20, then \n",
    "# it prints the number. Otherwise, keeps looking another number.\n",
    "\n",
    "limitNum = 20\n",
    "foundNum = False\n",
    "currentNum = 21\n",
    "\n",
    "while(not foundNum):\n",
    "    foundNum = dividedByAll(currentNum, limitNum)\n",
    "    if(foundNum):\n",
    "        break;\n",
    "    else:\n",
    "        currentNum += 1\n",
    "\n",
    "print(currentNum)"
   ]
  },
  {
   "cell_type": "code",
   "execution_count": 10,
   "id": "5d519c95",
   "metadata": {},
   "outputs": [
    {
     "name": "stdout",
     "output_type": "stream",
     "text": [
      "232792560\n"
     ]
    }
   ],
   "source": [
    "# This solution is exactly the same as the previous two chunks of code.\n",
    "# But in this case we are not using an auxiliar function.\n",
    "foundNum = False\n",
    "N = 20\n",
    "currentNum = 20\n",
    "\n",
    "while(not foundNum):\n",
    "    i = 2\n",
    "    divided = True\n",
    "    while(divided and i <= N):\n",
    "        if(currentNum % i != 0):\n",
    "            divided = False\n",
    "        i += 1\n",
    "    if(i <= N):\n",
    "        currentNum += 1\n",
    "    else:\n",
    "        foundNum = True\n",
    "\n",
    "print(currentNum)"
   ]
  },
  {
   "cell_type": "code",
   "execution_count": 11,
   "id": "5cd22127",
   "metadata": {},
   "outputs": [],
   "source": [
    "# We can now use the following array to make another improvement and only divide\n",
    "# n by prime numbers\n",
    "numbers = [2, 3, 5, 7, 11, 13, 17, 19]\n"
   ]
  },
  {
   "cell_type": "markdown",
   "id": "d45dfc51",
   "metadata": {},
   "source": [
    "**5. If we list all the natural numbers below 10 that are multiples of 3 or 5, we get 3, 5, 6 and 9. The sum of these multiples is 23. Find the sum of all the multiples of 3 or 5 below 1000.**"
   ]
  },
  {
   "cell_type": "markdown",
   "id": "50a57344",
   "metadata": {},
   "source": [
    "<font color=blue>**Solution**: We can find all those numbers below $1000$ that are multiple of $3$ or $5$ using a modulus operator. And finally, we can add those numbers and print the solution.\n",
    "</font>"
   ]
  },
  {
   "cell_type": "code",
   "execution_count": null,
   "id": "87d06c19",
   "metadata": {},
   "outputs": [],
   "source": [
    "finalSum = 0\n",
    "for i in range(1,1001):\n",
    "    if(i % 3 == 0 or i % 5 == 0):\n",
    "        finalSum += i\n",
    "print(finalSum)"
   ]
  },
  {
   "cell_type": "markdown",
   "id": "a39262c5",
   "metadata": {},
   "source": [
    "**6. Given two strings by the an user, make a function that determines if they are equal or not.**"
   ]
  },
  {
   "cell_type": "markdown",
   "id": "c2350f03",
   "metadata": {},
   "source": [
    "<font color=blue>**Solution**: Similarly to the problem #4, we can use brute force to check if the $n$th value of the first string is equal to the $n$th value of the second string.\n",
    "    \n",
    "Let us suppose that the first character of both strings is not equal, we do not need to check the rest of the string to determine that both strings are not equal. Then, we can use this fact to improve our previous solution. \n",
    "    \n",
    "Another improvement can be done if we see that the length of both strings is different and we would not have to check the rest of the characters.\n",
    "</font>"
   ]
  },
  {
   "cell_type": "code",
   "execution_count": 34,
   "id": "0a01836f",
   "metadata": {},
   "outputs": [],
   "source": [
    "#First solution. Using brute force.\n",
    "def equalOrNotLoop(st1, st2):\n",
    "    result = \"Equal\"\n",
    "    for i, j in zip(st1, st2):\n",
    "        if(i != j):\n",
    "            result = \"Not equal\"\n",
    "    return result"
   ]
  },
  {
   "cell_type": "code",
   "execution_count": 35,
   "id": "4a50d8fc",
   "metadata": {},
   "outputs": [],
   "source": [
    "# First improvement using the fact that the nth character of both strings are not equal, \n",
    "# then we do not need to check the rest of the string.\n",
    "def equalOrNotLoopBreak(st1, st2):\n",
    "    result = \"Equal\"\n",
    "    for i, j in zip(st1, st2):\n",
    "        if(i != j):\n",
    "            result = \"Not equal\"\n",
    "            break\n",
    "    return result"
   ]
  },
  {
   "cell_type": "code",
   "execution_count": 39,
   "id": "b9f45e09",
   "metadata": {},
   "outputs": [
    {
     "name": "stdout",
     "output_type": "stream",
     "text": [
      "Not equal\n"
     ]
    }
   ],
   "source": [
    "print(equalOrNotLoop('baaaaaaa', 'aaaaaaaa'))"
   ]
  },
  {
   "cell_type": "code",
   "execution_count": 37,
   "id": "95fd459c",
   "metadata": {},
   "outputs": [],
   "source": [
    "# Second improvement. Now using the length of both strings.\n",
    "def equalOrNotUsingIf(st1, st2):\n",
    "    if(len(st1) != len(st2)):\n",
    "        result = \"Not equal\"\n",
    "    else:\n",
    "        result = \"Equal\"\n",
    "        for i, j in zip(st1, st2):\n",
    "            if(i != j):\n",
    "                result = \"Not equal\"\n",
    "                break\n",
    "    return result"
   ]
  },
  {
   "cell_type": "markdown",
   "id": "e6d78f91",
   "metadata": {},
   "source": [
    "**7. Using the previous solution and any data structure you want to and check the following test cases:**\n",
    "\n",
    "* \"a\", \"a\"      ==> Equal\n",
    "* \"aa\", \"ab\"    ==> Not equal\n",
    "* \"ba\", \"ba\"    ==> Equal\n",
    "* \"bb\", \"bb\"    ==> Equal\n",
    "* \"ba\", \"ab\"    ==> Not equal\n",
    "* \"aaa\", \"aab\"  ==> Not equal\n",
    "* \"aba\", \"aab\"  ==> Not equal\n",
    "* \"baaaaaaa\", \"aaaaaaaa\"  ==> Not equal\n",
    "* \"aaa\", \"aaab\" ==> Not equal"
   ]
  },
  {
   "cell_type": "markdown",
   "id": "2cc72110",
   "metadata": {},
   "source": [
    "<font color=blue>**Solution**: We will use a list where each item will consist of two strings that will be used to prove our previously developed function. Then, we can use a loop to iterate over all the test cases and print the result of every test case.\n",
    "</font>"
   ]
  },
  {
   "cell_type": "code",
   "execution_count": 45,
   "id": "e7629b2f",
   "metadata": {},
   "outputs": [
    {
     "name": "stdout",
     "output_type": "stream",
     "text": [
      "a equal to a? => Equal\n",
      "aa equal to ab? => Not equal\n",
      "ba equal to ba? => Equal\n",
      "bb equal to bb? => Equal\n",
      "ba equal to ab? => Not equal\n",
      "aaa equal to aab? => Not equal\n",
      "aba equal to aab? => Not equal\n",
      "baaaaaaa equal to aaaaaaaa? => Not equal\n",
      "aaa equal to aaab? => Not equal\n"
     ]
    }
   ],
   "source": [
    "#Storing the test cases in a list, and then using a loop to iterate over the items.\n",
    "testCases = [[\"a\", \"a\"], [\"aa\", \"ab\"], [\"ba\", \"ba\"], [\"bb\", \"bb\"], [\"ba\", \"ab\"], [\"aaa\", \"aab\"], [\"aba\", \"aab\"], [\"baaaaaaa\", \"aaaaaaaa\"], [\"aaa\", \"aaab\"]] \n",
    "for test in testCases:\n",
    "    print(f'{test[0]} equal to {test[1]}? => {equalOrNotUsingIf(test[0], test[1])}')\n"
   ]
  },
  {
   "cell_type": "markdown",
   "id": "fe879fb7",
   "metadata": {},
   "source": [
    "**8. Fifa ranks every country's soccer team according to their recent results. Next we will have a table that has two columns: country name and points. Sort the points to see which country is the best ranked this year. NOTE: DO NOT USE THE PRE-BUILT FUNCTION <code>sort()</code>**\n",
    "\n",
    "\n",
    "<table>\n",
    "    <tr>\n",
    "        <th><center>Country</center></th>\n",
    "        <th><center>Points</center></th>\n",
    "    </tr>\n",
    "    <tr>\n",
    "        <td> Brazil </td>\n",
    "        <td> 1833 </td>\n",
    "    </tr>\n",
    "    <tr>\n",
    "        <td> Spain </td>\n",
    "        <td> 1709 </td>\n",
    "    </tr>\n",
    "    <tr>\n",
    "        <td> Denmark </td>\n",
    "        <td> 1654 </td>\n",
    "    </tr>\n",
    "    <tr>\n",
    "        <td> Italy </td>\n",
    "        <td> 1723 </td>\n",
    "    </tr>\n",
    "        <tr>\n",
    "        <td> France </td>\n",
    "        <td> 1790 </td>\n",
    "    </tr>\n",
    "        <tr>\n",
    "        <td> Argentina </td>\n",
    "        <td> 1765 </td>\n",
    "    </tr>\n",
    "        <tr>\n",
    "        <td> Belgium </td>\n",
    "        <td> 1827 </td>\n",
    "    </tr>\n",
    "        <tr>\n",
    "        <td> England </td>\n",
    "        <td> 1762 </td>\n",
    "    </tr>\n",
    "        <tr>\n",
    "        <td> Mexico </td>\n",
    "        <td> 1659 </td>\n",
    "    </tr>\n",
    "        <tr>\n",
    "        <td> Portugal </td>\n",
    "        <td> 1675 </td>\n",
    "    </tr>\n",
    "\n",
    "</table>\n",
    "\n",
    "\n",
    "\n",
    "\n"
   ]
  },
  {
   "cell_type": "markdown",
   "id": "30df9898",
   "metadata": {},
   "source": [
    "<font color=blue>**Solution**: Solution for problem #8.\n",
    "</font>"
   ]
  },
  {
   "cell_type": "code",
   "execution_count": null,
   "id": "6e3d583c",
   "metadata": {},
   "outputs": [],
   "source": [
    "countryRankings = [['Brazil', 1833], ['Spain', 1709], ['Denmark', 1654], ['Italy', 1723], ['France', 1790], ['Argentina', 1765], ['Belgium', 1827], ['England', 1762], ['Mexico', 1659], ['Portugal', 1675]]\n",
    " \n",
    "points = []\n",
    "for country in countryRankings:\n",
    "    points.append(country[1])\n",
    "points"
   ]
  },
  {
   "cell_type": "code",
   "execution_count": null,
   "id": "f43bb98b",
   "metadata": {},
   "outputs": [],
   "source": [
    "# uInd -> First unsorted index\n",
    "# cNum -> Current number to be sorted\n",
    "# sInd ->\n",
    "# sCNum -> sorted currentNumber\n",
    "\n",
    "\n",
    "def order_list(points):\n",
    "\n",
    "    uInd = 1\n",
    "\n",
    "    while(uInd < len(points)):\n",
    "        cNum = points[uInd]\n",
    "        sInd = uInd - 1\n",
    "        sCNum = points[sInd]\n",
    "\n",
    "        while(sInd >= 0 and sCNum > cNum):\n",
    "            if(sCNum > cNum):\n",
    "                points[sInd + 1] = sCNum\n",
    "            sInd -= 1\n",
    "            sCNum = points[sInd]\n",
    "        points[sInd + 1] = cNum\n",
    "\n",
    "        uInd += 1\n",
    "\n",
    "\n",
    "    return points\n",
    "\n"
   ]
  },
  {
   "cell_type": "code",
   "execution_count": null,
   "id": "246355c0",
   "metadata": {},
   "outputs": [],
   "source": [
    "order_list(points)"
   ]
  },
  {
   "cell_type": "markdown",
   "id": "61b01a19",
   "metadata": {},
   "source": [
    "**9. Given a year, determine whether it is a leap year or not.**\n",
    "\n",
    "An extra day is added to the calendar almost every four years as February 29, and the day is called a leap day. It corrects the calendar for the fact that our planet takes approximately 365.25 days to orbit the sun. A leap year contains a leap day.\n",
    "\n",
    "In the Gregorian calendar, three conditions are used to identify leap years:\n",
    "* The year can be evenly divided by 4, is a leap year, unless:\n",
    "* The year can be evenly divided by 100, it is NOT a leap year, unless:\n",
    "* The year is also evenly divisible by 400. Then it is a leap year.\n",
    "\n",
    "This means that in the Gregorian calendar, the years 2000 and 2400 are leap years, while 1800, 1900, 2100, 2200, 2300 and 2500 are NOT leap years."
   ]
  },
  {
   "cell_type": "markdown",
   "id": "19438b11",
   "metadata": {},
   "source": [
    "<font color=blue>**Solution**: Solution for problem #9\n",
    "</font>"
   ]
  },
  {
   "cell_type": "code",
   "execution_count": null,
   "id": "ed752779",
   "metadata": {},
   "outputs": [],
   "source": [
    "def leap_year(year):\n",
    "    if(year % 4 == 0 and year % 100 != 0 or year % 400 == 0):\n",
    "        print(year, \"is leap year\")\n",
    "    else:\n",
    "        print(year, \"is NOT Leap year\")"
   ]
  },
  {
   "cell_type": "code",
   "execution_count": null,
   "id": "b85118c8",
   "metadata": {},
   "outputs": [],
   "source": [
    "for yr in range(1900, 2401, 1):\n",
    "    leap_year(yr)"
   ]
  },
  {
   "cell_type": "markdown",
   "id": "673be75d",
   "metadata": {},
   "source": [
    "**10. Given the following document, determine the unique words of the document, and how many times do that words appear in the document.**\n",
    "\n",
    "\"It was a bright cold day in April, and the clocks were striking thirteen. Winston Smith, his chin nuzzled into his breast in an effort to escape the vile wind, slipped quickly through the glass doors of Victory Mansions, though not quickly enough to prevent a swirl of gritty dust from entering along with him.\n",
    "\n",
    "The hallway smelt of boiled cabbage and old rag mats. At one end of it a coloured poster, too large for indoor display, had been tacked to the wall. It depicted simply an enormous face, more than a metre wide: the face of a man of about forty-five, with a heavy black moustache and ruggedly handsome features. Winston made for the stairs. It was no use trying the lift. Even at the best of times it was seldom working, and at present the electric current was cut off during daylight hours. It was part of the economy drive in preparation for HateWeek. The flat was seven flights up, and Winston, who was thirty-nine and had a varicose ulcer above his right ankle, went slowly, resting several times on the way. On each landing, opposite the lift shaft, the poster with the enormous face gazed from the wall. It was one of those pictures which are so contrived that the eyes follow you about when you move. BIG BROTHER IS WATCHING YOU, the caption beneath it ran.\"\n"
   ]
  },
  {
   "cell_type": "markdown",
   "id": "ed5ff6f7",
   "metadata": {},
   "source": [
    "<font color=blue>**Solution**: Solution for problem #10\n",
    "</font>"
   ]
  },
  {
   "cell_type": "code",
   "execution_count": null,
   "id": "99bda468",
   "metadata": {},
   "outputs": [],
   "source": [
    "document = (\"It was a bright cold day in April, and the clocks were striking thirteen. Winston Smith, \" \n",
    "\n",
    "            \"his chin nuzzled into his breast in an effort to escape the vile wind, slipped quickly through\"\n",
    "\n",
    "            \"the glass doors of Victory Mansions, though not quickly enough to prevent a swirl of gritty dust\"\n",
    "\n",
    "            \"from entering along with him. \"\n",
    "\n",
    "            \" The hallway smelt of boiled cabbage and old rag mats. At one end of it a coloured poster,\" \n",
    "\n",
    "            \"too large for indoor display, had been tacked to the wall. It depicted simply an enormous face, \"\n",
    "\n",
    "            \"more than a metre wide: the face of a man of about forty-five, with a heavy black moustache and\"\n",
    "\n",
    "            \"ruggedly handsome features. Winston made for the stairs. It was no use trying the lift. Even at \"\n",
    "\n",
    "            \"the best of times it was seldom working, and at present the electric current was cut off during \"\n",
    "\n",
    "            \"daylight hours. It was part of the economy drive in preparation for HateWeek. The flat was seven\"\n",
    "\n",
    "            \"flights up, and Winston, who was thirty-nine and had a varicose ulcer above his right ankle, went\"\n",
    "\n",
    "            \"slowly, resting several times on the way. On each landing, opposite the lift shaft, the poster\"\n",
    "\n",
    "            \"with the enormous face gazed from the wall. It was one of those pictures which are so contrived\"\n",
    "\n",
    "            \"that the eyes follow you about when you move. BIG BROTHER IS WATCHING YOU, the caption beneath it ran.\")"
   ]
  },
  {
   "cell_type": "code",
   "execution_count": null,
   "id": "b02caf1d",
   "metadata": {},
   "outputs": [],
   "source": [
    "document = document.split(' ')\n",
    "document"
   ]
  },
  {
   "cell_type": "code",
   "execution_count": 107,
   "id": "43f694c3",
   "metadata": {},
   "outputs": [
    {
     "name": "stdout",
     "output_type": "stream",
     "text": [
      "{'It': 5, 'was': 8, 'a': 7, 'bright': 1, 'cold': 1, 'day': 1, 'in': 3, 'April,': 1, 'and': 5, 'the': 16, 'clocks': 1, 'were': 1, 'striking': 1, 'thirteen.': 1, 'Winston': 2, 'Smith,': 1, 'his': 3, 'chin': 1, 'nuzzled': 1, 'into': 1, 'breast': 1, 'an': 2, 'effort': 1, 'to': 3, 'escape': 1, 'vile': 1, 'wind,': 1, 'slipped': 1, 'quickly': 2, 'throughthe': 1, 'glass': 1, 'doors': 1, 'of': 9, 'Victory': 1, 'Mansions,': 1, 'though': 1, 'not': 1, 'enough': 1, 'prevent': 1, 'swirl': 1, 'gritty': 1, 'dustfrom': 1, 'entering': 1, 'along': 1, 'with': 2, 'him.': 1, '': 1, 'The': 2, 'hallway': 1, 'smelt': 1, 'boiled': 1, 'cabbage': 1, 'old': 1, 'rag': 1, 'mats.': 1, 'At': 1, 'one': 2, 'end': 1, 'it': 3, 'coloured': 1, 'poster,too': 1, 'large': 1, 'for': 3, 'indoor': 1, 'display,': 1, 'had': 2, 'been': 1, 'tacked': 1, 'wall.': 2, 'depicted': 1, 'simply': 1, 'enormous': 2, 'face,': 1, 'more': 1, 'than': 1, 'metre': 1, 'wide:': 1, 'face': 2, 'man': 1, 'about': 2, 'forty-five,': 1, 'heavy': 1, 'black': 1, 'moustache': 1, 'andruggedly': 1, 'handsome': 1, 'features.': 1, 'made': 1, 'stairs.': 1, 'no': 1, 'use': 1, 'trying': 1, 'lift.': 1, 'Even': 1, 'at': 2, 'best': 1, 'times': 2, 'seldom': 1, 'working,': 1, 'present': 1, 'electric': 1, 'current': 1, 'cut': 1, 'off': 1, 'during': 1, 'daylight': 1, 'hours.': 1, 'part': 1, 'economy': 1, 'drive': 1, 'preparation': 1, 'HateWeek.': 1, 'flat': 1, 'sevenflights': 1, 'up,': 1, 'Winston,': 1, 'who': 1, 'thirty-nine': 1, 'varicose': 1, 'ulcer': 1, 'above': 1, 'right': 1, 'ankle,': 1, 'wentslowly,': 1, 'resting': 1, 'several': 1, 'on': 1, 'way.': 1, 'On': 1, 'each': 1, 'landing,': 1, 'opposite': 1, 'lift': 1, 'shaft,': 1, 'posterwith': 1, 'gazed': 1, 'from': 1, 'those': 1, 'pictures': 1, 'which': 1, 'are': 1, 'so': 1, 'contrivedthat': 1, 'eyes': 1, 'follow': 1, 'you': 2, 'when': 1, 'move.': 1, 'BIG': 1, 'BROTHER': 1, 'IS': 1, 'WATCHING': 1, 'YOU,': 1, 'caption': 1, 'beneath': 1, 'ran.': 1}\n"
     ]
    }
   ],
   "source": [
    "dictionary = {}\n",
    "for letter in document:\n",
    "    if letter not in dictionary:\n",
    "        dictionary[letter] = 1\n",
    "    else:\n",
    "        dictionary[letter] += 1\n",
    "print(dictionary)"
   ]
  }
 ],
 "metadata": {
  "kernelspec": {
   "display_name": "Python 3",
   "language": "python",
   "name": "python3"
  },
  "language_info": {
   "codemirror_mode": {
    "name": "ipython",
    "version": 3
   },
   "file_extension": ".py",
   "mimetype": "text/x-python",
   "name": "python",
   "nbconvert_exporter": "python",
   "pygments_lexer": "ipython3",
   "version": "3.8.8"
  }
 },
 "nbformat": 4,
 "nbformat_minor": 5
}
