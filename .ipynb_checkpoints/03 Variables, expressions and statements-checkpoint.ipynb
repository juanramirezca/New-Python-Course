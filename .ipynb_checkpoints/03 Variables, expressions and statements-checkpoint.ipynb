{
 "cells": [
  {
   "cell_type": "markdown",
   "id": "e935686d",
   "metadata": {},
   "source": [
    "# <center> Variables, expresiones y sentencias <center>"
   ]
  },
  {
   "cell_type": "markdown",
   "id": "bb69e9ce",
   "metadata": {},
   "source": [
    "In this file we will see:\n",
    "1. Values and types\n",
    "2. Variables\n",
    "3. Variable names and keywords\n",
    "4. Operators and operands\n",
    "5. Expressions and statements\n",
    "6. Order of operations"
   ]
  },
  {
   "cell_type": "markdown",
   "id": "60d68fdd",
   "metadata": {},
   "source": [
    "## 1. Values and types\n",
    "A **value** is one of the basic things a program works with, like a letter or a number.\n",
    "For instance:\n"
   ]
  },
  {
   "cell_type": "code",
   "execution_count": 63,
   "id": "73b028ce",
   "metadata": {},
   "outputs": [
    {
     "data": {
      "text/plain": [
       "'Hola Mundo'"
      ]
     },
     "execution_count": 63,
     "metadata": {},
     "output_type": "execute_result"
    }
   ],
   "source": [
    "\"Hola Mundo\""
   ]
  },
  {
   "cell_type": "code",
   "execution_count": 64,
   "id": "f853a7b2",
   "metadata": {},
   "outputs": [
    {
     "data": {
      "text/plain": [
       "2.0"
      ]
     },
     "execution_count": 64,
     "metadata": {},
     "output_type": "execute_result"
    }
   ],
   "source": [
    "2.0"
   ]
  },
  {
   "cell_type": "markdown",
   "id": "246e4333",
   "metadata": {},
   "source": [
    "## 2. Variables\n",
    "A **variable** is a name that refers to a value\n",
    "In Python, there are four types of variables\n",
    "* <font color=red>Int</font>: A type value that represents integer numbers.\n",
    "* <font color=red>Floating - point</font>: A type of value that represents numbers with a decimal part.\n",
    "* <font color=red>String</font>: Represents a sequence of characters.\n",
    "* <font color=red>Bool</font>: Represens two types of values: true and false.\n"
   ]
  },
  {
   "cell_type": "code",
   "execution_count": 65,
   "id": "ce3194a0",
   "metadata": {},
   "outputs": [
    {
     "data": {
      "text/plain": [
       "1"
      ]
     },
     "execution_count": 65,
     "metadata": {},
     "output_type": "execute_result"
    }
   ],
   "source": [
    "#Int number\n",
    "1"
   ]
  },
  {
   "cell_type": "code",
   "execution_count": 66,
   "id": "24d0266b",
   "metadata": {},
   "outputs": [
    {
     "data": {
      "text/plain": [
       "1.13"
      ]
     },
     "execution_count": 66,
     "metadata": {},
     "output_type": "execute_result"
    }
   ],
   "source": [
    "# Float number\n",
    "1.13"
   ]
  },
  {
   "cell_type": "code",
   "execution_count": 67,
   "id": "66864abe",
   "metadata": {},
   "outputs": [
    {
     "data": {
      "text/plain": [
       "'Hola Mundo'"
      ]
     },
     "execution_count": 67,
     "metadata": {},
     "output_type": "execute_result"
    }
   ],
   "source": [
    "#String\n",
    "\"Hola Mundo\""
   ]
  },
  {
   "cell_type": "code",
   "execution_count": 68,
   "id": "ff11dfda",
   "metadata": {},
   "outputs": [
    {
     "data": {
      "text/plain": [
       "False"
      ]
     },
     "execution_count": 68,
     "metadata": {},
     "output_type": "execute_result"
    }
   ],
   "source": [
    "#Bool\n",
    "False"
   ]
  },
  {
   "cell_type": "markdown",
   "id": "8b4bc695",
   "metadata": {},
   "source": [
    "In Python, there is a pre-build function that can identify the type of a varialbe and it is called **type**"
   ]
  },
  {
   "cell_type": "code",
   "execution_count": 69,
   "id": "5754f06d",
   "metadata": {},
   "outputs": [
    {
     "data": {
      "text/plain": [
       "int"
      ]
     },
     "execution_count": 69,
     "metadata": {},
     "output_type": "execute_result"
    }
   ],
   "source": [
    "type(1)"
   ]
  },
  {
   "cell_type": "code",
   "execution_count": 70,
   "id": "4c458f54",
   "metadata": {},
   "outputs": [
    {
     "data": {
      "text/plain": [
       "float"
      ]
     },
     "execution_count": 70,
     "metadata": {},
     "output_type": "execute_result"
    }
   ],
   "source": [
    "type(3.14)"
   ]
  },
  {
   "cell_type": "code",
   "execution_count": 71,
   "id": "2b1bb7fa",
   "metadata": {},
   "outputs": [
    {
     "data": {
      "text/plain": [
       "str"
      ]
     },
     "execution_count": 71,
     "metadata": {},
     "output_type": "execute_result"
    }
   ],
   "source": [
    "type(\"Hola,Mundo!\")"
   ]
  },
  {
   "cell_type": "code",
   "execution_count": 72,
   "id": "848c0d9e",
   "metadata": {},
   "outputs": [
    {
     "data": {
      "text/plain": [
       "bool"
      ]
     },
     "execution_count": 72,
     "metadata": {},
     "output_type": "execute_result"
    }
   ],
   "source": [
    "type(False)"
   ]
  },
  {
   "cell_type": "markdown",
   "id": "17808389",
   "metadata": {},
   "source": [
    "## 2.1 Variable assignment"
   ]
  },
  {
   "cell_type": "markdown",
   "id": "c1bb8636",
   "metadata": {},
   "source": [
    "A **variable assignment** creates a new variable and gives value to it"
   ]
  },
  {
   "cell_type": "code",
   "execution_count": 73,
   "id": "86fbffc9",
   "metadata": {},
   "outputs": [
    {
     "name": "stdout",
     "output_type": "stream",
     "text": [
      "Bienvenido a clases\n"
     ]
    }
   ],
   "source": [
    "message = \"Bienvenido a clases\"\n",
    "print(message)"
   ]
  },
  {
   "cell_type": "code",
   "execution_count": 74,
   "id": "875cea55",
   "metadata": {},
   "outputs": [
    {
     "data": {
      "text/plain": [
       "9"
      ]
     },
     "execution_count": 74,
     "metadata": {},
     "output_type": "execute_result"
    }
   ],
   "source": [
    "score = 9\n",
    "score"
   ]
  },
  {
   "cell_type": "code",
   "execution_count": 75,
   "id": "df388b6e",
   "metadata": {},
   "outputs": [
    {
     "name": "stdout",
     "output_type": "stream",
     "text": [
      "14.7\n"
     ]
    }
   ],
   "source": [
    "division = 14.7\n",
    "print(division)\n"
   ]
  },
  {
   "cell_type": "markdown",
   "id": "da3f96d1",
   "metadata": {},
   "source": [
    "## 3. Variable names and keywords"
   ]
  },
  {
   "cell_type": "markdown",
   "id": "617aec8b",
   "metadata": {},
   "source": [
    "* It is recommended to use variables that are meaninguful\n",
    "* Variable names can be arbitrarily long and can contain letters and numbers, but must begin with a letter. \n",
    "<br>For instance:\n"
   ]
  },
  {
   "cell_type": "code",
   "execution_count": 76,
   "id": "06cb3b04",
   "metadata": {},
   "outputs": [
    {
     "ename": "SyntaxError",
     "evalue": "invalid syntax (<ipython-input-76-49d102d40a11>, line 5)",
     "output_type": "error",
     "traceback": [
      "\u001b[0;36m  File \u001b[0;32m\"<ipython-input-76-49d102d40a11>\"\u001b[0;36m, line \u001b[0;32m5\u001b[0m\n\u001b[0;31m    xy@ = 23\u001b[0m\n\u001b[0m        ^\u001b[0m\n\u001b[0;31mSyntaxError\u001b[0m\u001b[0;31m:\u001b[0m invalid syntax\n"
     ]
    }
   ],
   "source": [
    "#Examples of an incorrect variable name\n",
    "a = 1\n",
    "b = 3\n",
    "xy = 12\n",
    "xy@ = 23"
   ]
  },
  {
   "cell_type": "code",
   "execution_count": 77,
   "id": "cff8da5a",
   "metadata": {},
   "outputs": [],
   "source": [
    "#Examples of a correct variable name\n",
    "finalScore = 10\n",
    "final_score = 8\n",
    "car_type = \"Honda\"\n",
    "average = 8.8"
   ]
  },
  {
   "cell_type": "markdown",
   "id": "cacc195c",
   "metadata": {},
   "source": [
    "<font color=red>**Python has many reserved keywords that cannot be used as a variable name**</font>\n",
    "\n",
    "<table>\n",
    "    <tr >\n",
    "        <th style=background-color:grey; colspan=\"5\"><center>Reserved Keywords</center></th>\n",
    "    </tr>\n",
    "    <tr style=background-color:#33e4ff;>\n",
    "        <td style=text-align:left;>and</td>\n",
    "        <td style=text-align:left;>del</td>\n",
    "        <td style=text-align:left;>from</td>\n",
    "        <td style=text-align:left;>not</td>\n",
    "        <td style=text-align:left;>while</td>\n",
    "    </tr>\n",
    "    <tr style=background-color:#33abff;>\n",
    "        <td style=text-align:left;>as</td>\n",
    "        <td style=text-align:left;>elif</td>\n",
    "        <td style=text-align:left;>global</td>\n",
    "        <td style=text-align:left;>or</td>\n",
    "        <td style=text-align:left;>with</td>\n",
    "    </tr>\n",
    "    <tr style=background-color:#33e4ff;>\n",
    "        <td style=text-align:left;>assert</td>\n",
    "        <td style=text-align:left;>else</td>\n",
    "        <td style=text-align:left;>if</td>\n",
    "        <td style=text-align:left;>pass</td>\n",
    "        <td style=text-align:left;>yield</td>\n",
    "    </tr>\n",
    "    <tr style=background-color:#33abff;>\n",
    "        <td style=text-align:left;>break</td>\n",
    "        <td style=text-align:left;>except</td>\n",
    "        <td style=text-align:left;>import</td>\n",
    "        <td style=text-align:left;>print</td>\n",
    "        <td style=text-align:left;></td>\n",
    "    </tr>\n",
    "    <tr style=background-color:#33e4ff;>\n",
    "        <td style=text-align:left;>class</td>\n",
    "        <td style=text-align:left;>exec</td>\n",
    "        <td style=text-align:left;>in</td>\n",
    "        <td style=text-align:left;>raise</td>\n",
    "        <td></td>\n",
    "    </tr>\n",
    "    <tr style=background-color:#33abff;>\n",
    "        <td style=text-align:left;>continue</td>\n",
    "        <td style=text-align:left;>finally</td>\n",
    "        <td style=text-align:left;>is</td>\n",
    "        <td style=text-align:left;>return</td>\n",
    "        <td></td>\n",
    "    </tr>\n",
    "    <tr style=background-color:#33e4ff;>\n",
    "        <td style=text-align:left;>def</td>\n",
    "        <td style=text-align:left;>for</td>\n",
    "        <td style=text-align:left;>lambda</td>\n",
    "        <td style=text-align:left;>try</td>\n",
    "        <td></td>\n",
    "    </tr>       "
   ]
  },
  {
   "cell_type": "markdown",
   "id": "58c6dcc3",
   "metadata": {},
   "source": [
    "## 4. Operators and operands"
   ]
  },
  {
   "cell_type": "markdown",
   "id": "c79645f9",
   "metadata": {},
   "source": [
    "**Operators** are special symbols that represent computations like addition and multiplication. The values the operator is applied to are called **operands**\n",
    "The operators +, -, *, /, and * * perform addition, substraction, multiplication, division, and exponentiation.\n",
    "<br> Some examples:\n"
   ]
  },
  {
   "cell_type": "code",
   "execution_count": 78,
   "id": "2a0e0ecb",
   "metadata": {},
   "outputs": [],
   "source": [
    "hour = 10\n",
    "minute = 43"
   ]
  },
  {
   "cell_type": "code",
   "execution_count": 79,
   "id": "5cc8d1e6",
   "metadata": {},
   "outputs": [
    {
     "data": {
      "text/plain": [
       "13"
      ]
     },
     "execution_count": 79,
     "metadata": {},
     "output_type": "execute_result"
    }
   ],
   "source": [
    "8 + 5"
   ]
  },
  {
   "cell_type": "code",
   "execution_count": 80,
   "id": "291f4ae6",
   "metadata": {},
   "outputs": [
    {
     "data": {
      "text/plain": [
       "9"
      ]
     },
     "execution_count": 80,
     "metadata": {},
     "output_type": "execute_result"
    }
   ],
   "source": [
    "hour = 10\n",
    "hour - 1\n"
   ]
  },
  {
   "cell_type": "code",
   "execution_count": 81,
   "id": "88a18449",
   "metadata": {},
   "outputs": [
    {
     "data": {
      "text/plain": [
       "643"
      ]
     },
     "execution_count": 81,
     "metadata": {},
     "output_type": "execute_result"
    }
   ],
   "source": [
    "hour * 60 + minute"
   ]
  },
  {
   "cell_type": "code",
   "execution_count": 82,
   "id": "8ac0071a",
   "metadata": {},
   "outputs": [
    {
     "data": {
      "text/plain": [
       "0.7166666666666667"
      ]
     },
     "execution_count": 82,
     "metadata": {},
     "output_type": "execute_result"
    }
   ],
   "source": [
    "minute / 60"
   ]
  },
  {
   "cell_type": "code",
   "execution_count": 83,
   "id": "8400c642",
   "metadata": {},
   "outputs": [
    {
     "data": {
      "text/plain": [
       "6"
      ]
     },
     "execution_count": 83,
     "metadata": {},
     "output_type": "execute_result"
    }
   ],
   "source": [
    "27 // 4"
   ]
  },
  {
   "cell_type": "code",
   "execution_count": 84,
   "id": "22a57e11",
   "metadata": {},
   "outputs": [
    {
     "data": {
      "text/plain": [
       "0"
      ]
     },
     "execution_count": 84,
     "metadata": {},
     "output_type": "execute_result"
    }
   ],
   "source": [
    "8 % 2"
   ]
  },
  {
   "cell_type": "code",
   "execution_count": 85,
   "id": "c68ae56f",
   "metadata": {},
   "outputs": [
    {
     "data": {
      "text/plain": [
       "32"
      ]
     },
     "execution_count": 85,
     "metadata": {},
     "output_type": "execute_result"
    }
   ],
   "source": [
    "2 ** 5"
   ]
  },
  {
   "cell_type": "code",
   "execution_count": 86,
   "id": "3a64bebd",
   "metadata": {},
   "outputs": [
    {
     "data": {
      "text/plain": [
       "112"
      ]
     },
     "execution_count": 86,
     "metadata": {},
     "output_type": "execute_result"
    }
   ],
   "source": [
    "(5 + 9) * (15 - 7)"
   ]
  },
  {
   "cell_type": "markdown",
   "id": "abe1ac21",
   "metadata": {},
   "source": [
    "## 5. Expressions and statements"
   ]
  },
  {
   "cell_type": "markdown",
   "id": "d074c567",
   "metadata": {},
   "source": [
    "* An **expression** is a combination of values, variables and operators.\n",
    "    * Examples: x, 17, x + 17\n",
    "* A **statement** is a unite of code that Python can execute.\n",
    "    * Examples: x = 23, print(x)"
   ]
  },
  {
   "cell_type": "markdown",
   "id": "267af7bb",
   "metadata": {},
   "source": [
    "## 6. Order of operations"
   ]
  },
  {
   "cell_type": "markdown",
   "id": "e36db1bf",
   "metadata": {},
   "source": [
    "When more than one operator appears in an expression, the order of evaluation depens on the **rules of precedence**. \n",
    "* Python follows mathematical convention:\n",
    "1. Parentheses\n",
    "2. Exponentiation\n",
    "3. Multiplication and Division\n",
    "4. Addition and substraction"
   ]
  },
  {
   "cell_type": "code",
   "execution_count": 87,
   "id": "dccd0e2d",
   "metadata": {},
   "outputs": [
    {
     "data": {
      "text/plain": [
       "4"
      ]
     },
     "execution_count": 87,
     "metadata": {},
     "output_type": "execute_result"
    }
   ],
   "source": [
    "2 * (3 - 1)"
   ]
  },
  {
   "cell_type": "code",
   "execution_count": 88,
   "id": "594fdd66",
   "metadata": {},
   "outputs": [
    {
     "data": {
      "text/plain": [
       "5"
      ]
     },
     "execution_count": 88,
     "metadata": {},
     "output_type": "execute_result"
    }
   ],
   "source": [
    "2 * 3 - 1"
   ]
  },
  {
   "cell_type": "code",
   "execution_count": 89,
   "id": "4aa5adcc",
   "metadata": {},
   "outputs": [
    {
     "data": {
      "text/plain": [
       "27"
      ]
     },
     "execution_count": 89,
     "metadata": {},
     "output_type": "execute_result"
    }
   ],
   "source": [
    "2 + 5 ** 2"
   ]
  },
  {
   "cell_type": "code",
   "execution_count": 90,
   "id": "6648e24d",
   "metadata": {},
   "outputs": [
    {
     "data": {
      "text/plain": [
       "49"
      ]
     },
     "execution_count": 90,
     "metadata": {},
     "output_type": "execute_result"
    }
   ],
   "source": [
    "(2 + 5) ** 2"
   ]
  },
  {
   "cell_type": "code",
   "execution_count": 91,
   "id": "71cb0d8f",
   "metadata": {},
   "outputs": [
    {
     "data": {
      "text/plain": [
       "7.166666666666667"
      ]
     },
     "execution_count": 91,
     "metadata": {},
     "output_type": "execute_result"
    }
   ],
   "source": [
    "minute * hour / 60"
   ]
  },
  {
   "cell_type": "markdown",
   "id": "b3f7286a",
   "metadata": {},
   "source": [
    "Operators with the same precedence are evaluated from left to right. But sometimes we can use parentheses to make a statement more clear:"
   ]
  },
  {
   "cell_type": "code",
   "execution_count": 92,
   "id": "4f99618d",
   "metadata": {},
   "outputs": [
    {
     "data": {
      "text/plain": [
       "82.4"
      ]
     },
     "execution_count": 92,
     "metadata": {},
     "output_type": "execute_result"
    }
   ],
   "source": [
    "celsius = 28\n",
    "(celsius * 9/5) + 32"
   ]
  },
  {
   "cell_type": "markdown",
   "id": "0bd74bcc",
   "metadata": {},
   "source": [
    "## 7. Exercises"
   ]
  },
  {
   "cell_type": "code",
   "execution_count": 3,
   "id": "a8702c6e",
   "metadata": {},
   "outputs": [
    {
     "name": "stdout",
     "output_type": "stream",
     "text": [
      "El area del triangulo es 75.0\n"
     ]
    }
   ],
   "source": [
    "# 1. Compute the area of a triangle of base 10 cm and height 15 cm. \n",
    "# Area = base * height / 2\n",
    "base = 10\n",
    "height = 15\n",
    "area = base * height / 2\n",
    "print(\"El area del triangulo es\", area)"
   ]
  },
  {
   "cell_type": "code",
   "execution_count": 94,
   "id": "469c272a",
   "metadata": {},
   "outputs": [],
   "source": [
    "# 2. Compute the area of a circle of radius 5.\n",
    "# A = π * r ** 2"
   ]
  },
  {
   "cell_type": "code",
   "execution_count": 95,
   "id": "0e6321a5",
   "metadata": {},
   "outputs": [],
   "source": [
    "# 3. Compute the average of three scores: 8.5, 7.2, and 9.3"
   ]
  },
  {
   "cell_type": "code",
   "execution_count": 96,
   "id": "5a0fe180",
   "metadata": {},
   "outputs": [],
   "source": [
    "# 4. Compute a program that converts from celsius to fahrenheit\n",
    "# F = 9/5 * C + 32"
   ]
  },
  {
   "cell_type": "code",
   "execution_count": null,
   "id": "cdc05342",
   "metadata": {},
   "outputs": [],
   "source": []
  }
 ],
 "metadata": {
  "kernelspec": {
   "display_name": "Python 3",
   "language": "python",
   "name": "python3"
  },
  "language_info": {
   "codemirror_mode": {
    "name": "ipython",
    "version": 3
   },
   "file_extension": ".py",
   "mimetype": "text/x-python",
   "name": "python",
   "nbconvert_exporter": "python",
   "pygments_lexer": "ipython3",
   "version": "3.8.8"
  }
 },
 "nbformat": 4,
 "nbformat_minor": 5
}
