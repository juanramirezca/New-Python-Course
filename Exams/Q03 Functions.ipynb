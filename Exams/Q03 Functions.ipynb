{
 "cells": [
  {
   "cell_type": "markdown",
   "metadata": {},
   "source": [
    "The objective of this quiz is to create a simple calculator that can perform the following operations:\n",
    "\n",
    "1. Sum: This operation must be able to add any amount of numbers.\n",
    "2. Subtraction: This operation must be able to subtract any amount of numbers.\n",
    "3. Multiplication: This operation must be able to multiply any amount of numbers.\n",
    "4. Division: This operation must divide one number by another.\n",
    "5. Factorial: This operation must compute the factorial of 𝑛.\n",
    "6. Square Root: This operation must compute the square root of 𝑛.\n",
    "7. Power: This operation must raise a number 𝑛 to the power of 𝑚.\n",
    "8. Percentage: This operation must compute the percentage of 𝑛 in relation to a number 𝑚.\n",
    "\n",
    "**Tasks**:  \n",
    "a. Create a menu that allows the user to select different options. [30 points]  \n",
    "b. Create a function for each operation. [5 points per function]  \n",
    "c. Create a function named *main* that allows the user to repeat any of the operations as many times as desired. [20 points]  \n",
    "d. Test each of the created functionalities. [10 points]  "
   ]
  }
 ],
 "metadata": {
  "kernelspec": {
   "display_name": "Python 3",
   "language": "python",
   "name": "python3"
  },
  "language_info": {
   "codemirror_mode": {
    "name": "ipython",
    "version": 3
   },
   "file_extension": ".py",
   "mimetype": "text/x-python",
   "name": "python",
   "nbconvert_exporter": "python",
   "pygments_lexer": "ipython3",
   "version": "3.12.0"
  }
 },
 "nbformat": 4,
 "nbformat_minor": 2
}
