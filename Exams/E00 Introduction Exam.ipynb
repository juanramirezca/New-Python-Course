{
 "cells": [
  {
   "cell_type": "markdown",
   "id": "ed12bf57",
   "metadata": {},
   "source": [
    "# <center>Introduction Exam</center>"
   ]
  },
  {
   "cell_type": "markdown",
   "id": "49dc18eb",
   "metadata": {},
   "source": [
    "### Please answer the following questions, if you have any doubt, please do not hesitate on reaching out.\n",
    "* <font color = red> mail: juan.ramirezca28@gmail.com </font>\n",
    "* <font color = \"18C41E\"> whatsapp: </font> +52 2223584838 "
   ]
  },
  {
   "cell_type": "markdown",
   "id": "2f132070",
   "metadata": {},
   "source": [
    "**1. Given a $n \\geq 0$, make a function that computes the following: \n",
    "$$\\sum_{i = 1}^{n}n$$**\n"
   ]
  },
  {
   "cell_type": "code",
   "execution_count": 3,
   "id": "e1cf70bf",
   "metadata": {},
   "outputs": [],
   "source": [
    "#Your answer to question 1."
   ]
  },
  {
   "cell_type": "code",
   "execution_count": null,
   "id": "a32248a0",
   "metadata": {},
   "outputs": [],
   "source": []
  },
  {
   "cell_type": "markdown",
   "id": "54bcf9ec",
   "metadata": {},
   "source": [
    "**2. If we list all the natural numbers below 10 that are multiples of 3 or 5, we get 3, 5, 6 and 9. The sum of these multiples is 23. Find the sum of all the multiples of 3 or 5 below 1000.**"
   ]
  },
  {
   "cell_type": "code",
   "execution_count": 4,
   "id": "bb51ad2d",
   "metadata": {},
   "outputs": [],
   "source": [
    "#Your answer to question 2."
   ]
  },
  {
   "cell_type": "markdown",
   "id": "b13e93db",
   "metadata": {},
   "source": [
    "**3. Given the following document, determine the unique words of the document, and how many times do that words appear in the document.**\n",
    "\n",
    "\"It was a bright cold day in April, and the clocks were striking thirteen. Winston Smith, his chin nuzzled into his breast in an effort to escape the vile wind, slipped quickly through the glass doors of Victory Mansions, though not quickly enough to prevent a swirl of gritty dust from entering along with him.\n",
    "\n",
    "The hallway smelt of boiled cabbage and old rag mats. At one end of it a coloured poster, too large for indoor display, had been tacked to the wall. It depicted simply an enormous face, more than a metre wide: the face of a man of about forty-five, with a heavy black moustache and ruggedly handsome features. Winston made for the stairs. It was no use trying the lift. Even at the best of times it was seldom working, and at present the electric current was cut off during daylight hours. It was part of the economy drive in preparation for HateWeek. The flat was seven flights up, and Winston, who was thirty-nine and had a varicose ulcer above his right ankle, went slowly, resting several times on the way. On each landing, opposite the lift shaft, the poster with the enormous face gazed from the wall. It was one of those pictures which are so contrived that the eyes follow you about when you move. BIG BROTHER IS WATCHING YOU, the caption beneath it ran.\""
   ]
  },
  {
   "cell_type": "code",
   "execution_count": 5,
   "id": "4da2a3b0",
   "metadata": {},
   "outputs": [],
   "source": [
    "#Your answer to question 3."
   ]
  },
  {
   "cell_type": "code",
   "execution_count": null,
   "id": "6b763eac",
   "metadata": {},
   "outputs": [],
   "source": []
  }
 ],
 "metadata": {
  "kernelspec": {
   "display_name": "Python 3",
   "language": "python",
   "name": "python3"
  },
  "language_info": {
   "codemirror_mode": {
    "name": "ipython",
    "version": 3
   },
   "file_extension": ".py",
   "mimetype": "text/x-python",
   "name": "python",
   "nbconvert_exporter": "python",
   "pygments_lexer": "ipython3",
   "version": "3.8.8"
  }
 },
 "nbformat": 4,
 "nbformat_minor": 5
}
