{
 "cells": [
  {
   "cell_type": "markdown",
   "id": "150d5b83",
   "metadata": {},
   "source": [
    "# <center> First Exam </center>"
   ]
  },
  {
   "cell_type": "markdown",
   "id": "ae95184a",
   "metadata": {},
   "source": [
    "**1. Given a $n \\geq 0$, make a function that computes the following: \n",
    "$$\\sum_{i = 1}^{n}i$$**\n"
   ]
  },
  {
   "cell_type": "code",
   "execution_count": null,
   "id": "d52b83ce",
   "metadata": {},
   "outputs": [],
   "source": []
  },
  {
   "cell_type": "markdown",
   "id": "b3f274e6",
   "metadata": {},
   "source": [
    "**2. In the following world cup Qatar 2022, 32 teams will compete to win the world championship. In how many different ways can we have a champion, second, and third places?**\n"
   ]
  },
  {
   "cell_type": "code",
   "execution_count": null,
   "id": "1b36531f",
   "metadata": {},
   "outputs": [],
   "source": []
  },
  {
   "cell_type": "markdown",
   "id": "4269d2d4",
   "metadata": {},
   "source": [
    "**3. Given any expression in a polynomial form, make a function that returns its derive**\n",
    "\n",
    "*Example:*\n",
    "    $$f(x) = 4x^{2} - 12x - 1 \\Rightarrow f'(x) = 8x - 12$$"
   ]
  },
  {
   "cell_type": "code",
   "execution_count": null,
   "id": "ba6685f9",
   "metadata": {},
   "outputs": [],
   "source": []
  },
  {
   "cell_type": "markdown",
   "id": "5a04d233",
   "metadata": {},
   "source": [
    "**4. 2520 is the smallest number that can be divided by each of the numbers from 1 to 10 without any remainder.\n",
    "What is the smallest positive number that is evenly divisible by all of the numbers from 1 to 20?**"
   ]
  },
  {
   "cell_type": "code",
   "execution_count": null,
   "id": "0a0a6e30",
   "metadata": {},
   "outputs": [],
   "source": []
  },
  {
   "cell_type": "markdown",
   "id": "d45dfc51",
   "metadata": {},
   "source": [
    "**5. If we list all the natural numbers below 10 that are multiples of 3 or 5, we get 3, 5, 6 and 9. The sum of these multiples is 23. Find the sum of all the multiples of 3 or 5 below 1000.**"
   ]
  },
  {
   "cell_type": "code",
   "execution_count": null,
   "id": "8e8ce580",
   "metadata": {},
   "outputs": [],
   "source": []
  },
  {
   "cell_type": "markdown",
   "id": "a39262c5",
   "metadata": {},
   "source": [
    "**6. Given two strings by the an user, make a function that determines if they are equal or not.**"
   ]
  },
  {
   "cell_type": "code",
   "execution_count": null,
   "id": "43a47b43",
   "metadata": {},
   "outputs": [],
   "source": []
  },
  {
   "cell_type": "markdown",
   "id": "e6d78f91",
   "metadata": {},
   "source": [
    "**7. Using the previous solution and any data structure you want to and check the following test cases:**\n",
    "\n",
    "* \"a\", \"a\"      ==> Equal\n",
    "* \"aa\", \"ab\"    ==> Not equal\n",
    "* \"ba\", \"ba\"    ==> Equal\n",
    "* \"bb\", \"bb\"    ==> Equal\n",
    "* \"ba\", \"ab\"    ==> Not equal\n",
    "* \"aaa\", \"aab\"  ==> Not equal\n",
    "* \"aba\", \"aab\"  ==> Not equal\n",
    "* \"baaaaaaa\", \"aaaaaaaa\"  ==> Not equal\n",
    "* \"aaa\", \"aaab\" ==> Not equal"
   ]
  },
  {
   "cell_type": "code",
   "execution_count": null,
   "id": "c8e2e039",
   "metadata": {},
   "outputs": [],
   "source": []
  },
  {
   "cell_type": "markdown",
   "id": "fe879fb7",
   "metadata": {},
   "source": [
    "**8. Fifa ranks every country's soccer team according to their recent results. Next we will have a table that has two columns: country name and points. Sort the points to see which country is the best ranked this year. NOTE: DO NOT USE THE PRE-BUILT FUNCTION <code>sort()</code>**\n",
    "\n",
    "\n",
    "<table>\n",
    "    <tr>\n",
    "        <th><center>Country</center></th>\n",
    "        <th><center>Points</center></th>\n",
    "    </tr>\n",
    "    <tr>\n",
    "        <td> Brazil </td>\n",
    "        <td> 1833 </td>\n",
    "    </tr>\n",
    "    <tr>\n",
    "        <td> Spain </td>\n",
    "        <td> 1709 </td>\n",
    "    </tr>\n",
    "    <tr>\n",
    "        <td> Denmark </td>\n",
    "        <td> 1654 </td>\n",
    "    </tr>\n",
    "    <tr>\n",
    "        <td> Italy </td>\n",
    "        <td> 1723 </td>\n",
    "    </tr>\n",
    "        <tr>\n",
    "        <td> France </td>\n",
    "        <td> 1790 </td>\n",
    "    </tr>\n",
    "        <tr>\n",
    "        <td> Argentina </td>\n",
    "        <td> 1765 </td>\n",
    "    </tr>\n",
    "        <tr>\n",
    "        <td> Belgium </td>\n",
    "        <td> 1827 </td>\n",
    "    </tr>\n",
    "        <tr>\n",
    "        <td> England </td>\n",
    "        <td> 1762 </td>\n",
    "    </tr>\n",
    "        <tr>\n",
    "        <td> Mexico </td>\n",
    "        <td> 1659 </td>\n",
    "    </tr>\n",
    "        <tr>\n",
    "        <td> Portugal </td>\n",
    "        <td> 1675 </td>\n",
    "    </tr>\n",
    "\n",
    "</table>\n",
    "\n",
    "\n",
    "\n",
    "\n"
   ]
  },
  {
   "cell_type": "code",
   "execution_count": null,
   "id": "6a889ae4",
   "metadata": {},
   "outputs": [],
   "source": []
  },
  {
   "cell_type": "markdown",
   "id": "61b01a19",
   "metadata": {},
   "source": [
    "**9. Given a year, determine whether it is a leap year or not.**\n",
    "\n",
    "An extra day is added to the calendar almost every four years as February 29, and the day is called a leap day. It corrects the calendar for the fact that our planet takes approximately 365.25 days to orbit the sun. A leap year contains a leap day.\n",
    "\n",
    "In the Gregorian calendar, three conditions are used to identify leap years:\n",
    "* The year can be evenly divided by 4, is a leap year, unless:\n",
    "* The year can be evenly divided by 100, it is NOT a leap year, unless:\n",
    "* The year is also evenly divisible by 400. Then it is a leap year.\n",
    "\n",
    "This means that in the Gregorian calendar, the years 2000 and 2400 are leap years, while 1800, 1900, 2100, 2200, 2300 and 2500 are NOT leap years."
   ]
  },
  {
   "cell_type": "code",
   "execution_count": null,
   "id": "ab51606b",
   "metadata": {},
   "outputs": [],
   "source": []
  },
  {
   "cell_type": "markdown",
   "id": "673be75d",
   "metadata": {},
   "source": [
    "**10. Given the following document, determine the unique words of the document, and how many times do that words appear in the document.**\n",
    "\n",
    "\"It was a bright cold day in April, and the clocks were striking thirteen. Winston Smith, his chin nuzzled into his breast in an effort to escape the vile wind, slipped quickly through the glass doors of Victory Mansions, though not quickly enough to prevent a swirl of gritty dust from entering along with him.\n",
    "\n",
    "The hallway smelt of boiled cabbage and old rag mats. At one end of it a coloured poster, too large for indoor display, had been tacked to the wall. It depicted simply an enormous face, more than a metre wide: the face of a man of about forty-five, with a heavy black moustache and ruggedly handsome features. Winston made for the stairs. It was no use trying the lift. Even at the best of times it was seldom working, and at present the electric current was cut off during daylight hours. It was part of the economy drive in preparation for HateWeek. The flat was seven flights up, and Winston, who was thirty-nine and had a varicose ulcer above his right ankle, went slowly, resting several times on the way. On each landing, opposite the lift shaft, the poster with the enormous face gazed from the wall. It was one of those pictures which are so contrived that the eyes follow you about when you move. BIG BROTHER IS WATCHING YOU, the caption beneath it ran.\"\n"
   ]
  },
  {
   "cell_type": "code",
   "execution_count": null,
   "id": "3f3ddab7",
   "metadata": {},
   "outputs": [],
   "source": []
  }
 ],
 "metadata": {
  "kernelspec": {
   "display_name": "Python 3",
   "language": "python",
   "name": "python3"
  },
  "language_info": {
   "codemirror_mode": {
    "name": "ipython",
    "version": 3
   },
   "file_extension": ".py",
   "mimetype": "text/x-python",
   "name": "python",
   "nbconvert_exporter": "python",
   "pygments_lexer": "ipython3",
   "version": "3.8.8"
  }
 },
 "nbformat": 4,
 "nbformat_minor": 5
}
