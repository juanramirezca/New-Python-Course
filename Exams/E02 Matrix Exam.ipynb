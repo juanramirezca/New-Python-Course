{
 "cells": [
  {
   "cell_type": "code",
   "execution_count": null,
   "id": "f9f9f72f",
   "metadata": {},
   "outputs": [],
   "source": [
    "#1. Sea una matriz de 2x2. Realiza una funcion que determine si dicha matriz tiene inversa.\n",
    "#Ejemplo 1:\n",
    "'''\n",
    "A = [\n",
    "\t[1, 3],\n",
    "\t[2, 4]\n",
    "]\n",
    "Si tiene inversa.\n",
    "\n",
    "B = [\n",
    "\t[1, 2],\n",
    "\t[2, 4]\n",
    "]\n",
    "No tiene inversa\n",
    "\n",
    "'''\n",
    "\n",
    "A = [\n",
    "\t[1, 3],\n",
    "\t[2, 4]\n",
    "]\n",
    "\n",
    "B  = [\n",
    "\t[1, 2],\n",
    "\t[2, 4]\n",
    "]\n",
    "\t"
   ]
  },
  {
   "cell_type": "code",
   "execution_count": null,
   "id": "e6bd4b2f",
   "metadata": {},
   "outputs": [],
   "source": [
    "def inversaMatriz(A):\n",
    "\n",
    "\tif(A[0][0] * A [1][1] != A[1][0] * A[0][1]):\n",
    "\t\treturn True\n",
    "\telse:\n",
    "\t\treturn False\n",
    "\n",
    "inversaMatriz(A)\n",
    "inversaMatriz(B)"
   ]
  },
  {
   "cell_type": "code",
   "execution_count": null,
   "id": "ff9b772f",
   "metadata": {},
   "outputs": [],
   "source": [
    "#2. Dada una matriz de 2x2, calcular el determinante de una matriz\n",
    "# Ejemplo\n",
    "'''\n",
    "A = [\n",
    "\t[1, 3],\n",
    "\t[2, 4]\n",
    "]\n",
    "det(A) = 4 - 6 = -2\n",
    "\n",
    "\n",
    "B = [\n",
    "\t[1, 2],\n",
    "\t[2, 4]\n",
    "]\n",
    "det(B) = 4 - 4 = 0\n",
    "'''"
   ]
  },
  {
   "cell_type": "code",
   "execution_count": null,
   "id": "2cbec35a",
   "metadata": {},
   "outputs": [],
   "source": [
    "def calcularDeterminante(A):\n",
    "\tdet = A[0][0] * A[1][1] - A[0][1] * A[1][0]\n",
    "\treturn det\n",
    "\n",
    "print(calcularDeterminante(A))\n",
    "print(calcularDeterminante(B))\n"
   ]
  },
  {
   "cell_type": "code",
   "execution_count": null,
   "id": "50d108f0",
   "metadata": {},
   "outputs": [],
   "source": [
    "\n",
    "#3. Dada una matriz de 2x2 que sí tiene inversa, calcular la inversa de dicha matriz\n",
    "# 1 / det(A) ([[d, -b],[-c, a]])"
   ]
  },
  {
   "cell_type": "code",
   "execution_count": null,
   "id": "077588c7",
   "metadata": {},
   "outputs": [],
   "source": [
    "def calcularInversa(A):\n",
    "\n",
    "\tinv = [A[1][1], - A[0][1]], [- A[1][0], + A[0][0]]\n",
    "\n",
    "\tinversa = inversaMatriz(A)\n",
    "\tif(inversa == True):\n",
    "\t\tdet = A[0][0] * A [1][1] - A[1][0] * A[0][1]\n",
    "\t\tunoEntreDet = 1 / det\n",
    "\t\tc = []\n",
    "\t\tfor row in A:\n",
    "\t\t\trowAnswer = []\n",
    "\t\t\tfor column in row:\n",
    "\t\t\t\trowAnswer.append(unoEntreDet * column)\n",
    "\t\t\tc.append(rowAnswer)\n",
    "\treturn c\n",
    "\n",
    "print(calcularInversa(A))"
   ]
  },
  {
   "cell_type": "code",
   "execution_count": null,
   "id": "f8db2a20",
   "metadata": {},
   "outputs": [],
   "source": [
    "\n",
    "#4. Dada una matriz de 3x3, obtener la transpuesta de dicha matriz\n",
    "'''\n",
    "Ejemplo 1:\n",
    "[1, 3, 5]\n",
    "[2, 4, -8]\n",
    "[0, -1, 3]\n",
    "\n",
    "Sol: \n",
    "[1, 2, 0]\n",
    "[3, 4, -1]\n",
    "[5, -8, 3]\n",
    "'''"
   ]
  },
  {
   "cell_type": "code",
   "execution_count": null,
   "id": "1ab2f459",
   "metadata": {},
   "outputs": [],
   "source": [
    "def transpuestaMat(A):\n",
    "\tc = []\n",
    "\trowSol = []\n",
    "\trowSol.append(A[0][0])\n",
    "\trowSol.append(A[1][0])\n",
    "\trowSol.append(A[2][0])\n",
    "\tc.append(rowSol)\n",
    "\trowSol = []\n",
    "\trowSol.append(A[0][1])\n",
    "\trowSol.append(A[1][1])\n",
    "\trowSol.append(A[2][1])\n",
    "\tc.append(rowSol)\n",
    "\trowSol = []\n",
    "\trowSol.append(A[0][2])\n",
    "\trowSol.append(A[1][2])\n",
    "\trowSol.append(A[2][2])\n",
    "\tc.append(rowSol)\n",
    "\treturn c"
   ]
  },
  {
   "cell_type": "code",
   "execution_count": null,
   "id": "866a7d8b",
   "metadata": {},
   "outputs": [],
   "source": [
    "\n",
    "B = [\n",
    "\t[1, 3, 5],\n",
    "\t[2, 4, -8],\n",
    "\t[0, -1, 3],\n",
    "]\n",
    "\n",
    "print(transpuestaMat(B))\n"
   ]
  },
  {
   "cell_type": "code",
   "execution_count": null,
   "id": "9500970c",
   "metadata": {},
   "outputs": [],
   "source": [
    "#5. Dadas dos matrices, obtener la multiplicacion de A * B\n",
    "'''\n",
    "3x2 2x3 = 3x3\n",
    "Ejemplo:\n",
    "A = [ \n",
    "\t[1, 3],\n",
    "\t[2, 4],\n",
    "\t[-1, 1]\n",
    "]\n",
    "\n",
    "B = [\n",
    "\t[0, 1, 0],\n",
    "\t[1, 0, 1]\n",
    "]\n",
    "\n",
    "C = [\n",
    "[3, 1, 3],\n",
    "[4, 2, 4],\n",
    "[1, -1, 1],\n",
    "]\n",
    "'''"
   ]
  },
  {
   "cell_type": "code",
   "execution_count": null,
   "id": "a190a6d3",
   "metadata": {},
   "outputs": [],
   "source": [
    "def multiplicacionMatrices(A, B):\n",
    "\n",
    "\n",
    "\tc = []\n",
    "\tfor i in range(0, len(A)):\n",
    "\t\trowSol = []\n",
    "\t\tfor j in range(0, len(B[0])):\n",
    "\t\t\telementSolution = 0\n",
    "\t\t\tfor k in range(0, len(A[0])):\n",
    "\t\t\t\tprint(f'{A[i][k]} * {B[k][j]} = {A[i][k] * B[k][j]}' )\n",
    "\t\t\t\telementSolution += A[i][k] * B[k][j]\n",
    "\t\t\trowSol.append(elementSolution)\n",
    "\t\tc.append(rowSol)\n",
    "\n",
    "\treturn c"
   ]
  },
  {
   "cell_type": "code",
   "execution_count": null,
   "id": "ba4175c9",
   "metadata": {},
   "outputs": [],
   "source": [
    "A = [ \n",
    "\t[1, 3],\n",
    "\t[2, 4],\n",
    "\t[-1, 1]\n",
    "]\n",
    "\n",
    "B = [\n",
    "\t[0, 1, 0],\n",
    "\t[1, 0, 1]\n",
    "]\n",
    "\n",
    "print(multiplicacionMatrices(A,B))"
   ]
  },
  {
   "cell_type": "code",
   "execution_count": null,
   "id": "1b931e00",
   "metadata": {},
   "outputs": [],
   "source": []
  },
  {
   "cell_type": "code",
   "execution_count": null,
   "id": "16f3fc51",
   "metadata": {},
   "outputs": [],
   "source": []
  },
  {
   "cell_type": "code",
   "execution_count": null,
   "id": "322401c8",
   "metadata": {},
   "outputs": [],
   "source": []
  },
  {
   "cell_type": "code",
   "execution_count": null,
   "id": "a297f5b3",
   "metadata": {},
   "outputs": [],
   "source": []
  },
  {
   "cell_type": "code",
   "execution_count": null,
   "id": "5fd6f7bf",
   "metadata": {},
   "outputs": [],
   "source": []
  },
  {
   "cell_type": "code",
   "execution_count": null,
   "id": "686e5852",
   "metadata": {},
   "outputs": [],
   "source": []
  },
  {
   "cell_type": "code",
   "execution_count": null,
   "id": "9672456a",
   "metadata": {},
   "outputs": [],
   "source": []
  },
  {
   "cell_type": "code",
   "execution_count": null,
   "id": "4f747620",
   "metadata": {},
   "outputs": [],
   "source": []
  },
  {
   "cell_type": "code",
   "execution_count": null,
   "id": "48ae3dc4",
   "metadata": {},
   "outputs": [],
   "source": []
  },
  {
   "cell_type": "code",
   "execution_count": null,
   "id": "0cbbb152",
   "metadata": {},
   "outputs": [],
   "source": []
  },
  {
   "cell_type": "code",
   "execution_count": null,
   "id": "0d13346b",
   "metadata": {},
   "outputs": [],
   "source": []
  },
  {
   "cell_type": "code",
   "execution_count": null,
   "id": "18dce035",
   "metadata": {},
   "outputs": [],
   "source": []
  }
 ],
 "metadata": {
  "kernelspec": {
   "display_name": "Python 3",
   "language": "python",
   "name": "python3"
  },
  "language_info": {
   "codemirror_mode": {
    "name": "ipython",
    "version": 3
   },
   "file_extension": ".py",
   "mimetype": "text/x-python",
   "name": "python",
   "nbconvert_exporter": "python",
   "pygments_lexer": "ipython3",
   "version": "3.8.8"
  }
 },
 "nbformat": 4,
 "nbformat_minor": 5
}
