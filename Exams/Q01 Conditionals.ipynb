{
 "cells": [
  {
   "cell_type": "markdown",
   "metadata": {},
   "source": [
    "# <center> Conditionals Quiz </center>"
   ]
  },
  {
   "cell_type": "markdown",
   "metadata": {},
   "source": [
    "1. **Write a Python program that takes a student's grade as input and provides feedback based on the following criteria:**\n"
   ]
  },
  {
   "cell_type": "markdown",
   "metadata": {},
   "source": [
    "| Grade        | Feedback        |\n",
    "|-------------------|-----------------|\n",
    "| Less than 60      | You failed.     |\n",
    "| 60 - 70 (inclusive) | Regular.      |\n",
    "| 71 - 80 (inclusive) | Good.         |\n",
    "| 81 - 90 (inclusive) | Very good.    |\n",
    "| 91 or above       | Excellent.      |"
   ]
  },
  {
   "cell_type": "code",
   "execution_count": 1,
   "metadata": {},
   "outputs": [],
   "source": [
    "# Your code here"
   ]
  }
 ],
 "metadata": {
  "kernelspec": {
   "display_name": "Python 3",
   "language": "python",
   "name": "python3"
  },
  "language_info": {
   "codemirror_mode": {
    "name": "ipython",
    "version": 3
   },
   "file_extension": ".py",
   "mimetype": "text/x-python",
   "name": "python",
   "nbconvert_exporter": "python",
   "pygments_lexer": "ipython3",
   "version": "3.12.0"
  }
 },
 "nbformat": 4,
 "nbformat_minor": 2
}
