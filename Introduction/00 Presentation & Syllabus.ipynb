{
 "cells": [
  {
   "cell_type": "markdown",
   "id": "b13973e0",
   "metadata": {},
   "source": [
    "# <center> Introduction to Programming with Python </center>"
   ]
  },
  {
   "cell_type": "markdown",
   "id": "9a373a00",
   "metadata": {},
   "source": [
    "This course is developed by M. Cs. Juan Carlos Ramírez Cabrera and is based on the book\n",
    "**Think Python: How to Think Like a Computer Scientist by Allen Downey**"
   ]
  },
  {
   "cell_type": "markdown",
   "id": "597f344d",
   "metadata": {},
   "source": [
    "## M. Cs. Juan Carlos Ramírez Cabrera\n",
    "\n",
    "### <p style=\"color:blue;\">My professional education</p> \n",
    "\n",
    " * Master's degree on Computer Science at ITAM (Mexico City)\n",
    " * Bachelor's degree: Software engineer at UDLAP (Puebla)\n",
    " * I studied some courses of Applied Mathematics at ITAM (Mexico City)\n",
    "\n",
    "### <p style=\"color:blue;\">Main programming languages</p> \n",
    " * Java\n",
    " * Python\n",
    " * Haskell\n",
    " \n",
    "### <p style=\"color:blue;\">My experience teaching</p> \n",
    "* I have given classes to more than 10 students of different skill levels at Superprof\n",
    "* I developed a tutorial chapter about how to code in the functional programming language Haskell\n"
   ]
  },
  {
   "cell_type": "markdown",
   "id": "15f921d7",
   "metadata": {},
   "source": [
    "----"
   ]
  },
  {
   "cell_type": "markdown",
   "id": "4e882466",
   "metadata": {},
   "source": [
    "## <center>Syllabus</center>\n"
   ]
  },
  {
   "cell_type": "markdown",
   "id": "77f67ff4",
   "metadata": {},
   "source": [
    "**1. Introduction to programming with Python**\n",
    "* Objective of this course\n",
    "* Python as a programming language\n",
    "* What is to code?\n",
    "* What is a program?\n"
   ]
  },
  {
   "cell_type": "markdown",
   "id": "e5e70315",
   "metadata": {},
   "source": [
    "**1.1 First steps**\n",
    "1. Anaconda installation\n",
    "2. Python installation\n",
    "3. Jupyter useful shortcuts\n",
    "4. Symbols in latex"
   ]
  },
  {
   "cell_type": "markdown",
   "id": "70f3aedd",
   "metadata": {},
   "source": [
    "**2. Basic concepts.**\n",
    "* Using Python as a calculator\n",
    "* First program: \"Hello, World!\"\n",
    "* Syntaxis in Python"
   ]
  },
  {
   "cell_type": "markdown",
   "id": "846d61e5",
   "metadata": {},
   "source": [
    "**3. Variables, expressions, and statements**\n",
    "1. Values and types\n",
    "2. Variables\n",
    "3. Variable names and keywords\n",
    "4. Operators and operands\n",
    "5. Expressions and statements\n",
    "6. Order of operations"
   ]
  },
  {
   "cell_type": "markdown",
   "id": "6de1620d",
   "metadata": {},
   "source": [
    "**4. Conditionals**\n",
    "1. Boolean expressions\n",
    "2. Logical operators\n",
    "3. Conditional execution (if-then)\n",
    "4. Alternative execution (if-then-else)\n",
    "5. Chained conditionals (if-elif-else)\n",
    "6. Nested Conditionals"
   ]
  },
  {
   "cell_type": "markdown",
   "id": "1290935a",
   "metadata": {},
   "source": [
    "**5. Iteration**\n",
    "* for\n",
    "* for-each\n",
    "* while"
   ]
  },
  {
   "cell_type": "markdown",
   "id": "18ae2b8d",
   "metadata": {},
   "source": [
    "**6. Strings:**\n",
    "1. Main methods\n",
    "2. Useful methods\n"
   ]
  },
  {
   "cell_type": "markdown",
   "id": "011557bb",
   "metadata": {},
   "source": [
    "**7. Basic data structures in Python:**\n",
    "1. Lists\n",
    "2. Tuples\n",
    "3. Sets\n",
    "4. Dictionary\n"
   ]
  },
  {
   "cell_type": "markdown",
   "id": "48c80e80",
   "metadata": {},
   "source": [
    "**8. Functions**\n",
    "* Function calls\n",
    "* Type conversions\n",
    "* Composition\n",
    "* Adding new functions\n",
    "* Definition and uses\n"
   ]
  },
  {
   "cell_type": "markdown",
   "id": "86a629bd",
   "metadata": {},
   "source": [
    "**9. Input & Output**\n",
    "* Writting from console\n",
    "* Showing data in console\n",
    "* Reading a file\n",
    "* Writting into a file"
   ]
  },
  {
   "cell_type": "markdown",
   "id": "ab8cfedd",
   "metadata": {},
   "source": [
    "**10. Recursion**"
   ]
  },
  {
   "cell_type": "markdown",
   "id": "9a8620a9",
   "metadata": {},
   "source": [
    "---"
   ]
  },
  {
   "cell_type": "markdown",
   "id": "c12aca0a",
   "metadata": {},
   "source": [
    "## <center>Introduction to Data Science</center>"
   ]
  },
  {
   "cell_type": "markdown",
   "id": "adb1914c",
   "metadata": {},
   "source": [
    "**10. Introduction to Numpy**\n",
    "\n",
    "Introducción a herramientas muy utilizadas en Ciencia de Datos"
   ]
  },
  {
   "cell_type": "markdown",
   "id": "c50d57bf",
   "metadata": {},
   "source": [
    "**11. Introduction to Pandas**"
   ]
  },
  {
   "cell_type": "markdown",
   "id": "1df49365",
   "metadata": {},
   "source": [
    "---"
   ]
  },
  {
   "cell_type": "markdown",
   "id": "2efd15c5",
   "metadata": {},
   "source": [
    "## <center>Developing final project</center>"
   ]
  },
  {
   "cell_type": "markdown",
   "id": "13e86d41",
   "metadata": {},
   "source": [
    "**12. Developing final project: Snake game**\n",
    "\n",
    "Implementation of the old famous game called *snake*, using all the tools seen before and adding some non-complex concepts.\n"
   ]
  }
 ],
 "metadata": {
  "kernelspec": {
   "display_name": "Python 3",
   "language": "python",
   "name": "python3"
  },
  "language_info": {
   "codemirror_mode": {
    "name": "ipython",
    "version": 3
   },
   "file_extension": ".py",
   "mimetype": "text/x-python",
   "name": "python",
   "nbconvert_exporter": "python",
   "pygments_lexer": "ipython3",
   "version": "3.8.8"
  }
 },
 "nbformat": 4,
 "nbformat_minor": 5
}
