{
 "cells": [
  {
   "cell_type": "markdown",
   "id": "cc01cac1",
   "metadata": {},
   "source": [
    "Project #2"
   ]
  },
  {
   "cell_type": "code",
   "execution_count": null,
   "id": "0551ab22",
   "metadata": {},
   "outputs": [],
   "source": [
    "En programacion existen dos lados en la construccion de un sistema:\n",
    "    1. Frontend. (GUI)\n",
    "    2. Backend. (Funcione nuestra aplicacion)"
   ]
  },
  {
   "cell_type": "markdown",
   "id": "bdae53a8",
   "metadata": {},
   "source": [
    "Hacer una calculadora:\n",
    "   \n",
    "   1. Numeros (introducir numeros)\n",
    "   2. Operaciones básicas (*, /, +, -)\n",
    "   3. Operaciones trigonometricas(sin, cos, etc.)\n",
    "   4. Mostrar resultado (text label)\n",
    "   5. Borrar la operacion anterior (modificar text label)\n",
    "   6. Cambiar signo (+/-)\n",
    "   7. Porcentaje de un numero\n",
    "   8. Raiz y potencia\n",
    "   9. Factorial.\n",
    "   10. Guardar resultado."
   ]
  },
  {
   "cell_type": "code",
   "execution_count": 15,
   "id": "16dfdf29",
   "metadata": {},
   "outputs": [],
   "source": [
    "import math as m"
   ]
  },
  {
   "cell_type": "code",
   "execution_count": 1,
   "id": "6ed692f4",
   "metadata": {},
   "outputs": [],
   "source": [
    "#Operaciones basicas\n",
    "#Suma\n",
    "def suma(a, b):\n",
    "    return a + b"
   ]
  },
  {
   "cell_type": "code",
   "execution_count": 2,
   "id": "1cc9de36",
   "metadata": {},
   "outputs": [],
   "source": [
    "def resta(a, b):\n",
    "    return a - b"
   ]
  },
  {
   "cell_type": "code",
   "execution_count": 3,
   "id": "9209c9a0",
   "metadata": {},
   "outputs": [],
   "source": [
    "def multiplicacion(a, b):\n",
    "    return a * b"
   ]
  },
  {
   "cell_type": "code",
   "execution_count": 4,
   "id": "374efcc5",
   "metadata": {},
   "outputs": [],
   "source": [
    "def division(a, b):\n",
    "    if(b != 0):\n",
    "        return a / b\n",
    "    else:\n",
    "        return \"No es un numero\"\n",
    "    "
   ]
  },
  {
   "cell_type": "code",
   "execution_count": 16,
   "id": "9a35f5ea",
   "metadata": {},
   "outputs": [],
   "source": [
    "# sin(0) = 0\n",
    "# cos(0) = 1\n",
    "# \n",
    "def sin(x):\n",
    "    return m.sin(x)\n",
    "    \n",
    "    "
   ]
  },
  {
   "cell_type": "code",
   "execution_count": 17,
   "id": "5f2f9196",
   "metadata": {},
   "outputs": [],
   "source": [
    "def cos(x):\n",
    "    return m.cos(x)"
   ]
  },
  {
   "cell_type": "code",
   "execution_count": 18,
   "id": "01a8dc0d",
   "metadata": {},
   "outputs": [],
   "source": [
    "def tan(x):\n",
    "    return m.tan(x)"
   ]
  },
  {
   "cell_type": "code",
   "execution_count": 26,
   "id": "a7032395",
   "metadata": {},
   "outputs": [],
   "source": [
    "def cambiar_signo(x):\n",
    "    return x * -1"
   ]
  },
  {
   "cell_type": "code",
   "execution_count": 30,
   "id": "47db09e1",
   "metadata": {},
   "outputs": [],
   "source": [
    "# 20% de 50\n",
    "# 50 - 100%\n",
    "# x - 20%\n",
    "def porcentaje(porcentaje, total):\n",
    "    return porcentaje * total / 100\n",
    "    "
   ]
  },
  {
   "cell_type": "code",
   "execution_count": 34,
   "id": "9ac4d76e",
   "metadata": {},
   "outputs": [],
   "source": [
    "def raiz(x):\n",
    "    # considerar el caso en que nos den un valor negativo.\n",
    "    return m.sqrt(x)"
   ]
  },
  {
   "cell_type": "code",
   "execution_count": 35,
   "id": "c1f0ba75",
   "metadata": {},
   "outputs": [],
   "source": [
    "#\n",
    "def potencia(x, y):\n",
    "    return m.pow(x,y)"
   ]
  },
  {
   "cell_type": "code",
   "execution_count": 39,
   "id": "6892cbfa",
   "metadata": {},
   "outputs": [],
   "source": [
    "#TO-DO\n",
    "def factorial(x):\n",
    "    return x"
   ]
  },
  {
   "cell_type": "code",
   "execution_count": 36,
   "id": "b8203acd",
   "metadata": {},
   "outputs": [],
   "source": [
    "def menu():\n",
    "    # TO-DO: copiar y pegar el otro menu\n",
    "    print(\"Mensaje: \")\n",
    "    \n",
    "    #Probar las operaciones basicas\n",
    "    print(\"Dame un numero\")\n",
    "    num1 = float(input())\n",
    "    print(\"Dame otro numero\")\n",
    "    num2 = float(input())\n",
    "    \n",
    "    print(raiz(num1))\n",
    "    print(potencia(num1,num2))"
   ]
  },
  {
   "cell_type": "code",
   "execution_count": 37,
   "id": "8605dcd1",
   "metadata": {
    "scrolled": false
   },
   "outputs": [
    {
     "name": "stdout",
     "output_type": "stream",
     "text": [
      "Mensaje: \n",
      "Dame un numero\n",
      "2\n",
      "Dame otro numero\n",
      "5\n",
      "1.4142135623730951\n",
      "32.0\n"
     ]
    }
   ],
   "source": [
    "menu()"
   ]
  },
  {
   "cell_type": "code",
   "execution_count": null,
   "id": "9856e46d",
   "metadata": {},
   "outputs": [],
   "source": [
    "#Botones\n",
    "1. Numeros\n",
    "2. Funciones ya creadas\n"
   ]
  },
  {
   "cell_type": "code",
   "execution_count": null,
   "id": "1e7b78d6",
   "metadata": {},
   "outputs": [],
   "source": [
    "# Text label\n",
    "# Donde mostraremos el resultado\n",
    "# 1.Borrar la operacion anterior"
   ]
  },
  {
   "cell_type": "code",
   "execution_count": null,
   "id": "9c1f41bc",
   "metadata": {},
   "outputs": [],
   "source": [
    "# Guardar el resultado"
   ]
  }
 ],
 "metadata": {
  "kernelspec": {
   "display_name": "Python 3",
   "language": "python",
   "name": "python3"
  },
  "language_info": {
   "codemirror_mode": {
    "name": "ipython",
    "version": 3
   },
   "file_extension": ".py",
   "mimetype": "text/x-python",
   "name": "python",
   "nbconvert_exporter": "python",
   "pygments_lexer": "ipython3",
   "version": "3.8.8"
  }
 },
 "nbformat": 4,
 "nbformat_minor": 5
}
