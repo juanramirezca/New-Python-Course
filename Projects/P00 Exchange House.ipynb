{
 "cells": [
  {
   "cell_type": "markdown",
   "id": "c4f1f8fe",
   "metadata": {},
   "source": [
    "# <center> Exchange House </center>"
   ]
  },
  {
   "cell_type": "markdown",
   "id": "b2e1e39b",
   "metadata": {},
   "source": [
    "## 1. Description"
   ]
  },
  {
   "cell_type": "markdown",
   "id": "3d4b1dfe",
   "metadata": {},
   "source": [
    "\"This project simulates the workflow of an exchange house, featuring various currencies, exchange rates, and amounts to be exchanged. As new modules of the course are covered, additional features will be added to the code to improve its functionality.\""
   ]
  },
  {
   "cell_type": "markdown",
   "id": "bb052d42",
   "metadata": {},
   "source": [
    "## 2. Objective"
   ]
  },
  {
   "cell_type": "markdown",
   "id": "53ae89a7",
   "metadata": {},
   "source": [
    "The objective of this project is to simulate currency exchange conversations by providing different currencies, exchange rates, and amounts to be exchanged. It aims to implement various programming concepts covered in the course to create an intuitive, comprehensive, and real-world program that simulates the workflow of an exchange house."
   ]
  },
  {
   "cell_type": "markdown",
   "id": "7d115351",
   "metadata": {},
   "source": [
    "## 3. Functionalities"
   ]
  },
  {
   "cell_type": "markdown",
   "id": "fea88694",
   "metadata": {},
   "source": [
    "This project must perform several tasks, which will be explained in detail in the following sections:\n",
    "1. Perform a single currency conversion.\n",
    "2. Implement the possibility to convert from one currency to another and vice versa.\n",
    "3. Request user to input currency, amount, and exchange rate.\n",
    "4. Perform currency conversions for any given amount using information provided by the user.\n",
    "5. Ensure the program is free from user mistakes.\n",
    "6. Add logic to handle currency names.\n",
    "7. Allow for multiple currency conversions using a collection.\n",
    "8. Improve the code using modularization.\n",
    "9. Enable currency conversion using data files for any amount of currency.\n",
    "10. Improve the output by using formatted printing.\n"
   ]
  },
  {
   "cell_type": "markdown",
   "id": "df409bac",
   "metadata": {},
   "source": [
    "### 1.  Simple currency conversion."
   ]
  },
  {
   "cell_type": "markdown",
   "id": "421a4531",
   "metadata": {},
   "source": [
    "* This step will be developed after completing the first three modules of the course. \n",
    "* The goal is to perform a basic currency exchange, such as converting from dollars to Mexican pesos.\n",
    "* The currency, amount to be exchanged, and exchange rate will be **fixed**."
   ]
  },
  {
   "cell_type": "code",
   "execution_count": null,
   "id": "56fd79b7",
   "metadata": {},
   "outputs": [],
   "source": [
    "# Place your code here, using a currency, amount, and exchange rate fixed."
   ]
  },
  {
   "cell_type": "markdown",
   "id": "30aebe30",
   "metadata": {},
   "source": [
    "### 2. A two-way currency conversion."
   ]
  },
  {
   "cell_type": "markdown",
   "id": "18d4b1a5",
   "metadata": {},
   "source": [
    "* This step will be developed after completing module 04Conditionals.\n",
    "* The **objective** of this step is to implement the possibility of converting from one currency to another or vice versa.\n",
    "* For example, converting from Mexican pesos to dollars or from dollars to Mexican pesos. \n",
    "* You **must** use an if statement for this step."
   ]
  },
  {
   "cell_type": "code",
   "execution_count": null,
   "id": "f87cd371",
   "metadata": {},
   "outputs": [],
   "source": [
    "# Place your code here, and do NOT forget to use an if statement."
   ]
  },
  {
   "cell_type": "markdown",
   "id": "679cb8e3",
   "metadata": {},
   "source": [
    "### 3. Request user input"
   ]
  },
  {
   "cell_type": "markdown",
   "id": "3d30a1ef",
   "metadata": {},
   "source": [
    "* Improve the previous code by asking the user for the necessary information.\n",
    "* The user **must** provide the currency, amount, and exchange rate."
   ]
  },
  {
   "cell_type": "code",
   "execution_count": null,
   "id": "566a2728",
   "metadata": {},
   "outputs": [],
   "source": [
    "#Place your code here. Ask the user for all the information that we need in our program."
   ]
  },
  {
   "cell_type": "markdown",
   "id": "82341c94",
   "metadata": {},
   "source": [
    "### 4. Make any amount of currency conversions."
   ]
  },
  {
   "cell_type": "markdown",
   "id": "e453273e",
   "metadata": {},
   "source": [
    "* For this step, you will improve the previous code after completing module 05Iteration.\n",
    "* The **objective** is to perform any amount of currency conversion, and you **must** use a loop to achieve this."
   ]
  },
  {
   "cell_type": "code",
   "execution_count": null,
   "id": "9faae3b6",
   "metadata": {},
   "outputs": [],
   "source": [
    "# Place your improved code here. Use a loop to make any amount of conversion and ask the user for information."
   ]
  },
  {
   "cell_type": "markdown",
   "id": "36c594d4",
   "metadata": {},
   "source": [
    "### 5. Prevent user mistakes."
   ]
  },
  {
   "cell_type": "markdown",
   "id": "b6f61d2f",
   "metadata": {},
   "source": [
    "* In addition, you **must** use a loop to improve the previous code and prevent the user from making mistakes.\n",
    "* In other words, if the user enters incorrect information, no further actions will be taken."
   ]
  },
  {
   "cell_type": "code",
   "execution_count": null,
   "id": "9c87ca1c",
   "metadata": {},
   "outputs": [],
   "source": [
    "# Consider that the user can make any kind of mistake and do no let this happen\n",
    "# For instance, the amount and the exchange rate MUST be positive.\n"
   ]
  },
  {
   "cell_type": "markdown",
   "id": "605c2e65",
   "metadata": {},
   "source": [
    "### 6. Adding logic to currency names."
   ]
  },
  {
   "cell_type": "markdown",
   "id": "a76ea049",
   "metadata": {},
   "source": [
    "* We can implement this functionality only after completing module 06Strings.\n",
    "* To improve the way we work with currency names, we **should** use a string function."
   ]
  },
  {
   "cell_type": "code",
   "execution_count": null,
   "id": "ebfa30bb",
   "metadata": {},
   "outputs": [],
   "source": [
    "# Place your code here. Use some string functions to improve the currencies' names."
   ]
  },
  {
   "cell_type": "markdown",
   "id": "a45946e6",
   "metadata": {},
   "source": [
    "### 7. Using collections."
   ]
  },
  {
   "cell_type": "markdown",
   "id": "deb7d529",
   "metadata": {},
   "source": [
    "* This step **must** be performed only after completing module 07Collections.\n",
    "* In this step, we must use a collection to store multiple values for processing instead of asking the user for each value."
   ]
  },
  {
   "cell_type": "code",
   "execution_count": null,
   "id": "8d841339",
   "metadata": {},
   "outputs": [],
   "source": [
    "# Place your code here. Use a collection to store information and then process it."
   ]
  },
  {
   "cell_type": "markdown",
   "id": "a43143c5",
   "metadata": {},
   "source": [
    "### 8. Improve the code with modularization."
   ]
  },
  {
   "cell_type": "markdown",
   "id": "3855d873",
   "metadata": {},
   "source": [
    "* This step must be performed only after completing module 08Functions.\n",
    "* In this step, we **must** use functions to modularize our code."
   ]
  },
  {
   "cell_type": "code",
   "execution_count": null,
   "id": "e5d094ad",
   "metadata": {},
   "outputs": [],
   "source": [
    "# Place your code here. Use functions to divide the different actions in our code."
   ]
  },
  {
   "cell_type": "markdown",
   "id": "4eacc13d",
   "metadata": {},
   "source": [
    "### 9. Adding a data file."
   ]
  },
  {
   "cell_type": "markdown",
   "id": "e32686f2",
   "metadata": {},
   "source": [
    "* This step must be performed only after completing the module **09Input and Output**.\n",
    "* In this step, we **MUST** use an additional file to store multiple entries with the corresponding values to be processed.\n"
   ]
  },
  {
   "cell_type": "code",
   "execution_count": null,
   "id": "64d3f1a7",
   "metadata": {},
   "outputs": [],
   "source": [
    "# Place your code here. Do not forget to create a new file!"
   ]
  },
  {
   "cell_type": "markdown",
   "id": "ca57d897",
   "metadata": {},
   "source": [
    "### 10. String Formatting!"
   ]
  },
  {
   "cell_type": "markdown",
   "id": "1a2d5ab6",
   "metadata": {},
   "source": [
    "* Also we can use the advantage of String Formatting features to improve the way we output our information \n",
    "to the user.\n",
    "* We **MUST** use String Formatting in our program to make it more user-friendly.\n",
    "\n",
    "We can use the advantage of String Formatting features to improve the way we output our information to the user.\n",
    "We MUST use String Formatting in our program to make it more user-friendly."
   ]
  },
  {
   "cell_type": "code",
   "execution_count": null,
   "id": "4d173f47",
   "metadata": {},
   "outputs": [],
   "source": [
    "#Place your final version of the project using String Formatting."
   ]
  },
  {
   "cell_type": "markdown",
   "id": "fbc1e038",
   "metadata": {},
   "source": [
    "##  **Further steps**"
   ]
  },
  {
   "cell_type": "markdown",
   "id": "dcf8bf37",
   "metadata": {},
   "source": [
    "There are certain steps that can be performed that are beyond the scope of this course:\n",
    "1. Use a database to retrieve and store useful information.\n",
    "2. Make a graphical user interface to be used for this project.\n",
    "3. Obtain the exchange rate from an online web page."
   ]
  }
 ],
 "metadata": {
  "kernelspec": {
   "display_name": "Python 3",
   "language": "python",
   "name": "python3"
  },
  "language_info": {
   "codemirror_mode": {
    "name": "ipython",
    "version": 3
   },
   "file_extension": ".py",
   "mimetype": "text/x-python",
   "name": "python",
   "nbconvert_exporter": "python",
   "pygments_lexer": "ipython3",
   "version": "3.8.8"
  },
  "vscode": {
   "interpreter": {
    "hash": "aee8b7b246df8f9039afb4144a1f6fd8d2ca17a180786b69acc140d282b71a49"
   }
  }
 },
 "nbformat": 4,
 "nbformat_minor": 5
}
