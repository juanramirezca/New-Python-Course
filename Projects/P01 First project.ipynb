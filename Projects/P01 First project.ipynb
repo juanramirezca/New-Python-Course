{
 "cells": [
  {
   "cell_type": "markdown",
   "id": "f23adb26",
   "metadata": {},
   "source": [
    "# <center> First Project</center>"
   ]
  },
  {
   "cell_type": "markdown",
   "id": "cca513be",
   "metadata": {},
   "source": [
    "In this file, we will be working on our first project where we will be working on the four main actions that we can perform in a real application:\n",
    "1. Create \n",
    "2. Read\n",
    "3. Update\n",
    "4. Delete\n",
    "\n",
    "We will also be working on a menu so that an user can select which action he/she would want to perform."
   ]
  },
  {
   "cell_type": "markdown",
   "id": "f8a583eb",
   "metadata": {},
   "source": [
    "Tasks:\n",
    "1. Create a menu option where we can perform all the CRUD operations.\n",
    "2. Select a data structure to store the information.\n",
    "3. Perform all the CRUD operations with an example."
   ]
  },
  {
   "cell_type": "code",
   "execution_count": null,
   "id": "6fa0d427",
   "metadata": {},
   "outputs": [],
   "source": [
    "# Menu\n"
   ]
  },
  {
   "cell_type": "code",
   "execution_count": null,
   "id": "49bf31de",
   "metadata": {},
   "outputs": [],
   "source": [
    "# Create function\n",
    "# Ejemplo: \n"
   ]
  },
  {
   "cell_type": "code",
   "execution_count": null,
   "id": "e1b6960d",
   "metadata": {},
   "outputs": [],
   "source": [
    "# Read function"
   ]
  },
  {
   "cell_type": "code",
   "execution_count": 1,
   "id": "5794fbfc",
   "metadata": {},
   "outputs": [],
   "source": [
    "# Update function"
   ]
  },
  {
   "cell_type": "code",
   "execution_count": null,
   "id": "d0b1a98d",
   "metadata": {},
   "outputs": [],
   "source": [
    "# Delete function"
   ]
  }
 ],
 "metadata": {
  "kernelspec": {
   "display_name": "Python 3",
   "language": "python",
   "name": "python3"
  },
  "language_info": {
   "codemirror_mode": {
    "name": "ipython",
    "version": 3
   },
   "file_extension": ".py",
   "mimetype": "text/x-python",
   "name": "python",
   "nbconvert_exporter": "python",
   "pygments_lexer": "ipython3",
   "version": "3.8.8"
  }
 },
 "nbformat": 4,
 "nbformat_minor": 5
}
