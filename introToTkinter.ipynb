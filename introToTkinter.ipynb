{
 "cells": [
  {
   "cell_type": "markdown",
   "id": "7d82a9ed",
   "metadata": {},
   "source": [
    "# <center>Introduction to Tkinter</center>"
   ]
  },
  {
   "cell_type": "markdown",
   "id": "c22bb8e9",
   "metadata": {},
   "source": [
    "* First we need to import tkinter. In tkinter everything is a widget: button, frame, label, etc.\n"
   ]
  },
  {
   "cell_type": "code",
   "execution_count": null,
   "id": "67e089d4",
   "metadata": {},
   "outputs": [],
   "source": [
    "from tkinter import *\n",
    "from PIL import ImageTk, Image\n",
    "from tkinter import filedialog"
   ]
  },
  {
   "cell_type": "markdown",
   "id": "37664901",
   "metadata": {},
   "source": [
    "* The first we create is the root widget. We can think it like the window for the graphical interface"
   ]
  },
  {
   "cell_type": "code",
   "execution_count": null,
   "id": "1689ca73",
   "metadata": {},
   "outputs": [],
   "source": [
    "root = Tk()"
   ]
  },
  {
   "cell_type": "markdown",
   "id": "13d1cd0d",
   "metadata": {},
   "source": [
    "To create something in tkinter, we must follow two steps: \n",
    "    \n",
    "    1. Create the widget.\n",
    "    2. Show it in the window."
   ]
  },
  {
   "cell_type": "markdown",
   "id": "7859e32c",
   "metadata": {},
   "source": [
    "**Example 1. Creating a label**"
   ]
  },
  {
   "cell_type": "code",
   "execution_count": 3,
   "id": "a02fed1f",
   "metadata": {},
   "outputs": [],
   "source": [
    "#Creating the widget label\n",
    "myLabel = Label(root, text = \"Hello, World\")"
   ]
  },
  {
   "cell_type": "code",
   "execution_count": 4,
   "id": "a11def87",
   "metadata": {},
   "outputs": [],
   "source": [
    "# Showing the label in the window\n",
    "myLabel.pack()"
   ]
  },
  {
   "cell_type": "code",
   "execution_count": 5,
   "id": "9535db85",
   "metadata": {},
   "outputs": [],
   "source": [
    "root = Tk()\n",
    "root.title(\"Test\")\n",
    "\n",
    "initial = '/Users/juancarlosramirez/Downloads'\n",
    "\n",
    "root.iconbitmap(initial)\n",
    "\n",
    "\n",
    "\n",
    "\n",
    "def open():\n",
    "    global my_image\n",
    "    root.filename = filedialog.askopenfilename(initialdir = initial, title = \"Select a File\", filetypes = ((\"jpg files\", \"*.jpg\"), (\"all files\", \"*.*\")) )\n",
    "    my_label = Label(root, text = root.filename).pack()\n",
    "    my_image = ImageTk.PhotoImage(Image.open(root.filename))\n",
    "    my_image_label = Label(image = my_image).pack()\n",
    "\n",
    "my_btn = Button(root, text = \"Open File\", command = open).pack()\n",
    "\n",
    "l = Label(root, text = \"Hello, World!\")\n",
    "l.pack()"
   ]
  },
  {
   "cell_type": "code",
   "execution_count": 6,
   "id": "4efa472f",
   "metadata": {},
   "outputs": [],
   "source": [
    "open()"
   ]
  },
  {
   "cell_type": "code",
   "execution_count": null,
   "id": "41244e2a",
   "metadata": {},
   "outputs": [],
   "source": []
  }
 ],
 "metadata": {
  "kernelspec": {
   "display_name": "Python 3",
   "language": "python",
   "name": "python3"
  },
  "language_info": {
   "codemirror_mode": {
    "name": "ipython",
    "version": 3
   },
   "file_extension": ".py",
   "mimetype": "text/x-python",
   "name": "python",
   "nbconvert_exporter": "python",
   "pygments_lexer": "ipython3",
   "version": "3.8.8"
  }
 },
 "nbformat": 4,
 "nbformat_minor": 5
}
